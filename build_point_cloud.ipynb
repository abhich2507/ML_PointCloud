{
 "cells": [
  {
   "cell_type": "code",
   "execution_count": 1,
   "metadata": {},
   "outputs": [
    {
     "name": "stdout",
     "output_type": "stream",
     "text": [
      "pool:  mean\n",
      "pool:  mean\n",
      "pool:  mean\n",
      "pool:  mean\n",
      "pool:  mean\n",
      "pool:  mean\n"
     ]
    }
   ],
   "source": [
    "from deepset import *\n",
    "MODEL = DeepSet(in_features=5, feats=[80,120,70,50,8], n_class=2,pool=\"mean\") #for full dataset Mean pooling, for small dataset Max pooling\n",
    "model=MODEL\n",
    "device=torch.device(\"cuda\" if torch.cuda.is_available() else \"cpu\")\n",
    "model=model.to(device) \n"
   ]
  },
  {
   "cell_type": "code",
   "execution_count": 2,
   "metadata": {},
   "outputs": [],
   "source": [
    "import torch\n",
    "from torch.utils.data import Dataset\n",
    "import pickle\n",
    "import os\n",
    "import numpy as np\n",
    "import random\n",
    "import pandas as pd\n",
    "\n",
    "class StreamingHcaDataset(Dataset): \n",
    "    def __init__(self, proton_dir, pion_dir, features=[\"x\", \"y\", \"z\", \"total_energy\",\"mean_time\"]):\n",
    "        super().__init__()\n",
    "        \n",
    "        self.proton_files = sorted([os.path.join(proton_dir, f) for f in os.listdir(proton_dir) if f.endswith(\".pkl\")])\n",
    "        self.pion_files = sorted([os.path.join(pion_dir, f) for f in os.listdir(pion_dir) if f.endswith(\".pkl\")])\n",
    "\n",
    "        self.features = features\n",
    "        self.all_files = self.proton_files + self.pion_files  # Combine file lists\n",
    "        self.labels = [0] * len(self.proton_files) + [1] * len(self.pion_files)  # 0 for proton, 1 for pion\n",
    "\n",
    "    def __len__(self):\n",
    "        return len(self.all_files)  # Total number of files\n",
    "\n",
    "    def _load_file(self, file_path, label):\n",
    "        \"\"\"Loads a single pickle file (containing a single DataFrame) and returns point cloud data with labels.\"\"\"\n",
    "        # with open(file_path, \"rb\") as f:\n",
    "        #     df = pickle.load(f)  # Load single DataFrame\n",
    "    \n",
    "        df=pd.read_pickle(file_path)\n",
    "        # df=pd.read_parquet(file_path,engine='fastparquet')\n",
    "        df=df[df[\"total_energy\"]>5]\n",
    "        \n",
    "          \n",
    "        part_feat = df[self.features].to_numpy()\n",
    "\n",
    "        # Handle NaN and Inf values\n",
    "        part_feat[np.isnan(part_feat)] = 0.0\n",
    "        part_feat[np.isinf(part_feat)] = 0.0\n",
    "\n",
    "        return {\n",
    "            \"part\": torch.tensor(part_feat, dtype=torch.float32),\n",
    "            \"label\": torch.tensor(label, dtype=torch.long),\n",
    "            \"seq_length\": torch.tensor(part_feat.shape[0], dtype=torch.long),\n",
    "        }\n",
    "\n",
    "    def __getitem__(self, idx):\n",
    "        random_idx = random.randint(0, len(self.all_files) - 1)  # Pick a random file\n",
    "        file_path = self.all_files[random_idx]\n",
    "        label = self.labels[random_idx]\n",
    "\n",
    "        return self._load_file(file_path, label)  # Return data from the chosen file\n"
   ]
  },
  {
   "cell_type": "code",
   "execution_count": 3,
   "metadata": {},
   "outputs": [],
   "source": [
    "import torch\n",
    "from torch.nn.utils.rnn import pad_sequence\n",
    "\n",
    "def collate_fn(batch):\n",
    "    \"\"\"Custom collate function to handle variable-length point cloud data.\"\"\"\n",
    "    parts = [item[\"part\"] for item in batch]  # List of tensors (each of shape [N, 5])\n",
    "    labels = torch.tensor([item[\"label\"] for item in batch], dtype=torch.long)  # Convert list to tensor\n",
    "    seq_lengths = torch.tensor([item[\"seq_length\"] for item in batch], dtype=torch.long)  # Convert list to tensor\n",
    "\n",
    "    # Pad variable-length tensors to the longest sequence in the batch\n",
    "    padded_parts = pad_sequence(parts, batch_first=True, padding_value=0.0)  # Shape [batch_size, max_seq_len, 5]\n",
    "\n",
    "    return {\"part\": padded_parts, \"label\": labels, \"seq_length\": seq_lengths}\n"
   ]
  },
  {
   "cell_type": "code",
   "execution_count": 4,
   "metadata": {},
   "outputs": [
    {
     "name": "stdout",
     "output_type": "stream",
     "text": [
      "10GeV_200\n",
      "Train: 160000, Validation: 20000, Test: 20000\n"
     ]
    }
   ],
   "source": [
    "\n",
    "energy=\"10\"\n",
    "granularity=\"200\"\n",
    "pion_dir =f\"/mnt/c/Users/hnayak/Documents/{energy}GeV/small_PKL_pion_{energy}GeV_{granularity}\"\n",
    "proton_dir =f\"/mnt/c/Users/hnayak/Documents/{energy}GeV/small_PKL_proton_{energy}GeV_{granularity}\"\n",
    "name=proton_dir.replace(f\"/mnt/c/Users/hnayak/Documents/{energy}GeV/small_PKL_proton_\",\"\")\n",
    "print(name)\n",
    "from torch.utils.data import random_split, DataLoader\n",
    "\n",
    "# Define dataset\n",
    "train_dataset = StreamingHcaDataset(proton_dir=proton_dir, pion_dir=pion_dir)\n",
    "\n",
    "# Define split sizes\n",
    "total_size = len(train_dataset)\n",
    "train_size = int(0.8 * total_size)\n",
    "val_size = int(0.1 * total_size)\n",
    "test_size = total_size - train_size - val_size  # Ensure the sum matches total_size\n",
    "\n",
    "# Split dataset\n",
    "train_set, val_set, test_set = random_split(train_dataset, [train_size, val_size, test_size])\n",
    "\n",
    "# Define DataLoaders\n",
    "train_loader = DataLoader(train_set, batch_size=32, shuffle=True, collate_fn=collate_fn, num_workers=32)\n",
    "val_loader = DataLoader(val_set, batch_size=32, shuffle=False, collate_fn=collate_fn,num_workers=32)\n",
    "test_loader = DataLoader(test_set, batch_size=32, shuffle=False, collate_fn=collate_fn,num_workers=32)\n",
    "\n",
    "\n",
    "print(f\"Train: {train_size}, Validation: {val_size}, Test: {test_size}\")\n",
    "\n"
   ]
  },
  {
   "cell_type": "code",
   "execution_count": 5,
   "metadata": {},
   "outputs": [],
   "source": [
    "import tqdm\n",
    "def test_model(model, test_loader, criterion=None, device=None):\n",
    "    if device is None:\n",
    "        device = torch.device(\"cuda\" if torch.cuda.is_available() else \"cpu\")\n",
    "\n",
    "    model.to(device)\n",
    "    model.eval()  # Set model to evaluation mode\n",
    "\n",
    "    total_loss = 0.0\n",
    "    correct = 0\n",
    "    total_samples = 0\n",
    "\n",
    "    # Progress bar for testing\n",
    "    test_loader_tqdm = tqdm(enumerate(test_loader), total=len(test_loader), desc=\"Testing\")\n",
    "\n",
    "    with torch.no_grad():\n",
    "        for i,batch in test_loader_tqdm:\n",
    "            parts = batch[\"part\"].to(device)         # Input point cloud data\n",
    "            labels = batch[\"label\"].to(device)  # Labels\n",
    "            batch_size,seq_len,feat_dim=parts.shape\n",
    "            parts=parts.cpu().numpy().reshape(-1,feat_dim)\n",
    "            qt = QuantileTransformer(output_distribution='normal', random_state=42)\n",
    "            parts = qt.fit_transform(parts)\n",
    "            parts=torch.tensor(parts).reshape(batch_size,seq_len,feat_dim).to(device)\n",
    "\n",
    "            outputs = model(parts)  # Forward pass\n",
    "            loss = criterion(outputs, labels) if criterion else 0  # Compute loss if provided\n",
    "            total_loss += loss.item()\n",
    "            _, predicted = torch.max(outputs, 1)  # Get class prediction\n",
    "            correct += (predicted == labels).sum().item()\n",
    "            total_samples += labels.size(0)\n",
    "\n",
    "            test_loader_tqdm.set_postfix(loss=loss.item())  # Update progress bar\n",
    "\n",
    "    avg_loss = total_loss / len(test_loader) if criterion else 0\n",
    "    accuracy = correct / total_samples * 100\n",
    "\n",
    "    print(f\"Test Loss: {avg_loss:.4f}, Accuracy: {accuracy:.2f}%\")\n",
    "    return avg_loss , accuracy"
   ]
  },
  {
   "cell_type": "code",
   "execution_count": 6,
   "metadata": {},
   "outputs": [],
   "source": [
    "import torch\n",
    "import torch.nn as nn\n",
    "import torch.optim as optim\n",
    "from tqdm import tqdm\n",
    "import pandas as pd\n",
    "from sklearn.preprocessing import QuantileTransformer\n",
    "\n",
    "def train_model(model, train_loader, val_loader, num_epochs=2, learning_rate=5e-4, device=None, save_path=f\"./Models/Z_{name}.pth\", log_path=f\"./Logs/log_summary_Z_{name}.csv\"):\n",
    "    if device is None:\n",
    "        device = torch.device(\"cuda\" if torch.cuda.is_available() else \"cpu\")\n",
    "\n",
    "    model.to(device)\n",
    "    criterion = nn.CrossEntropyLoss()\n",
    "    optimizer = optim.Adam(model.parameters(), lr=learning_rate)\n",
    "\n",
    "    best_val_loss = float(\"inf\")  # Initialize best loss\n",
    "\n",
    "    log_data = []  # To store log info for CSV\n",
    "\n",
    "    for epoch in range(num_epochs):\n",
    "        model.train()\n",
    "        running_loss = 0.0\n",
    "        train_loader_tqdm = tqdm(enumerate(train_loader), total=len(train_loader), desc=f\"Epoch {epoch+1}/{num_epochs}\")\n",
    "\n",
    "        for i, batch in train_loader_tqdm:\n",
    "            parts = batch[\"part\"].to(device)\n",
    "            batch_size, seq_len, feat_dim = parts.shape\n",
    "            parts = parts.cpu().numpy().reshape(-1, feat_dim)\n",
    "            qt = QuantileTransformer(output_distribution='normal', random_state=42)\n",
    "            parts = qt.fit_transform(parts)\n",
    "            parts = torch.tensor(parts).reshape(batch_size, seq_len, feat_dim).float().to(device)\n",
    "\n",
    "            labels = batch[\"label\"].to(device)\n",
    "\n",
    "            optimizer.zero_grad()\n",
    "            outputs = model(parts)\n",
    "            loss = criterion(outputs, labels)\n",
    "            loss.backward()\n",
    "            optimizer.step()\n",
    "\n",
    "            running_loss += loss.item()\n",
    "            train_loader_tqdm.set_postfix(loss=loss.item())\n",
    "\n",
    "        avg_train_loss = running_loss / len(train_loader)\n",
    "        val_loss, Accuracy = test_model(model, val_loader, criterion, device)\n",
    "         \n",
    "\n",
    "        print(f\"Epoch [{epoch+1}/{num_epochs}], Train Loss: {avg_train_loss:.4f}, Val Loss: {val_loss:.4f}\")\n",
    "\n",
    "        # Save log\n",
    "        log_data.append({\n",
    "            \"Epoch\": epoch + 1,\n",
    "            \"Train Loss\": avg_train_loss,\n",
    "            \"Val Loss\": val_loss,\n",
    "            \"Accuracy\": Accuracy,  # Placeholder for accuracy\n",
    "        })\n",
    "\n",
    "        # Save model if validation improves\n",
    "        if val_loss < best_val_loss:\n",
    "            best_val_loss = val_loss\n",
    "            torch.save(model.state_dict(), save_path)\n",
    "            print(f\"Model saved at epoch {epoch+1} with val loss {val_loss:.4f}\")\n",
    "\n",
    "    # Save the log to CSV\n",
    "    df_log = pd.DataFrame(log_data)\n",
    "    df_log.to_csv(log_path, index=False)\n",
    "    print(f\"Training log saved to {log_path}\")\n",
    "    print(\"Training complete!\")\n"
   ]
  },
  {
   "cell_type": "code",
   "execution_count": 7,
   "metadata": {},
   "outputs": [
    {
     "name": "stderr",
     "output_type": "stream",
     "text": [
      "Epoch 1/60: 100%|██████████| 5000/5000 [01:38<00:00, 50.97it/s, loss=0.16] \n",
      "Testing: 100%|██████████| 625/625 [00:12<00:00, 48.65it/s, loss=0.303]\n"
     ]
    },
    {
     "name": "stdout",
     "output_type": "stream",
     "text": [
      "Test Loss: 0.3609, Accuracy: 83.64%\n",
      "Epoch [1/60], Train Loss: 0.4587, Val Loss: 0.3609\n",
      "Model saved at epoch 1 with val loss 0.3609\n"
     ]
    },
    {
     "name": "stderr",
     "output_type": "stream",
     "text": [
      "Epoch 2/60: 100%|██████████| 5000/5000 [01:34<00:00, 53.08it/s, loss=0.502] \n",
      "Testing: 100%|██████████| 625/625 [00:13<00:00, 47.73it/s, loss=0.264] \n"
     ]
    },
    {
     "name": "stdout",
     "output_type": "stream",
     "text": [
      "Test Loss: 0.2854, Accuracy: 88.05%\n",
      "Epoch [2/60], Train Loss: 0.3089, Val Loss: 0.2854\n",
      "Model saved at epoch 2 with val loss 0.2854\n"
     ]
    },
    {
     "name": "stderr",
     "output_type": "stream",
     "text": [
      "Epoch 3/60: 100%|██████████| 5000/5000 [01:35<00:00, 52.62it/s, loss=0.208] \n",
      "Testing: 100%|██████████| 625/625 [00:13<00:00, 47.71it/s, loss=0.281] \n"
     ]
    },
    {
     "name": "stdout",
     "output_type": "stream",
     "text": [
      "Test Loss: 0.2597, Accuracy: 88.86%\n",
      "Epoch [3/60], Train Loss: 0.2766, Val Loss: 0.2597\n",
      "Model saved at epoch 3 with val loss 0.2597\n"
     ]
    },
    {
     "name": "stderr",
     "output_type": "stream",
     "text": [
      "Epoch 4/60: 100%|██████████| 5000/5000 [01:33<00:00, 53.60it/s, loss=0.187] \n",
      "Testing: 100%|██████████| 625/625 [00:13<00:00, 46.48it/s, loss=0.231] "
     ]
    },
    {
     "name": "stdout",
     "output_type": "stream",
     "text": [
      "Test Loss: 0.2867, Accuracy: 87.50%\n",
      "Epoch [4/60], Train Loss: 0.2602, Val Loss: 0.2867\n"
     ]
    },
    {
     "name": "stderr",
     "output_type": "stream",
     "text": [
      "\n",
      "Epoch 5/60: 100%|██████████| 5000/5000 [01:33<00:00, 53.68it/s, loss=0.385] \n",
      "Testing: 100%|██████████| 625/625 [00:13<00:00, 46.82it/s, loss=0.243] \n"
     ]
    },
    {
     "name": "stdout",
     "output_type": "stream",
     "text": [
      "Test Loss: 0.2315, Accuracy: 90.12%\n",
      "Epoch [5/60], Train Loss: 0.2491, Val Loss: 0.2315\n",
      "Model saved at epoch 5 with val loss 0.2315\n"
     ]
    },
    {
     "name": "stderr",
     "output_type": "stream",
     "text": [
      "Epoch 6/60: 100%|██████████| 5000/5000 [01:33<00:00, 53.70it/s, loss=0.0996]\n",
      "Testing: 100%|██████████| 625/625 [00:13<00:00, 47.18it/s, loss=0.199] "
     ]
    },
    {
     "name": "stdout",
     "output_type": "stream",
     "text": [
      "Test Loss: 0.2670, Accuracy: 88.63%\n",
      "Epoch [6/60], Train Loss: 0.2428, Val Loss: 0.2670\n"
     ]
    },
    {
     "name": "stderr",
     "output_type": "stream",
     "text": [
      "\n",
      "Epoch 7/60: 100%|██████████| 5000/5000 [01:33<00:00, 53.40it/s, loss=0.133] \n",
      "Testing: 100%|██████████| 625/625 [00:13<00:00, 46.80it/s, loss=0.368] \n"
     ]
    },
    {
     "name": "stdout",
     "output_type": "stream",
     "text": [
      "Test Loss: 0.2214, Accuracy: 90.62%\n",
      "Epoch [7/60], Train Loss: 0.2365, Val Loss: 0.2214\n",
      "Model saved at epoch 7 with val loss 0.2214\n"
     ]
    },
    {
     "name": "stderr",
     "output_type": "stream",
     "text": [
      "Epoch 8/60: 100%|██████████| 5000/5000 [01:33<00:00, 53.73it/s, loss=0.112] \n",
      "Testing: 100%|██████████| 625/625 [00:12<00:00, 50.02it/s, loss=0.216] \n"
     ]
    },
    {
     "name": "stdout",
     "output_type": "stream",
     "text": [
      "Test Loss: 0.2191, Accuracy: 90.51%\n",
      "Epoch [8/60], Train Loss: 0.2320, Val Loss: 0.2191\n",
      "Model saved at epoch 8 with val loss 0.2191\n"
     ]
    },
    {
     "name": "stderr",
     "output_type": "stream",
     "text": [
      "Epoch 9/60: 100%|██████████| 5000/5000 [01:32<00:00, 53.89it/s, loss=0.166] \n",
      "Testing: 100%|██████████| 625/625 [00:13<00:00, 45.99it/s, loss=0.183] \n"
     ]
    },
    {
     "name": "stdout",
     "output_type": "stream",
     "text": [
      "Test Loss: 0.2163, Accuracy: 90.83%\n",
      "Epoch [9/60], Train Loss: 0.2272, Val Loss: 0.2163\n",
      "Model saved at epoch 9 with val loss 0.2163\n"
     ]
    },
    {
     "name": "stderr",
     "output_type": "stream",
     "text": [
      "Epoch 10/60: 100%|██████████| 5000/5000 [01:33<00:00, 53.34it/s, loss=0.238] \n",
      "Testing: 100%|██████████| 625/625 [00:13<00:00, 46.72it/s, loss=0.134] \n"
     ]
    },
    {
     "name": "stdout",
     "output_type": "stream",
     "text": [
      "Test Loss: 0.2102, Accuracy: 91.18%\n",
      "Epoch [10/60], Train Loss: 0.2207, Val Loss: 0.2102\n",
      "Model saved at epoch 10 with val loss 0.2102\n"
     ]
    },
    {
     "name": "stderr",
     "output_type": "stream",
     "text": [
      "Epoch 11/60: 100%|██████████| 5000/5000 [01:36<00:00, 52.04it/s, loss=0.181] \n",
      "Testing: 100%|██████████| 625/625 [00:15<00:00, 41.50it/s, loss=0.131] "
     ]
    },
    {
     "name": "stdout",
     "output_type": "stream",
     "text": [
      "Test Loss: 0.2109, Accuracy: 90.88%\n",
      "Epoch [11/60], Train Loss: 0.2148, Val Loss: 0.2109\n"
     ]
    },
    {
     "name": "stderr",
     "output_type": "stream",
     "text": [
      "\n",
      "Epoch 12/60: 100%|██████████| 5000/5000 [01:54<00:00, 43.63it/s, loss=0.178] \n",
      "Testing: 100%|██████████| 625/625 [00:15<00:00, 40.85it/s, loss=0.104] \n"
     ]
    },
    {
     "name": "stdout",
     "output_type": "stream",
     "text": [
      "Test Loss: 0.2080, Accuracy: 91.26%\n",
      "Epoch [12/60], Train Loss: 0.2117, Val Loss: 0.2080\n",
      "Model saved at epoch 12 with val loss 0.2080\n"
     ]
    },
    {
     "name": "stderr",
     "output_type": "stream",
     "text": [
      "Epoch 13/60: 100%|██████████| 5000/5000 [01:56<00:00, 42.98it/s, loss=0.346] \n",
      "Testing: 100%|██████████| 625/625 [00:15<00:00, 41.61it/s, loss=0.102] \n"
     ]
    },
    {
     "name": "stdout",
     "output_type": "stream",
     "text": [
      "Test Loss: 0.2043, Accuracy: 91.47%\n",
      "Epoch [13/60], Train Loss: 0.2121, Val Loss: 0.2043\n",
      "Model saved at epoch 13 with val loss 0.2043\n"
     ]
    },
    {
     "name": "stderr",
     "output_type": "stream",
     "text": [
      "Epoch 14/60: 100%|██████████| 5000/5000 [01:55<00:00, 43.22it/s, loss=0.232] \n",
      "Testing: 100%|██████████| 625/625 [00:13<00:00, 46.20it/s, loss=0.133] "
     ]
    },
    {
     "name": "stdout",
     "output_type": "stream",
     "text": [
      "Test Loss: 0.2314, Accuracy: 89.88%\n",
      "Epoch [14/60], Train Loss: 0.2090, Val Loss: 0.2314\n"
     ]
    },
    {
     "name": "stderr",
     "output_type": "stream",
     "text": [
      "\n",
      "Epoch 15/60: 100%|██████████| 5000/5000 [01:55<00:00, 43.47it/s, loss=0.111] \n",
      "Testing: 100%|██████████| 625/625 [00:15<00:00, 41.42it/s, loss=0.131] \n"
     ]
    },
    {
     "name": "stdout",
     "output_type": "stream",
     "text": [
      "Test Loss: 0.1986, Accuracy: 91.72%\n",
      "Epoch [15/60], Train Loss: 0.2040, Val Loss: 0.1986\n",
      "Model saved at epoch 15 with val loss 0.1986\n"
     ]
    },
    {
     "name": "stderr",
     "output_type": "stream",
     "text": [
      "Epoch 16/60: 100%|██████████| 5000/5000 [01:56<00:00, 43.06it/s, loss=0.104] \n",
      "Testing: 100%|██████████| 625/625 [00:15<00:00, 41.51it/s, loss=0.177] \n"
     ]
    },
    {
     "name": "stdout",
     "output_type": "stream",
     "text": [
      "Test Loss: 0.1974, Accuracy: 91.64%\n",
      "Epoch [16/60], Train Loss: 0.2010, Val Loss: 0.1974\n",
      "Model saved at epoch 16 with val loss 0.1974\n"
     ]
    },
    {
     "name": "stderr",
     "output_type": "stream",
     "text": [
      "Epoch 17/60: 100%|██████████| 5000/5000 [01:54<00:00, 43.60it/s, loss=0.361] \n",
      "Testing: 100%|██████████| 625/625 [00:15<00:00, 41.46it/s, loss=0.177] \n"
     ]
    },
    {
     "name": "stdout",
     "output_type": "stream",
     "text": [
      "Test Loss: 0.1867, Accuracy: 92.14%\n",
      "Epoch [17/60], Train Loss: 0.2011, Val Loss: 0.1867\n",
      "Model saved at epoch 17 with val loss 0.1867\n"
     ]
    },
    {
     "name": "stderr",
     "output_type": "stream",
     "text": [
      "Epoch 18/60: 100%|██████████| 5000/5000 [01:55<00:00, 43.28it/s, loss=0.132] \n",
      "Testing: 100%|██████████| 625/625 [00:15<00:00, 41.30it/s, loss=0.212] "
     ]
    },
    {
     "name": "stdout",
     "output_type": "stream",
     "text": [
      "Test Loss: 0.2010, Accuracy: 91.34%\n",
      "Epoch [18/60], Train Loss: 0.1985, Val Loss: 0.2010\n"
     ]
    },
    {
     "name": "stderr",
     "output_type": "stream",
     "text": [
      "\n",
      "Epoch 19/60: 100%|██████████| 5000/5000 [01:55<00:00, 43.12it/s, loss=0.118] \n",
      "Testing: 100%|██████████| 625/625 [00:15<00:00, 41.40it/s, loss=0.371] "
     ]
    },
    {
     "name": "stdout",
     "output_type": "stream",
     "text": [
      "Test Loss: 0.2181, Accuracy: 90.72%\n",
      "Epoch [19/60], Train Loss: 0.1962, Val Loss: 0.2181\n"
     ]
    },
    {
     "name": "stderr",
     "output_type": "stream",
     "text": [
      "\n",
      "Epoch 20/60: 100%|██████████| 5000/5000 [01:54<00:00, 43.66it/s, loss=0.173] \n",
      "Testing: 100%|██████████| 625/625 [00:14<00:00, 42.65it/s, loss=0.112] "
     ]
    },
    {
     "name": "stdout",
     "output_type": "stream",
     "text": [
      "Test Loss: 0.1941, Accuracy: 92.14%\n",
      "Epoch [20/60], Train Loss: 0.1918, Val Loss: 0.1941\n"
     ]
    },
    {
     "name": "stderr",
     "output_type": "stream",
     "text": [
      "\n",
      "Epoch 21/60: 100%|██████████| 5000/5000 [01:56<00:00, 43.09it/s, loss=0.218] \n",
      "Testing: 100%|██████████| 625/625 [00:15<00:00, 41.06it/s, loss=0.111] "
     ]
    },
    {
     "name": "stdout",
     "output_type": "stream",
     "text": [
      "Test Loss: 0.1890, Accuracy: 92.15%\n",
      "Epoch [21/60], Train Loss: 0.1913, Val Loss: 0.1890\n"
     ]
    },
    {
     "name": "stderr",
     "output_type": "stream",
     "text": [
      "\n",
      "Epoch 22/60: 100%|██████████| 5000/5000 [01:57<00:00, 42.69it/s, loss=0.13]  \n",
      "Testing: 100%|██████████| 625/625 [00:15<00:00, 40.91it/s, loss=0.215] "
     ]
    },
    {
     "name": "stdout",
     "output_type": "stream",
     "text": [
      "Test Loss: 0.1913, Accuracy: 91.89%\n",
      "Epoch [22/60], Train Loss: 0.1907, Val Loss: 0.1913\n"
     ]
    },
    {
     "name": "stderr",
     "output_type": "stream",
     "text": [
      "\n",
      "Epoch 23/60: 100%|██████████| 5000/5000 [01:54<00:00, 43.62it/s, loss=0.369] \n",
      "Testing: 100%|██████████| 625/625 [00:15<00:00, 41.21it/s, loss=0.187] "
     ]
    },
    {
     "name": "stdout",
     "output_type": "stream",
     "text": [
      "Test Loss: 0.2467, Accuracy: 89.73%\n",
      "Epoch [23/60], Train Loss: 0.1877, Val Loss: 0.2467\n"
     ]
    },
    {
     "name": "stderr",
     "output_type": "stream",
     "text": [
      "\n",
      "Epoch 24/60: 100%|██████████| 5000/5000 [01:56<00:00, 42.93it/s, loss=0.191] \n",
      "Testing: 100%|██████████| 625/625 [00:15<00:00, 40.99it/s, loss=0.203] "
     ]
    },
    {
     "name": "stdout",
     "output_type": "stream",
     "text": [
      "Test Loss: 0.1942, Accuracy: 91.88%\n",
      "Epoch [24/60], Train Loss: 0.1893, Val Loss: 0.1942\n"
     ]
    },
    {
     "name": "stderr",
     "output_type": "stream",
     "text": [
      "\n",
      "Epoch 25/60: 100%|██████████| 5000/5000 [01:55<00:00, 43.17it/s, loss=0.132] \n",
      "Testing: 100%|██████████| 625/625 [00:13<00:00, 45.84it/s, loss=0.106] \n"
     ]
    },
    {
     "name": "stdout",
     "output_type": "stream",
     "text": [
      "Test Loss: 0.1720, Accuracy: 92.63%\n",
      "Epoch [25/60], Train Loss: 0.1893, Val Loss: 0.1720\n",
      "Model saved at epoch 25 with val loss 0.1720\n"
     ]
    },
    {
     "name": "stderr",
     "output_type": "stream",
     "text": [
      "Epoch 26/60: 100%|██████████| 5000/5000 [01:55<00:00, 43.30it/s, loss=0.199] \n",
      "Testing: 100%|██████████| 625/625 [00:15<00:00, 40.61it/s, loss=0.146] "
     ]
    },
    {
     "name": "stdout",
     "output_type": "stream",
     "text": [
      "Test Loss: 0.1745, Accuracy: 92.81%\n",
      "Epoch [26/60], Train Loss: 0.1863, Val Loss: 0.1745\n"
     ]
    },
    {
     "name": "stderr",
     "output_type": "stream",
     "text": [
      "\n",
      "Epoch 27/60: 100%|██████████| 5000/5000 [01:51<00:00, 44.80it/s, loss=0.24]  \n",
      "Testing: 100%|██████████| 625/625 [00:14<00:00, 42.38it/s, loss=0.237] \n"
     ]
    },
    {
     "name": "stdout",
     "output_type": "stream",
     "text": [
      "Test Loss: 0.1737, Accuracy: 92.58%\n",
      "Epoch [27/60], Train Loss: 0.1865, Val Loss: 0.1737\n"
     ]
    },
    {
     "name": "stderr",
     "output_type": "stream",
     "text": [
      "Epoch 28/60: 100%|██████████| 5000/5000 [01:53<00:00, 44.19it/s, loss=0.126] \n",
      "Testing: 100%|██████████| 625/625 [00:14<00:00, 42.45it/s, loss=0.213] \n"
     ]
    },
    {
     "name": "stdout",
     "output_type": "stream",
     "text": [
      "Test Loss: 0.1725, Accuracy: 92.63%\n",
      "Epoch [28/60], Train Loss: 0.1841, Val Loss: 0.1725\n"
     ]
    },
    {
     "name": "stderr",
     "output_type": "stream",
     "text": [
      "Epoch 29/60: 100%|██████████| 5000/5000 [01:53<00:00, 44.00it/s, loss=0.106] \n",
      "Testing: 100%|██████████| 625/625 [00:14<00:00, 42.40it/s, loss=0.341] "
     ]
    },
    {
     "name": "stdout",
     "output_type": "stream",
     "text": [
      "Test Loss: 0.1796, Accuracy: 92.22%\n",
      "Epoch [29/60], Train Loss: 0.1828, Val Loss: 0.1796\n"
     ]
    },
    {
     "name": "stderr",
     "output_type": "stream",
     "text": [
      "\n",
      "Epoch 30/60: 100%|██████████| 5000/5000 [01:54<00:00, 43.83it/s, loss=0.142] \n",
      "Testing: 100%|██████████| 625/625 [00:14<00:00, 42.92it/s, loss=0.193] \n"
     ]
    },
    {
     "name": "stdout",
     "output_type": "stream",
     "text": [
      "Test Loss: 0.1699, Accuracy: 92.95%\n",
      "Epoch [30/60], Train Loss: 0.1805, Val Loss: 0.1699\n",
      "Model saved at epoch 30 with val loss 0.1699\n"
     ]
    },
    {
     "name": "stderr",
     "output_type": "stream",
     "text": [
      "Epoch 31/60: 100%|██████████| 5000/5000 [01:52<00:00, 44.42it/s, loss=0.123] \n",
      "Testing: 100%|██████████| 625/625 [00:14<00:00, 43.14it/s, loss=0.265] "
     ]
    },
    {
     "name": "stdout",
     "output_type": "stream",
     "text": [
      "Test Loss: 0.1968, Accuracy: 91.77%\n",
      "Epoch [31/60], Train Loss: 0.1797, Val Loss: 0.1968\n"
     ]
    },
    {
     "name": "stderr",
     "output_type": "stream",
     "text": [
      "\n",
      "Epoch 32/60: 100%|██████████| 5000/5000 [01:53<00:00, 43.97it/s, loss=0.271] \n",
      "Testing: 100%|██████████| 625/625 [00:14<00:00, 42.48it/s, loss=0.289] \n"
     ]
    },
    {
     "name": "stdout",
     "output_type": "stream",
     "text": [
      "Test Loss: 0.1992, Accuracy: 91.33%\n",
      "Epoch [32/60], Train Loss: 0.1786, Val Loss: 0.1992\n"
     ]
    },
    {
     "name": "stderr",
     "output_type": "stream",
     "text": [
      "Epoch 33/60: 100%|██████████| 5000/5000 [01:53<00:00, 43.91it/s, loss=0.0942]\n",
      "Testing: 100%|██████████| 625/625 [00:14<00:00, 42.37it/s, loss=0.163] \n"
     ]
    },
    {
     "name": "stdout",
     "output_type": "stream",
     "text": [
      "Test Loss: 0.1680, Accuracy: 92.96%\n",
      "Epoch [33/60], Train Loss: 0.1761, Val Loss: 0.1680\n",
      "Model saved at epoch 33 with val loss 0.1680\n"
     ]
    },
    {
     "name": "stderr",
     "output_type": "stream",
     "text": [
      "Epoch 34/60: 100%|██████████| 5000/5000 [01:53<00:00, 44.25it/s, loss=0.244] \n",
      "Testing: 100%|██████████| 625/625 [00:14<00:00, 42.57it/s, loss=0.0787]\n"
     ]
    },
    {
     "name": "stdout",
     "output_type": "stream",
     "text": [
      "Test Loss: 0.1750, Accuracy: 92.60%\n",
      "Epoch [34/60], Train Loss: 0.1769, Val Loss: 0.1750\n"
     ]
    },
    {
     "name": "stderr",
     "output_type": "stream",
     "text": [
      "Epoch 35/60: 100%|██████████| 5000/5000 [01:54<00:00, 43.74it/s, loss=0.22]  \n",
      "Testing: 100%|██████████| 625/625 [00:14<00:00, 42.59it/s, loss=0.171] "
     ]
    },
    {
     "name": "stdout",
     "output_type": "stream",
     "text": [
      "Test Loss: 0.1687, Accuracy: 92.80%\n",
      "Epoch [35/60], Train Loss: 0.1759, Val Loss: 0.1687\n"
     ]
    },
    {
     "name": "stderr",
     "output_type": "stream",
     "text": [
      "\n",
      "Epoch 36/60: 100%|██████████| 5000/5000 [01:54<00:00, 43.69it/s, loss=0.0642]\n",
      "Testing: 100%|██████████| 625/625 [00:14<00:00, 42.49it/s, loss=0.149] "
     ]
    },
    {
     "name": "stdout",
     "output_type": "stream",
     "text": [
      "Test Loss: 0.2587, Accuracy: 89.63%\n",
      "Epoch [36/60], Train Loss: 0.1775, Val Loss: 0.2587\n"
     ]
    },
    {
     "name": "stderr",
     "output_type": "stream",
     "text": [
      "\n",
      "Epoch 37/60: 100%|██████████| 5000/5000 [01:52<00:00, 44.27it/s, loss=0.161] \n",
      "Testing: 100%|██████████| 625/625 [00:14<00:00, 42.21it/s, loss=0.167] \n"
     ]
    },
    {
     "name": "stdout",
     "output_type": "stream",
     "text": [
      "Test Loss: 0.1634, Accuracy: 93.26%\n",
      "Epoch [37/60], Train Loss: 0.1790, Val Loss: 0.1634\n",
      "Model saved at epoch 37 with val loss 0.1634\n"
     ]
    },
    {
     "name": "stderr",
     "output_type": "stream",
     "text": [
      "Epoch 38/60: 100%|██████████| 5000/5000 [01:54<00:00, 43.77it/s, loss=0.184] \n",
      "Testing: 100%|██████████| 625/625 [00:14<00:00, 42.11it/s, loss=0.211] "
     ]
    },
    {
     "name": "stdout",
     "output_type": "stream",
     "text": [
      "Test Loss: 0.1717, Accuracy: 92.65%\n",
      "Epoch [38/60], Train Loss: 0.1750, Val Loss: 0.1717\n"
     ]
    },
    {
     "name": "stderr",
     "output_type": "stream",
     "text": [
      "\n",
      "Epoch 39/60: 100%|██████████| 5000/5000 [01:53<00:00, 44.06it/s, loss=0.128] \n",
      "Testing: 100%|██████████| 625/625 [00:13<00:00, 46.04it/s, loss=0.0526]\n"
     ]
    },
    {
     "name": "stdout",
     "output_type": "stream",
     "text": [
      "Test Loss: 0.1912, Accuracy: 91.83%\n",
      "Epoch [39/60], Train Loss: 0.1742, Val Loss: 0.1912\n"
     ]
    },
    {
     "name": "stderr",
     "output_type": "stream",
     "text": [
      "Epoch 40/60: 100%|██████████| 5000/5000 [01:54<00:00, 43.85it/s, loss=0.0934] \n",
      "Testing: 100%|██████████| 625/625 [00:14<00:00, 42.08it/s, loss=0.163] "
     ]
    },
    {
     "name": "stdout",
     "output_type": "stream",
     "text": [
      "Test Loss: 0.1839, Accuracy: 91.98%\n",
      "Epoch [40/60], Train Loss: 0.1730, Val Loss: 0.1839\n"
     ]
    },
    {
     "name": "stderr",
     "output_type": "stream",
     "text": [
      "\n",
      "Epoch 41/60: 100%|██████████| 5000/5000 [01:54<00:00, 43.79it/s, loss=0.319] \n",
      "Testing: 100%|██████████| 625/625 [00:14<00:00, 42.51it/s, loss=0.0954] "
     ]
    },
    {
     "name": "stdout",
     "output_type": "stream",
     "text": [
      "Test Loss: 0.1650, Accuracy: 93.16%\n",
      "Epoch [41/60], Train Loss: 0.1733, Val Loss: 0.1650\n"
     ]
    },
    {
     "name": "stderr",
     "output_type": "stream",
     "text": [
      "\n",
      "Epoch 42/60: 100%|██████████| 5000/5000 [01:52<00:00, 44.29it/s, loss=0.134] \n",
      "Testing: 100%|██████████| 625/625 [00:14<00:00, 42.41it/s, loss=0.165] \n"
     ]
    },
    {
     "name": "stdout",
     "output_type": "stream",
     "text": [
      "Test Loss: 0.1693, Accuracy: 92.96%\n",
      "Epoch [42/60], Train Loss: 0.1718, Val Loss: 0.1693\n"
     ]
    },
    {
     "name": "stderr",
     "output_type": "stream",
     "text": [
      "Epoch 43/60: 100%|██████████| 5000/5000 [01:54<00:00, 43.86it/s, loss=0.153] \n",
      "Testing: 100%|██████████| 625/625 [00:14<00:00, 41.73it/s, loss=0.0744]"
     ]
    },
    {
     "name": "stdout",
     "output_type": "stream",
     "text": [
      "Test Loss: 0.1648, Accuracy: 93.23%\n",
      "Epoch [43/60], Train Loss: 0.1725, Val Loss: 0.1648\n"
     ]
    },
    {
     "name": "stderr",
     "output_type": "stream",
     "text": [
      "\n",
      "Epoch 44/60: 100%|██████████| 5000/5000 [01:54<00:00, 43.79it/s, loss=0.211]  \n",
      "Testing: 100%|██████████| 625/625 [00:14<00:00, 42.31it/s, loss=0.185] "
     ]
    },
    {
     "name": "stdout",
     "output_type": "stream",
     "text": [
      "Test Loss: 0.1674, Accuracy: 92.81%\n",
      "Epoch [44/60], Train Loss: 0.1711, Val Loss: 0.1674\n"
     ]
    },
    {
     "name": "stderr",
     "output_type": "stream",
     "text": [
      "\n",
      "Epoch 45/60: 100%|██████████| 5000/5000 [01:52<00:00, 44.35it/s, loss=0.28]  \n",
      "Testing: 100%|██████████| 625/625 [00:14<00:00, 43.18it/s, loss=0.167] \n"
     ]
    },
    {
     "name": "stdout",
     "output_type": "stream",
     "text": [
      "Test Loss: 0.1593, Accuracy: 93.47%\n",
      "Epoch [45/60], Train Loss: 0.1709, Val Loss: 0.1593\n",
      "Model saved at epoch 45 with val loss 0.1593\n"
     ]
    },
    {
     "name": "stderr",
     "output_type": "stream",
     "text": [
      "Epoch 46/60: 100%|██████████| 5000/5000 [01:54<00:00, 43.69it/s, loss=0.35]  \n",
      "Testing: 100%|██████████| 625/625 [00:14<00:00, 42.38it/s, loss=0.145] \n"
     ]
    },
    {
     "name": "stdout",
     "output_type": "stream",
     "text": [
      "Test Loss: 0.1720, Accuracy: 92.58%\n",
      "Epoch [46/60], Train Loss: 0.1699, Val Loss: 0.1720\n"
     ]
    },
    {
     "name": "stderr",
     "output_type": "stream",
     "text": [
      "Epoch 47/60: 100%|██████████| 5000/5000 [01:54<00:00, 43.67it/s, loss=0.181] \n",
      "Testing: 100%|██████████| 625/625 [00:14<00:00, 42.26it/s, loss=0.24]  "
     ]
    },
    {
     "name": "stdout",
     "output_type": "stream",
     "text": [
      "Test Loss: 0.1634, Accuracy: 93.14%\n",
      "Epoch [47/60], Train Loss: 0.1689, Val Loss: 0.1634\n"
     ]
    },
    {
     "name": "stderr",
     "output_type": "stream",
     "text": [
      "\n",
      "Epoch 48/60: 100%|██████████| 5000/5000 [01:53<00:00, 44.22it/s, loss=0.284] \n",
      "Testing: 100%|██████████| 625/625 [00:14<00:00, 42.26it/s, loss=0.229] "
     ]
    },
    {
     "name": "stdout",
     "output_type": "stream",
     "text": [
      "Test Loss: 0.1952, Accuracy: 91.51%\n",
      "Epoch [48/60], Train Loss: 0.1704, Val Loss: 0.1952\n"
     ]
    },
    {
     "name": "stderr",
     "output_type": "stream",
     "text": [
      "\n",
      "Epoch 49/60: 100%|██████████| 5000/5000 [01:54<00:00, 43.67it/s, loss=0.0296]\n",
      "Testing: 100%|██████████| 625/625 [00:14<00:00, 42.55it/s, loss=0.289] \n"
     ]
    },
    {
     "name": "stdout",
     "output_type": "stream",
     "text": [
      "Test Loss: 0.1730, Accuracy: 92.70%\n",
      "Epoch [49/60], Train Loss: 0.1700, Val Loss: 0.1730\n"
     ]
    },
    {
     "name": "stderr",
     "output_type": "stream",
     "text": [
      "Epoch 50/60: 100%|██████████| 5000/5000 [01:54<00:00, 43.83it/s, loss=0.144] \n",
      "Testing: 100%|██████████| 625/625 [00:13<00:00, 45.65it/s, loss=0.567] "
     ]
    },
    {
     "name": "stdout",
     "output_type": "stream",
     "text": [
      "Test Loss: 0.1795, Accuracy: 92.45%\n",
      "Epoch [50/60], Train Loss: 0.1676, Val Loss: 0.1795\n"
     ]
    },
    {
     "name": "stderr",
     "output_type": "stream",
     "text": [
      "\n",
      "Epoch 51/60: 100%|██████████| 5000/5000 [01:52<00:00, 44.40it/s, loss=0.107] \n",
      "Testing: 100%|██████████| 625/625 [00:14<00:00, 42.68it/s, loss=0.291] \n"
     ]
    },
    {
     "name": "stdout",
     "output_type": "stream",
     "text": [
      "Test Loss: 0.1590, Accuracy: 93.29%\n",
      "Epoch [51/60], Train Loss: 0.1658, Val Loss: 0.1590\n",
      "Model saved at epoch 51 with val loss 0.1590\n"
     ]
    },
    {
     "name": "stderr",
     "output_type": "stream",
     "text": [
      "Epoch 52/60: 100%|██████████| 5000/5000 [01:54<00:00, 43.73it/s, loss=0.102] \n",
      "Testing: 100%|██████████| 625/625 [00:14<00:00, 42.41it/s, loss=0.242] \n"
     ]
    },
    {
     "name": "stdout",
     "output_type": "stream",
     "text": [
      "Test Loss: 0.1903, Accuracy: 91.85%\n",
      "Epoch [52/60], Train Loss: 0.1673, Val Loss: 0.1903\n"
     ]
    },
    {
     "name": "stderr",
     "output_type": "stream",
     "text": [
      "Epoch 53/60: 100%|██████████| 5000/5000 [01:53<00:00, 44.15it/s, loss=0.234] \n",
      "Testing: 100%|██████████| 625/625 [00:13<00:00, 44.66it/s, loss=0.221] "
     ]
    },
    {
     "name": "stdout",
     "output_type": "stream",
     "text": [
      "Test Loss: 0.1744, Accuracy: 92.73%\n",
      "Epoch [53/60], Train Loss: 0.1656, Val Loss: 0.1744\n"
     ]
    },
    {
     "name": "stderr",
     "output_type": "stream",
     "text": [
      "\n",
      "Epoch 54/60: 100%|██████████| 5000/5000 [01:54<00:00, 43.69it/s, loss=0.343] \n",
      "Testing: 100%|██████████| 625/625 [00:14<00:00, 42.28it/s, loss=0.2]   "
     ]
    },
    {
     "name": "stdout",
     "output_type": "stream",
     "text": [
      "Test Loss: 0.1632, Accuracy: 93.31%\n",
      "Epoch [54/60], Train Loss: 0.1663, Val Loss: 0.1632\n"
     ]
    },
    {
     "name": "stderr",
     "output_type": "stream",
     "text": [
      "\n",
      "Epoch 55/60: 100%|██████████| 5000/5000 [01:54<00:00, 43.83it/s, loss=0.282] \n",
      "Testing: 100%|██████████| 625/625 [00:14<00:00, 42.57it/s, loss=0.217] "
     ]
    },
    {
     "name": "stdout",
     "output_type": "stream",
     "text": [
      "Test Loss: 0.1939, Accuracy: 91.65%\n",
      "Epoch [55/60], Train Loss: 0.1667, Val Loss: 0.1939\n"
     ]
    },
    {
     "name": "stderr",
     "output_type": "stream",
     "text": [
      "\n",
      "Epoch 56/60: 100%|██████████| 5000/5000 [01:52<00:00, 44.25it/s, loss=0.129] \n",
      "Testing: 100%|██████████| 625/625 [00:14<00:00, 42.00it/s, loss=0.144] \n"
     ]
    },
    {
     "name": "stdout",
     "output_type": "stream",
     "text": [
      "Test Loss: 0.1538, Accuracy: 93.46%\n",
      "Epoch [56/60], Train Loss: 0.1642, Val Loss: 0.1538\n",
      "Model saved at epoch 56 with val loss 0.1538\n"
     ]
    },
    {
     "name": "stderr",
     "output_type": "stream",
     "text": [
      "Epoch 57/60: 100%|██████████| 5000/5000 [01:54<00:00, 43.78it/s, loss=0.344] \n",
      "Testing: 100%|██████████| 625/625 [00:14<00:00, 42.34it/s, loss=0.196] \n"
     ]
    },
    {
     "name": "stdout",
     "output_type": "stream",
     "text": [
      "Test Loss: 0.1534, Accuracy: 93.66%\n",
      "Epoch [57/60], Train Loss: 0.1653, Val Loss: 0.1534\n",
      "Model saved at epoch 57 with val loss 0.1534\n"
     ]
    },
    {
     "name": "stderr",
     "output_type": "stream",
     "text": [
      "Epoch 58/60: 100%|██████████| 5000/5000 [01:54<00:00, 43.66it/s, loss=0.0895]\n",
      "Testing: 100%|██████████| 625/625 [00:14<00:00, 42.23it/s, loss=0.097]  "
     ]
    },
    {
     "name": "stdout",
     "output_type": "stream",
     "text": [
      "Test Loss: 0.1570, Accuracy: 93.26%\n",
      "Epoch [58/60], Train Loss: 0.1643, Val Loss: 0.1570\n"
     ]
    },
    {
     "name": "stderr",
     "output_type": "stream",
     "text": [
      "\n",
      "Epoch 59/60: 100%|██████████| 5000/5000 [01:52<00:00, 44.33it/s, loss=0.189] \n",
      "Testing: 100%|██████████| 625/625 [00:14<00:00, 42.50it/s, loss=0.15]  "
     ]
    },
    {
     "name": "stdout",
     "output_type": "stream",
     "text": [
      "Test Loss: 0.1666, Accuracy: 93.05%\n",
      "Epoch [59/60], Train Loss: 0.1632, Val Loss: 0.1666\n"
     ]
    },
    {
     "name": "stderr",
     "output_type": "stream",
     "text": [
      "\n",
      "Epoch 60/60: 100%|██████████| 5000/5000 [01:54<00:00, 43.69it/s, loss=0.0515]\n",
      "Testing: 100%|██████████| 625/625 [00:14<00:00, 42.01it/s, loss=0.157] "
     ]
    },
    {
     "name": "stdout",
     "output_type": "stream",
     "text": [
      "Test Loss: 0.1637, Accuracy: 93.14%\n",
      "Epoch [60/60], Train Loss: 0.1657, Val Loss: 0.1637\n",
      "Training log saved to ./Logs/log_summary_Z_10GeV_200.csv\n",
      "Training complete!\n"
     ]
    },
    {
     "name": "stderr",
     "output_type": "stream",
     "text": [
      "\n"
     ]
    }
   ],
   "source": [
    "\n",
    "if __name__ == \"__main__\":\n",
    "    #Train the model\n",
    "    train_model(model, train_loader,val_loader=val_loader, num_epochs=60, learning_rate=5e-4, device=device)"
   ]
  },
  {
   "cell_type": "code",
   "execution_count": 8,
   "metadata": {},
   "outputs": [
    {
     "name": "stdout",
     "output_type": "stream",
     "text": [
      "./Models/Z_10GeV_200.pth\n"
     ]
    },
    {
     "data": {
      "text/plain": [
       "DeepSet(\n",
       "  (sequential): ModuleList(\n",
       "    (0): DeepSetLayer(\n",
       "      (Gamma): Linear(in_features=5, out_features=80, bias=True)\n",
       "      (Lambda): Linear(in_features=5, out_features=80, bias=True)\n",
       "      (bn): BatchNorm1d(80, eps=1e-05, momentum=0.1, affine=False, track_running_stats=True)\n",
       "    )\n",
       "    (1): LeakyReLU(negative_slope=0.01)\n",
       "    (2): DeepSetLayer(\n",
       "      (Gamma): Linear(in_features=80, out_features=120, bias=True)\n",
       "      (Lambda): Linear(in_features=80, out_features=120, bias=True)\n",
       "      (bn): BatchNorm1d(120, eps=1e-05, momentum=0.1, affine=False, track_running_stats=True)\n",
       "    )\n",
       "    (3): LeakyReLU(negative_slope=0.01)\n",
       "    (4): DeepSetLayer(\n",
       "      (Gamma): Linear(in_features=120, out_features=70, bias=True)\n",
       "      (Lambda): Linear(in_features=120, out_features=70, bias=True)\n",
       "      (bn): BatchNorm1d(70, eps=1e-05, momentum=0.1, affine=False, track_running_stats=True)\n",
       "    )\n",
       "    (5): LeakyReLU(negative_slope=0.01)\n",
       "    (6): DeepSetLayer(\n",
       "      (Gamma): Linear(in_features=70, out_features=50, bias=True)\n",
       "      (Lambda): Linear(in_features=70, out_features=50, bias=True)\n",
       "      (bn): BatchNorm1d(50, eps=1e-05, momentum=0.1, affine=False, track_running_stats=True)\n",
       "    )\n",
       "    (7): LeakyReLU(negative_slope=0.01)\n",
       "    (8): DeepSetLayer(\n",
       "      (Gamma): Linear(in_features=50, out_features=8, bias=True)\n",
       "      (Lambda): Linear(in_features=50, out_features=8, bias=True)\n",
       "      (bn): BatchNorm1d(8, eps=1e-05, momentum=0.1, affine=False, track_running_stats=True)\n",
       "    )\n",
       "    (9): DeepSetLayer(\n",
       "      (Gamma): Linear(in_features=8, out_features=2, bias=True)\n",
       "      (Lambda): Linear(in_features=8, out_features=2, bias=True)\n",
       "      (bn): BatchNorm1d(2, eps=1e-05, momentum=0.1, affine=False, track_running_stats=True)\n",
       "    )\n",
       "  )\n",
       ")"
      ]
     },
     "execution_count": 8,
     "metadata": {},
     "output_type": "execute_result"
    }
   ],
   "source": [
    "model_test = MODEL\n",
    "model_name=f\"./Models/Z_{name}.pth\"\n",
    "print(model_name)\n",
    "model_test.load_state_dict(torch.load(f\"./Models/Z_{name}.pth\",weights_only=True))\n",
    "model_test.to(device)"
   ]
  },
  {
   "cell_type": "code",
   "execution_count": 9,
   "metadata": {},
   "outputs": [
    {
     "name": "stdout",
     "output_type": "stream",
     "text": [
      "45292\n"
     ]
    }
   ],
   "source": [
    "total_params = sum(p.numel() for p in MODEL.parameters())\n",
    "print(total_params)"
   ]
  },
  {
   "cell_type": "code",
   "execution_count": 10,
   "metadata": {},
   "outputs": [],
   "source": [
    "from sklearn.metrics import confusion_matrix, roc_curve, auc\n",
    "import seaborn as sns\n",
    "import matplotlib.pyplot as plt\n",
    "from matplotlib.colors import LinearSegmentedColormap\n",
    "from scipy.stats import beta\n",
    "from matplotlib.font_manager import FontProperties\n",
    "\n",
    "bold_font = FontProperties(weight='bold', size=14)\n",
    "\n",
    "def evaluate_model(model, data_loader, criterion, device, name1=\"model\", return_accuracy=False):\n",
    "    model.eval()\n",
    "    total_loss = 0.0\n",
    "    correct = 0\n",
    "    total = 0\n",
    "    data_loader_tqdm = tqdm(enumerate(data_loader), desc=\"Testing\", total=len(data_loader))\n",
    "    \n",
    "    true_labels = []\n",
    "    pred_labels = []\n",
    "    all_scores = []\n",
    "\n",
    "    with torch.no_grad():\n",
    "        for i, batch in data_loader_tqdm:\n",
    "            parts = batch[\"part\"].to(device)\n",
    "            batch_size, seq_len, feat_dim = parts.shape\n",
    "            parts_np = parts.cpu().numpy().reshape(-1, feat_dim)\n",
    "\n",
    "            qt = QuantileTransformer(output_distribution='normal', random_state=42)\n",
    "            parts_np = qt.fit_transform(parts_np)\n",
    "            parts = torch.tensor(parts_np).reshape(batch_size, seq_len, feat_dim).to(device)\n",
    "\n",
    "            labels = batch[\"label\"].to(device)\n",
    "            outputs = model(parts)\n",
    "            preds = F.softmax(outputs, dim=1)\n",
    "\n",
    "            # Collect soft scores for the positive class (class 1)\n",
    "            all_scores.extend(preds[:, 1].detach().cpu().numpy())\n",
    "            pred_labels.extend(torch.argmax(preds, dim=-1).cpu().numpy())\n",
    "            true_labels.extend(labels.cpu().numpy())\n",
    "\n",
    "            loss = criterion(outputs, labels)\n",
    "            total_loss += loss.item()\n",
    "\n",
    "            if return_accuracy:\n",
    "                _, predicted = torch.max(outputs, 1)\n",
    "                correct += (predicted == labels).sum().item()\n",
    "                total += labels.size(0)\n",
    "\n",
    "    avg_loss = total_loss / len(data_loader)\n",
    "    accuracy = 100 * correct / total if return_accuracy else None\n",
    "\n",
    "    # Confusion Matrix\n",
    "    cm = confusion_matrix(true_labels, pred_labels)\n",
    "    plt.figure(figsize=(10, 8))\n",
    "    colors = [\"#cce5ff\", \"#004c99\"]\n",
    "    cmap = LinearSegmentedColormap.from_list(\"Custom Blue\", colors)\n",
    "    sns.heatmap(cm, annot=True, fmt='d', cmap=cmap,\n",
    "                xticklabels=[\"Proton\", \"Pion\"], yticklabels=[\"Proton\", \"Pion\"],\n",
    "                annot_kws={\"size\": 18, \"weight\": \"bold\"})\n",
    "    \n",
    "    TP, FN = cm[0, 0], cm[0, 1]\n",
    "    FP, TN = cm[1, 0], cm[1, 1]\n",
    "    n_total = TP + TN + FP + FN\n",
    "    n_correct = TP + TN\n",
    "    alpha = 0.32\n",
    "\n",
    "    lower_bound = beta.ppf(alpha / 2, n_correct, n_total - n_correct + 1)\n",
    "    upper_bound = beta.ppf(1 - alpha / 2, n_correct + 1, n_total - n_correct)\n",
    "    \n",
    "    title = f\"Accuracy: {accuracy:.2f}%, 68% CI: [{lower_bound*100:.2f}%, {upper_bound*100:.2f}%]\"\n",
    "    plt.title(title, fontsize=15, weight='bold')\n",
    "    plt.xlabel('Predicted', size=14, weight='bold')\n",
    "    plt.ylabel('True', size=14, weight='bold')\n",
    "    plt.xticks(size=14, weight='bold')\n",
    "    plt.yticks(size=14, weight='bold')\n",
    "    print(f\"./Plots/confusion_matrix_{name}.pdf\")\n",
    "    plt.savefig(f\"./Plots/confusion_matrix_{name}.pdf\", dpi=300, bbox_inches='tight')\n",
    "    plt.close()\n",
    "    print(f\"Confusion Matrix:\\n{cm}\")\n",
    "    print(f\"68% Confidence Interval: [{lower_bound:.4f}, {upper_bound:.4f}]\")\n",
    "\n",
    "    # ROC Curve\n",
    "    y_true = np.array(true_labels)\n",
    "    y_scores = np.array(all_scores)\n",
    "\n",
    "    np.savez(f\"./Scores/scores_{name}.npz\", array1=y_true, array2=y_scores)\n",
    "    fpr, tpr, thresholds = roc_curve(y_true, y_scores)\n",
    "    roc_auc = auc(fpr, tpr)\n",
    "    jscore = tpr - fpr\n",
    "    j_index = np.argmax(jscore)\n",
    "    threshold = thresholds[j_index]\n",
    "    print(f\"Optimal Threshold: {threshold:.4f} (J-Index: {j_index})\")\n",
    "\n",
    "    N_x = sum(y_true == 0)\n",
    "    N_y = sum(y_true == 1)\n",
    "    sigma_fpr = np.sqrt(fpr * (1 - fpr) / N_x)\n",
    "    sigma_tpr = np.sqrt(tpr * (1 - tpr) / N_y)\n",
    "\n",
    "    plt.figure()\n",
    "    plt.plot(fpr, tpr, color='blue', lw=2, label=f'ROC curve (AUC = {roc_auc:.2f} )')\n",
    "    plt.fill_between(fpr, tpr - 5 * sigma_tpr, tpr + 5 * sigma_tpr,\n",
    "                     color='blue', alpha=0.25, label='1-sigma region (PiPR) [5x]')\n",
    "    plt.plot([0, 1], [0, 1], color='gray', lw=2, linestyle='--', label='Random Guess')\n",
    "    plt.xlabel('False Positive Rate', fontsize=16,weight='bold')\n",
    "    plt.ylabel('True Positive Rate', fontsize=16,weight='bold')\n",
    "    plt.xticks(fontsize=14,weight='bold')\n",
    "    plt.yticks(fontsize=14,weight='bold')\n",
    "    plt.title('Receiver Operating Characteristic (ROC)', fontsize=17,weight='bold')\n",
    "    # plt.legend(loc='lower right', fontsize=14, weight='bold')\n",
    "    plt.legend(title=\"\",prop={'weight': 'bold', 'size': 14},title_fontproperties=bold_font, loc='lower right')\n",
    "    plt.grid()\n",
    "    plt.savefig(f\"./Plots/roc_curve_{name}.pdf\")\n",
    "\n",
    "    return (avg_loss, f\"{accuracy:.2f}%\") if return_accuracy else avg_loss\n",
    "\n"
   ]
  },
  {
   "cell_type": "code",
   "execution_count": 11,
   "metadata": {},
   "outputs": [
    {
     "name": "stderr",
     "output_type": "stream",
     "text": [
      "Testing: 100%|██████████| 625/625 [00:16<00:00, 37.48it/s]\n"
     ]
    },
    {
     "name": "stdout",
     "output_type": "stream",
     "text": [
      "./Plots/confusion_matrix_10GeV_200.pdf\n",
      "Confusion Matrix:\n",
      "[[9487  534]\n",
      " [ 707 9272]]\n",
      "68% Confidence Interval: [0.9362, 0.9396]\n",
      "Optimal Threshold: 0.4980 (J-Index: 1456)\n"
     ]
    },
    {
     "data": {
      "text/plain": [
       "(0.15381775212287901, '93.80%')"
      ]
     },
     "execution_count": 11,
     "metadata": {},
     "output_type": "execute_result"
    },
    {
     "data": {
      "image/png": "[encoded data removed]",
      "text/plain": [
       "<Figure size 640x480 with 1 Axes>"
      ]
     },
     "metadata": {},
     "output_type": "display_data"
    }
   ],
   "source": [
    "evaluate_model(model_test, test_loader, nn.CrossEntropyLoss(), device, return_accuracy=True)"
   ]
  }
 ],
 "metadata": {
  "kernelspec": {
   "display_name": "work_env",
   "language": "python",
   "name": "python3"
  },
  "language_info": {
   "codemirror_mode": {
    "name": "ipython",
    "version": 3
   },
   "file_extension": ".py",
   "mimetype": "text/x-python",
   "name": "python",
   "nbconvert_exporter": "python",
   "pygments_lexer": "ipython3",
   "version": "3.12.4"
  }
 },
 "nbformat": 4,
 "nbformat_minor": 2
}
