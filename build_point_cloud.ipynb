{
 "cells": [
  {
   "cell_type": "code",
   "execution_count": 1,
   "metadata": {},
   "outputs": [
    {
     "name": "stdout",
     "output_type": "stream",
     "text": [
      "pool:  mean\n",
      "pool:  mean\n",
      "pool:  mean\n",
      "pool:  mean\n",
      "pool:  mean\n",
      "pool:  mean\n"
     ]
    }
   ],
   "source": [
    "from deepset import *\n",
    "MODEL = DeepSet(in_features=4, feats=[80,120,70,50,8], n_class=2,pool=\"mean\") #for full dataset Mean pooling, for small dataset Max pooling\n",
    "model=MODEL\n",
    "device=torch.device(\"cuda\" if torch.cuda.is_available() else \"cpu\")\n",
    "model=model.to(device) \n"
   ]
  },
  {
   "cell_type": "code",
   "execution_count": 2,
   "metadata": {},
   "outputs": [],
   "source": [
    "import torch\n",
    "from torch.utils.data import Dataset\n",
    "import pickle\n",
    "import os\n",
    "import numpy as np\n",
    "import random\n",
    "import pandas as pd\n",
    "\n",
    "class StreamingHcaDataset(Dataset): \n",
    "    def __init__(self, proton_dir, pion_dir, features=[\"x\", \"y\", \"z\", \"total_energy\"]):\n",
    "        super().__init__()\n",
    "        \n",
    "        self.proton_files = sorted([os.path.join(proton_dir, f) for f in os.listdir(proton_dir) if f.endswith(\".pkl\")])\n",
    "        self.pion_files = sorted([os.path.join(pion_dir, f) for f in os.listdir(pion_dir) if f.endswith(\".pkl\")])\n",
    "\n",
    "        self.features = features\n",
    "        self.all_files = self.proton_files + self.pion_files  # Combine file lists\n",
    "        self.labels = [0] * len(self.proton_files) + [1] * len(self.pion_files)  # 0 for proton, 1 for pion\n",
    "\n",
    "    def __len__(self):\n",
    "        return len(self.all_files)  # Total number of files\n",
    "\n",
    "    def _load_file(self, file_path, label):\n",
    "        \"\"\"Loads a single pickle file (containing a single DataFrame) and returns point cloud data with labels.\"\"\"\n",
    "        # with open(file_path, \"rb\") as f:\n",
    "        #     df = pickle.load(f)  # Load single DataFrame\n",
    "    \n",
    "        df=pd.read_pickle(file_path)\n",
    "        # df=pd.read_parquet(file_path,engine='fastparquet')\n",
    "        df=df[df[\"total_energy\"]>5]\n",
    "        \n",
    "          \n",
    "        part_feat = df[self.features].to_numpy()\n",
    "\n",
    "        # Handle NaN and Inf values\n",
    "        part_feat[np.isnan(part_feat)] = 0.0\n",
    "        part_feat[np.isinf(part_feat)] = 0.0\n",
    "\n",
    "        return {\n",
    "            \"part\": torch.tensor(part_feat, dtype=torch.float32),\n",
    "            \"label\": torch.tensor(label, dtype=torch.long),\n",
    "            \"seq_length\": torch.tensor(part_feat.shape[0], dtype=torch.long),\n",
    "        }\n",
    "\n",
    "    def __getitem__(self, idx):\n",
    "        random_idx = random.randint(0, len(self.all_files) - 1)  # Pick a random file\n",
    "        file_path = self.all_files[random_idx]\n",
    "        label = self.labels[random_idx]\n",
    "\n",
    "        return self._load_file(file_path, label)  # Return data from the chosen file\n"
   ]
  },
  {
   "cell_type": "code",
   "execution_count": 3,
   "metadata": {},
   "outputs": [],
   "source": [
    "import torch\n",
    "from torch.nn.utils.rnn import pad_sequence\n",
    "\n",
    "def collate_fn(batch):\n",
    "    \"\"\"Custom collate function to handle variable-length point cloud data.\"\"\"\n",
    "    parts = [item[\"part\"] for item in batch]  # List of tensors (each of shape [N, 5])\n",
    "    labels = torch.tensor([item[\"label\"] for item in batch], dtype=torch.long)  # Convert list to tensor\n",
    "    seq_lengths = torch.tensor([item[\"seq_length\"] for item in batch], dtype=torch.long)  # Convert list to tensor\n",
    "\n",
    "    # Pad variable-length tensors to the longest sequence in the batch\n",
    "    padded_parts = pad_sequence(parts, batch_first=True, padding_value=0.0)  # Shape [batch_size, max_seq_len, 5]\n",
    "\n",
    "    return {\"part\": padded_parts, \"label\": labels, \"seq_length\": seq_lengths}\n"
   ]
  },
  {
   "cell_type": "code",
   "execution_count": 4,
   "metadata": {},
   "outputs": [
    {
     "name": "stdout",
     "output_type": "stream",
     "text": [
      "25GeV_1\n",
      "Train: 160000, Validation: 20000, Test: 20000\n"
     ]
    }
   ],
   "source": [
    "\n",
    "energy=\"25\"\n",
    "granularity=\"1\"\n",
    "pion_dir =f\"/mnt/c/Users/hnayak/Documents/{energy}GeV/small_PKL_pion_{energy}GeV_{granularity}\"\n",
    "proton_dir =f\"/mnt/c/Users/hnayak/Documents/{energy}GeV/small_PKL_proton_{energy}GeV_{granularity}\"\n",
    "name=proton_dir.replace(f\"/mnt/c/Users/hnayak/Documents/{energy}GeV/small_PKL_proton_\",\"\")\n",
    "print(name)\n",
    "from torch.utils.data import random_split, DataLoader\n",
    "\n",
    "# Define dataset\n",
    "train_dataset = StreamingHcaDataset(proton_dir=proton_dir, pion_dir=pion_dir)\n",
    "\n",
    "# Define split sizes\n",
    "total_size = len(train_dataset)\n",
    "train_size = int(0.8 * total_size)\n",
    "val_size = int(0.1 * total_size)\n",
    "test_size = total_size - train_size - val_size  # Ensure the sum matches total_size\n",
    "\n",
    "# Split dataset\n",
    "train_set, val_set, test_set = random_split(train_dataset, [train_size, val_size, test_size])\n",
    "\n",
    "# Define DataLoaders\n",
    "train_loader = DataLoader(train_set, batch_size=32, shuffle=True, collate_fn=collate_fn, num_workers=32)\n",
    "val_loader = DataLoader(val_set, batch_size=32, shuffle=False, collate_fn=collate_fn,num_workers=32)\n",
    "test_loader = DataLoader(test_set, batch_size=32, shuffle=False, collate_fn=collate_fn,num_workers=32)\n",
    "\n",
    "\n",
    "print(f\"Train: {train_size}, Validation: {val_size}, Test: {test_size}\")\n",
    "\n"
   ]
  },
  {
   "cell_type": "code",
   "execution_count": 5,
   "metadata": {},
   "outputs": [],
   "source": [
    "import tqdm\n",
    "def test_model(model, test_loader, criterion=None, device=None):\n",
    "    if device is None:\n",
    "        device = torch.device(\"cuda\" if torch.cuda.is_available() else \"cpu\")\n",
    "\n",
    "    model.to(device)\n",
    "    model.eval()  # Set model to evaluation mode\n",
    "\n",
    "    total_loss = 0.0\n",
    "    correct = 0\n",
    "    total_samples = 0\n",
    "\n",
    "    # Progress bar for testing\n",
    "    test_loader_tqdm = tqdm(enumerate(test_loader), total=len(test_loader), desc=\"Testing\")\n",
    "\n",
    "    with torch.no_grad():\n",
    "        for i,batch in test_loader_tqdm:\n",
    "            parts = batch[\"part\"].to(device)         # Input point cloud data\n",
    "            labels = batch[\"label\"].to(device)  # Labels\n",
    "            batch_size,seq_len,feat_dim=parts.shape\n",
    "            # parts=parts.cpu().numpy().reshape(-1,feat_dim)\n",
    "            # qt = QuantileTransformer(output_distribution='normal', random_state=42)\n",
    "            # parts = qt.fit_transform(parts)\n",
    "            # parts=torch.tensor(parts).reshape(batch_size,seq_len,feat_dim).to(device)\n",
    "\n",
    "            outputs = model(parts)  # Forward pass\n",
    "            loss = criterion(outputs, labels) if criterion else 0  # Compute loss if provided\n",
    "            total_loss += loss.item()\n",
    "            _, predicted = torch.max(outputs, 1)  # Get class prediction\n",
    "            correct += (predicted == labels).sum().item()\n",
    "            total_samples += labels.size(0)\n",
    "\n",
    "            test_loader_tqdm.set_postfix(loss=loss.item())  # Update progress bar\n",
    "\n",
    "    avg_loss = total_loss / len(test_loader) if criterion else 0\n",
    "    accuracy = correct / total_samples * 100\n",
    "\n",
    "    print(f\"Test Loss: {avg_loss:.4f}, Accuracy: {accuracy:.2f}%\")\n",
    "    return avg_loss , accuracy"
   ]
  },
  {
   "cell_type": "code",
   "execution_count": 6,
   "metadata": {},
   "outputs": [],
   "source": [
    "import torch\n",
    "import torch.nn as nn\n",
    "import torch.optim as optim\n",
    "from tqdm import tqdm\n",
    "import pandas as pd\n",
    "from sklearn.preprocessing import QuantileTransformer\n",
    "\n",
    "def train_model(model, train_loader, val_loader, num_epochs=2, learning_rate=5e-4, device=None, save_path=f\"./Models/Z_{name}.pth\", log_path=f\"./Logs/log_summary_Z_{name}.csv\"):\n",
    "    if device is None:\n",
    "        device = torch.device(\"cuda\" if torch.cuda.is_available() else \"cpu\")\n",
    "\n",
    "    model.to(device)\n",
    "    criterion = nn.CrossEntropyLoss()\n",
    "    optimizer = optim.Adam(model.parameters(), lr=learning_rate)\n",
    "\n",
    "    best_val_loss = float(\"inf\")  # Initialize best loss\n",
    "\n",
    "    log_data = []  # To store log info for CSV\n",
    "\n",
    "    for epoch in range(num_epochs):\n",
    "        model.train()\n",
    "        running_loss = 0.0\n",
    "        train_loader_tqdm = tqdm(enumerate(train_loader), total=len(train_loader), desc=f\"Epoch {epoch+1}/{num_epochs}\")\n",
    "\n",
    "        for i, batch in train_loader_tqdm:\n",
    "            parts = batch[\"part\"].to(device)\n",
    "            batch_size, seq_len, feat_dim = parts.shape\n",
    "            # parts = parts.cpu().numpy().reshape(-1, feat_dim)\n",
    "            # qt = QuantileTransformer(output_distribution='normal', random_state=42)\n",
    "            # parts = qt.fit_transform(parts)\n",
    "            # parts = torch.tensor(parts).reshape(batch_size, seq_len, feat_dim).float().to(device)\n",
    "\n",
    "            labels = batch[\"label\"].to(device)\n",
    "\n",
    "            optimizer.zero_grad()\n",
    "            outputs = model(parts)\n",
    "            loss = criterion(outputs, labels)\n",
    "            loss.backward()\n",
    "            optimizer.step()\n",
    "\n",
    "            running_loss += loss.item()\n",
    "            train_loader_tqdm.set_postfix(loss=loss.item())\n",
    "\n",
    "        avg_train_loss = running_loss / len(train_loader)\n",
    "        val_loss, Accuracy = test_model(model, val_loader, criterion, device)\n",
    "         \n",
    "\n",
    "        print(f\"Epoch [{epoch+1}/{num_epochs}], Train Loss: {avg_train_loss:.4f}, Val Loss: {val_loss:.4f}\")\n",
    "\n",
    "        # Save log\n",
    "        log_data.append({\n",
    "            \"Epoch\": epoch + 1,\n",
    "            \"Train Loss\": avg_train_loss,\n",
    "            \"Val Loss\": val_loss,\n",
    "            \"Accuracy\": Accuracy,  # Placeholder for accuracy\n",
    "        })\n",
    "\n",
    "        # Save model if validation improves\n",
    "        if val_loss < best_val_loss:\n",
    "            best_val_loss = val_loss\n",
    "            torch.save(model.state_dict(), save_path)\n",
    "            print(f\"Model saved at epoch {epoch+1} with val loss {val_loss:.4f}\")\n",
    "\n",
    "    # Save the log to CSV\n",
    "    df_log = pd.DataFrame(log_data)\n",
    "    df_log.to_csv(log_path, index=False)\n",
    "    print(f\"Training log saved to {log_path}\")\n",
    "    print(\"Training complete!\")\n"
   ]
  },
  {
   "cell_type": "code",
   "execution_count": 7,
   "metadata": {},
   "outputs": [
    {
     "name": "stderr",
     "output_type": "stream",
     "text": [
      "Epoch 1/60: 100%|██████████| 5000/5000 [01:04<00:00, 77.25it/s, loss=13.3]  \n",
      "Testing: 100%|██████████| 625/625 [00:08<00:00, 77.34it/s, loss=24]   \n"
     ]
    },
    {
     "name": "stdout",
     "output_type": "stream",
     "text": [
      "Test Loss: 25.6656, Accuracy: 49.58%\n",
      "Epoch [1/60], Train Loss: 115.8514, Val Loss: 25.6656\n",
      "Model saved at epoch 1 with val loss 25.6656\n"
     ]
    },
    {
     "name": "stderr",
     "output_type": "stream",
     "text": [
      "Epoch 2/60: 100%|██████████| 5000/5000 [01:02<00:00, 80.04it/s, loss=0.759] \n",
      "Testing: 100%|██████████| 625/625 [00:07<00:00, 82.24it/s, loss=0.964] \n"
     ]
    },
    {
     "name": "stdout",
     "output_type": "stream",
     "text": [
      "Test Loss: 1.0863, Accuracy: 49.84%\n",
      "Epoch [2/60], Train Loss: 7.7181, Val Loss: 1.0863\n",
      "Model saved at epoch 2 with val loss 1.0863\n"
     ]
    },
    {
     "name": "stderr",
     "output_type": "stream",
     "text": [
      "Epoch 3/60: 100%|██████████| 5000/5000 [01:04<00:00, 77.19it/s, loss=1.08] \n",
      "Testing: 100%|██████████| 625/625 [00:07<00:00, 84.61it/s, loss=0.764] \n"
     ]
    },
    {
     "name": "stdout",
     "output_type": "stream",
     "text": [
      "Test Loss: 0.7558, Accuracy: 54.09%\n",
      "Epoch [3/60], Train Loss: 3.7197, Val Loss: 0.7558\n",
      "Model saved at epoch 3 with val loss 0.7558\n"
     ]
    },
    {
     "name": "stderr",
     "output_type": "stream",
     "text": [
      "Epoch 4/60: 100%|██████████| 5000/5000 [01:02<00:00, 80.10it/s, loss=1.05]  \n",
      "Testing: 100%|██████████| 625/625 [00:07<00:00, 86.06it/s, loss=0.593] "
     ]
    },
    {
     "name": "stdout",
     "output_type": "stream",
     "text": [
      "Test Loss: 0.7745, Accuracy: 53.61%\n",
      "Epoch [4/60], Train Loss: 2.0920, Val Loss: 0.7745\n"
     ]
    },
    {
     "name": "stderr",
     "output_type": "stream",
     "text": [
      "\n",
      "Epoch 5/60: 100%|██████████| 5000/5000 [00:59<00:00, 84.29it/s, loss=0.645] \n",
      "Testing: 100%|██████████| 625/625 [00:07<00:00, 88.55it/s, loss=0.607] \n"
     ]
    },
    {
     "name": "stdout",
     "output_type": "stream",
     "text": [
      "Test Loss: 0.6546, Accuracy: 65.39%\n",
      "Epoch [5/60], Train Loss: 1.2124, Val Loss: 0.6546\n",
      "Model saved at epoch 5 with val loss 0.6546\n"
     ]
    },
    {
     "name": "stderr",
     "output_type": "stream",
     "text": [
      "Epoch 6/60: 100%|██████████| 5000/5000 [00:52<00:00, 95.99it/s, loss=0.522] \n",
      "Testing: 100%|██████████| 625/625 [00:06<00:00, 97.69it/s, loss=0.741] \n"
     ]
    },
    {
     "name": "stdout",
     "output_type": "stream",
     "text": [
      "Test Loss: 0.6830, Accuracy: 61.24%\n",
      "Epoch [6/60], Train Loss: 1.0697, Val Loss: 0.6830\n"
     ]
    },
    {
     "name": "stderr",
     "output_type": "stream",
     "text": [
      "Epoch 7/60: 100%|██████████| 5000/5000 [00:52<00:00, 94.86it/s, loss=0.709] \n",
      "Testing: 100%|██████████| 625/625 [00:06<00:00, 99.77it/s, loss=0.501] "
     ]
    },
    {
     "name": "stdout",
     "output_type": "stream",
     "text": [
      "Test Loss: 0.6623, Accuracy: 59.70%\n",
      "Epoch [7/60], Train Loss: 0.8860, Val Loss: 0.6623\n"
     ]
    },
    {
     "name": "stderr",
     "output_type": "stream",
     "text": [
      "\n",
      "Epoch 8/60: 100%|██████████| 5000/5000 [00:55<00:00, 90.72it/s, loss=0.59]  \n",
      "Testing: 100%|██████████| 625/625 [00:05<00:00, 114.09it/s, loss=0.644]"
     ]
    },
    {
     "name": "stdout",
     "output_type": "stream",
     "text": [
      "Test Loss: 0.6710, Accuracy: 62.41%\n",
      "Epoch [8/60], Train Loss: 0.7313, Val Loss: 0.6710\n"
     ]
    },
    {
     "name": "stderr",
     "output_type": "stream",
     "text": [
      "\n",
      "Epoch 9/60: 100%|██████████| 5000/5000 [00:54<00:00, 92.35it/s, loss=0.653] \n",
      "Testing: 100%|██████████| 625/625 [00:05<00:00, 112.66it/s, loss=0.619]\n"
     ]
    },
    {
     "name": "stdout",
     "output_type": "stream",
     "text": [
      "Test Loss: 0.6580, Accuracy: 64.88%\n",
      "Epoch [9/60], Train Loss: 0.6496, Val Loss: 0.6580\n"
     ]
    },
    {
     "name": "stderr",
     "output_type": "stream",
     "text": [
      "Epoch 10/60: 100%|██████████| 5000/5000 [00:54<00:00, 92.35it/s, loss=0.677] \n",
      "Testing: 100%|██████████| 625/625 [00:05<00:00, 117.44it/s, loss=0.691]\n"
     ]
    },
    {
     "name": "stdout",
     "output_type": "stream",
     "text": [
      "Test Loss: 0.6421, Accuracy: 65.35%\n",
      "Epoch [10/60], Train Loss: 0.7027, Val Loss: 0.6421\n",
      "Model saved at epoch 10 with val loss 0.6421\n"
     ]
    },
    {
     "name": "stderr",
     "output_type": "stream",
     "text": [
      "Epoch 11/60: 100%|██████████| 5000/5000 [00:54<00:00, 91.93it/s, loss=0.557] \n",
      "Testing: 100%|██████████| 625/625 [00:05<00:00, 116.74it/s, loss=0.701]\n"
     ]
    },
    {
     "name": "stdout",
     "output_type": "stream",
     "text": [
      "Test Loss: 0.6451, Accuracy: 63.45%\n",
      "Epoch [11/60], Train Loss: 0.6820, Val Loss: 0.6451\n"
     ]
    },
    {
     "name": "stderr",
     "output_type": "stream",
     "text": [
      "Epoch 12/60: 100%|██████████| 5000/5000 [00:52<00:00, 94.54it/s, loss=0.778] \n",
      "Testing: 100%|██████████| 625/625 [00:05<00:00, 113.01it/s, loss=0.602]\n"
     ]
    },
    {
     "name": "stdout",
     "output_type": "stream",
     "text": [
      "Test Loss: 0.6393, Accuracy: 67.06%\n",
      "Epoch [12/60], Train Loss: 0.6477, Val Loss: 0.6393\n",
      "Model saved at epoch 12 with val loss 0.6393\n"
     ]
    },
    {
     "name": "stderr",
     "output_type": "stream",
     "text": [
      "Epoch 13/60: 100%|██████████| 5000/5000 [00:54<00:00, 92.16it/s, loss=0.586] \n",
      "Testing: 100%|██████████| 625/625 [00:05<00:00, 116.88it/s, loss=0.606]"
     ]
    },
    {
     "name": "stdout",
     "output_type": "stream",
     "text": [
      "Test Loss: 0.6396, Accuracy: 66.71%\n",
      "Epoch [13/60], Train Loss: 0.6699, Val Loss: 0.6396\n"
     ]
    },
    {
     "name": "stderr",
     "output_type": "stream",
     "text": [
      "\n",
      "Epoch 14/60: 100%|██████████| 5000/5000 [00:54<00:00, 92.07it/s, loss=0.813] \n",
      "Testing: 100%|██████████| 625/625 [00:05<00:00, 114.45it/s, loss=0.567]\n"
     ]
    },
    {
     "name": "stdout",
     "output_type": "stream",
     "text": [
      "Test Loss: 0.6405, Accuracy: 65.53%\n",
      "Epoch [14/60], Train Loss: 0.6554, Val Loss: 0.6405\n"
     ]
    },
    {
     "name": "stderr",
     "output_type": "stream",
     "text": [
      "Epoch 15/60: 100%|██████████| 5000/5000 [00:54<00:00, 92.22it/s, loss=0.722] \n",
      "Testing: 100%|██████████| 625/625 [00:05<00:00, 112.10it/s, loss=0.587]"
     ]
    },
    {
     "name": "stdout",
     "output_type": "stream",
     "text": [
      "Test Loss: 0.6422, Accuracy: 65.94%\n",
      "Epoch [15/60], Train Loss: 0.6503, Val Loss: 0.6422\n"
     ]
    },
    {
     "name": "stderr",
     "output_type": "stream",
     "text": [
      "\n",
      "Epoch 16/60: 100%|██████████| 5000/5000 [00:53<00:00, 93.17it/s, loss=0.606] \n",
      "Testing: 100%|██████████| 625/625 [00:05<00:00, 113.41it/s, loss=0.608]\n"
     ]
    },
    {
     "name": "stdout",
     "output_type": "stream",
     "text": [
      "Test Loss: 0.6432, Accuracy: 64.13%\n",
      "Epoch [16/60], Train Loss: 0.6582, Val Loss: 0.6432\n"
     ]
    },
    {
     "name": "stderr",
     "output_type": "stream",
     "text": [
      "Epoch 17/60: 100%|██████████| 5000/5000 [00:54<00:00, 92.05it/s, loss=0.565] \n",
      "Testing: 100%|██████████| 625/625 [00:05<00:00, 108.51it/s, loss=0.581]"
     ]
    },
    {
     "name": "stdout",
     "output_type": "stream",
     "text": [
      "Test Loss: 0.6458, Accuracy: 65.50%\n",
      "Epoch [17/60], Train Loss: 0.6469, Val Loss: 0.6458\n"
     ]
    },
    {
     "name": "stderr",
     "output_type": "stream",
     "text": [
      "\n",
      "Epoch 18/60: 100%|██████████| 5000/5000 [01:01<00:00, 80.67it/s, loss=0.6]   \n",
      "Testing: 100%|██████████| 625/625 [00:08<00:00, 76.13it/s, loss=0.527] "
     ]
    },
    {
     "name": "stdout",
     "output_type": "stream",
     "text": [
      "Test Loss: 0.6497, Accuracy: 63.71%\n",
      "Epoch [18/60], Train Loss: 0.6653, Val Loss: 0.6497\n"
     ]
    },
    {
     "name": "stderr",
     "output_type": "stream",
     "text": [
      "\n",
      "Epoch 19/60: 100%|██████████| 5000/5000 [01:07<00:00, 74.45it/s, loss=0.744] \n",
      "Testing: 100%|██████████| 625/625 [00:07<00:00, 88.48it/s, loss=0.671] "
     ]
    },
    {
     "name": "stdout",
     "output_type": "stream",
     "text": [
      "Test Loss: 0.6622, Accuracy: 61.04%\n",
      "Epoch [19/60], Train Loss: 0.6562, Val Loss: 0.6622\n"
     ]
    },
    {
     "name": "stderr",
     "output_type": "stream",
     "text": [
      "\n",
      "Epoch 20/60: 100%|██████████| 5000/5000 [00:58<00:00, 85.52it/s, loss=0.61]  \n",
      "Testing: 100%|██████████| 625/625 [00:11<00:00, 53.11it/s, loss=0.58] \n"
     ]
    },
    {
     "name": "stdout",
     "output_type": "stream",
     "text": [
      "Test Loss: 0.6519, Accuracy: 62.68%\n",
      "Epoch [20/60], Train Loss: 0.6564, Val Loss: 0.6519\n"
     ]
    },
    {
     "name": "stderr",
     "output_type": "stream",
     "text": [
      "Epoch 21/60: 100%|██████████| 5000/5000 [01:19<00:00, 62.62it/s, loss=0.664]\n",
      "Testing: 100%|██████████| 625/625 [00:11<00:00, 55.12it/s, loss=0.581]\n"
     ]
    },
    {
     "name": "stdout",
     "output_type": "stream",
     "text": [
      "Test Loss: 0.6437, Accuracy: 65.63%\n",
      "Epoch [21/60], Train Loss: 0.6508, Val Loss: 0.6437\n"
     ]
    },
    {
     "name": "stderr",
     "output_type": "stream",
     "text": [
      "Epoch 22/60: 100%|██████████| 5000/5000 [01:20<00:00, 62.15it/s, loss=0.627]\n",
      "Testing: 100%|██████████| 625/625 [00:10<00:00, 61.02it/s, loss=0.604]\n"
     ]
    },
    {
     "name": "stdout",
     "output_type": "stream",
     "text": [
      "Test Loss: 0.6399, Accuracy: 65.73%\n",
      "Epoch [22/60], Train Loss: 0.6470, Val Loss: 0.6399\n"
     ]
    },
    {
     "name": "stderr",
     "output_type": "stream",
     "text": [
      "Epoch 23/60: 100%|██████████| 5000/5000 [01:18<00:00, 63.48it/s, loss=0.688]\n",
      "Testing: 100%|██████████| 625/625 [00:10<00:00, 59.06it/s, loss=0.574]\n"
     ]
    },
    {
     "name": "stdout",
     "output_type": "stream",
     "text": [
      "Test Loss: 0.6443, Accuracy: 65.08%\n",
      "Epoch [23/60], Train Loss: 0.6521, Val Loss: 0.6443\n"
     ]
    },
    {
     "name": "stderr",
     "output_type": "stream",
     "text": [
      "Epoch 24/60: 100%|██████████| 5000/5000 [01:18<00:00, 63.61it/s, loss=0.673]\n",
      "Testing: 100%|██████████| 625/625 [00:10<00:00, 58.29it/s, loss=0.615]"
     ]
    },
    {
     "name": "stdout",
     "output_type": "stream",
     "text": [
      "Test Loss: 0.6505, Accuracy: 63.23%\n",
      "Epoch [24/60], Train Loss: 0.6587, Val Loss: 0.6505\n"
     ]
    },
    {
     "name": "stderr",
     "output_type": "stream",
     "text": [
      "\n",
      "Epoch 25/60: 100%|██████████| 5000/5000 [01:19<00:00, 62.66it/s, loss=0.615]\n",
      "Testing: 100%|██████████| 625/625 [00:10<00:00, 57.97it/s, loss=0.645]\n"
     ]
    },
    {
     "name": "stdout",
     "output_type": "stream",
     "text": [
      "Test Loss: 0.6423, Accuracy: 65.97%\n",
      "Epoch [25/60], Train Loss: 0.6576, Val Loss: 0.6423\n"
     ]
    },
    {
     "name": "stderr",
     "output_type": "stream",
     "text": [
      "Epoch 26/60: 100%|██████████| 5000/5000 [01:21<00:00, 61.02it/s, loss=0.593]\n",
      "Testing: 100%|██████████| 625/625 [00:10<00:00, 60.34it/s, loss=0.62] "
     ]
    },
    {
     "name": "stdout",
     "output_type": "stream",
     "text": [
      "Test Loss: 0.6458, Accuracy: 65.31%\n",
      "Epoch [26/60], Train Loss: 0.6580, Val Loss: 0.6458\n"
     ]
    },
    {
     "name": "stderr",
     "output_type": "stream",
     "text": [
      "\n",
      "Epoch 27/60: 100%|██████████| 5000/5000 [01:21<00:00, 61.18it/s, loss=0.718]\n",
      "Testing: 100%|██████████| 625/625 [00:12<00:00, 51.59it/s, loss=0.572]"
     ]
    },
    {
     "name": "stdout",
     "output_type": "stream",
     "text": [
      "Test Loss: 0.6440, Accuracy: 65.59%\n",
      "Epoch [27/60], Train Loss: 0.6454, Val Loss: 0.6440\n"
     ]
    },
    {
     "name": "stderr",
     "output_type": "stream",
     "text": [
      "\n",
      "Epoch 28/60: 100%|██████████| 5000/5000 [01:20<00:00, 61.78it/s, loss=0.578]\n",
      "Testing: 100%|██████████| 625/625 [00:12<00:00, 50.02it/s, loss=0.664]"
     ]
    },
    {
     "name": "stdout",
     "output_type": "stream",
     "text": [
      "Test Loss: 0.6432, Accuracy: 65.42%\n",
      "Epoch [28/60], Train Loss: 0.6900, Val Loss: 0.6432\n"
     ]
    },
    {
     "name": "stderr",
     "output_type": "stream",
     "text": [
      "\n",
      "Epoch 29/60: 100%|██████████| 5000/5000 [01:22<00:00, 60.64it/s, loss=0.786]\n",
      "Testing: 100%|██████████| 625/625 [00:13<00:00, 47.62it/s, loss=0.687]"
     ]
    },
    {
     "name": "stdout",
     "output_type": "stream",
     "text": [
      "Test Loss: 0.6498, Accuracy: 65.84%\n",
      "Epoch [29/60], Train Loss: 0.6497, Val Loss: 0.6498\n"
     ]
    },
    {
     "name": "stderr",
     "output_type": "stream",
     "text": [
      "\n",
      "Epoch 30/60: 100%|██████████| 5000/5000 [01:21<00:00, 61.66it/s, loss=0.589]\n",
      "Testing: 100%|██████████| 625/625 [00:10<00:00, 58.52it/s, loss=0.64] \n"
     ]
    },
    {
     "name": "stdout",
     "output_type": "stream",
     "text": [
      "Test Loss: 0.6493, Accuracy: 63.59%\n",
      "Epoch [30/60], Train Loss: 0.6690, Val Loss: 0.6493\n"
     ]
    },
    {
     "name": "stderr",
     "output_type": "stream",
     "text": [
      "Epoch 31/60: 100%|██████████| 5000/5000 [01:20<00:00, 62.46it/s, loss=0.611]\n",
      "Testing: 100%|██████████| 625/625 [00:10<00:00, 59.06it/s, loss=0.644]\n"
     ]
    },
    {
     "name": "stdout",
     "output_type": "stream",
     "text": [
      "Test Loss: 0.6385, Accuracy: 66.20%\n",
      "Epoch [31/60], Train Loss: 0.6469, Val Loss: 0.6385\n",
      "Model saved at epoch 31 with val loss 0.6385\n"
     ]
    },
    {
     "name": "stderr",
     "output_type": "stream",
     "text": [
      "Epoch 32/60: 100%|██████████| 5000/5000 [01:19<00:00, 63.11it/s, loss=0.632]\n",
      "Testing: 100%|██████████| 625/625 [00:12<00:00, 51.25it/s, loss=0.801]"
     ]
    },
    {
     "name": "stdout",
     "output_type": "stream",
     "text": [
      "Test Loss: 0.6461, Accuracy: 66.33%\n",
      "Epoch [32/60], Train Loss: 0.6517, Val Loss: 0.6461\n"
     ]
    },
    {
     "name": "stderr",
     "output_type": "stream",
     "text": [
      "\n",
      "Epoch 33/60: 100%|██████████| 5000/5000 [01:22<00:00, 60.77it/s, loss=0.622]\n",
      "Testing: 100%|██████████| 625/625 [00:12<00:00, 50.50it/s, loss=0.739]"
     ]
    },
    {
     "name": "stdout",
     "output_type": "stream",
     "text": [
      "Test Loss: 0.6432, Accuracy: 65.90%\n",
      "Epoch [33/60], Train Loss: 0.6475, Val Loss: 0.6432\n"
     ]
    },
    {
     "name": "stderr",
     "output_type": "stream",
     "text": [
      "\n",
      "Epoch 34/60: 100%|██████████| 5000/5000 [01:20<00:00, 62.27it/s, loss=0.631]\n",
      "Testing: 100%|██████████| 625/625 [00:10<00:00, 59.94it/s, loss=0.606]"
     ]
    },
    {
     "name": "stdout",
     "output_type": "stream",
     "text": [
      "Test Loss: 0.6448, Accuracy: 65.48%\n",
      "Epoch [34/60], Train Loss: 0.6526, Val Loss: 0.6448\n"
     ]
    },
    {
     "name": "stderr",
     "output_type": "stream",
     "text": [
      "\n",
      "Epoch 35/60: 100%|██████████| 5000/5000 [01:20<00:00, 62.28it/s, loss=0.609]\n",
      "Testing: 100%|██████████| 625/625 [00:10<00:00, 58.59it/s, loss=0.664]"
     ]
    },
    {
     "name": "stdout",
     "output_type": "stream",
     "text": [
      "Test Loss: 0.6459, Accuracy: 64.15%\n",
      "Epoch [35/60], Train Loss: 0.6428, Val Loss: 0.6459\n"
     ]
    },
    {
     "name": "stderr",
     "output_type": "stream",
     "text": [
      "\n",
      "Epoch 36/60: 100%|██████████| 5000/5000 [01:20<00:00, 61.91it/s, loss=0.656]\n",
      "Testing: 100%|██████████| 625/625 [00:12<00:00, 50.61it/s, loss=0.678]"
     ]
    },
    {
     "name": "stdout",
     "output_type": "stream",
     "text": [
      "Test Loss: 0.6478, Accuracy: 65.33%\n",
      "Epoch [36/60], Train Loss: 0.6585, Val Loss: 0.6478\n"
     ]
    },
    {
     "name": "stderr",
     "output_type": "stream",
     "text": [
      "\n",
      "Epoch 37/60: 100%|██████████| 5000/5000 [01:21<00:00, 61.40it/s, loss=0.713]\n",
      "Testing: 100%|██████████| 625/625 [00:12<00:00, 49.89it/s, loss=0.614]"
     ]
    },
    {
     "name": "stdout",
     "output_type": "stream",
     "text": [
      "Test Loss: 0.6442, Accuracy: 65.10%\n",
      "Epoch [37/60], Train Loss: 0.6456, Val Loss: 0.6442\n"
     ]
    },
    {
     "name": "stderr",
     "output_type": "stream",
     "text": [
      "\n",
      "Epoch 38/60: 100%|██████████| 5000/5000 [01:21<00:00, 61.05it/s, loss=0.591]\n",
      "Testing: 100%|██████████| 625/625 [00:12<00:00, 51.19it/s, loss=0.666]"
     ]
    },
    {
     "name": "stdout",
     "output_type": "stream",
     "text": [
      "Test Loss: 0.6451, Accuracy: 65.56%\n",
      "Epoch [38/60], Train Loss: 0.6688, Val Loss: 0.6451\n"
     ]
    },
    {
     "name": "stderr",
     "output_type": "stream",
     "text": [
      "\n",
      "Epoch 39/60: 100%|██████████| 5000/5000 [01:22<00:00, 60.65it/s, loss=0.605]\n",
      "Testing: 100%|██████████| 625/625 [00:12<00:00, 50.15it/s, loss=0.643]"
     ]
    },
    {
     "name": "stdout",
     "output_type": "stream",
     "text": [
      "Test Loss: 0.6416, Accuracy: 64.84%\n",
      "Epoch [39/60], Train Loss: 0.6445, Val Loss: 0.6416\n"
     ]
    },
    {
     "name": "stderr",
     "output_type": "stream",
     "text": [
      "\n",
      "Epoch 40/60: 100%|██████████| 5000/5000 [01:22<00:00, 60.56it/s, loss=0.689]\n",
      "Testing: 100%|██████████| 625/625 [00:12<00:00, 50.17it/s, loss=0.543]\n"
     ]
    },
    {
     "name": "stdout",
     "output_type": "stream",
     "text": [
      "Test Loss: 0.6393, Accuracy: 66.13%\n",
      "Epoch [40/60], Train Loss: 0.6466, Val Loss: 0.6393\n"
     ]
    },
    {
     "name": "stderr",
     "output_type": "stream",
     "text": [
      "Epoch 41/60: 100%|██████████| 5000/5000 [01:22<00:00, 60.87it/s, loss=0.603]\n",
      "Testing: 100%|██████████| 625/625 [00:12<00:00, 50.94it/s, loss=0.681]"
     ]
    },
    {
     "name": "stdout",
     "output_type": "stream",
     "text": [
      "Test Loss: 0.6435, Accuracy: 65.23%\n",
      "Epoch [41/60], Train Loss: 0.6451, Val Loss: 0.6435\n"
     ]
    },
    {
     "name": "stderr",
     "output_type": "stream",
     "text": [
      "\n",
      "Epoch 42/60: 100%|██████████| 5000/5000 [01:22<00:00, 60.34it/s, loss=0.667]\n",
      "Testing: 100%|██████████| 625/625 [00:11<00:00, 56.74it/s, loss=0.556]"
     ]
    },
    {
     "name": "stdout",
     "output_type": "stream",
     "text": [
      "Test Loss: 0.6479, Accuracy: 64.44%\n",
      "Epoch [42/60], Train Loss: 0.6454, Val Loss: 0.6479\n"
     ]
    },
    {
     "name": "stderr",
     "output_type": "stream",
     "text": [
      "\n",
      "Epoch 43/60: 100%|██████████| 5000/5000 [01:22<00:00, 60.96it/s, loss=0.708]\n",
      "Testing: 100%|██████████| 625/625 [00:10<00:00, 57.06it/s, loss=0.598]\n"
     ]
    },
    {
     "name": "stdout",
     "output_type": "stream",
     "text": [
      "Test Loss: 0.6452, Accuracy: 64.89%\n",
      "Epoch [43/60], Train Loss: 0.6537, Val Loss: 0.6452\n"
     ]
    },
    {
     "name": "stderr",
     "output_type": "stream",
     "text": [
      "Epoch 44/60: 100%|██████████| 5000/5000 [01:22<00:00, 60.78it/s, loss=0.69] \n",
      "Testing: 100%|██████████| 625/625 [00:12<00:00, 50.63it/s, loss=0.698]"
     ]
    },
    {
     "name": "stdout",
     "output_type": "stream",
     "text": [
      "Test Loss: 0.6481, Accuracy: 65.35%\n",
      "Epoch [44/60], Train Loss: 0.6460, Val Loss: 0.6481\n"
     ]
    },
    {
     "name": "stderr",
     "output_type": "stream",
     "text": [
      "\n",
      "Epoch 45/60: 100%|██████████| 5000/5000 [01:21<00:00, 61.55it/s, loss=0.671]\n",
      "Testing: 100%|██████████| 625/625 [00:12<00:00, 50.47it/s, loss=0.659]"
     ]
    },
    {
     "name": "stdout",
     "output_type": "stream",
     "text": [
      "Test Loss: 0.6469, Accuracy: 63.68%\n",
      "Epoch [45/60], Train Loss: 0.6540, Val Loss: 0.6469\n"
     ]
    },
    {
     "name": "stderr",
     "output_type": "stream",
     "text": [
      "\n",
      "Epoch 46/60: 100%|██████████| 5000/5000 [01:21<00:00, 61.53it/s, loss=0.791]\n",
      "Testing: 100%|██████████| 625/625 [00:10<00:00, 60.20it/s, loss=0.611]"
     ]
    },
    {
     "name": "stdout",
     "output_type": "stream",
     "text": [
      "Test Loss: 0.6445, Accuracy: 64.74%\n",
      "Epoch [46/60], Train Loss: 0.6451, Val Loss: 0.6445\n"
     ]
    },
    {
     "name": "stderr",
     "output_type": "stream",
     "text": [
      "\n",
      "Epoch 47/60: 100%|██████████| 5000/5000 [01:20<00:00, 62.48it/s, loss=0.608]\n",
      "Testing: 100%|██████████| 625/625 [00:10<00:00, 60.64it/s, loss=0.643]\n"
     ]
    },
    {
     "name": "stdout",
     "output_type": "stream",
     "text": [
      "Test Loss: 0.6408, Accuracy: 66.84%\n",
      "Epoch [47/60], Train Loss: 0.6481, Val Loss: 0.6408\n"
     ]
    },
    {
     "name": "stderr",
     "output_type": "stream",
     "text": [
      "Epoch 48/60: 100%|██████████| 5000/5000 [01:19<00:00, 62.85it/s, loss=0.583]\n",
      "Testing: 100%|██████████| 625/625 [00:10<00:00, 59.74it/s, loss=0.609]\n"
     ]
    },
    {
     "name": "stdout",
     "output_type": "stream",
     "text": [
      "Test Loss: 0.6439, Accuracy: 66.41%\n",
      "Epoch [48/60], Train Loss: 0.6444, Val Loss: 0.6439\n"
     ]
    },
    {
     "name": "stderr",
     "output_type": "stream",
     "text": [
      "Epoch 49/60: 100%|██████████| 5000/5000 [01:19<00:00, 62.81it/s, loss=0.729]\n",
      "Testing: 100%|██████████| 625/625 [00:10<00:00, 60.90it/s, loss=0.717]"
     ]
    },
    {
     "name": "stdout",
     "output_type": "stream",
     "text": [
      "Test Loss: 0.6471, Accuracy: 64.31%\n",
      "Epoch [49/60], Train Loss: 0.6609, Val Loss: 0.6471\n"
     ]
    },
    {
     "name": "stderr",
     "output_type": "stream",
     "text": [
      "\n",
      "Epoch 50/60: 100%|██████████| 5000/5000 [01:18<00:00, 63.31it/s, loss=0.665]\n",
      "Testing: 100%|██████████| 625/625 [00:10<00:00, 57.39it/s, loss=0.651]"
     ]
    },
    {
     "name": "stdout",
     "output_type": "stream",
     "text": [
      "Test Loss: 0.6443, Accuracy: 66.08%\n",
      "Epoch [50/60], Train Loss: 0.6437, Val Loss: 0.6443\n"
     ]
    },
    {
     "name": "stderr",
     "output_type": "stream",
     "text": [
      "\n",
      "Epoch 51/60: 100%|██████████| 5000/5000 [01:18<00:00, 63.38it/s, loss=0.661]\n",
      "Testing: 100%|██████████| 625/625 [00:12<00:00, 51.02it/s, loss=0.707]"
     ]
    },
    {
     "name": "stdout",
     "output_type": "stream",
     "text": [
      "Test Loss: 0.6477, Accuracy: 63.77%\n",
      "Epoch [51/60], Train Loss: 0.6531, Val Loss: 0.6477\n"
     ]
    },
    {
     "name": "stderr",
     "output_type": "stream",
     "text": [
      "\n",
      "Epoch 52/60: 100%|██████████| 5000/5000 [01:23<00:00, 59.86it/s, loss=0.548]\n",
      "Testing: 100%|██████████| 625/625 [00:14<00:00, 43.00it/s, loss=0.689]"
     ]
    },
    {
     "name": "stdout",
     "output_type": "stream",
     "text": [
      "Test Loss: 0.6454, Accuracy: 65.77%\n",
      "Epoch [52/60], Train Loss: 0.6449, Val Loss: 0.6454\n"
     ]
    },
    {
     "name": "stderr",
     "output_type": "stream",
     "text": [
      "\n",
      "Epoch 53/60: 100%|██████████| 5000/5000 [01:22<00:00, 60.79it/s, loss=0.659]\n",
      "Testing: 100%|██████████| 625/625 [00:12<00:00, 51.86it/s, loss=0.724]\n"
     ]
    },
    {
     "name": "stdout",
     "output_type": "stream",
     "text": [
      "Test Loss: 0.6486, Accuracy: 65.24%\n",
      "Epoch [53/60], Train Loss: 0.6470, Val Loss: 0.6486\n"
     ]
    },
    {
     "name": "stderr",
     "output_type": "stream",
     "text": [
      "Epoch 54/60: 100%|██████████| 5000/5000 [01:20<00:00, 62.37it/s, loss=0.676]\n",
      "Testing: 100%|██████████| 625/625 [00:12<00:00, 50.69it/s, loss=0.648]"
     ]
    },
    {
     "name": "stdout",
     "output_type": "stream",
     "text": [
      "Test Loss: 0.6430, Accuracy: 66.16%\n",
      "Epoch [54/60], Train Loss: 0.6608, Val Loss: 0.6430\n"
     ]
    },
    {
     "name": "stderr",
     "output_type": "stream",
     "text": [
      "\n",
      "Epoch 55/60: 100%|██████████| 5000/5000 [01:19<00:00, 62.98it/s, loss=0.641]\n",
      "Testing: 100%|██████████| 625/625 [00:12<00:00, 48.90it/s, loss=0.609]"
     ]
    },
    {
     "name": "stdout",
     "output_type": "stream",
     "text": [
      "Test Loss: 0.6424, Accuracy: 66.17%\n",
      "Epoch [55/60], Train Loss: 0.6448, Val Loss: 0.6424\n"
     ]
    },
    {
     "name": "stderr",
     "output_type": "stream",
     "text": [
      "\n",
      "Epoch 56/60: 100%|██████████| 5000/5000 [01:22<00:00, 60.67it/s, loss=0.691]\n",
      "Testing: 100%|██████████| 625/625 [00:12<00:00, 49.94it/s, loss=0.617]"
     ]
    },
    {
     "name": "stdout",
     "output_type": "stream",
     "text": [
      "Test Loss: 0.6422, Accuracy: 64.81%\n",
      "Epoch [56/60], Train Loss: 0.6453, Val Loss: 0.6422\n"
     ]
    },
    {
     "name": "stderr",
     "output_type": "stream",
     "text": [
      "\n",
      "Epoch 57/60: 100%|██████████| 5000/5000 [01:22<00:00, 60.67it/s, loss=0.704]\n",
      "Testing: 100%|██████████| 625/625 [00:10<00:00, 57.96it/s, loss=0.67] "
     ]
    },
    {
     "name": "stdout",
     "output_type": "stream",
     "text": [
      "Test Loss: 0.6460, Accuracy: 66.14%\n",
      "Epoch [57/60], Train Loss: 0.6469, Val Loss: 0.6460\n"
     ]
    },
    {
     "name": "stderr",
     "output_type": "stream",
     "text": [
      "\n",
      "Epoch 58/60: 100%|██████████| 5000/5000 [01:21<00:00, 61.10it/s, loss=0.59] \n",
      "Testing: 100%|██████████| 625/625 [00:10<00:00, 59.35it/s, loss=0.599]\n"
     ]
    },
    {
     "name": "stdout",
     "output_type": "stream",
     "text": [
      "Test Loss: 0.6462, Accuracy: 65.95%\n",
      "Epoch [58/60], Train Loss: 0.6461, Val Loss: 0.6462\n"
     ]
    },
    {
     "name": "stderr",
     "output_type": "stream",
     "text": [
      "Epoch 59/60: 100%|██████████| 5000/5000 [01:22<00:00, 60.94it/s, loss=0.625]\n",
      "Testing: 100%|██████████| 625/625 [00:10<00:00, 60.37it/s, loss=0.638]"
     ]
    },
    {
     "name": "stdout",
     "output_type": "stream",
     "text": [
      "Test Loss: 0.6414, Accuracy: 66.38%\n",
      "Epoch [59/60], Train Loss: 0.6498, Val Loss: 0.6414\n"
     ]
    },
    {
     "name": "stderr",
     "output_type": "stream",
     "text": [
      "\n",
      "Epoch 60/60: 100%|██████████| 5000/5000 [01:21<00:00, 61.54it/s, loss=0.69] \n",
      "Testing: 100%|██████████| 625/625 [00:11<00:00, 52.71it/s, loss=0.656]\n"
     ]
    },
    {
     "name": "stdout",
     "output_type": "stream",
     "text": [
      "Test Loss: 0.6430, Accuracy: 64.78%\n",
      "Epoch [60/60], Train Loss: 0.6456, Val Loss: 0.6430\n",
      "Training log saved to ./Logs/log_summary_Z_25GeV_1.csv\n",
      "Training complete!\n"
     ]
    }
   ],
   "source": [
    "\n",
    "if __name__ == \"__main__\":\n",
    "    #Train the model\n",
    "    train_model(model, train_loader,val_loader=val_loader, num_epochs=60, learning_rate=5e-4, device=device)"
   ]
  },
  {
   "cell_type": "code",
   "execution_count": 8,
   "metadata": {},
   "outputs": [
    {
     "name": "stdout",
     "output_type": "stream",
     "text": [
      "./Models/Z_25GeV_1.pth\n"
     ]
    },
    {
     "data": {
      "text/plain": [
       "DeepSet(\n",
       "  (sequential): ModuleList(\n",
       "    (0): DeepSetLayer(\n",
       "      (Gamma): Linear(in_features=4, out_features=80, bias=True)\n",
       "      (Lambda): Linear(in_features=4, out_features=80, bias=True)\n",
       "      (bn): BatchNorm1d(80, eps=1e-05, momentum=0.1, affine=False, track_running_stats=True)\n",
       "    )\n",
       "    (1): LeakyReLU(negative_slope=0.01)\n",
       "    (2): DeepSetLayer(\n",
       "      (Gamma): Linear(in_features=80, out_features=120, bias=True)\n",
       "      (Lambda): Linear(in_features=80, out_features=120, bias=True)\n",
       "      (bn): BatchNorm1d(120, eps=1e-05, momentum=0.1, affine=False, track_running_stats=True)\n",
       "    )\n",
       "    (3): LeakyReLU(negative_slope=0.01)\n",
       "    (4): DeepSetLayer(\n",
       "      (Gamma): Linear(in_features=120, out_features=70, bias=True)\n",
       "      (Lambda): Linear(in_features=120, out_features=70, bias=True)\n",
       "      (bn): BatchNorm1d(70, eps=1e-05, momentum=0.1, affine=False, track_running_stats=True)\n",
       "    )\n",
       "    (5): LeakyReLU(negative_slope=0.01)\n",
       "    (6): DeepSetLayer(\n",
       "      (Gamma): Linear(in_features=70, out_features=50, bias=True)\n",
       "      (Lambda): Linear(in_features=70, out_features=50, bias=True)\n",
       "      (bn): BatchNorm1d(50, eps=1e-05, momentum=0.1, affine=False, track_running_stats=True)\n",
       "    )\n",
       "    (7): LeakyReLU(negative_slope=0.01)\n",
       "    (8): DeepSetLayer(\n",
       "      (Gamma): Linear(in_features=50, out_features=8, bias=True)\n",
       "      (Lambda): Linear(in_features=50, out_features=8, bias=True)\n",
       "      (bn): BatchNorm1d(8, eps=1e-05, momentum=0.1, affine=False, track_running_stats=True)\n",
       "    )\n",
       "    (9): DeepSetLayer(\n",
       "      (Gamma): Linear(in_features=8, out_features=2, bias=True)\n",
       "      (Lambda): Linear(in_features=8, out_features=2, bias=True)\n",
       "      (bn): BatchNorm1d(2, eps=1e-05, momentum=0.1, affine=False, track_running_stats=True)\n",
       "    )\n",
       "  )\n",
       ")"
      ]
     },
     "execution_count": 8,
     "metadata": {},
     "output_type": "execute_result"
    }
   ],
   "source": [
    "model_test = MODEL\n",
    "model_name=f\"./Models/Z_{name}.pth\"\n",
    "print(model_name)\n",
    "model_test.load_state_dict(torch.load(f\"./Models/Z_{name}.pth\",weights_only=True))\n",
    "model_test.to(device)"
   ]
  },
  {
   "cell_type": "code",
   "execution_count": 9,
   "metadata": {},
   "outputs": [
    {
     "name": "stdout",
     "output_type": "stream",
     "text": [
      "45132\n"
     ]
    }
   ],
   "source": [
    "total_params = sum(p.numel() for p in MODEL.parameters())\n",
    "print(total_params)"
   ]
  },
  {
   "cell_type": "code",
   "execution_count": 10,
   "metadata": {},
   "outputs": [],
   "source": [
    "from sklearn.metrics import confusion_matrix, roc_curve, auc\n",
    "import seaborn as sns\n",
    "import matplotlib.pyplot as plt\n",
    "from matplotlib.colors import LinearSegmentedColormap\n",
    "from scipy.stats import beta\n",
    "\n",
    "def evaluate_model(model, data_loader, criterion, device, name1=\"model\", return_accuracy=False):\n",
    "    model.eval()\n",
    "    total_loss = 0.0\n",
    "    correct = 0\n",
    "    total = 0\n",
    "    data_loader_tqdm = tqdm(enumerate(data_loader), desc=\"Testing\", total=len(data_loader))\n",
    "    \n",
    "    true_labels = []\n",
    "    pred_labels = []\n",
    "    all_scores = []\n",
    "\n",
    "    with torch.no_grad():\n",
    "        for i, batch in data_loader_tqdm:\n",
    "            parts = batch[\"part\"].to(device)\n",
    "            batch_size, seq_len, feat_dim = parts.shape\n",
    "            # parts_np = parts.cpu().numpy().reshape(-1, feat_dim)\n",
    "\n",
    "            # qt = QuantileTransformer(output_distribution='normal', random_state=42)\n",
    "            # parts_np = qt.fit_transform(parts_np)\n",
    "            # parts = torch.tensor(parts_np).reshape(batch_size, seq_len, feat_dim).to(device)\n",
    "\n",
    "            labels = batch[\"label\"].to(device)\n",
    "            outputs = model(parts)\n",
    "            preds = F.softmax(outputs, dim=1)\n",
    "\n",
    "            # Collect soft scores for the positive class (class 1)\n",
    "            all_scores.extend(preds[:, 1].detach().cpu().numpy())\n",
    "            pred_labels.extend(torch.argmax(preds, dim=-1).cpu().numpy())\n",
    "            true_labels.extend(labels.cpu().numpy())\n",
    "\n",
    "            loss = criterion(outputs, labels)\n",
    "            total_loss += loss.item()\n",
    "\n",
    "            if return_accuracy:\n",
    "                _, predicted = torch.max(outputs, 1)\n",
    "                correct += (predicted == labels).sum().item()\n",
    "                total += labels.size(0)\n",
    "\n",
    "    avg_loss = total_loss / len(data_loader)\n",
    "    accuracy = 100 * correct / total if return_accuracy else None\n",
    "\n",
    "    # Confusion Matrix\n",
    "    cm = confusion_matrix(true_labels, pred_labels)\n",
    "    plt.figure(figsize=(10, 8))\n",
    "    colors = [\"#cce5ff\", \"#004c99\"]\n",
    "    cmap = LinearSegmentedColormap.from_list(\"Custom Blue\", colors)\n",
    "    sns.heatmap(cm, annot=True, fmt='d', cmap=cmap,\n",
    "                xticklabels=[\"Proton\", \"Pion\"], yticklabels=[\"Proton\", \"Pion\"],\n",
    "                annot_kws={\"size\": 18, \"weight\": \"bold\"})\n",
    "    \n",
    "    TP, FN = cm[0, 0], cm[0, 1]\n",
    "    FP, TN = cm[1, 0], cm[1, 1]\n",
    "    n_total = TP + TN + FP + FN\n",
    "    n_correct = TP + TN\n",
    "    alpha = 0.32\n",
    "\n",
    "    lower_bound = beta.ppf(alpha / 2, n_correct, n_total - n_correct + 1)\n",
    "    upper_bound = beta.ppf(1 - alpha / 2, n_correct + 1, n_total - n_correct)\n",
    "    \n",
    "    title = f\"Accuracy: {accuracy:.2f}%, 68% CI: [{lower_bound*100:.2f}%, {upper_bound*100:.2f}%]\"\n",
    "    plt.title(title, fontsize=15, weight='bold')\n",
    "    plt.xlabel('Predicted', size=14, weight='bold')\n",
    "    plt.ylabel('True', size=14, weight='bold')\n",
    "    plt.xticks(size=14, weight='bold')\n",
    "    plt.yticks(size=14, weight='bold')\n",
    "    print(f\"./Plots/confusion_matrix_{name}.pdf\")\n",
    "    plt.savefig(f\"./Plots/confusion_matrix_{name}.pdf\", dpi=300, bbox_inches='tight')\n",
    "    plt.close()\n",
    "    print(f\"Confusion Matrix:\\n{cm}\")\n",
    "    print(f\"68% Confidence Interval: [{lower_bound:.4f}, {upper_bound:.4f}]\")\n",
    "\n",
    "    # ROC Curve\n",
    "    y_true = np.array(true_labels)\n",
    "    y_scores = np.array(all_scores)\n",
    "\n",
    "    fpr, tpr, thresholds = roc_curve(y_true, y_scores)\n",
    "    roc_auc = auc(fpr, tpr)\n",
    "\n",
    "    N_x = sum(y_true == 0)\n",
    "    N_y = sum(y_true == 1)\n",
    "    sigma_fpr = np.sqrt(fpr * (1 - fpr) / N_x)\n",
    "    sigma_tpr = np.sqrt(tpr * (1 - tpr) / N_y)\n",
    "\n",
    "    plt.figure()\n",
    "    plt.plot(fpr, tpr, color='blue', lw=2, label=f'ROC curve (AUC = {roc_auc:.2f})')\n",
    "    plt.fill_between(fpr, tpr - 5 * sigma_tpr, tpr + 5 * sigma_tpr,\n",
    "                     color='blue', alpha=0.25, label='1-sigma region (PiPR) [5x]')\n",
    "    plt.plot([0, 1], [0, 1], color='gray', lw=2, linestyle='--', label='Random Guess')\n",
    "    plt.xlabel('False Positive Rate (Proton)', fontsize=12)\n",
    "    plt.ylabel('True Positive Rate (Pion)', fontsize=12)\n",
    "    plt.xticks(fontsize=12)\n",
    "    plt.yticks(fontsize=12)\n",
    "    plt.title('Receiver Operating Characteristic (ROC)', fontsize=14)\n",
    "    plt.legend(loc='lower right')\n",
    "    plt.grid()\n",
    "    plt.savefig(f\"./Plots/roc_curve_{name}.pdf\")\n",
    "\n",
    "    return (avg_loss, f\"{accuracy:.2f}%\") if return_accuracy else avg_loss\n",
    "\n"
   ]
  },
  {
   "cell_type": "code",
   "execution_count": 11,
   "metadata": {},
   "outputs": [
    {
     "name": "stderr",
     "output_type": "stream",
     "text": [
      "Testing: 100%|██████████| 625/625 [00:10<00:00, 61.12it/s]\n"
     ]
    },
    {
     "name": "stdout",
     "output_type": "stream",
     "text": [
      "./Plots/confusion_matrix_25GeV_1.pdf\n",
      "Confusion Matrix:\n",
      "[[6686 3294]\n",
      " [3467 6553]]\n",
      "68% Confidence Interval: [0.6586, 0.6653]\n"
     ]
    },
    {
     "data": {
      "text/plain": [
       "(0.6393544208526611, '66.19%')"
      ]
     },
     "execution_count": 11,
     "metadata": {},
     "output_type": "execute_result"
    },
    {
     "data": {
      "image/png": "[encoded data removed]",
      "text/plain": [
       "<Figure size 640x480 with 1 Axes>"
      ]
     },
     "metadata": {},
     "output_type": "display_data"
    }
   ],
   "source": [
    "evaluate_model(model_test, test_loader, nn.CrossEntropyLoss(), device, return_accuracy=True)"
   ]
  }
 ],
 "metadata": {
  "kernelspec": {
   "display_name": "work_env",
   "language": "python",
   "name": "python3"
  },
  "language_info": {
   "codemirror_mode": {
    "name": "ipython",
    "version": 3
   },
   "file_extension": ".py",
   "mimetype": "text/x-python",
   "name": "python",
   "nbconvert_exporter": "python",
   "pygments_lexer": "ipython3",
   "version": "3.12.4"
  }
 },
 "nbformat": 4,
 "nbformat_minor": 2
}
