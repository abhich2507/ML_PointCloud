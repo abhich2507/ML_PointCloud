{
 "cells": [
  {
   "cell_type": "code",
   "execution_count": 1,
   "metadata": {},
   "outputs": [
    {
     "name": "stdout",
     "output_type": "stream",
     "text": [
      "pool:  mean\n",
      "pool:  mean\n",
      "pool:  mean\n",
      "pool:  mean\n",
      "pool:  mean\n",
      "pool:  mean\n"
     ]
    }
   ],
   "source": [
    "from deepset import *\n",
    "MODEL = DeepSet(in_features=5, feats=[80,120,70,50,8], n_class=2,pool=\"mean\") #for full dataset Mean pooling, for small dataset Max pooling\n",
    "model=MODEL\n",
    "device=torch.device(\"cuda\" if torch.cuda.is_available() else \"cpu\")\n",
    "model=model.to(device) \n"
   ]
  },
  {
   "cell_type": "code",
   "execution_count": 2,
   "metadata": {},
   "outputs": [],
   "source": [
    "import torch\n",
    "from torch.utils.data import Dataset\n",
    "import pickle\n",
    "import os\n",
    "import numpy as np\n",
    "import random\n",
    "import pandas as pd\n",
    "\n",
    "class StreamingHcaDataset(Dataset): \n",
    "    def __init__(self, proton_dir, pion_dir, features=[\"x\", \"y\", \"z\", \"total_energy\",\"mean_time\"]):\n",
    "        super().__init__()\n",
    "        \n",
    "        self.proton_files = sorted([os.path.join(proton_dir, f) for f in os.listdir(proton_dir) if f.endswith(\".pkl\")])\n",
    "        self.pion_files = sorted([os.path.join(pion_dir, f) for f in os.listdir(pion_dir) if f.endswith(\".pkl\")])\n",
    "\n",
    "        self.features = features\n",
    "        self.all_files = self.proton_files + self.pion_files  # Combine file lists\n",
    "        self.labels = [0] * len(self.proton_files) + [1] * len(self.pion_files)  # 0 for proton, 1 for pion\n",
    "\n",
    "    def __len__(self):\n",
    "        return len(self.all_files)  # Total number of files\n",
    "\n",
    "    def _load_file(self, file_path, label):\n",
    "        \"\"\"Loads a single pickle file (containing a single DataFrame) and returns point cloud data with labels.\"\"\"\n",
    "        # with open(file_path, \"rb\") as f:\n",
    "        #     df = pickle.load(f)  # Load single DataFrame\n",
    "    \n",
    "        df=pd.read_pickle(file_path)\n",
    "        # df=pd.read_parquet(file_path,engine='fastparquet')\n",
    "        df=df[df[\"total_energy\"]>5]\n",
    "        \n",
    "          \n",
    "        part_feat = df[self.features].to_numpy()\n",
    "\n",
    "        # Handle NaN and Inf values\n",
    "        part_feat[np.isnan(part_feat)] = 0.0\n",
    "        part_feat[np.isinf(part_feat)] = 0.0\n",
    "\n",
    "        return {\n",
    "            \"part\": torch.tensor(part_feat, dtype=torch.float32),\n",
    "            \"label\": torch.tensor(label, dtype=torch.long),\n",
    "            \"seq_length\": torch.tensor(part_feat.shape[0], dtype=torch.long),\n",
    "        }\n",
    "\n",
    "    def __getitem__(self, idx):\n",
    "        random_idx = random.randint(0, len(self.all_files) - 1)  # Pick a random file\n",
    "        file_path = self.all_files[random_idx]\n",
    "        label = self.labels[random_idx]\n",
    "\n",
    "        return self._load_file(file_path, label)  # Return data from the chosen file\n"
   ]
  },
  {
   "cell_type": "code",
   "execution_count": 3,
   "metadata": {},
   "outputs": [],
   "source": [
    "import torch\n",
    "from torch.nn.utils.rnn import pad_sequence\n",
    "\n",
    "def collate_fn(batch):\n",
    "    \"\"\"Custom collate function to handle variable-length point cloud data.\"\"\"\n",
    "    parts = [item[\"part\"] for item in batch]  # List of tensors (each of shape [N, 5])\n",
    "    labels = torch.tensor([item[\"label\"] for item in batch], dtype=torch.long)  # Convert list to tensor\n",
    "    seq_lengths = torch.tensor([item[\"seq_length\"] for item in batch], dtype=torch.long)  # Convert list to tensor\n",
    "\n",
    "    # Pad variable-length tensors to the longest sequence in the batch\n",
    "    padded_parts = pad_sequence(parts, batch_first=True, padding_value=0.0)  # Shape [batch_size, max_seq_len, 5]\n",
    "\n",
    "    return {\"part\": padded_parts, \"label\": labels, \"seq_length\": seq_lengths}\n"
   ]
  },
  {
   "cell_type": "code",
   "execution_count": 4,
   "metadata": {},
   "outputs": [
    {
     "name": "stdout",
     "output_type": "stream",
     "text": [
      "50GeV_1\n",
      "Train: 160000, Validation: 20000, Test: 20000\n"
     ]
    }
   ],
   "source": [
    "\n",
    "energy=\"50\"\n",
    "granularity=\"1\"\n",
    "pion_dir =f\"/mnt/c/Users/hnayak/Documents/{energy}GeV/small_PKL_pion_{energy}GeV_{granularity}\"\n",
    "proton_dir =f\"/mnt/c/Users/hnayak/Documents/{energy}GeV/small_PKL_proton_{energy}GeV_{granularity}\"\n",
    "name=proton_dir.replace(f\"/mnt/c/Users/hnayak/Documents/{energy}GeV/small_PKL_proton_\",\"\")\n",
    "print(name)\n",
    "from torch.utils.data import random_split, DataLoader\n",
    "\n",
    "# Define dataset\n",
    "train_dataset = StreamingHcaDataset(proton_dir=proton_dir, pion_dir=pion_dir)\n",
    "\n",
    "# Define split sizes\n",
    "total_size = len(train_dataset)\n",
    "train_size = int(0.8 * total_size)\n",
    "val_size = int(0.1 * total_size)\n",
    "test_size = total_size - train_size - val_size  # Ensure the sum matches total_size\n",
    "\n",
    "# Split dataset\n",
    "train_set, val_set, test_set = random_split(train_dataset, [train_size, val_size, test_size])\n",
    "\n",
    "# Define DataLoaders\n",
    "train_loader = DataLoader(train_set, batch_size=32, shuffle=True, collate_fn=collate_fn, num_workers=32)\n",
    "val_loader = DataLoader(val_set, batch_size=32, shuffle=False, collate_fn=collate_fn,num_workers=32)\n",
    "test_loader = DataLoader(test_set, batch_size=32, shuffle=False, collate_fn=collate_fn,num_workers=32)\n",
    "\n",
    "\n",
    "print(f\"Train: {train_size}, Validation: {val_size}, Test: {test_size}\")\n",
    "\n"
   ]
  },
  {
   "cell_type": "code",
   "execution_count": 5,
   "metadata": {},
   "outputs": [],
   "source": [
    "import tqdm\n",
    "def test_model(model, test_loader, criterion=None, device=None):\n",
    "    if device is None:\n",
    "        device = torch.device(\"cuda\" if torch.cuda.is_available() else \"cpu\")\n",
    "\n",
    "    model.to(device)\n",
    "    model.eval()  # Set model to evaluation mode\n",
    "\n",
    "    total_loss = 0.0\n",
    "    correct = 0\n",
    "    total_samples = 0\n",
    "\n",
    "    # Progress bar for testing\n",
    "    test_loader_tqdm = tqdm(enumerate(test_loader), total=len(test_loader), desc=\"Testing\")\n",
    "\n",
    "    with torch.no_grad():\n",
    "        for i,batch in test_loader_tqdm:\n",
    "            parts = batch[\"part\"].to(device)         # Input point cloud data\n",
    "            labels = batch[\"label\"].to(device)  # Labels\n",
    "            batch_size,seq_len,feat_dim=parts.shape\n",
    "            # parts=parts.cpu().numpy().reshape(-1,feat_dim)\n",
    "            # qt = QuantileTransformer(output_distribution='normal', random_state=42)\n",
    "            # parts = qt.fit_transform(parts)\n",
    "            # parts=torch.tensor(parts).reshape(batch_size,seq_len,feat_dim).to(device)\n",
    "\n",
    "            outputs = model(parts)  # Forward pass\n",
    "            loss = criterion(outputs, labels) if criterion else 0  # Compute loss if provided\n",
    "            total_loss += loss.item()\n",
    "            _, predicted = torch.max(outputs, 1)  # Get class prediction\n",
    "            correct += (predicted == labels).sum().item()\n",
    "            total_samples += labels.size(0)\n",
    "\n",
    "            test_loader_tqdm.set_postfix(loss=loss.item())  # Update progress bar\n",
    "\n",
    "    avg_loss = total_loss / len(test_loader) if criterion else 0\n",
    "    accuracy = correct / total_samples * 100\n",
    "\n",
    "    print(f\"Test Loss: {avg_loss:.4f}, Accuracy: {accuracy:.2f}%\")\n",
    "    return avg_loss , accuracy"
   ]
  },
  {
   "cell_type": "code",
   "execution_count": 6,
   "metadata": {},
   "outputs": [],
   "source": [
    "import torch\n",
    "import torch.nn as nn\n",
    "import torch.optim as optim\n",
    "from tqdm import tqdm\n",
    "import pandas as pd\n",
    "from sklearn.preprocessing import QuantileTransformer\n",
    "\n",
    "def train_model(model, train_loader, val_loader, num_epochs=2, learning_rate=5e-4, device=None, save_path=f\"./Models/Z_{name}.pth\", log_path=f\"./Logs/log_summary_Z_{name}.csv\"):\n",
    "    if device is None:\n",
    "        device = torch.device(\"cuda\" if torch.cuda.is_available() else \"cpu\")\n",
    "\n",
    "    model.to(device)\n",
    "    criterion = nn.CrossEntropyLoss()\n",
    "    optimizer = optim.Adam(model.parameters(), lr=learning_rate)\n",
    "\n",
    "    best_val_loss = float(\"inf\")  # Initialize best loss\n",
    "\n",
    "    log_data = []  # To store log info for CSV\n",
    "\n",
    "    for epoch in range(num_epochs):\n",
    "        model.train()\n",
    "        running_loss = 0.0\n",
    "        train_loader_tqdm = tqdm(enumerate(train_loader), total=len(train_loader), desc=f\"Epoch {epoch+1}/{num_epochs}\")\n",
    "\n",
    "        for i, batch in train_loader_tqdm:\n",
    "            parts = batch[\"part\"].to(device)\n",
    "            batch_size, seq_len, feat_dim = parts.shape\n",
    "            # parts = parts.cpu().numpy().reshape(-1, feat_dim)\n",
    "            # qt = QuantileTransformer(output_distribution='normal', random_state=42)\n",
    "            # parts = qt.fit_transform(parts)\n",
    "            # parts = torch.tensor(parts).reshape(batch_size, seq_len, feat_dim).float().to(device)\n",
    "\n",
    "            labels = batch[\"label\"].to(device)\n",
    "\n",
    "            optimizer.zero_grad()\n",
    "            outputs = model(parts)\n",
    "            loss = criterion(outputs, labels)\n",
    "            loss.backward()\n",
    "            optimizer.step()\n",
    "\n",
    "            running_loss += loss.item()\n",
    "            train_loader_tqdm.set_postfix(loss=loss.item())\n",
    "\n",
    "        avg_train_loss = running_loss / len(train_loader)\n",
    "        val_loss, Accuracy = test_model(model, val_loader, criterion, device)\n",
    "         \n",
    "\n",
    "        print(f\"Epoch [{epoch+1}/{num_epochs}], Train Loss: {avg_train_loss:.4f}, Val Loss: {val_loss:.4f}\")\n",
    "\n",
    "        # Save log\n",
    "        log_data.append({\n",
    "            \"Epoch\": epoch + 1,\n",
    "            \"Train Loss\": avg_train_loss,\n",
    "            \"Val Loss\": val_loss,\n",
    "            \"Accuracy\": Accuracy,  # Placeholder for accuracy\n",
    "        })\n",
    "\n",
    "        # Save model if validation improves\n",
    "        if val_loss < best_val_loss:\n",
    "            best_val_loss = val_loss\n",
    "            torch.save(model.state_dict(), save_path)\n",
    "            print(f\"Model saved at epoch {epoch+1} with val loss {val_loss:.4f}\")\n",
    "\n",
    "    # Save the log to CSV\n",
    "    df_log = pd.DataFrame(log_data)\n",
    "    df_log.to_csv(log_path, index=False)\n",
    "    print(f\"Training log saved to {log_path}\")\n",
    "    print(\"Training complete!\")\n"
   ]
  },
  {
   "cell_type": "code",
   "execution_count": 7,
   "metadata": {},
   "outputs": [
    {
     "name": "stderr",
     "output_type": "stream",
     "text": [
      "Epoch 1/60: 100%|██████████| 5000/5000 [00:53<00:00, 93.05it/s, loss=75.7]    \n",
      "Testing: 100%|██████████| 625/625 [00:05<00:00, 111.14it/s, loss=68.3]\n"
     ]
    },
    {
     "name": "stdout",
     "output_type": "stream",
     "text": [
      "Test Loss: 61.9566, Accuracy: 49.86%\n",
      "Epoch [1/60], Train Loss: 278.7852, Val Loss: 61.9566\n",
      "Model saved at epoch 1 with val loss 61.9566\n"
     ]
    },
    {
     "name": "stderr",
     "output_type": "stream",
     "text": [
      "Epoch 2/60: 100%|██████████| 5000/5000 [00:53<00:00, 94.13it/s, loss=2.25]  \n",
      "Testing: 100%|██████████| 625/625 [00:06<00:00, 99.87it/s, loss=3.51] \n"
     ]
    },
    {
     "name": "stdout",
     "output_type": "stream",
     "text": [
      "Test Loss: 4.0182, Accuracy: 50.26%\n",
      "Epoch [2/60], Train Loss: 19.2023, Val Loss: 4.0182\n",
      "Model saved at epoch 2 with val loss 4.0182\n"
     ]
    },
    {
     "name": "stderr",
     "output_type": "stream",
     "text": [
      "Epoch 3/60: 100%|██████████| 5000/5000 [00:52<00:00, 94.92it/s, loss=0.874] \n",
      "Testing: 100%|██████████| 625/625 [00:05<00:00, 115.99it/s, loss=0.651]\n"
     ]
    },
    {
     "name": "stdout",
     "output_type": "stream",
     "text": [
      "Test Loss: 0.7997, Accuracy: 49.86%\n",
      "Epoch [3/60], Train Loss: 2.9229, Val Loss: 0.7997\n",
      "Model saved at epoch 3 with val loss 0.7997\n"
     ]
    },
    {
     "name": "stderr",
     "output_type": "stream",
     "text": [
      "Epoch 4/60: 100%|██████████| 5000/5000 [00:52<00:00, 95.73it/s, loss=1.02]  \n",
      "Testing: 100%|██████████| 625/625 [00:05<00:00, 124.05it/s, loss=1.05] \n"
     ]
    },
    {
     "name": "stdout",
     "output_type": "stream",
     "text": [
      "Test Loss: 0.9453, Accuracy: 50.37%\n",
      "Epoch [4/60], Train Loss: 1.1758, Val Loss: 0.9453\n"
     ]
    },
    {
     "name": "stderr",
     "output_type": "stream",
     "text": [
      "Epoch 5/60: 100%|██████████| 5000/5000 [00:51<00:00, 96.96it/s, loss=0.866] \n",
      "Testing: 100%|██████████| 625/625 [00:05<00:00, 117.93it/s, loss=0.677]\n"
     ]
    },
    {
     "name": "stdout",
     "output_type": "stream",
     "text": [
      "Test Loss: 0.7143, Accuracy: 50.74%\n",
      "Epoch [5/60], Train Loss: 1.2273, Val Loss: 0.7143\n",
      "Model saved at epoch 5 with val loss 0.7143\n"
     ]
    },
    {
     "name": "stderr",
     "output_type": "stream",
     "text": [
      "Epoch 6/60: 100%|██████████| 5000/5000 [00:52<00:00, 95.54it/s, loss=0.849] \n",
      "Testing: 100%|██████████| 625/625 [00:05<00:00, 112.65it/s, loss=0.678]\n"
     ]
    },
    {
     "name": "stdout",
     "output_type": "stream",
     "text": [
      "Test Loss: 0.7102, Accuracy: 52.34%\n",
      "Epoch [6/60], Train Loss: 1.2617, Val Loss: 0.7102\n",
      "Model saved at epoch 6 with val loss 0.7102\n"
     ]
    },
    {
     "name": "stderr",
     "output_type": "stream",
     "text": [
      "Epoch 7/60: 100%|██████████| 5000/5000 [00:57<00:00, 86.31it/s, loss=0.693] \n",
      "Testing: 100%|██████████| 625/625 [00:07<00:00, 84.06it/s, loss=0.778] "
     ]
    },
    {
     "name": "stdout",
     "output_type": "stream",
     "text": [
      "Test Loss: 0.8134, Accuracy: 49.48%\n",
      "Epoch [7/60], Train Loss: 0.7800, Val Loss: 0.8134\n"
     ]
    },
    {
     "name": "stderr",
     "output_type": "stream",
     "text": [
      "\n",
      "Epoch 8/60: 100%|██████████| 5000/5000 [00:59<00:00, 84.50it/s, loss=0.684] \n",
      "Testing: 100%|██████████| 625/625 [00:07<00:00, 89.01it/s, loss=0.632] \n"
     ]
    },
    {
     "name": "stdout",
     "output_type": "stream",
     "text": [
      "Test Loss: 0.6727, Accuracy: 61.05%\n",
      "Epoch [8/60], Train Loss: 0.6891, Val Loss: 0.6727\n",
      "Model saved at epoch 8 with val loss 0.6727\n"
     ]
    },
    {
     "name": "stderr",
     "output_type": "stream",
     "text": [
      "Epoch 9/60: 100%|██████████| 5000/5000 [00:59<00:00, 83.56it/s, loss=0.73]  \n",
      "Testing: 100%|██████████| 625/625 [00:06<00:00, 90.29it/s, loss=0.645] \n"
     ]
    },
    {
     "name": "stdout",
     "output_type": "stream",
     "text": [
      "Test Loss: 0.6745, Accuracy: 61.76%\n",
      "Epoch [9/60], Train Loss: 0.7514, Val Loss: 0.6745\n"
     ]
    },
    {
     "name": "stderr",
     "output_type": "stream",
     "text": [
      "Epoch 10/60: 100%|██████████| 5000/5000 [00:57<00:00, 87.06it/s, loss=0.695] \n",
      "Testing: 100%|██████████| 625/625 [00:06<00:00, 94.51it/s, loss=0.677] "
     ]
    },
    {
     "name": "stdout",
     "output_type": "stream",
     "text": [
      "Test Loss: 0.6770, Accuracy: 57.02%\n",
      "Epoch [10/60], Train Loss: 0.7033, Val Loss: 0.6770\n"
     ]
    },
    {
     "name": "stderr",
     "output_type": "stream",
     "text": [
      "\n",
      "Epoch 11/60: 100%|██████████| 5000/5000 [00:57<00:00, 86.71it/s, loss=0.638] \n",
      "Testing: 100%|██████████| 625/625 [00:06<00:00, 93.98it/s, loss=0.649] "
     ]
    },
    {
     "name": "stdout",
     "output_type": "stream",
     "text": [
      "Test Loss: 0.6727, Accuracy: 60.41%\n",
      "Epoch [11/60], Train Loss: 0.7307, Val Loss: 0.6727\n"
     ]
    },
    {
     "name": "stderr",
     "output_type": "stream",
     "text": [
      "\n",
      "Epoch 12/60: 100%|██████████| 5000/5000 [00:57<00:00, 87.06it/s, loss=0.601] \n",
      "Testing: 100%|██████████| 625/625 [00:06<00:00, 97.36it/s, loss=0.677] "
     ]
    },
    {
     "name": "stdout",
     "output_type": "stream",
     "text": [
      "Test Loss: 0.6761, Accuracy: 61.97%\n",
      "Epoch [12/60], Train Loss: 0.6845, Val Loss: 0.6761\n"
     ]
    },
    {
     "name": "stderr",
     "output_type": "stream",
     "text": [
      "\n",
      "Epoch 13/60: 100%|██████████| 5000/5000 [00:57<00:00, 86.83it/s, loss=0.633]\n",
      "Testing: 100%|██████████| 625/625 [00:06<00:00, 95.13it/s, loss=0.714] "
     ]
    },
    {
     "name": "stdout",
     "output_type": "stream",
     "text": [
      "Test Loss: 0.6744, Accuracy: 60.47%\n",
      "Epoch [13/60], Train Loss: 0.7092, Val Loss: 0.6744\n"
     ]
    },
    {
     "name": "stderr",
     "output_type": "stream",
     "text": [
      "\n",
      "Epoch 14/60: 100%|██████████| 5000/5000 [00:59<00:00, 84.27it/s, loss=0.687] \n",
      "Testing: 100%|██████████| 625/625 [00:06<00:00, 96.17it/s, loss=0.684] "
     ]
    },
    {
     "name": "stdout",
     "output_type": "stream",
     "text": [
      "Test Loss: 0.6800, Accuracy: 55.47%\n",
      "Epoch [14/60], Train Loss: 0.6765, Val Loss: 0.6800\n"
     ]
    },
    {
     "name": "stderr",
     "output_type": "stream",
     "text": [
      "\n",
      "Epoch 15/60: 100%|██████████| 5000/5000 [01:01<00:00, 81.46it/s, loss=0.653] \n",
      "Testing: 100%|██████████| 625/625 [00:06<00:00, 89.61it/s, loss=0.672] "
     ]
    },
    {
     "name": "stdout",
     "output_type": "stream",
     "text": [
      "Test Loss: 0.6772, Accuracy: 58.64%\n",
      "Epoch [15/60], Train Loss: 0.7187, Val Loss: 0.6772\n"
     ]
    },
    {
     "name": "stderr",
     "output_type": "stream",
     "text": [
      "\n",
      "Epoch 16/60: 100%|██████████| 5000/5000 [00:59<00:00, 84.67it/s, loss=0.707] \n",
      "Testing: 100%|██████████| 625/625 [00:06<00:00, 89.79it/s, loss=0.637] "
     ]
    },
    {
     "name": "stdout",
     "output_type": "stream",
     "text": [
      "Test Loss: 0.6815, Accuracy: 60.56%\n",
      "Epoch [16/60], Train Loss: 0.6809, Val Loss: 0.6815\n"
     ]
    },
    {
     "name": "stderr",
     "output_type": "stream",
     "text": [
      "\n",
      "Epoch 17/60: 100%|██████████| 5000/5000 [01:01<00:00, 80.82it/s, loss=0.695]\n",
      "Testing: 100%|██████████| 625/625 [00:06<00:00, 91.36it/s, loss=0.611] "
     ]
    },
    {
     "name": "stdout",
     "output_type": "stream",
     "text": [
      "Test Loss: 0.6740, Accuracy: 62.21%\n",
      "Epoch [17/60], Train Loss: 0.6795, Val Loss: 0.6740\n"
     ]
    },
    {
     "name": "stderr",
     "output_type": "stream",
     "text": [
      "\n",
      "Epoch 18/60: 100%|██████████| 5000/5000 [01:03<00:00, 79.03it/s, loss=0.676]\n",
      "Testing: 100%|██████████| 625/625 [00:07<00:00, 88.04it/s, loss=0.637] "
     ]
    },
    {
     "name": "stdout",
     "output_type": "stream",
     "text": [
      "Test Loss: 0.6737, Accuracy: 58.94%\n",
      "Epoch [18/60], Train Loss: 0.6965, Val Loss: 0.6737\n"
     ]
    },
    {
     "name": "stderr",
     "output_type": "stream",
     "text": [
      "\n",
      "Epoch 19/60: 100%|██████████| 5000/5000 [01:03<00:00, 78.53it/s, loss=0.726] \n",
      "Testing: 100%|██████████| 625/625 [00:07<00:00, 86.13it/s, loss=0.645] "
     ]
    },
    {
     "name": "stdout",
     "output_type": "stream",
     "text": [
      "Test Loss: 0.6753, Accuracy: 62.19%\n",
      "Epoch [19/60], Train Loss: 0.6798, Val Loss: 0.6753\n"
     ]
    },
    {
     "name": "stderr",
     "output_type": "stream",
     "text": [
      "\n",
      "Epoch 20/60: 100%|██████████| 5000/5000 [01:03<00:00, 78.57it/s, loss=0.572] \n",
      "Testing: 100%|██████████| 625/625 [00:06<00:00, 93.84it/s, loss=0.721] "
     ]
    },
    {
     "name": "stdout",
     "output_type": "stream",
     "text": [
      "Test Loss: 0.7291, Accuracy: 50.85%\n",
      "Epoch [20/60], Train Loss: 0.6798, Val Loss: 0.7291\n"
     ]
    },
    {
     "name": "stderr",
     "output_type": "stream",
     "text": [
      "\n",
      "Epoch 21/60: 100%|██████████| 5000/5000 [00:56<00:00, 88.63it/s, loss=0.675] \n",
      "Testing: 100%|██████████| 625/625 [00:06<00:00, 100.19it/s, loss=0.633]\n"
     ]
    },
    {
     "name": "stdout",
     "output_type": "stream",
     "text": [
      "Test Loss: 0.6712, Accuracy: 59.45%\n",
      "Epoch [21/60], Train Loss: 0.6777, Val Loss: 0.6712\n",
      "Model saved at epoch 21 with val loss 0.6712\n"
     ]
    },
    {
     "name": "stderr",
     "output_type": "stream",
     "text": [
      "Epoch 22/60: 100%|██████████| 5000/5000 [00:56<00:00, 89.07it/s, loss=0.628] \n",
      "Testing: 100%|██████████| 625/625 [00:06<00:00, 96.23it/s, loss=0.645] "
     ]
    },
    {
     "name": "stdout",
     "output_type": "stream",
     "text": [
      "Test Loss: 0.6746, Accuracy: 58.33%\n",
      "Epoch [22/60], Train Loss: 0.6921, Val Loss: 0.6746\n"
     ]
    },
    {
     "name": "stderr",
     "output_type": "stream",
     "text": [
      "\n",
      "Epoch 23/60: 100%|██████████| 5000/5000 [00:58<00:00, 85.59it/s, loss=0.732]\n",
      "Testing: 100%|██████████| 625/625 [00:06<00:00, 103.21it/s, loss=0.669]"
     ]
    },
    {
     "name": "stdout",
     "output_type": "stream",
     "text": [
      "Test Loss: 0.6730, Accuracy: 59.55%\n",
      "Epoch [23/60], Train Loss: 0.6784, Val Loss: 0.6730\n"
     ]
    },
    {
     "name": "stderr",
     "output_type": "stream",
     "text": [
      "\n",
      "Epoch 24/60: 100%|██████████| 5000/5000 [00:57<00:00, 87.11it/s, loss=0.65]  \n",
      "Testing: 100%|██████████| 625/625 [00:06<00:00, 97.95it/s, loss=0.678] "
     ]
    },
    {
     "name": "stdout",
     "output_type": "stream",
     "text": [
      "Test Loss: 0.6754, Accuracy: 59.29%\n",
      "Epoch [24/60], Train Loss: 0.6840, Val Loss: 0.6754\n"
     ]
    },
    {
     "name": "stderr",
     "output_type": "stream",
     "text": [
      "\n",
      "Epoch 25/60: 100%|██████████| 5000/5000 [00:58<00:00, 85.65it/s, loss=0.754] \n",
      "Testing: 100%|██████████| 625/625 [00:05<00:00, 105.22it/s, loss=0.669]"
     ]
    },
    {
     "name": "stdout",
     "output_type": "stream",
     "text": [
      "Test Loss: 0.6740, Accuracy: 62.13%\n",
      "Epoch [25/60], Train Loss: 0.7257, Val Loss: 0.6740\n"
     ]
    },
    {
     "name": "stderr",
     "output_type": "stream",
     "text": [
      "\n",
      "Epoch 26/60: 100%|██████████| 5000/5000 [00:55<00:00, 89.63it/s, loss=0.7]   \n",
      "Testing: 100%|██████████| 625/625 [00:05<00:00, 108.13it/s, loss=0.652]"
     ]
    },
    {
     "name": "stdout",
     "output_type": "stream",
     "text": [
      "Test Loss: 0.6759, Accuracy: 61.96%\n",
      "Epoch [26/60], Train Loss: 0.6799, Val Loss: 0.6759\n"
     ]
    },
    {
     "name": "stderr",
     "output_type": "stream",
     "text": [
      "\n",
      "Epoch 27/60: 100%|██████████| 5000/5000 [00:55<00:00, 90.47it/s, loss=0.8]   \n",
      "Testing: 100%|██████████| 625/625 [00:05<00:00, 107.14it/s, loss=0.664]\n"
     ]
    },
    {
     "name": "stdout",
     "output_type": "stream",
     "text": [
      "Test Loss: 0.6700, Accuracy: 60.84%\n",
      "Epoch [27/60], Train Loss: 0.6904, Val Loss: 0.6700\n",
      "Model saved at epoch 27 with val loss 0.6700\n"
     ]
    },
    {
     "name": "stderr",
     "output_type": "stream",
     "text": [
      "Epoch 28/60: 100%|██████████| 5000/5000 [00:57<00:00, 87.65it/s, loss=0.739] \n",
      "Testing: 100%|██████████| 625/625 [00:05<00:00, 105.20it/s, loss=1.29] "
     ]
    },
    {
     "name": "stdout",
     "output_type": "stream",
     "text": [
      "Test Loss: 1.4610, Accuracy: 49.94%\n",
      "Epoch [28/60], Train Loss: 0.6911, Val Loss: 1.4610\n"
     ]
    },
    {
     "name": "stderr",
     "output_type": "stream",
     "text": [
      "\n",
      "Epoch 29/60: 100%|██████████| 5000/5000 [00:58<00:00, 85.36it/s, loss=0.654] \n",
      "Testing: 100%|██████████| 625/625 [00:05<00:00, 106.24it/s, loss=0.684]"
     ]
    },
    {
     "name": "stdout",
     "output_type": "stream",
     "text": [
      "Test Loss: 0.6724, Accuracy: 62.59%\n",
      "Epoch [29/60], Train Loss: 0.6764, Val Loss: 0.6724\n"
     ]
    },
    {
     "name": "stderr",
     "output_type": "stream",
     "text": [
      "\n",
      "Epoch 30/60: 100%|██████████| 5000/5000 [00:58<00:00, 85.42it/s, loss=0.675]\n",
      "Testing: 100%|██████████| 625/625 [00:06<00:00, 103.90it/s, loss=0.803]"
     ]
    },
    {
     "name": "stdout",
     "output_type": "stream",
     "text": [
      "Test Loss: 0.6724, Accuracy: 62.65%\n",
      "Epoch [30/60], Train Loss: 0.6873, Val Loss: 0.6724\n"
     ]
    },
    {
     "name": "stderr",
     "output_type": "stream",
     "text": [
      "\n",
      "Epoch 31/60: 100%|██████████| 5000/5000 [00:57<00:00, 86.47it/s, loss=0.72]  \n",
      "Testing: 100%|██████████| 625/625 [00:05<00:00, 105.99it/s, loss=0.651]\n"
     ]
    },
    {
     "name": "stdout",
     "output_type": "stream",
     "text": [
      "Test Loss: 0.6785, Accuracy: 61.10%\n",
      "Epoch [31/60], Train Loss: 0.6777, Val Loss: 0.6785\n"
     ]
    },
    {
     "name": "stderr",
     "output_type": "stream",
     "text": [
      "Epoch 32/60: 100%|██████████| 5000/5000 [00:56<00:00, 89.12it/s, loss=0.674]\n",
      "Testing: 100%|██████████| 625/625 [00:06<00:00, 94.84it/s, loss=0.67]  "
     ]
    },
    {
     "name": "stdout",
     "output_type": "stream",
     "text": [
      "Test Loss: 0.6744, Accuracy: 61.58%\n",
      "Epoch [32/60], Train Loss: 0.6754, Val Loss: 0.6744\n"
     ]
    },
    {
     "name": "stderr",
     "output_type": "stream",
     "text": [
      "\n",
      "Epoch 33/60: 100%|██████████| 5000/5000 [00:56<00:00, 88.80it/s, loss=0.717] \n",
      "Testing: 100%|██████████| 625/625 [00:06<00:00, 104.06it/s, loss=0.664]"
     ]
    },
    {
     "name": "stdout",
     "output_type": "stream",
     "text": [
      "Test Loss: 0.6773, Accuracy: 61.12%\n",
      "Epoch [33/60], Train Loss: 0.6803, Val Loss: 0.6773\n"
     ]
    },
    {
     "name": "stderr",
     "output_type": "stream",
     "text": [
      "\n",
      "Epoch 34/60: 100%|██████████| 5000/5000 [00:58<00:00, 85.88it/s, loss=0.715] \n",
      "Testing: 100%|██████████| 625/625 [00:06<00:00, 97.84it/s, loss=0.642] \n"
     ]
    },
    {
     "name": "stdout",
     "output_type": "stream",
     "text": [
      "Test Loss: 0.6715, Accuracy: 62.41%\n",
      "Epoch [34/60], Train Loss: 0.6873, Val Loss: 0.6715\n"
     ]
    },
    {
     "name": "stderr",
     "output_type": "stream",
     "text": [
      "Epoch 35/60: 100%|██████████| 5000/5000 [00:58<00:00, 85.11it/s, loss=0.677]\n",
      "Testing: 100%|██████████| 625/625 [00:05<00:00, 105.81it/s, loss=0.634]\n"
     ]
    },
    {
     "name": "stdout",
     "output_type": "stream",
     "text": [
      "Test Loss: 0.6725, Accuracy: 59.61%\n",
      "Epoch [35/60], Train Loss: 0.6752, Val Loss: 0.6725\n"
     ]
    },
    {
     "name": "stderr",
     "output_type": "stream",
     "text": [
      "Epoch 36/60: 100%|██████████| 5000/5000 [00:56<00:00, 88.78it/s, loss=0.696] \n",
      "Testing: 100%|██████████| 625/625 [00:05<00:00, 111.40it/s, loss=0.652]"
     ]
    },
    {
     "name": "stdout",
     "output_type": "stream",
     "text": [
      "Test Loss: 0.6767, Accuracy: 61.74%\n",
      "Epoch [36/60], Train Loss: 0.6844, Val Loss: 0.6767\n"
     ]
    },
    {
     "name": "stderr",
     "output_type": "stream",
     "text": [
      "\n",
      "Epoch 37/60: 100%|██████████| 5000/5000 [00:51<00:00, 97.09it/s, loss=0.656] \n",
      "Testing: 100%|██████████| 625/625 [00:05<00:00, 111.57it/s, loss=0.728]\n"
     ]
    },
    {
     "name": "stdout",
     "output_type": "stream",
     "text": [
      "Test Loss: 0.6720, Accuracy: 59.95%\n",
      "Epoch [37/60], Train Loss: 0.6768, Val Loss: 0.6720\n"
     ]
    },
    {
     "name": "stderr",
     "output_type": "stream",
     "text": [
      "Epoch 38/60: 100%|██████████| 5000/5000 [00:51<00:00, 96.24it/s, loss=0.671] \n",
      "Testing: 100%|██████████| 625/625 [00:05<00:00, 111.25it/s, loss=0.678]"
     ]
    },
    {
     "name": "stdout",
     "output_type": "stream",
     "text": [
      "Test Loss: 0.6716, Accuracy: 59.23%\n",
      "Epoch [38/60], Train Loss: 0.6760, Val Loss: 0.6716\n"
     ]
    },
    {
     "name": "stderr",
     "output_type": "stream",
     "text": [
      "\n",
      "Epoch 39/60: 100%|██████████| 5000/5000 [00:51<00:00, 96.36it/s, loss=0.676] \n",
      "Testing: 100%|██████████| 625/625 [00:05<00:00, 112.55it/s, loss=0.75] "
     ]
    },
    {
     "name": "stdout",
     "output_type": "stream",
     "text": [
      "Test Loss: 0.6752, Accuracy: 58.91%\n",
      "Epoch [39/60], Train Loss: 0.6757, Val Loss: 0.6752\n"
     ]
    },
    {
     "name": "stderr",
     "output_type": "stream",
     "text": [
      "\n",
      "Epoch 40/60: 100%|██████████| 5000/5000 [00:54<00:00, 92.24it/s, loss=0.697] \n",
      "Testing: 100%|██████████| 625/625 [00:05<00:00, 111.54it/s, loss=0.626]"
     ]
    },
    {
     "name": "stdout",
     "output_type": "stream",
     "text": [
      "Test Loss: 0.6742, Accuracy: 60.77%\n",
      "Epoch [40/60], Train Loss: 0.6818, Val Loss: 0.6742\n"
     ]
    },
    {
     "name": "stderr",
     "output_type": "stream",
     "text": [
      "\n",
      "Epoch 41/60: 100%|██████████| 5000/5000 [00:55<00:00, 90.71it/s, loss=0.699] \n",
      "Testing: 100%|██████████| 625/625 [00:05<00:00, 112.28it/s, loss=0.741]"
     ]
    },
    {
     "name": "stdout",
     "output_type": "stream",
     "text": [
      "Test Loss: 0.6799, Accuracy: 56.62%\n",
      "Epoch [41/60], Train Loss: 0.6749, Val Loss: 0.6799\n"
     ]
    },
    {
     "name": "stderr",
     "output_type": "stream",
     "text": [
      "\n",
      "Epoch 42/60: 100%|██████████| 5000/5000 [00:54<00:00, 90.97it/s, loss=0.656] \n",
      "Testing: 100%|██████████| 625/625 [00:05<00:00, 112.40it/s, loss=0.654]\n"
     ]
    },
    {
     "name": "stdout",
     "output_type": "stream",
     "text": [
      "Test Loss: 0.6754, Accuracy: 61.70%\n",
      "Epoch [42/60], Train Loss: 0.6804, Val Loss: 0.6754\n"
     ]
    },
    {
     "name": "stderr",
     "output_type": "stream",
     "text": [
      "Epoch 43/60: 100%|██████████| 5000/5000 [00:55<00:00, 90.75it/s, loss=0.657] \n",
      "Testing: 100%|██████████| 625/625 [00:05<00:00, 110.80it/s, loss=0.677]"
     ]
    },
    {
     "name": "stdout",
     "output_type": "stream",
     "text": [
      "Test Loss: 0.6743, Accuracy: 60.62%\n",
      "Epoch [43/60], Train Loss: 0.6750, Val Loss: 0.6743\n"
     ]
    },
    {
     "name": "stderr",
     "output_type": "stream",
     "text": [
      "\n",
      "Epoch 44/60: 100%|██████████| 5000/5000 [00:50<00:00, 98.76it/s, loss=0.604] \n",
      "Testing: 100%|██████████| 625/625 [00:05<00:00, 111.61it/s, loss=0.636]\n"
     ]
    },
    {
     "name": "stdout",
     "output_type": "stream",
     "text": [
      "Test Loss: 0.6732, Accuracy: 61.73%\n",
      "Epoch [44/60], Train Loss: 0.6771, Val Loss: 0.6732\n"
     ]
    },
    {
     "name": "stderr",
     "output_type": "stream",
     "text": [
      "Epoch 45/60: 100%|██████████| 5000/5000 [00:52<00:00, 94.60it/s, loss=0.655] \n",
      "Testing: 100%|██████████| 625/625 [00:05<00:00, 111.94it/s, loss=0.637]"
     ]
    },
    {
     "name": "stdout",
     "output_type": "stream",
     "text": [
      "Test Loss: 0.6755, Accuracy: 60.38%\n",
      "Epoch [45/60], Train Loss: 0.6786, Val Loss: 0.6755\n"
     ]
    },
    {
     "name": "stderr",
     "output_type": "stream",
     "text": [
      "\n",
      "Epoch 46/60: 100%|██████████| 5000/5000 [00:55<00:00, 90.70it/s, loss=0.683] \n",
      "Testing: 100%|██████████| 625/625 [00:05<00:00, 110.06it/s, loss=0.728]"
     ]
    },
    {
     "name": "stdout",
     "output_type": "stream",
     "text": [
      "Test Loss: 0.6755, Accuracy: 62.08%\n",
      "Epoch [46/60], Train Loss: 0.6760, Val Loss: 0.6755\n"
     ]
    },
    {
     "name": "stderr",
     "output_type": "stream",
     "text": [
      "\n",
      "Epoch 47/60: 100%|██████████| 5000/5000 [00:55<00:00, 90.77it/s, loss=0.669] \n",
      "Testing: 100%|██████████| 625/625 [00:05<00:00, 111.06it/s, loss=0.678]"
     ]
    },
    {
     "name": "stdout",
     "output_type": "stream",
     "text": [
      "Test Loss: 0.6714, Accuracy: 59.55%\n",
      "Epoch [47/60], Train Loss: 0.6746, Val Loss: 0.6714\n"
     ]
    },
    {
     "name": "stderr",
     "output_type": "stream",
     "text": [
      "\n",
      "Epoch 48/60: 100%|██████████| 5000/5000 [00:55<00:00, 90.87it/s, loss=0.625] \n",
      "Testing: 100%|██████████| 625/625 [00:05<00:00, 112.07it/s, loss=0.653]"
     ]
    },
    {
     "name": "stdout",
     "output_type": "stream",
     "text": [
      "Test Loss: 0.6745, Accuracy: 60.79%\n",
      "Epoch [48/60], Train Loss: 0.6751, Val Loss: 0.6745\n"
     ]
    },
    {
     "name": "stderr",
     "output_type": "stream",
     "text": [
      "\n",
      "Epoch 49/60: 100%|██████████| 5000/5000 [00:50<00:00, 99.14it/s, loss=0.644] \n",
      "Testing: 100%|██████████| 625/625 [00:05<00:00, 111.15it/s, loss=0.639]"
     ]
    },
    {
     "name": "stdout",
     "output_type": "stream",
     "text": [
      "Test Loss: 0.6743, Accuracy: 62.16%\n",
      "Epoch [49/60], Train Loss: 0.6808, Val Loss: 0.6743\n"
     ]
    },
    {
     "name": "stderr",
     "output_type": "stream",
     "text": [
      "\n",
      "Epoch 50/60: 100%|██████████| 5000/5000 [00:51<00:00, 96.65it/s, loss=0.642] \n",
      "Testing: 100%|██████████| 625/625 [00:05<00:00, 110.30it/s, loss=0.674]"
     ]
    },
    {
     "name": "stdout",
     "output_type": "stream",
     "text": [
      "Test Loss: 0.6723, Accuracy: 62.48%\n",
      "Epoch [50/60], Train Loss: 0.6809, Val Loss: 0.6723\n"
     ]
    },
    {
     "name": "stderr",
     "output_type": "stream",
     "text": [
      "\n",
      "Epoch 51/60: 100%|██████████| 5000/5000 [00:51<00:00, 96.23it/s, loss=0.708] \n",
      "Testing: 100%|██████████| 625/625 [00:05<00:00, 111.57it/s, loss=0.623]"
     ]
    },
    {
     "name": "stdout",
     "output_type": "stream",
     "text": [
      "Test Loss: 0.6739, Accuracy: 61.92%\n",
      "Epoch [51/60], Train Loss: 0.6755, Val Loss: 0.6739\n"
     ]
    },
    {
     "name": "stderr",
     "output_type": "stream",
     "text": [
      "\n",
      "Epoch 52/60: 100%|██████████| 5000/5000 [00:55<00:00, 90.71it/s, loss=0.671] \n",
      "Testing: 100%|██████████| 625/625 [00:05<00:00, 112.67it/s, loss=0.671]\n"
     ]
    },
    {
     "name": "stdout",
     "output_type": "stream",
     "text": [
      "Test Loss: 0.6722, Accuracy: 58.34%\n",
      "Epoch [52/60], Train Loss: 0.6791, Val Loss: 0.6722\n"
     ]
    },
    {
     "name": "stderr",
     "output_type": "stream",
     "text": [
      "Epoch 53/60: 100%|██████████| 5000/5000 [00:54<00:00, 90.96it/s, loss=0.645] \n",
      "Testing: 100%|██████████| 625/625 [00:05<00:00, 110.17it/s, loss=0.703]"
     ]
    },
    {
     "name": "stdout",
     "output_type": "stream",
     "text": [
      "Test Loss: 0.6766, Accuracy: 58.24%\n",
      "Epoch [53/60], Train Loss: 0.6757, Val Loss: 0.6766\n"
     ]
    },
    {
     "name": "stderr",
     "output_type": "stream",
     "text": [
      "\n",
      "Epoch 54/60: 100%|██████████| 5000/5000 [00:55<00:00, 90.65it/s, loss=0.66]  \n",
      "Testing: 100%|██████████| 625/625 [00:05<00:00, 111.32it/s, loss=0.684]"
     ]
    },
    {
     "name": "stdout",
     "output_type": "stream",
     "text": [
      "Test Loss: 0.6735, Accuracy: 62.40%\n",
      "Epoch [54/60], Train Loss: 0.6755, Val Loss: 0.6735\n"
     ]
    },
    {
     "name": "stderr",
     "output_type": "stream",
     "text": [
      "\n",
      "Epoch 55/60: 100%|██████████| 5000/5000 [00:54<00:00, 91.11it/s, loss=0.756] \n",
      "Testing: 100%|██████████| 625/625 [00:05<00:00, 111.74it/s, loss=0.75] "
     ]
    },
    {
     "name": "stdout",
     "output_type": "stream",
     "text": [
      "Test Loss: 0.6782, Accuracy: 60.58%\n",
      "Epoch [55/60], Train Loss: 0.6761, Val Loss: 0.6782\n"
     ]
    },
    {
     "name": "stderr",
     "output_type": "stream",
     "text": [
      "\n",
      "Epoch 56/60: 100%|██████████| 5000/5000 [00:51<00:00, 97.80it/s, loss=0.625] \n",
      "Testing: 100%|██████████| 625/625 [00:05<00:00, 111.89it/s, loss=0.719]"
     ]
    },
    {
     "name": "stdout",
     "output_type": "stream",
     "text": [
      "Test Loss: 0.6739, Accuracy: 62.30%\n",
      "Epoch [56/60], Train Loss: 0.6767, Val Loss: 0.6739\n"
     ]
    },
    {
     "name": "stderr",
     "output_type": "stream",
     "text": [
      "\n",
      "Epoch 57/60: 100%|██████████| 5000/5000 [00:53<00:00, 92.91it/s, loss=0.697] \n",
      "Testing: 100%|██████████| 625/625 [00:05<00:00, 111.93it/s, loss=0.65] "
     ]
    },
    {
     "name": "stdout",
     "output_type": "stream",
     "text": [
      "Test Loss: 0.6708, Accuracy: 61.98%\n",
      "Epoch [57/60], Train Loss: 0.6765, Val Loss: 0.6708\n"
     ]
    },
    {
     "name": "stderr",
     "output_type": "stream",
     "text": [
      "\n",
      "Epoch 58/60: 100%|██████████| 5000/5000 [00:54<00:00, 91.20it/s, loss=0.733] \n",
      "Testing: 100%|██████████| 625/625 [00:05<00:00, 109.65it/s, loss=0.636]"
     ]
    },
    {
     "name": "stdout",
     "output_type": "stream",
     "text": [
      "Test Loss: 0.6706, Accuracy: 61.87%\n",
      "Epoch [58/60], Train Loss: 0.6771, Val Loss: 0.6706\n"
     ]
    },
    {
     "name": "stderr",
     "output_type": "stream",
     "text": [
      "\n",
      "Epoch 59/60: 100%|██████████| 5000/5000 [00:54<00:00, 92.24it/s, loss=0.65]  \n",
      "Testing: 100%|██████████| 625/625 [00:05<00:00, 111.96it/s, loss=0.654]"
     ]
    },
    {
     "name": "stdout",
     "output_type": "stream",
     "text": [
      "Test Loss: 0.6738, Accuracy: 62.64%\n",
      "Epoch [59/60], Train Loss: 0.6757, Val Loss: 0.6738\n"
     ]
    },
    {
     "name": "stderr",
     "output_type": "stream",
     "text": [
      "\n",
      "Epoch 60/60: 100%|██████████| 5000/5000 [00:54<00:00, 91.30it/s, loss=0.658] \n",
      "Testing: 100%|██████████| 625/625 [00:05<00:00, 111.86it/s, loss=0.633]\n"
     ]
    },
    {
     "name": "stdout",
     "output_type": "stream",
     "text": [
      "Test Loss: 0.6740, Accuracy: 60.54%\n",
      "Epoch [60/60], Train Loss: 0.6766, Val Loss: 0.6740\n",
      "Training log saved to ./Logs/log_summary_Z_50GeV_1.csv\n",
      "Training complete!\n"
     ]
    }
   ],
   "source": [
    "\n",
    "if __name__ == \"__main__\":\n",
    "    #Train the model\n",
    "    train_model(model, train_loader,val_loader=val_loader, num_epochs=60, learning_rate=5e-4, device=device)"
   ]
  },
  {
   "cell_type": "code",
   "execution_count": 8,
   "metadata": {},
   "outputs": [
    {
     "name": "stdout",
     "output_type": "stream",
     "text": [
      "./Models/Z_50GeV_1.pth\n"
     ]
    },
    {
     "data": {
      "text/plain": [
       "DeepSet(\n",
       "  (sequential): ModuleList(\n",
       "    (0): DeepSetLayer(\n",
       "      (Gamma): Linear(in_features=5, out_features=80, bias=True)\n",
       "      (Lambda): Linear(in_features=5, out_features=80, bias=True)\n",
       "      (bn): BatchNorm1d(80, eps=1e-05, momentum=0.1, affine=False, track_running_stats=True)\n",
       "    )\n",
       "    (1): LeakyReLU(negative_slope=0.01)\n",
       "    (2): DeepSetLayer(\n",
       "      (Gamma): Linear(in_features=80, out_features=120, bias=True)\n",
       "      (Lambda): Linear(in_features=80, out_features=120, bias=True)\n",
       "      (bn): BatchNorm1d(120, eps=1e-05, momentum=0.1, affine=False, track_running_stats=True)\n",
       "    )\n",
       "    (3): LeakyReLU(negative_slope=0.01)\n",
       "    (4): DeepSetLayer(\n",
       "      (Gamma): Linear(in_features=120, out_features=70, bias=True)\n",
       "      (Lambda): Linear(in_features=120, out_features=70, bias=True)\n",
       "      (bn): BatchNorm1d(70, eps=1e-05, momentum=0.1, affine=False, track_running_stats=True)\n",
       "    )\n",
       "    (5): LeakyReLU(negative_slope=0.01)\n",
       "    (6): DeepSetLayer(\n",
       "      (Gamma): Linear(in_features=70, out_features=50, bias=True)\n",
       "      (Lambda): Linear(in_features=70, out_features=50, bias=True)\n",
       "      (bn): BatchNorm1d(50, eps=1e-05, momentum=0.1, affine=False, track_running_stats=True)\n",
       "    )\n",
       "    (7): LeakyReLU(negative_slope=0.01)\n",
       "    (8): DeepSetLayer(\n",
       "      (Gamma): Linear(in_features=50, out_features=8, bias=True)\n",
       "      (Lambda): Linear(in_features=50, out_features=8, bias=True)\n",
       "      (bn): BatchNorm1d(8, eps=1e-05, momentum=0.1, affine=False, track_running_stats=True)\n",
       "    )\n",
       "    (9): DeepSetLayer(\n",
       "      (Gamma): Linear(in_features=8, out_features=2, bias=True)\n",
       "      (Lambda): Linear(in_features=8, out_features=2, bias=True)\n",
       "      (bn): BatchNorm1d(2, eps=1e-05, momentum=0.1, affine=False, track_running_stats=True)\n",
       "    )\n",
       "  )\n",
       ")"
      ]
     },
     "execution_count": 8,
     "metadata": {},
     "output_type": "execute_result"
    }
   ],
   "source": [
    "model_test = MODEL\n",
    "model_name=f\"./Models/Z_{name}.pth\"\n",
    "print(model_name)\n",
    "model_test.load_state_dict(torch.load(f\"./Models/Z_{name}.pth\",weights_only=True))\n",
    "model_test.to(device)"
   ]
  },
  {
   "cell_type": "code",
   "execution_count": 9,
   "metadata": {},
   "outputs": [
    {
     "name": "stdout",
     "output_type": "stream",
     "text": [
      "45292\n"
     ]
    }
   ],
   "source": [
    "total_params = sum(p.numel() for p in MODEL.parameters())\n",
    "print(total_params)"
   ]
  },
  {
   "cell_type": "code",
   "execution_count": 10,
   "metadata": {},
   "outputs": [],
   "source": [
    "from sklearn.metrics import confusion_matrix, roc_curve, auc\n",
    "import seaborn as sns\n",
    "import matplotlib.pyplot as plt\n",
    "from matplotlib.colors import LinearSegmentedColormap\n",
    "from scipy.stats import beta\n",
    "\n",
    "def evaluate_model(model, data_loader, criterion, device, name1=\"model\", return_accuracy=False):\n",
    "    model.eval()\n",
    "    total_loss = 0.0\n",
    "    correct = 0\n",
    "    total = 0\n",
    "    data_loader_tqdm = tqdm(enumerate(data_loader), desc=\"Testing\", total=len(data_loader))\n",
    "    \n",
    "    true_labels = []\n",
    "    pred_labels = []\n",
    "    all_scores = []\n",
    "\n",
    "    with torch.no_grad():\n",
    "        for i, batch in data_loader_tqdm:\n",
    "            parts = batch[\"part\"].to(device)\n",
    "            batch_size, seq_len, feat_dim = parts.shape\n",
    "            # parts_np = parts.cpu().numpy().reshape(-1, feat_dim)\n",
    "\n",
    "            # qt = QuantileTransformer(output_distribution='normal', random_state=42)\n",
    "            # parts_np = qt.fit_transform(parts_np)\n",
    "            # parts = torch.tensor(parts_np).reshape(batch_size, seq_len, feat_dim).to(device)\n",
    "\n",
    "            labels = batch[\"label\"].to(device)\n",
    "            outputs = model(parts)\n",
    "            preds = F.softmax(outputs, dim=1)\n",
    "\n",
    "            # Collect soft scores for the positive class (class 1)\n",
    "            all_scores.extend(preds[:, 1].detach().cpu().numpy())\n",
    "            pred_labels.extend(torch.argmax(preds, dim=-1).cpu().numpy())\n",
    "            true_labels.extend(labels.cpu().numpy())\n",
    "\n",
    "            loss = criterion(outputs, labels)\n",
    "            total_loss += loss.item()\n",
    "\n",
    "            if return_accuracy:\n",
    "                _, predicted = torch.max(outputs, 1)\n",
    "                correct += (predicted == labels).sum().item()\n",
    "                total += labels.size(0)\n",
    "\n",
    "    avg_loss = total_loss / len(data_loader)\n",
    "    accuracy = 100 * correct / total if return_accuracy else None\n",
    "\n",
    "    # Confusion Matrix\n",
    "    cm = confusion_matrix(true_labels, pred_labels)\n",
    "    plt.figure(figsize=(10, 8))\n",
    "    colors = [\"#cce5ff\", \"#004c99\"]\n",
    "    cmap = LinearSegmentedColormap.from_list(\"Custom Blue\", colors)\n",
    "    sns.heatmap(cm, annot=True, fmt='d', cmap=cmap,\n",
    "                xticklabels=[\"Proton\", \"Pion\"], yticklabels=[\"Proton\", \"Pion\"],\n",
    "                annot_kws={\"size\": 18, \"weight\": \"bold\"})\n",
    "    \n",
    "    TP, FN = cm[0, 0], cm[0, 1]\n",
    "    FP, TN = cm[1, 0], cm[1, 1]\n",
    "    n_total = TP + TN + FP + FN\n",
    "    n_correct = TP + TN\n",
    "    alpha = 0.32\n",
    "\n",
    "    lower_bound = beta.ppf(alpha / 2, n_correct, n_total - n_correct + 1)\n",
    "    upper_bound = beta.ppf(1 - alpha / 2, n_correct + 1, n_total - n_correct)\n",
    "    \n",
    "    title = f\"Accuracy: {accuracy:.2f}%, 68% CI: [{lower_bound*100:.2f}%, {upper_bound*100:.2f}%]\"\n",
    "    plt.title(title, fontsize=15, weight='bold')\n",
    "    plt.xlabel('Predicted', size=14, weight='bold')\n",
    "    plt.ylabel('True', size=14, weight='bold')\n",
    "    plt.xticks(size=14, weight='bold')\n",
    "    plt.yticks(size=14, weight='bold')\n",
    "    print(f\"./Plots/confusion_matrix_{name}.pdf\")\n",
    "    plt.savefig(f\"./Plots/confusion_matrix_{name}.pdf\", dpi=300, bbox_inches='tight')\n",
    "    plt.close()\n",
    "    print(f\"Confusion Matrix:\\n{cm}\")\n",
    "    print(f\"68% Confidence Interval: [{lower_bound:.4f}, {upper_bound:.4f}]\")\n",
    "\n",
    "    # ROC Curve\n",
    "    y_true = np.array(true_labels)\n",
    "    y_scores = np.array(all_scores)\n",
    "\n",
    "    fpr, tpr, thresholds = roc_curve(y_true, y_scores)\n",
    "    roc_auc = auc(fpr, tpr)\n",
    "\n",
    "    N_x = sum(y_true == 0)\n",
    "    N_y = sum(y_true == 1)\n",
    "    sigma_fpr = np.sqrt(fpr * (1 - fpr) / N_x)\n",
    "    sigma_tpr = np.sqrt(tpr * (1 - tpr) / N_y)\n",
    "\n",
    "    plt.figure()\n",
    "    plt.plot(fpr, tpr, color='blue', lw=2, label=f'ROC curve (AUC = {roc_auc:.2f})')\n",
    "    plt.fill_between(fpr, tpr - 5 * sigma_tpr, tpr + 5 * sigma_tpr,\n",
    "                     color='blue', alpha=0.25, label='1-sigma region (PiPR) [5x]')\n",
    "    plt.plot([0, 1], [0, 1], color='gray', lw=2, linestyle='--', label='Random Guess')\n",
    "    plt.xlabel('False Positive Rate (Proton)', fontsize=12)\n",
    "    plt.ylabel('True Positive Rate (Pion)', fontsize=12)\n",
    "    plt.xticks(fontsize=12)\n",
    "    plt.yticks(fontsize=12)\n",
    "    plt.title('Receiver Operating Characteristic (ROC)', fontsize=14)\n",
    "    plt.legend(loc='lower right')\n",
    "    plt.grid()\n",
    "    plt.savefig(f\"./Plots/roc_curve_{name}.pdf\")\n",
    "\n",
    "    return (avg_loss, f\"{accuracy:.2f}%\") if return_accuracy else avg_loss\n",
    "\n"
   ]
  },
  {
   "cell_type": "code",
   "execution_count": 11,
   "metadata": {},
   "outputs": [
    {
     "name": "stderr",
     "output_type": "stream",
     "text": [
      "Testing: 100%|██████████| 625/625 [00:05<00:00, 105.60it/s]\n"
     ]
    },
    {
     "name": "stdout",
     "output_type": "stream",
     "text": [
      "./Plots/confusion_matrix_50GeV_1.pdf\n",
      "Confusion Matrix:\n",
      "[[4907 5120]\n",
      " [2814 7159]]\n",
      "68% Confidence Interval: [0.5998, 0.6068]\n"
     ]
    },
    {
     "data": {
      "text/plain": [
       "(0.673936007976532, '60.33%')"
      ]
     },
     "execution_count": 11,
     "metadata": {},
     "output_type": "execute_result"
    },
    {
     "data": {
      "image/png": "[encoded data removed]",
      "text/plain": [
       "<Figure size 640x480 with 1 Axes>"
      ]
     },
     "metadata": {},
     "output_type": "display_data"
    }
   ],
   "source": [
    "evaluate_model(model_test, test_loader, nn.CrossEntropyLoss(), device, return_accuracy=True)"
   ]
  }
 ],
 "metadata": {
  "kernelspec": {
   "display_name": "work_env",
   "language": "python",
   "name": "python3"
  },
  "language_info": {
   "codemirror_mode": {
    "name": "ipython",
    "version": 3
   },
   "file_extension": ".py",
   "mimetype": "text/x-python",
   "name": "python",
   "nbconvert_exporter": "python",
   "pygments_lexer": "ipython3",
   "version": "3.12.4"
  }
 },
 "nbformat": 4,
 "nbformat_minor": 2
}
