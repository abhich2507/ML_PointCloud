{
 "cells": [
  {
   "cell_type": "code",
   "execution_count": 1,
   "metadata": {},
   "outputs": [
    {
     "name": "stdout",
     "output_type": "stream",
     "text": [
      "pool:  mean\n",
      "pool:  mean\n",
      "pool:  mean\n",
      "pool:  mean\n",
      "pool:  mean\n",
      "pool:  mean\n"
     ]
    }
   ],
   "source": [
    "from deepset import *\n",
    "MODEL = DeepSet(in_features=4, feats=[80,120,70,50,8], n_class=2,pool=\"mean\") #for full dataset Mean pooling, for small dataset Max pooling\n",
    "model=MODEL\n",
    "device=torch.device(\"cuda\" if torch.cuda.is_available() else \"cpu\")\n",
    "model=model.to(device) \n"
   ]
  },
  {
   "cell_type": "code",
   "execution_count": 2,
   "metadata": {},
   "outputs": [],
   "source": [
    "import torch\n",
    "from torch.utils.data import Dataset\n",
    "import pickle\n",
    "import os\n",
    "import numpy as np\n",
    "import random\n",
    "import pandas as pd\n",
    "\n",
    "class StreamingHcaDataset(Dataset): \n",
    "    def __init__(self, proton_dir, pion_dir, features=[\"x\", \"y\", \"z\", \"total_energy\"]):\n",
    "        super().__init__()\n",
    "        \n",
    "        self.proton_files = sorted([os.path.join(proton_dir, f) for f in os.listdir(proton_dir) if f.endswith(\".pkl\")])\n",
    "        self.pion_files = sorted([os.path.join(pion_dir, f) for f in os.listdir(pion_dir) if f.endswith(\".pkl\")])\n",
    "\n",
    "        self.features = features\n",
    "        self.all_files = self.proton_files + self.pion_files  # Combine file lists\n",
    "        self.labels = [0] * len(self.proton_files) + [1] * len(self.pion_files)  # 0 for proton, 1 for pion\n",
    "\n",
    "    def __len__(self):\n",
    "        return len(self.all_files)  # Total number of files\n",
    "\n",
    "    def _load_file(self, file_path, label):\n",
    "        \"\"\"Loads a single pickle file (containing a single DataFrame) and returns point cloud data with labels.\"\"\"\n",
    "        # with open(file_path, \"rb\") as f:\n",
    "        #     df = pickle.load(f)  # Load single DataFrame\n",
    "    \n",
    "        df=pd.read_pickle(file_path)\n",
    "        # df=pd.read_parquet(file_path,engine='fastparquet')\n",
    "        df=df[df[\"total_energy\"]>5]\n",
    "        \n",
    "          \n",
    "        part_feat = df[self.features].to_numpy()\n",
    "\n",
    "        # Handle NaN and Inf values\n",
    "        part_feat[np.isnan(part_feat)] = 0.0\n",
    "        part_feat[np.isinf(part_feat)] = 0.0\n",
    "\n",
    "        return {\n",
    "            \"part\": torch.tensor(part_feat, dtype=torch.float32),\n",
    "            \"label\": torch.tensor(label, dtype=torch.long),\n",
    "            \"seq_length\": torch.tensor(part_feat.shape[0], dtype=torch.long),\n",
    "        }\n",
    "\n",
    "    def __getitem__(self, idx):\n",
    "        random_idx = random.randint(0, len(self.all_files) - 1)  # Pick a random file\n",
    "        file_path = self.all_files[random_idx]\n",
    "        label = self.labels[random_idx]\n",
    "\n",
    "        return self._load_file(file_path, label)  # Return data from the chosen file\n"
   ]
  },
  {
   "cell_type": "code",
   "execution_count": 3,
   "metadata": {},
   "outputs": [],
   "source": [
    "import torch\n",
    "from torch.nn.utils.rnn import pad_sequence\n",
    "\n",
    "def collate_fn(batch):\n",
    "    \"\"\"Custom collate function to handle variable-length point cloud data.\"\"\"\n",
    "    parts = [item[\"part\"] for item in batch]  # List of tensors (each of shape [N, 5])\n",
    "    labels = torch.tensor([item[\"label\"] for item in batch], dtype=torch.long)  # Convert list to tensor\n",
    "    seq_lengths = torch.tensor([item[\"seq_length\"] for item in batch], dtype=torch.long)  # Convert list to tensor\n",
    "\n",
    "    # Pad variable-length tensors to the longest sequence in the batch\n",
    "    padded_parts = pad_sequence(parts, batch_first=True, padding_value=0.0)  # Shape [batch_size, max_seq_len, 5]\n",
    "\n",
    "    return {\"part\": padded_parts, \"label\": labels, \"seq_length\": seq_lengths}\n"
   ]
  },
  {
   "cell_type": "code",
   "execution_count": 4,
   "metadata": {},
   "outputs": [
    {
     "name": "stdout",
     "output_type": "stream",
     "text": [
      "10GeV_200\n",
      "Train: 160000, Validation: 20000, Test: 20000\n"
     ]
    }
   ],
   "source": [
    "\n",
    "energy=\"10\"\n",
    "granularity=\"200\"\n",
    "pion_dir =f\"/mnt/c/Users/hnayak/Documents/{energy}GeV/small_PKL_pion_{energy}GeV_{granularity}\"\n",
    "proton_dir =f\"/mnt/c/Users/hnayak/Documents/{energy}GeV/small_PKL_proton_{energy}GeV_{granularity}\"\n",
    "name=proton_dir.replace(f\"/mnt/c/Users/hnayak/Documents/{energy}GeV/small_PKL_proton_\",\"\")\n",
    "print(name)\n",
    "from torch.utils.data import random_split, DataLoader\n",
    "\n",
    "# Define dataset\n",
    "train_dataset = StreamingHcaDataset(proton_dir=proton_dir, pion_dir=pion_dir)\n",
    "\n",
    "# Define split sizes\n",
    "total_size = len(train_dataset)\n",
    "train_size = int(0.8 * total_size)\n",
    "val_size = int(0.1 * total_size)\n",
    "test_size = total_size - train_size - val_size  # Ensure the sum matches total_size\n",
    "\n",
    "# Split dataset\n",
    "train_set, val_set, test_set = random_split(train_dataset, [train_size, val_size, test_size])\n",
    "\n",
    "# Define DataLoaders\n",
    "train_loader = DataLoader(train_set, batch_size=32, shuffle=True, collate_fn=collate_fn, num_workers=32)\n",
    "val_loader = DataLoader(val_set, batch_size=32, shuffle=False, collate_fn=collate_fn,num_workers=32)\n",
    "test_loader = DataLoader(test_set, batch_size=32, shuffle=False, collate_fn=collate_fn,num_workers=32)\n",
    "\n",
    "\n",
    "print(f\"Train: {train_size}, Validation: {val_size}, Test: {test_size}\")\n",
    "\n"
   ]
  },
  {
   "cell_type": "code",
   "execution_count": 5,
   "metadata": {},
   "outputs": [],
   "source": [
    "import tqdm\n",
    "def test_model(model, test_loader, criterion=None, device=None):\n",
    "    if device is None:\n",
    "        device = torch.device(\"cuda\" if torch.cuda.is_available() else \"cpu\")\n",
    "\n",
    "    model.to(device)\n",
    "    model.eval()  # Set model to evaluation mode\n",
    "\n",
    "    total_loss = 0.0\n",
    "    correct = 0\n",
    "    total_samples = 0\n",
    "\n",
    "    # Progress bar for testing\n",
    "    test_loader_tqdm = tqdm(enumerate(test_loader), total=len(test_loader), desc=\"Testing\")\n",
    "\n",
    "    with torch.no_grad():\n",
    "        for i,batch in test_loader_tqdm:\n",
    "            parts = batch[\"part\"].to(device)         # Input point cloud data\n",
    "            labels = batch[\"label\"].to(device)  # Labels\n",
    "            batch_size,seq_len,feat_dim=parts.shape\n",
    "            parts=parts.cpu().numpy().reshape(-1,feat_dim)\n",
    "            qt = QuantileTransformer(output_distribution='normal', random_state=42)\n",
    "            parts = qt.fit_transform(parts)\n",
    "            parts=torch.tensor(parts).reshape(batch_size,seq_len,feat_dim).to(device)\n",
    "\n",
    "            outputs = model(parts)  # Forward pass\n",
    "            loss = criterion(outputs, labels) if criterion else 0  # Compute loss if provided\n",
    "            total_loss += loss.item()\n",
    "            _, predicted = torch.max(outputs, 1)  # Get class prediction\n",
    "            correct += (predicted == labels).sum().item()\n",
    "            total_samples += labels.size(0)\n",
    "\n",
    "            test_loader_tqdm.set_postfix(loss=loss.item())  # Update progress bar\n",
    "\n",
    "    avg_loss = total_loss / len(test_loader) if criterion else 0\n",
    "    accuracy = correct / total_samples * 100\n",
    "\n",
    "    print(f\"Test Loss: {avg_loss:.4f}, Accuracy: {accuracy:.2f}%\")\n",
    "    return avg_loss , accuracy"
   ]
  },
  {
   "cell_type": "code",
   "execution_count": 6,
   "metadata": {},
   "outputs": [],
   "source": [
    "import torch\n",
    "import torch.nn as nn\n",
    "import torch.optim as optim\n",
    "from tqdm import tqdm\n",
    "import pandas as pd\n",
    "from sklearn.preprocessing import QuantileTransformer\n",
    "\n",
    "def train_model(model, train_loader, val_loader, num_epochs=2, learning_rate=5e-4, device=None, save_path=f\"./Models/Z_{name}_NT.pth\", log_path=f\"./Logs/log_summary_Z_{name}_NT.csv\"):\n",
    "    if device is None:\n",
    "        device = torch.device(\"cuda\" if torch.cuda.is_available() else \"cpu\")\n",
    "\n",
    "    model.to(device)\n",
    "    criterion = nn.CrossEntropyLoss()\n",
    "    optimizer = optim.Adam(model.parameters(), lr=learning_rate)\n",
    "\n",
    "    best_val_loss = float(\"inf\")  # Initialize best loss\n",
    "\n",
    "    log_data = []  # To store log info for CSV\n",
    "\n",
    "    for epoch in range(num_epochs):\n",
    "        model.train()\n",
    "        running_loss = 0.0\n",
    "        train_loader_tqdm = tqdm(enumerate(train_loader), total=len(train_loader), desc=f\"Epoch {epoch+1}/{num_epochs}\")\n",
    "\n",
    "        for i, batch in train_loader_tqdm:\n",
    "            parts = batch[\"part\"].to(device)\n",
    "            batch_size, seq_len, feat_dim = parts.shape\n",
    "            parts = parts.cpu().numpy().reshape(-1, feat_dim)\n",
    "            qt = QuantileTransformer(output_distribution='normal', random_state=42)\n",
    "            parts = qt.fit_transform(parts)\n",
    "            parts = torch.tensor(parts).reshape(batch_size, seq_len, feat_dim).float().to(device)\n",
    "\n",
    "            labels = batch[\"label\"].to(device)\n",
    "\n",
    "            optimizer.zero_grad()\n",
    "            outputs = model(parts)\n",
    "            loss = criterion(outputs, labels)\n",
    "            loss.backward()\n",
    "            optimizer.step()\n",
    "\n",
    "            running_loss += loss.item()\n",
    "            train_loader_tqdm.set_postfix(loss=loss.item())\n",
    "\n",
    "        avg_train_loss = running_loss / len(train_loader)\n",
    "        val_loss, Accuracy = test_model(model, val_loader, criterion, device)\n",
    "         \n",
    "\n",
    "        print(f\"Epoch [{epoch+1}/{num_epochs}], Train Loss: {avg_train_loss:.4f}, Val Loss: {val_loss:.4f}\")\n",
    "\n",
    "        # Save log\n",
    "        log_data.append({\n",
    "            \"Epoch\": epoch + 1,\n",
    "            \"Train Loss\": avg_train_loss,\n",
    "            \"Val Loss\": val_loss,\n",
    "            \"Accuracy\": Accuracy,  # Placeholder for accuracy\n",
    "        })\n",
    "\n",
    "        # Save model if validation improves\n",
    "        if val_loss < best_val_loss:\n",
    "            best_val_loss = val_loss\n",
    "            torch.save(model.state_dict(), save_path)\n",
    "            print(f\"Model saved at epoch {epoch+1} with val loss {val_loss:.4f}\")\n",
    "\n",
    "    # Save the log to CSV\n",
    "    df_log = pd.DataFrame(log_data)\n",
    "    df_log.to_csv(log_path, index=False)\n",
    "    print(f\"Training log saved to {log_path}\")\n",
    "    print(\"Training complete!\")\n"
   ]
  },
  {
   "cell_type": "code",
   "execution_count": 7,
   "metadata": {},
   "outputs": [
    {
     "name": "stderr",
     "output_type": "stream",
     "text": [
      "Epoch 1/60: 100%|██████████| 5000/5000 [01:48<00:00, 45.96it/s, loss=0.324]\n",
      "Testing: 100%|██████████| 625/625 [00:14<00:00, 42.99it/s, loss=0.352]\n"
     ]
    },
    {
     "name": "stdout",
     "output_type": "stream",
     "text": [
      "Test Loss: 0.4295, Accuracy: 79.67%\n",
      "Epoch [1/60], Train Loss: 0.4248, Val Loss: 0.4295\n",
      "Model saved at epoch 1 with val loss 0.4295\n"
     ]
    },
    {
     "name": "stderr",
     "output_type": "stream",
     "text": [
      "Epoch 2/60: 100%|██████████| 5000/5000 [01:40<00:00, 49.84it/s, loss=0.37]  \n",
      "Testing: 100%|██████████| 625/625 [00:13<00:00, 45.96it/s, loss=0.281] \n"
     ]
    },
    {
     "name": "stdout",
     "output_type": "stream",
     "text": [
      "Test Loss: 0.3039, Accuracy: 86.31%\n",
      "Epoch [2/60], Train Loss: 0.3113, Val Loss: 0.3039\n",
      "Model saved at epoch 2 with val loss 0.3039\n"
     ]
    },
    {
     "name": "stderr",
     "output_type": "stream",
     "text": [
      "Epoch 3/60: 100%|██████████| 5000/5000 [01:35<00:00, 52.34it/s, loss=0.325] \n",
      "Testing: 100%|██████████| 625/625 [00:13<00:00, 46.67it/s, loss=0.546] \n"
     ]
    },
    {
     "name": "stdout",
     "output_type": "stream",
     "text": [
      "Test Loss: 0.2883, Accuracy: 87.24%\n",
      "Epoch [3/60], Train Loss: 0.2890, Val Loss: 0.2883\n",
      "Model saved at epoch 3 with val loss 0.2883\n"
     ]
    },
    {
     "name": "stderr",
     "output_type": "stream",
     "text": [
      "Epoch 4/60: 100%|██████████| 5000/5000 [01:34<00:00, 53.14it/s, loss=0.318] \n",
      "Testing: 100%|██████████| 625/625 [00:13<00:00, 48.00it/s, loss=0.553] "
     ]
    },
    {
     "name": "stdout",
     "output_type": "stream",
     "text": [
      "Test Loss: 0.3059, Accuracy: 85.92%\n",
      "Epoch [4/60], Train Loss: 0.2710, Val Loss: 0.3059\n"
     ]
    },
    {
     "name": "stderr",
     "output_type": "stream",
     "text": [
      "\n",
      "Epoch 5/60: 100%|██████████| 5000/5000 [01:35<00:00, 52.43it/s, loss=0.308] \n",
      "Testing: 100%|██████████| 625/625 [00:13<00:00, 46.44it/s, loss=0.527] \n"
     ]
    },
    {
     "name": "stdout",
     "output_type": "stream",
     "text": [
      "Test Loss: 0.4302, Accuracy: 81.09%\n",
      "Epoch [5/60], Train Loss: 0.2653, Val Loss: 0.4302\n"
     ]
    },
    {
     "name": "stderr",
     "output_type": "stream",
     "text": [
      "Epoch 6/60: 100%|██████████| 5000/5000 [01:51<00:00, 45.03it/s, loss=0.442] \n",
      "Testing: 100%|██████████| 625/625 [00:14<00:00, 43.20it/s, loss=0.698]"
     ]
    },
    {
     "name": "stdout",
     "output_type": "stream",
     "text": [
      "Test Loss: 0.3741, Accuracy: 82.71%\n",
      "Epoch [6/60], Train Loss: 0.2564, Val Loss: 0.3741\n"
     ]
    },
    {
     "name": "stderr",
     "output_type": "stream",
     "text": [
      "\n",
      "Epoch 7/60: 100%|██████████| 5000/5000 [01:52<00:00, 44.25it/s, loss=0.267] \n",
      "Testing: 100%|██████████| 625/625 [00:15<00:00, 39.67it/s, loss=0.296] \n"
     ]
    },
    {
     "name": "stdout",
     "output_type": "stream",
     "text": [
      "Test Loss: 0.2483, Accuracy: 89.27%\n",
      "Epoch [7/60], Train Loss: 0.2528, Val Loss: 0.2483\n",
      "Model saved at epoch 7 with val loss 0.2483\n"
     ]
    },
    {
     "name": "stderr",
     "output_type": "stream",
     "text": [
      "Epoch 8/60: 100%|██████████| 5000/5000 [01:54<00:00, 43.62it/s, loss=0.225] \n",
      "Testing: 100%|██████████| 625/625 [00:16<00:00, 37.71it/s, loss=0.33]  "
     ]
    },
    {
     "name": "stdout",
     "output_type": "stream",
     "text": [
      "Test Loss: 0.2840, Accuracy: 87.03%\n",
      "Epoch [8/60], Train Loss: 0.2473, Val Loss: 0.2840\n"
     ]
    },
    {
     "name": "stderr",
     "output_type": "stream",
     "text": [
      "\n",
      "Epoch 9/60: 100%|██████████| 5000/5000 [01:54<00:00, 43.60it/s, loss=0.283] \n",
      "Testing: 100%|██████████| 625/625 [00:16<00:00, 37.88it/s, loss=0.139] \n"
     ]
    },
    {
     "name": "stdout",
     "output_type": "stream",
     "text": [
      "Test Loss: 0.2434, Accuracy: 89.28%\n",
      "Epoch [9/60], Train Loss: 0.2406, Val Loss: 0.2434\n",
      "Model saved at epoch 9 with val loss 0.2434\n"
     ]
    },
    {
     "name": "stderr",
     "output_type": "stream",
     "text": [
      "Epoch 10/60: 100%|██████████| 5000/5000 [01:56<00:00, 43.00it/s, loss=0.19]  \n",
      "Testing: 100%|██████████| 625/625 [00:15<00:00, 40.57it/s, loss=0.257] \n"
     ]
    },
    {
     "name": "stdout",
     "output_type": "stream",
     "text": [
      "Test Loss: 0.2248, Accuracy: 90.31%\n",
      "Epoch [10/60], Train Loss: 0.2382, Val Loss: 0.2248\n",
      "Model saved at epoch 10 with val loss 0.2248\n"
     ]
    },
    {
     "name": "stderr",
     "output_type": "stream",
     "text": [
      "Epoch 11/60: 100%|██████████| 5000/5000 [01:58<00:00, 42.34it/s, loss=0.103] \n",
      "Testing: 100%|██████████| 625/625 [00:16<00:00, 37.79it/s, loss=0.115] "
     ]
    },
    {
     "name": "stdout",
     "output_type": "stream",
     "text": [
      "Test Loss: 0.2474, Accuracy: 89.28%\n",
      "Epoch [11/60], Train Loss: 0.2373, Val Loss: 0.2474\n"
     ]
    },
    {
     "name": "stderr",
     "output_type": "stream",
     "text": [
      "\n",
      "Epoch 12/60: 100%|██████████| 5000/5000 [01:54<00:00, 43.85it/s, loss=0.276] \n",
      "Testing: 100%|██████████| 625/625 [00:14<00:00, 42.92it/s, loss=0.165] "
     ]
    },
    {
     "name": "stdout",
     "output_type": "stream",
     "text": [
      "Test Loss: 0.2295, Accuracy: 90.05%\n",
      "Epoch [12/60], Train Loss: 0.2349, Val Loss: 0.2295\n"
     ]
    },
    {
     "name": "stderr",
     "output_type": "stream",
     "text": [
      "\n",
      "Epoch 13/60: 100%|██████████| 5000/5000 [01:50<00:00, 45.08it/s, loss=0.21]  \n",
      "Testing: 100%|██████████| 625/625 [00:15<00:00, 41.33it/s, loss=0.234] "
     ]
    },
    {
     "name": "stdout",
     "output_type": "stream",
     "text": [
      "Test Loss: 0.2331, Accuracy: 90.13%\n",
      "Epoch [13/60], Train Loss: 0.2310, Val Loss: 0.2331\n"
     ]
    },
    {
     "name": "stderr",
     "output_type": "stream",
     "text": [
      "\n",
      "Epoch 14/60: 100%|██████████| 5000/5000 [01:49<00:00, 45.50it/s, loss=0.222] \n",
      "Testing: 100%|██████████| 625/625 [00:15<00:00, 41.54it/s, loss=0.269] \n"
     ]
    },
    {
     "name": "stdout",
     "output_type": "stream",
     "text": [
      "Test Loss: 0.2188, Accuracy: 90.55%\n",
      "Epoch [14/60], Train Loss: 0.2297, Val Loss: 0.2188\n",
      "Model saved at epoch 14 with val loss 0.2188\n"
     ]
    },
    {
     "name": "stderr",
     "output_type": "stream",
     "text": [
      "Epoch 15/60: 100%|██████████| 5000/5000 [01:47<00:00, 46.50it/s, loss=0.234] \n",
      "Testing: 100%|██████████| 625/625 [00:14<00:00, 41.91it/s, loss=0.24]  "
     ]
    },
    {
     "name": "stdout",
     "output_type": "stream",
     "text": [
      "Test Loss: 0.2220, Accuracy: 90.38%\n",
      "Epoch [15/60], Train Loss: 0.2282, Val Loss: 0.2220\n"
     ]
    },
    {
     "name": "stderr",
     "output_type": "stream",
     "text": [
      "\n",
      "Epoch 16/60: 100%|██████████| 5000/5000 [01:47<00:00, 46.32it/s, loss=0.309] \n",
      "Testing: 100%|██████████| 625/625 [00:14<00:00, 42.26it/s, loss=0.224] "
     ]
    },
    {
     "name": "stdout",
     "output_type": "stream",
     "text": [
      "Test Loss: 0.2193, Accuracy: 90.59%\n",
      "Epoch [16/60], Train Loss: 0.2276, Val Loss: 0.2193\n"
     ]
    },
    {
     "name": "stderr",
     "output_type": "stream",
     "text": [
      "\n",
      "Epoch 17/60: 100%|██████████| 5000/5000 [01:48<00:00, 46.17it/s, loss=0.264] \n",
      "Testing: 100%|██████████| 625/625 [00:14<00:00, 41.77it/s, loss=0.149] "
     ]
    },
    {
     "name": "stdout",
     "output_type": "stream",
     "text": [
      "Test Loss: 0.2232, Accuracy: 90.31%\n",
      "Epoch [17/60], Train Loss: 0.2262, Val Loss: 0.2232\n"
     ]
    },
    {
     "name": "stderr",
     "output_type": "stream",
     "text": [
      "\n",
      "Epoch 18/60: 100%|██████████| 5000/5000 [01:46<00:00, 46.90it/s, loss=0.152] \n",
      "Testing: 100%|██████████| 625/625 [00:14<00:00, 42.66it/s, loss=0.145] \n"
     ]
    },
    {
     "name": "stdout",
     "output_type": "stream",
     "text": [
      "Test Loss: 0.2145, Accuracy: 90.55%\n",
      "Epoch [18/60], Train Loss: 0.2224, Val Loss: 0.2145\n",
      "Model saved at epoch 18 with val loss 0.2145\n"
     ]
    },
    {
     "name": "stderr",
     "output_type": "stream",
     "text": [
      "Epoch 19/60: 100%|██████████| 5000/5000 [01:47<00:00, 46.43it/s, loss=0.109] \n",
      "Testing: 100%|██████████| 625/625 [00:15<00:00, 41.66it/s, loss=0.152] \n"
     ]
    },
    {
     "name": "stdout",
     "output_type": "stream",
     "text": [
      "Test Loss: 0.2177, Accuracy: 90.55%\n",
      "Epoch [19/60], Train Loss: 0.2220, Val Loss: 0.2177\n"
     ]
    },
    {
     "name": "stderr",
     "output_type": "stream",
     "text": [
      "Epoch 20/60: 100%|██████████| 5000/5000 [01:48<00:00, 46.22it/s, loss=0.29]  \n",
      "Testing: 100%|██████████| 625/625 [00:14<00:00, 41.92it/s, loss=0.276] "
     ]
    },
    {
     "name": "stdout",
     "output_type": "stream",
     "text": [
      "Test Loss: 0.2173, Accuracy: 90.64%\n",
      "Epoch [20/60], Train Loss: 0.2226, Val Loss: 0.2173\n"
     ]
    },
    {
     "name": "stderr",
     "output_type": "stream",
     "text": [
      "\n",
      "Epoch 21/60: 100%|██████████| 5000/5000 [01:46<00:00, 46.91it/s, loss=0.136] \n",
      "Testing: 100%|██████████| 625/625 [00:14<00:00, 43.75it/s, loss=0.234] "
     ]
    },
    {
     "name": "stdout",
     "output_type": "stream",
     "text": [
      "Test Loss: 0.2243, Accuracy: 90.08%\n",
      "Epoch [21/60], Train Loss: 0.2191, Val Loss: 0.2243\n"
     ]
    },
    {
     "name": "stderr",
     "output_type": "stream",
     "text": [
      "\n",
      "Epoch 22/60: 100%|██████████| 5000/5000 [01:48<00:00, 46.14it/s, loss=0.104] \n",
      "Testing: 100%|██████████| 625/625 [00:15<00:00, 41.64it/s, loss=0.227] \n"
     ]
    },
    {
     "name": "stdout",
     "output_type": "stream",
     "text": [
      "Test Loss: 0.2107, Accuracy: 90.69%\n",
      "Epoch [22/60], Train Loss: 0.2176, Val Loss: 0.2107\n",
      "Model saved at epoch 22 with val loss 0.2107\n"
     ]
    },
    {
     "name": "stderr",
     "output_type": "stream",
     "text": [
      "Epoch 23/60: 100%|██████████| 5000/5000 [01:48<00:00, 46.05it/s, loss=0.0965]\n",
      "Testing: 100%|██████████| 625/625 [00:14<00:00, 42.05it/s, loss=0.158] \n"
     ]
    },
    {
     "name": "stdout",
     "output_type": "stream",
     "text": [
      "Test Loss: 0.2050, Accuracy: 91.09%\n",
      "Epoch [23/60], Train Loss: 0.2197, Val Loss: 0.2050\n",
      "Model saved at epoch 23 with val loss 0.2050\n"
     ]
    },
    {
     "name": "stderr",
     "output_type": "stream",
     "text": [
      "Epoch 24/60: 100%|██████████| 5000/5000 [01:47<00:00, 46.47it/s, loss=0.113] \n",
      "Testing: 100%|██████████| 625/625 [00:14<00:00, 43.46it/s, loss=0.23]  "
     ]
    },
    {
     "name": "stdout",
     "output_type": "stream",
     "text": [
      "Test Loss: 0.2094, Accuracy: 90.81%\n",
      "Epoch [24/60], Train Loss: 0.2181, Val Loss: 0.2094\n"
     ]
    },
    {
     "name": "stderr",
     "output_type": "stream",
     "text": [
      "\n",
      "Epoch 25/60: 100%|██████████| 5000/5000 [01:49<00:00, 45.77it/s, loss=0.193] \n",
      "Testing: 100%|██████████| 625/625 [00:14<00:00, 41.95it/s, loss=0.185] "
     ]
    },
    {
     "name": "stdout",
     "output_type": "stream",
     "text": [
      "Test Loss: 0.2183, Accuracy: 90.39%\n",
      "Epoch [25/60], Train Loss: 0.2158, Val Loss: 0.2183\n"
     ]
    },
    {
     "name": "stderr",
     "output_type": "stream",
     "text": [
      "\n",
      "Epoch 26/60: 100%|██████████| 5000/5000 [01:48<00:00, 46.05it/s, loss=0.251] \n",
      "Testing: 100%|██████████| 625/625 [00:14<00:00, 42.24it/s, loss=0.208] \n"
     ]
    },
    {
     "name": "stdout",
     "output_type": "stream",
     "text": [
      "Test Loss: 0.2020, Accuracy: 91.15%\n",
      "Epoch [26/60], Train Loss: 0.2135, Val Loss: 0.2020\n",
      "Model saved at epoch 26 with val loss 0.2020\n"
     ]
    },
    {
     "name": "stderr",
     "output_type": "stream",
     "text": [
      "Epoch 27/60: 100%|██████████| 5000/5000 [01:46<00:00, 46.98it/s, loss=0.0944]\n",
      "Testing: 100%|██████████| 625/625 [00:14<00:00, 44.44it/s, loss=0.412] "
     ]
    },
    {
     "name": "stdout",
     "output_type": "stream",
     "text": [
      "Test Loss: 0.2058, Accuracy: 91.00%\n",
      "Epoch [27/60], Train Loss: 0.2137, Val Loss: 0.2058\n"
     ]
    },
    {
     "name": "stderr",
     "output_type": "stream",
     "text": [
      "\n",
      "Epoch 28/60: 100%|██████████| 5000/5000 [01:48<00:00, 46.17it/s, loss=0.199] \n",
      "Testing: 100%|██████████| 625/625 [00:15<00:00, 41.59it/s, loss=0.22]  "
     ]
    },
    {
     "name": "stdout",
     "output_type": "stream",
     "text": [
      "Test Loss: 0.2071, Accuracy: 91.00%\n",
      "Epoch [28/60], Train Loss: 0.2148, Val Loss: 0.2071\n"
     ]
    },
    {
     "name": "stderr",
     "output_type": "stream",
     "text": [
      "\n",
      "Epoch 29/60: 100%|██████████| 5000/5000 [01:48<00:00, 45.92it/s, loss=0.0876]\n",
      "Testing: 100%|██████████| 625/625 [00:14<00:00, 42.37it/s, loss=0.23]  \n"
     ]
    },
    {
     "name": "stdout",
     "output_type": "stream",
     "text": [
      "Test Loss: 0.2075, Accuracy: 91.05%\n",
      "Epoch [29/60], Train Loss: 0.2137, Val Loss: 0.2075\n"
     ]
    },
    {
     "name": "stderr",
     "output_type": "stream",
     "text": [
      "Epoch 30/60: 100%|██████████| 5000/5000 [01:46<00:00, 47.03it/s, loss=0.353] \n",
      "Testing: 100%|██████████| 625/625 [00:14<00:00, 42.53it/s, loss=0.176] "
     ]
    },
    {
     "name": "stdout",
     "output_type": "stream",
     "text": [
      "Test Loss: 0.2141, Accuracy: 90.94%\n",
      "Epoch [30/60], Train Loss: 0.2133, Val Loss: 0.2141\n"
     ]
    },
    {
     "name": "stderr",
     "output_type": "stream",
     "text": [
      "\n",
      "Epoch 31/60: 100%|██████████| 5000/5000 [01:48<00:00, 45.95it/s, loss=0.274] \n",
      "Testing: 100%|██████████| 625/625 [00:15<00:00, 41.27it/s, loss=0.287] \n"
     ]
    },
    {
     "name": "stdout",
     "output_type": "stream",
     "text": [
      "Test Loss: 0.1985, Accuracy: 91.34%\n",
      "Epoch [31/60], Train Loss: 0.2138, Val Loss: 0.1985\n",
      "Model saved at epoch 31 with val loss 0.1985\n"
     ]
    },
    {
     "name": "stderr",
     "output_type": "stream",
     "text": [
      "Epoch 32/60: 100%|██████████| 5000/5000 [01:48<00:00, 46.00it/s, loss=0.23]  \n",
      "Testing: 100%|██████████| 625/625 [00:14<00:00, 42.32it/s, loss=0.163] \n"
     ]
    },
    {
     "name": "stdout",
     "output_type": "stream",
     "text": [
      "Test Loss: 0.2095, Accuracy: 90.70%\n",
      "Epoch [32/60], Train Loss: 0.2112, Val Loss: 0.2095\n"
     ]
    },
    {
     "name": "stderr",
     "output_type": "stream",
     "text": [
      "Epoch 33/60: 100%|██████████| 5000/5000 [01:46<00:00, 47.14it/s, loss=0.0327]\n",
      "Testing: 100%|██████████| 625/625 [00:15<00:00, 41.64it/s, loss=0.235] "
     ]
    },
    {
     "name": "stdout",
     "output_type": "stream",
     "text": [
      "Test Loss: 0.2087, Accuracy: 91.12%\n",
      "Epoch [33/60], Train Loss: 0.2116, Val Loss: 0.2087\n"
     ]
    },
    {
     "name": "stderr",
     "output_type": "stream",
     "text": [
      "\n",
      "Epoch 34/60: 100%|██████████| 5000/5000 [01:48<00:00, 45.96it/s, loss=0.292] \n",
      "Testing: 100%|██████████| 625/625 [00:14<00:00, 42.02it/s, loss=0.121] "
     ]
    },
    {
     "name": "stdout",
     "output_type": "stream",
     "text": [
      "Test Loss: 0.2154, Accuracy: 90.61%\n",
      "Epoch [34/60], Train Loss: 0.2086, Val Loss: 0.2154\n"
     ]
    },
    {
     "name": "stderr",
     "output_type": "stream",
     "text": [
      "\n",
      "Epoch 35/60: 100%|██████████| 5000/5000 [01:48<00:00, 46.14it/s, loss=0.197] \n",
      "Testing: 100%|██████████| 625/625 [00:14<00:00, 42.25it/s, loss=0.157] "
     ]
    },
    {
     "name": "stdout",
     "output_type": "stream",
     "text": [
      "Test Loss: 0.2061, Accuracy: 91.19%\n",
      "Epoch [35/60], Train Loss: 0.2102, Val Loss: 0.2061\n"
     ]
    },
    {
     "name": "stderr",
     "output_type": "stream",
     "text": [
      "\n",
      "Epoch 36/60: 100%|██████████| 5000/5000 [01:45<00:00, 47.24it/s, loss=0.116] \n",
      "Testing: 100%|██████████| 625/625 [00:14<00:00, 41.99it/s, loss=0.202] "
     ]
    },
    {
     "name": "stdout",
     "output_type": "stream",
     "text": [
      "Test Loss: 0.2039, Accuracy: 91.10%\n",
      "Epoch [36/60], Train Loss: 0.2091, Val Loss: 0.2039\n"
     ]
    },
    {
     "name": "stderr",
     "output_type": "stream",
     "text": [
      "\n",
      "Epoch 37/60: 100%|██████████| 5000/5000 [01:48<00:00, 46.07it/s, loss=0.195] \n",
      "Testing: 100%|██████████| 625/625 [00:14<00:00, 42.65it/s, loss=0.159] "
     ]
    },
    {
     "name": "stdout",
     "output_type": "stream",
     "text": [
      "Test Loss: 0.2005, Accuracy: 91.48%\n",
      "Epoch [37/60], Train Loss: 0.2089, Val Loss: 0.2005\n"
     ]
    },
    {
     "name": "stderr",
     "output_type": "stream",
     "text": [
      "\n",
      "Epoch 38/60: 100%|██████████| 5000/5000 [01:48<00:00, 46.06it/s, loss=0.185] \n",
      "Testing: 100%|██████████| 625/625 [00:14<00:00, 42.60it/s, loss=0.218] "
     ]
    },
    {
     "name": "stdout",
     "output_type": "stream",
     "text": [
      "Test Loss: 0.2010, Accuracy: 91.25%\n",
      "Epoch [38/60], Train Loss: 0.2079, Val Loss: 0.2010\n"
     ]
    },
    {
     "name": "stderr",
     "output_type": "stream",
     "text": [
      "\n",
      "Epoch 39/60: 100%|██████████| 5000/5000 [01:46<00:00, 46.77it/s, loss=0.197] \n",
      "Testing: 100%|██████████| 625/625 [00:14<00:00, 41.91it/s, loss=0.189] "
     ]
    },
    {
     "name": "stdout",
     "output_type": "stream",
     "text": [
      "Test Loss: 0.2174, Accuracy: 90.73%\n",
      "Epoch [39/60], Train Loss: 0.2068, Val Loss: 0.2174\n"
     ]
    },
    {
     "name": "stderr",
     "output_type": "stream",
     "text": [
      "\n",
      "Epoch 40/60: 100%|██████████| 5000/5000 [01:48<00:00, 45.98it/s, loss=0.135] \n",
      "Testing: 100%|██████████| 625/625 [00:14<00:00, 42.27it/s, loss=0.311] "
     ]
    },
    {
     "name": "stdout",
     "output_type": "stream",
     "text": [
      "Test Loss: 0.2111, Accuracy: 90.36%\n",
      "Epoch [40/60], Train Loss: 0.2087, Val Loss: 0.2111\n"
     ]
    },
    {
     "name": "stderr",
     "output_type": "stream",
     "text": [
      "\n",
      "Epoch 41/60: 100%|██████████| 5000/5000 [01:47<00:00, 46.55it/s, loss=0.261] \n",
      "Testing: 100%|██████████| 625/625 [00:13<00:00, 47.50it/s, loss=0.371] "
     ]
    },
    {
     "name": "stdout",
     "output_type": "stream",
     "text": [
      "Test Loss: 0.2013, Accuracy: 91.27%\n",
      "Epoch [41/60], Train Loss: 0.2063, Val Loss: 0.2013\n"
     ]
    },
    {
     "name": "stderr",
     "output_type": "stream",
     "text": [
      "\n",
      "Epoch 42/60: 100%|██████████| 5000/5000 [01:46<00:00, 46.74it/s, loss=0.141] \n",
      "Testing: 100%|██████████| 625/625 [00:14<00:00, 42.30it/s, loss=0.287] "
     ]
    },
    {
     "name": "stdout",
     "output_type": "stream",
     "text": [
      "Test Loss: 0.2102, Accuracy: 90.80%\n",
      "Epoch [42/60], Train Loss: 0.2056, Val Loss: 0.2102\n"
     ]
    },
    {
     "name": "stderr",
     "output_type": "stream",
     "text": [
      "\n",
      "Epoch 43/60: 100%|██████████| 5000/5000 [01:48<00:00, 45.89it/s, loss=0.17]  \n",
      "Testing: 100%|██████████| 625/625 [00:15<00:00, 41.40it/s, loss=0.187] "
     ]
    },
    {
     "name": "stdout",
     "output_type": "stream",
     "text": [
      "Test Loss: 0.2128, Accuracy: 90.63%\n",
      "Epoch [43/60], Train Loss: 0.2051, Val Loss: 0.2128\n"
     ]
    },
    {
     "name": "stderr",
     "output_type": "stream",
     "text": [
      "\n",
      "Epoch 44/60: 100%|██████████| 5000/5000 [01:47<00:00, 46.35it/s, loss=0.139] \n",
      "Testing: 100%|██████████| 625/625 [00:12<00:00, 49.01it/s, loss=0.255] \n"
     ]
    },
    {
     "name": "stdout",
     "output_type": "stream",
     "text": [
      "Test Loss: 0.1943, Accuracy: 91.42%\n",
      "Epoch [44/60], Train Loss: 0.2052, Val Loss: 0.1943\n",
      "Model saved at epoch 44 with val loss 0.1943\n"
     ]
    },
    {
     "name": "stderr",
     "output_type": "stream",
     "text": [
      "Epoch 45/60: 100%|██████████| 5000/5000 [01:47<00:00, 46.42it/s, loss=0.259] \n",
      "Testing: 100%|██████████| 625/625 [00:15<00:00, 41.50it/s, loss=0.223] "
     ]
    },
    {
     "name": "stdout",
     "output_type": "stream",
     "text": [
      "Test Loss: 0.1991, Accuracy: 91.21%\n",
      "Epoch [45/60], Train Loss: 0.2054, Val Loss: 0.1991\n"
     ]
    },
    {
     "name": "stderr",
     "output_type": "stream",
     "text": [
      "\n",
      "Epoch 46/60: 100%|██████████| 5000/5000 [01:48<00:00, 46.00it/s, loss=0.284] \n",
      "Testing: 100%|██████████| 625/625 [00:14<00:00, 41.68it/s, loss=0.1]   \n"
     ]
    },
    {
     "name": "stdout",
     "output_type": "stream",
     "text": [
      "Test Loss: 0.1914, Accuracy: 91.67%\n",
      "Epoch [46/60], Train Loss: 0.2046, Val Loss: 0.1914\n",
      "Model saved at epoch 46 with val loss 0.1914\n"
     ]
    },
    {
     "name": "stderr",
     "output_type": "stream",
     "text": [
      "Epoch 47/60: 100%|██████████| 5000/5000 [01:47<00:00, 46.55it/s, loss=0.226] \n",
      "Testing: 100%|██████████| 625/625 [00:13<00:00, 46.72it/s, loss=0.186] "
     ]
    },
    {
     "name": "stdout",
     "output_type": "stream",
     "text": [
      "Test Loss: 0.2116, Accuracy: 90.64%\n",
      "Epoch [47/60], Train Loss: 0.2026, Val Loss: 0.2116\n"
     ]
    },
    {
     "name": "stderr",
     "output_type": "stream",
     "text": [
      "\n",
      "Epoch 48/60: 100%|██████████| 5000/5000 [01:48<00:00, 46.18it/s, loss=0.302] \n",
      "Testing: 100%|██████████| 625/625 [00:14<00:00, 41.79it/s, loss=0.0883]"
     ]
    },
    {
     "name": "stdout",
     "output_type": "stream",
     "text": [
      "Test Loss: 0.1997, Accuracy: 91.48%\n",
      "Epoch [48/60], Train Loss: 0.2039, Val Loss: 0.1997\n"
     ]
    },
    {
     "name": "stderr",
     "output_type": "stream",
     "text": [
      "\n",
      "Epoch 49/60: 100%|██████████| 5000/5000 [01:47<00:00, 46.37it/s, loss=0.186] \n",
      "Testing: 100%|██████████| 625/625 [00:14<00:00, 42.17it/s, loss=0.204] "
     ]
    },
    {
     "name": "stdout",
     "output_type": "stream",
     "text": [
      "Test Loss: 0.1975, Accuracy: 91.53%\n",
      "Epoch [49/60], Train Loss: 0.2054, Val Loss: 0.1975\n"
     ]
    },
    {
     "name": "stderr",
     "output_type": "stream",
     "text": [
      "\n",
      "Epoch 50/60: 100%|██████████| 5000/5000 [01:47<00:00, 46.53it/s, loss=0.214] \n",
      "Testing: 100%|██████████| 625/625 [00:14<00:00, 41.98it/s, loss=0.117] "
     ]
    },
    {
     "name": "stdout",
     "output_type": "stream",
     "text": [
      "Test Loss: 0.2098, Accuracy: 90.75%\n",
      "Epoch [50/60], Train Loss: 0.2020, Val Loss: 0.2098\n"
     ]
    },
    {
     "name": "stderr",
     "output_type": "stream",
     "text": [
      "\n",
      "Epoch 51/60: 100%|██████████| 5000/5000 [01:48<00:00, 46.21it/s, loss=0.287] \n",
      "Testing: 100%|██████████| 625/625 [00:14<00:00, 42.13it/s, loss=0.255] "
     ]
    },
    {
     "name": "stdout",
     "output_type": "stream",
     "text": [
      "Test Loss: 0.2011, Accuracy: 91.33%\n",
      "Epoch [51/60], Train Loss: 0.2027, Val Loss: 0.2011\n"
     ]
    },
    {
     "name": "stderr",
     "output_type": "stream",
     "text": [
      "\n",
      "Epoch 52/60: 100%|██████████| 5000/5000 [01:48<00:00, 46.03it/s, loss=0.153] \n",
      "Testing: 100%|██████████| 625/625 [00:15<00:00, 41.60it/s, loss=0.148] "
     ]
    },
    {
     "name": "stdout",
     "output_type": "stream",
     "text": [
      "Test Loss: 0.1952, Accuracy: 91.45%\n",
      "Epoch [52/60], Train Loss: 0.2004, Val Loss: 0.1952\n"
     ]
    },
    {
     "name": "stderr",
     "output_type": "stream",
     "text": [
      "\n",
      "Epoch 53/60: 100%|██████████| 5000/5000 [01:47<00:00, 46.72it/s, loss=0.28]  \n",
      "Testing: 100%|██████████| 625/625 [00:14<00:00, 42.27it/s, loss=0.175] "
     ]
    },
    {
     "name": "stdout",
     "output_type": "stream",
     "text": [
      "Test Loss: 0.2315, Accuracy: 89.92%\n",
      "Epoch [53/60], Train Loss: 0.2052, Val Loss: 0.2315\n"
     ]
    },
    {
     "name": "stderr",
     "output_type": "stream",
     "text": [
      "\n",
      "Epoch 54/60: 100%|██████████| 5000/5000 [01:48<00:00, 46.28it/s, loss=0.0785]\n",
      "Testing: 100%|██████████| 625/625 [00:14<00:00, 41.74it/s, loss=0.245] "
     ]
    },
    {
     "name": "stdout",
     "output_type": "stream",
     "text": [
      "Test Loss: 0.2009, Accuracy: 91.32%\n",
      "Epoch [54/60], Train Loss: 0.2024, Val Loss: 0.2009\n"
     ]
    },
    {
     "name": "stderr",
     "output_type": "stream",
     "text": [
      "\n",
      "Epoch 55/60: 100%|██████████| 5000/5000 [01:48<00:00, 46.11it/s, loss=0.23]  \n",
      "Testing: 100%|██████████| 625/625 [00:14<00:00, 42.30it/s, loss=0.178] "
     ]
    },
    {
     "name": "stdout",
     "output_type": "stream",
     "text": [
      "Test Loss: 0.2276, Accuracy: 90.25%\n",
      "Epoch [55/60], Train Loss: 0.1997, Val Loss: 0.2276\n"
     ]
    },
    {
     "name": "stderr",
     "output_type": "stream",
     "text": [
      "\n",
      "Epoch 56/60: 100%|██████████| 5000/5000 [01:47<00:00, 46.67it/s, loss=0.196] \n",
      "Testing: 100%|██████████| 625/625 [00:14<00:00, 42.52it/s, loss=0.192] \n"
     ]
    },
    {
     "name": "stdout",
     "output_type": "stream",
     "text": [
      "Test Loss: 0.1876, Accuracy: 91.90%\n",
      "Epoch [56/60], Train Loss: 0.2028, Val Loss: 0.1876\n",
      "Model saved at epoch 56 with val loss 0.1876\n"
     ]
    },
    {
     "name": "stderr",
     "output_type": "stream",
     "text": [
      "Epoch 57/60: 100%|██████████| 5000/5000 [01:45<00:00, 47.25it/s, loss=0.164] \n",
      "Testing: 100%|██████████| 625/625 [00:13<00:00, 46.80it/s, loss=0.0819]"
     ]
    },
    {
     "name": "stdout",
     "output_type": "stream",
     "text": [
      "Test Loss: 0.1989, Accuracy: 91.23%\n",
      "Epoch [57/60], Train Loss: 0.2024, Val Loss: 0.1989\n"
     ]
    },
    {
     "name": "stderr",
     "output_type": "stream",
     "text": [
      "\n",
      "Epoch 58/60: 100%|██████████| 5000/5000 [01:34<00:00, 52.70it/s, loss=0.18]  \n",
      "Testing: 100%|██████████| 625/625 [00:13<00:00, 46.64it/s, loss=0.195] "
     ]
    },
    {
     "name": "stdout",
     "output_type": "stream",
     "text": [
      "Test Loss: 0.2129, Accuracy: 90.79%\n",
      "Epoch [58/60], Train Loss: 0.2012, Val Loss: 0.2129\n"
     ]
    },
    {
     "name": "stderr",
     "output_type": "stream",
     "text": [
      "\n",
      "Epoch 59/60: 100%|██████████| 5000/5000 [01:32<00:00, 53.79it/s, loss=0.101] \n",
      "Testing: 100%|██████████| 625/625 [00:13<00:00, 47.94it/s, loss=0.179] \n"
     ]
    },
    {
     "name": "stdout",
     "output_type": "stream",
     "text": [
      "Test Loss: 0.1918, Accuracy: 91.79%\n",
      "Epoch [59/60], Train Loss: 0.2019, Val Loss: 0.1918\n"
     ]
    },
    {
     "name": "stderr",
     "output_type": "stream",
     "text": [
      "Epoch 60/60: 100%|██████████| 5000/5000 [01:33<00:00, 53.27it/s, loss=0.168] \n",
      "Testing: 100%|██████████| 625/625 [00:13<00:00, 45.79it/s, loss=0.237] \n"
     ]
    },
    {
     "name": "stdout",
     "output_type": "stream",
     "text": [
      "Test Loss: 0.2100, Accuracy: 91.00%\n",
      "Epoch [60/60], Train Loss: 0.2010, Val Loss: 0.2100\n",
      "Training log saved to ./Logs/log_summary_Z_10GeV_200_NT.csv\n",
      "Training complete!\n"
     ]
    }
   ],
   "source": [
    "\n",
    "if __name__ == \"__main__\":\n",
    "    #Train the model\n",
    "    train_model(model, train_loader,val_loader=val_loader, num_epochs=60, learning_rate=5e-4, device=device)"
   ]
  },
  {
   "cell_type": "code",
   "execution_count": 8,
   "metadata": {},
   "outputs": [
    {
     "name": "stdout",
     "output_type": "stream",
     "text": [
      "./Models/Z_10GeV_200_NT.pth\n"
     ]
    },
    {
     "data": {
      "text/plain": [
       "DeepSet(\n",
       "  (sequential): ModuleList(\n",
       "    (0): DeepSetLayer(\n",
       "      (Gamma): Linear(in_features=4, out_features=80, bias=True)\n",
       "      (Lambda): Linear(in_features=4, out_features=80, bias=True)\n",
       "      (bn): BatchNorm1d(80, eps=1e-05, momentum=0.1, affine=False, track_running_stats=True)\n",
       "    )\n",
       "    (1): LeakyReLU(negative_slope=0.01)\n",
       "    (2): DeepSetLayer(\n",
       "      (Gamma): Linear(in_features=80, out_features=120, bias=True)\n",
       "      (Lambda): Linear(in_features=80, out_features=120, bias=True)\n",
       "      (bn): BatchNorm1d(120, eps=1e-05, momentum=0.1, affine=False, track_running_stats=True)\n",
       "    )\n",
       "    (3): LeakyReLU(negative_slope=0.01)\n",
       "    (4): DeepSetLayer(\n",
       "      (Gamma): Linear(in_features=120, out_features=70, bias=True)\n",
       "      (Lambda): Linear(in_features=120, out_features=70, bias=True)\n",
       "      (bn): BatchNorm1d(70, eps=1e-05, momentum=0.1, affine=False, track_running_stats=True)\n",
       "    )\n",
       "    (5): LeakyReLU(negative_slope=0.01)\n",
       "    (6): DeepSetLayer(\n",
       "      (Gamma): Linear(in_features=70, out_features=50, bias=True)\n",
       "      (Lambda): Linear(in_features=70, out_features=50, bias=True)\n",
       "      (bn): BatchNorm1d(50, eps=1e-05, momentum=0.1, affine=False, track_running_stats=True)\n",
       "    )\n",
       "    (7): LeakyReLU(negative_slope=0.01)\n",
       "    (8): DeepSetLayer(\n",
       "      (Gamma): Linear(in_features=50, out_features=8, bias=True)\n",
       "      (Lambda): Linear(in_features=50, out_features=8, bias=True)\n",
       "      (bn): BatchNorm1d(8, eps=1e-05, momentum=0.1, affine=False, track_running_stats=True)\n",
       "    )\n",
       "    (9): DeepSetLayer(\n",
       "      (Gamma): Linear(in_features=8, out_features=2, bias=True)\n",
       "      (Lambda): Linear(in_features=8, out_features=2, bias=True)\n",
       "      (bn): BatchNorm1d(2, eps=1e-05, momentum=0.1, affine=False, track_running_stats=True)\n",
       "    )\n",
       "  )\n",
       ")"
      ]
     },
     "execution_count": 8,
     "metadata": {},
     "output_type": "execute_result"
    }
   ],
   "source": [
    "model_test = MODEL\n",
    "model_name=f\"./Models/Z_{name}_NT.pth\"\n",
    "print(model_name)\n",
    "model_test.load_state_dict(torch.load(f\"./Models/Z_{name}_NT.pth\",weights_only=True))\n",
    "model_test.to(device)"
   ]
  },
  {
   "cell_type": "code",
   "execution_count": 9,
   "metadata": {},
   "outputs": [
    {
     "name": "stdout",
     "output_type": "stream",
     "text": [
      "45132\n"
     ]
    }
   ],
   "source": [
    "total_params = sum(p.numel() for p in MODEL.parameters())\n",
    "print(total_params)"
   ]
  },
  {
   "cell_type": "code",
   "execution_count": 10,
   "metadata": {},
   "outputs": [],
   "source": [
    "from sklearn.metrics import confusion_matrix, roc_curve, auc\n",
    "import seaborn as sns\n",
    "import matplotlib.pyplot as plt\n",
    "from matplotlib.colors import LinearSegmentedColormap\n",
    "from scipy.stats import beta\n",
    "from matplotlib.font_manager import FontProperties\n",
    "\n",
    "bold_font = FontProperties(weight='bold', size=14)\n",
    "\n",
    "def evaluate_model(model, data_loader, criterion, device, name1=\"model\", return_accuracy=False):\n",
    "    model.eval()\n",
    "    total_loss = 0.0\n",
    "    correct = 0\n",
    "    total = 0\n",
    "    data_loader_tqdm = tqdm(enumerate(data_loader), desc=\"Testing\", total=len(data_loader))\n",
    "    \n",
    "    true_labels = []\n",
    "    pred_labels = []\n",
    "    all_scores = []\n",
    "\n",
    "    with torch.no_grad():\n",
    "        for i, batch in data_loader_tqdm:\n",
    "            parts = batch[\"part\"].to(device)\n",
    "            batch_size, seq_len, feat_dim = parts.shape\n",
    "            parts_np = parts.cpu().numpy().reshape(-1, feat_dim)\n",
    "\n",
    "            qt = QuantileTransformer(output_distribution='normal', random_state=42)\n",
    "            parts_np = qt.fit_transform(parts_np)\n",
    "            parts = torch.tensor(parts_np).reshape(batch_size, seq_len, feat_dim).to(device)\n",
    "\n",
    "            labels = batch[\"label\"].to(device)\n",
    "            outputs = model(parts)\n",
    "            preds = F.softmax(outputs, dim=1)\n",
    "\n",
    "            # Collect soft scores for the positive class (class 1)\n",
    "            all_scores.extend(preds[:, 1].detach().cpu().numpy())\n",
    "            pred_labels.extend(torch.argmax(preds, dim=-1).cpu().numpy())\n",
    "            true_labels.extend(labels.cpu().numpy())\n",
    "\n",
    "            loss = criterion(outputs, labels)\n",
    "            total_loss += loss.item()\n",
    "\n",
    "            if return_accuracy:\n",
    "                _, predicted = torch.max(outputs, 1)\n",
    "                correct += (predicted == labels).sum().item()\n",
    "                total += labels.size(0)\n",
    "\n",
    "    avg_loss = total_loss / len(data_loader)\n",
    "    accuracy = 100 * correct / total if return_accuracy else None\n",
    "\n",
    "    # Confusion Matrix\n",
    "    cm = confusion_matrix(true_labels, pred_labels)\n",
    "    plt.figure(figsize=(10, 8))\n",
    "    colors = [\"#cce5ff\", \"#004c99\"]\n",
    "    cmap = LinearSegmentedColormap.from_list(\"Custom Blue\", colors)\n",
    "    sns.heatmap(cm, annot=True, fmt='d', cmap=cmap,\n",
    "                xticklabels=[\"Proton\", \"Pion\"], yticklabels=[\"Proton\", \"Pion\"],\n",
    "                annot_kws={\"size\": 18, \"weight\": \"bold\"})\n",
    "    \n",
    "    TP, FN = cm[0, 0], cm[0, 1]\n",
    "    FP, TN = cm[1, 0], cm[1, 1]\n",
    "    n_total = TP + TN + FP + FN\n",
    "    n_correct = TP + TN\n",
    "    alpha = 0.32\n",
    "\n",
    "    lower_bound = beta.ppf(alpha / 2, n_correct, n_total - n_correct + 1)\n",
    "    upper_bound = beta.ppf(1 - alpha / 2, n_correct + 1, n_total - n_correct)\n",
    "    \n",
    "    title = f\"Accuracy: {accuracy:.2f}%, 68% CI: [{lower_bound*100:.2f}%, {upper_bound*100:.2f}%]\"\n",
    "    plt.title(title, fontsize=15, weight='bold')\n",
    "    plt.xlabel('Predicted', size=14, weight='bold')\n",
    "    plt.ylabel('True', size=14, weight='bold')\n",
    "    plt.xticks(size=14, weight='bold')\n",
    "    plt.yticks(size=14, weight='bold')\n",
    "    print(f\"./Plots/confusion_matrix_{name}_NT.pdf\")\n",
    "    plt.savefig(f\"./Plots/confusion_matrix_{name}_NT.pdf\", dpi=300, bbox_inches='tight')\n",
    "    plt.close()\n",
    "    print(f\"Confusion Matrix:\\n{cm}\")\n",
    "    print(f\"68% Confidence Interval: [{lower_bound:.4f}, {upper_bound:.4f}]\")\n",
    "\n",
    "    # ROC Curve\n",
    "    y_true = np.array(true_labels)\n",
    "    y_scores = np.array(all_scores)\n",
    "\n",
    "    np.savez(f\"./Scores/scores_{name}_NT.npz\", array1=y_true, array2=y_scores)\n",
    "    fpr, tpr, thresholds = roc_curve(y_true, y_scores)\n",
    "    roc_auc = auc(fpr, tpr)\n",
    "    jscore = tpr - fpr\n",
    "    j_index = np.argmax(jscore)\n",
    "    threshold = thresholds[j_index]\n",
    "    print(f\"Optimal Threshold: {threshold:.4f} (J-Index: {j_index})\")\n",
    "\n",
    "    N_x = sum(y_true == 0)\n",
    "    N_y = sum(y_true == 1)\n",
    "    sigma_fpr = np.sqrt(fpr * (1 - fpr) / N_x)\n",
    "    sigma_tpr = np.sqrt(tpr * (1 - tpr) / N_y)\n",
    "\n",
    "    plt.figure()\n",
    "    plt.plot(fpr, tpr, color='blue', lw=2, label=f'ROC curve (AUC = {roc_auc:.2f} )')\n",
    "    plt.fill_between(fpr, tpr - 5 * sigma_tpr, tpr + 5 * sigma_tpr,\n",
    "                     color='blue', alpha=0.25, label='1-sigma region (PiPR) [5x]')\n",
    "    plt.plot([0, 1], [0, 1], color='gray', lw=2, linestyle='--', label='Random Guess')\n",
    "    plt.xlabel('False Positive Rate', fontsize=16,weight='bold')\n",
    "    plt.ylabel('True Positive Rate', fontsize=16,weight='bold')\n",
    "    plt.xticks(fontsize=14,weight='bold')\n",
    "    plt.yticks(fontsize=14,weight='bold')\n",
    "    plt.title('Receiver Operating Characteristic (ROC)', fontsize=17,weight='bold')\n",
    "    # plt.legend(loc='lower right', fontsize=14, weight='bold')\n",
    "    plt.legend(title=\"\",prop={'weight': 'bold', 'size': 14},title_fontproperties=bold_font, loc='lower right')\n",
    "    plt.grid()\n",
    "    plt.savefig(f\"./Plots/roc_curve_{name}_NT.pdf\")\n",
    "\n",
    "    return (avg_loss, f\"{accuracy:.2f}%\") if return_accuracy else avg_loss\n",
    "\n"
   ]
  },
  {
   "cell_type": "code",
   "execution_count": 11,
   "metadata": {},
   "outputs": [
    {
     "name": "stderr",
     "output_type": "stream",
     "text": [
      "Testing: 100%|██████████| 625/625 [00:13<00:00, 47.05it/s]\n"
     ]
    },
    {
     "name": "stdout",
     "output_type": "stream",
     "text": [
      "./Plots/confusion_matrix_10GeV_200_NT.pdf\n",
      "Confusion Matrix:\n",
      "[[9263  785]\n",
      " [ 923 9029]]\n",
      "68% Confidence Interval: [0.9126, 0.9166]\n",
      "Optimal Threshold: 0.4665 (J-Index: 1843)\n"
     ]
    },
    {
     "data": {
      "text/plain": [
       "(0.19388613932728768, '91.46%')"
      ]
     },
     "execution_count": 11,
     "metadata": {},
     "output_type": "execute_result"
    },
    {
     "data": {
      "image/png": "[encoded data removed]",
      "text/plain": [
       "<Figure size 640x480 with 1 Axes>"
      ]
     },
     "metadata": {},
     "output_type": "display_data"
    }
   ],
   "source": [
    "evaluate_model(model_test, test_loader, nn.CrossEntropyLoss(), device, return_accuracy=True)"
   ]
  }
 ],
 "metadata": {
  "kernelspec": {
   "display_name": "work_env",
   "language": "python",
   "name": "python3"
  },
  "language_info": {
   "codemirror_mode": {
    "name": "ipython",
    "version": 3
   },
   "file_extension": ".py",
   "mimetype": "text/x-python",
   "name": "python",
   "nbconvert_exporter": "python",
   "pygments_lexer": "ipython3",
   "version": "3.12.4"
  }
 },
 "nbformat": 4,
 "nbformat_minor": 2
}
