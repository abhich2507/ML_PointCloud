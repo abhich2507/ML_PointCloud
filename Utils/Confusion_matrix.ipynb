{
 "cells": [
  {
   "cell_type": "code",
   "execution_count": 43,
   "id": "8675138a",
   "metadata": {},
   "outputs": [],
   "source": [
    " from sklearn.metrics import confusion_matrix\n",
    "import matplotlib.pyplot as plt\n",
    "import seaborn as sns\n",
    "from scipy.stats import beta\n",
    "from matplotlib.colors import LinearSegmentedColormap\n",
    "def plot_confusion_matrix_mod(cm,accuracy,name):\n",
    "    \"\"\"\n",
    "    Plots a confusion matrix with confidence intervals for accuracy.\n",
    "\n",
    "    Parameters:\n",
    "    cm (array-like): Confusion matrix.\n",
    "    accuracy (float): Accuracy of the model.\n",
    " \n",
    "    \"\"\"\n",
    "    sns.set(style=\"whitegrid\")\n",
    "    \n",
    "    # accuracy = 100 * sum(true_labels == pred_labels) / len(true_labels)\n",
    "\n",
    "    plt.figure(figsize=(10, 8))\n",
    "    fig,ax = plt.subplots(figsize=(10, 8))\n",
    "    colors = [\"#cce5ff\", \"#004c99\"]\n",
    "    cmap = LinearSegmentedColormap.from_list(\"Custom Blue\", colors)\n",
    "    sns.heatmap(cm, annot=True, fmt='d', cmap=cmap,\n",
    "                xticklabels=[\"Proton\", \"Pion\"], yticklabels=[\"Proton\", \"Pion\"],\n",
    "                annot_kws={\"size\": 38, \"weight\": \"bold\"})\n",
    "    colorbar = ax.collections[0].colorbar\n",
    "    colorbar.ax.tick_params(labelsize=20) \n",
    "    \n",
    "    TP, FN = cm[0, 0], cm[0, 1]\n",
    "    FP, TN = cm[1, 0], cm[1, 1]\n",
    "  \n",
    "    n_total = TP + TN + FP + FN\n",
    "    n_correct = TP + TN\n",
    "    alpha = 0.32\n",
    "\n",
    "    lower_bound = beta.ppf(alpha / 2, n_correct, n_total - n_correct + 1)\n",
    "    upper_bound = beta.ppf(1 - alpha / 2, n_correct + 1, n_total - n_correct)\n",
    "    \n",
    "    title = f\"Accuracy: {accuracy:.2f}%, 68% CI: [{lower_bound*100:.2f}%, {upper_bound*100:.2f}%]\"\n",
    "    title_size = 20\n",
    "    label_size = 20\n",
    "    tick_size = 20\n",
    "    plt.title(title, fontsize=title_size, weight='bold')\n",
    "    plt.xlabel('Predicted', size=label_size, weight='bold')\n",
    "    plt.ylabel('True', size=label_size, weight='bold')\n",
    "    plt.xticks(size=tick_size, weight='bold')\n",
    "    plt.yticks(size=tick_size, weight='bold')\n",
    "    print(f\"./Plots/confusion_matrix_{name}.pdf\")\n",
    "    # plt.show()\n",
    "    plt.savefig(f\"../Plots_large/confusion_matrix_{name}.pdf\", dpi=300, bbox_inches='tight')\n",
    "    plt.close()"
   ]
  },
  {
   "cell_type": "code",
   "execution_count": 44,
   "id": "3b8aedcd",
   "metadata": {},
   "outputs": [
    {
     "name": "stdout",
     "output_type": "stream",
     "text": [
      "./Plots/confusion_matrix_25GeV_200.pdf\n"
     ]
    },
    {
     "data": {
      "text/plain": [
       "<Figure size 1000x800 with 0 Axes>"
      ]
     },
     "metadata": {},
     "output_type": "display_data"
    }
   ],
   "source": [
    "import numpy as np\n",
    "cm=np.array([[8233, 1776], [1403, 8588]])\n",
    "accuracy = 84.11  # Example accuracy value\n",
    "energy,granuarity = 25, 200  # Example energy and granularity values\n",
    "name=f\"{energy}GeV_{granuarity}\"\n",
    "plot_confusion_matrix_mod(cm, accuracy,name)"
   ]
  }
 ],
 "metadata": {
  "kernelspec": {
   "display_name": "work_env",
   "language": "python",
   "name": "python3"
  },
  "language_info": {
   "codemirror_mode": {
    "name": "ipython",
    "version": 3
   },
   "file_extension": ".py",
   "mimetype": "text/x-python",
   "name": "python",
   "nbconvert_exporter": "python",
   "pygments_lexer": "ipython3",
   "version": "3.12.4"
  }
 },
 "nbformat": 4,
 "nbformat_minor": 5
}
