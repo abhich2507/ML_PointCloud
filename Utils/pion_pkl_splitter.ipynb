{
 "cells": [
  {
   "cell_type": "code",
   "execution_count": 3,
   "metadata": {},
   "outputs": [
    {
     "name": "stderr",
     "output_type": "stream",
     "text": [
      "100%|██████████| 100/100 [29:14<00:00, 17.54s/it]"
     ]
    },
    {
     "name": "stdout",
     "output_type": "stream",
     "text": [
      "Splitting and saving completed successfully!\n"
     ]
    },
    {
     "name": "stderr",
     "output_type": "stream",
     "text": [
      "\n"
     ]
    }
   ],
   "source": [
    "## NPY files to smaller pickle files \n",
    "\n",
    "import os\n",
    "import pickle\n",
    "import glob\n",
    "import tqdm\n",
    "\n",
    "\n",
    "input_dir = \"/mnt/c/Users/hnayak/OneDrive - University of Tennessee/PKL_pion_100GeV_100\" \n",
    "# output_dir = \"/mnt/e/100GeV/small_PKL_pion_100GeV_100\" \n",
    "output_dir=\"/mnt/c/Users/hnayak/Documents/100GeV/small_PKL_pion_100GeV_100\"\n",
    "\n",
    "# Ensure output directory exists\n",
    "os.makedirs(output_dir, exist_ok=True)\n",
    "\n",
    "# Get all pickle files in sorted order\n",
    "pkl_files = sorted(glob.glob(os.path.join(input_dir, \"*.pkl\")))\n",
    "\n",
    "# Initialize the counter for sequential numbering\n",
    "global_counter = 1\n",
    "\n",
    "import re  # Regular expressions\n",
    "\n",
    "\n",
    "\n",
    "for idx, pkl_file in tqdm.tqdm(enumerate(pkl_files, start=1), total=len(pkl_files)):\n",
    "    \n",
    "    with open(pkl_file, \"rb\") as f:\n",
    "        dataframes = pickle.load(f)  # Load the list of 1000 dfs\n",
    "        \n",
    "    for df in dataframes:\n",
    "        sproton_filename = os.path.join(output_dir, f\"spion{global_counter}.pkl\")\n",
    "        # df.to_parquet(sproton_filename, engine=\"auto\",compression='snappy')  # or engine=\"fastparquet\"\n",
    "        df.to_pickle(sproton_filename)  \n",
    "        global_counter += 1\n",
    "        \n",
    "\n",
    "print(\"Splitting and saving completed successfully!\")\n"
   ]
  },
  {
   "cell_type": "code",
   "execution_count": 7,
   "metadata": {},
   "outputs": [
    {
     "name": "stdout",
     "output_type": "stream",
     "text": [
      "Number of DataFrames in /mnt/c/Users/hnayak/Documents/PKL_pion_100GeV_200/pion99.pkl: 1000\n"
     ]
    }
   ],
   "source": [
    "import pickle\n",
    "sample_file = \"/mnt/c/Users/hnayak/Documents/PKL_pion_100GeV_200/pion99.pkl\"\n",
    "\n",
    "with open(sample_file, \"rb\") as f:\n",
    "    dataframes = pickle.load(f)  # Load the list of 1000 DataFrames\n",
    "print(f\"Number of DataFrames in {sample_file}: {len(dataframes)}\")"
   ]
  },
  {
   "cell_type": "code",
   "execution_count": 29,
   "metadata": {},
   "outputs": [
    {
     "data": {
      "image/png": "[encoded data removed]",
      "text/plain": [
       "<Figure size 640x480 with 1 Axes>"
      ]
     },
     "metadata": {},
     "output_type": "display_data"
    }
   ],
   "source": [
    "import matplotlib.pyplot as plt\n",
    "import numpy as np\n",
    "import pandas as pd\n",
    "import pickle\n",
    "i=1011\n",
    "f=f\"/mnt/newdisk/2003_data_pkl/PKL_proton/small_proton/sproton{i}.pkl\"\n",
    "with open(f,'rb') as f:\n",
    "    file=pickle.load(f)\n",
    "f1=f\"/mnt/newdisk/2003_data_pkl/PKL_pion/small_pion/spion{i}.pkl\"\n",
    "with open(f1,'rb') as f:\n",
    "    file1=pickle.load(f)\n",
    "file=file[file[\"total_energy\"]>5]\n",
    "file1=file1[file1[\"total_energy\"]>5]\n",
    "plt.Figure(figsize=(10, 6))\n",
    "plt.hist(file[\"z\"], bins=100, alpha=0.5, label=\"x\",color='blue')\n",
    "plt.hist(file1[\"z\"], bins=100, alpha=0.5, label=\"y\",color='red')\n",
    "plt.xlabel(\"z\")\n",
    "plt.ylabel(\"Counts\")\n",
    "plt.show()"
   ]
  },
  {
   "cell_type": "code",
   "execution_count": null,
   "metadata": {},
   "outputs": [],
   "source": [
    "#PKL_files(1000) to small pickle files\n"
   ]
  }
 ],
 "metadata": {
  "kernelspec": {
   "display_name": "work_env",
   "language": "python",
   "name": "python3"
  },
  "language_info": {
   "codemirror_mode": {
    "name": "ipython",
    "version": 3
   },
   "file_extension": ".py",
   "mimetype": "text/x-python",
   "name": "python",
   "nbconvert_exporter": "python",
   "pygments_lexer": "ipython3",
   "version": "3.12.4"
  }
 },
 "nbformat": 4,
 "nbformat_minor": 2
}
