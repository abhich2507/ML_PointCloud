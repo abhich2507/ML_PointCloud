{
 "cells": [
  {
   "cell_type": "code",
   "execution_count": 7,
   "metadata": {},
   "outputs": [],
   "source": [
    "import numpy as np\n",
    "import pandas as pd\n",
    "import torch\n",
    "import open3d as o3d  # For visualization\n",
    "import pickle\n",
    "\n",
    "def create_point_cloud(data_lists):\n",
    "    point_clouds = []\n",
    "    df_list = data_lists\n",
    "    \n",
    "    # Convert list of 1000 DataFrames into one large DataFrame\n",
    "    combined_df = pd.concat(df_list, ignore_index=True)\n",
    "\n",
    "    # Extract spatial (x, y, z) and feature data\n",
    "    points = combined_df.iloc[:, :3].values  # Assuming first 3 columns are (x, y, z)\n",
    "    features = combined_df.iloc[:, 3:].values  # Remaining columns as features\n",
    "\n",
    "    # Stack them into a single tensor for DeepSets\n",
    "    point_cloud = np.hstack((points, features))\n",
    "    point_clouds.append(point_cloud)\n",
    "\n",
    "    return point_clouds\n",
    "\n",
    "# Example Usage\n",
    "# Assuming `data_lists` is a list containing 100 lists, each with 1000 DataFrames\n",
    "with open('/mnt/d/PKL_pion/pion1.pkl', 'rb') as f:\n",
    "    data_lists = pickle.load(f)\n",
    "\n",
    "point_cloud_data = create_point_cloud(data_lists)\n",
    "\n",
    "# Convert to PyTorch tensor for Deep Learning\n",
    "point_cloud_tensor = [torch.tensor(pc, dtype=torch.float32) for pc in point_cloud_data]\n"
   ]
  },
  {
   "cell_type": "code",
   "execution_count": null,
   "metadata": {},
   "outputs": [
    {
     "data": {
      "text/plain": [
       "tensor([[50.0000, 49.0000,  0.0000,  6.4828,  1.3543],\n",
       "        [50.0000, 49.0000,  1.0000,  3.3488,  1.3660],\n",
       "        [49.0000, 49.0000,  1.0000,  2.0286,  1.3716],\n",
       "        ...,\n",
       "        [45.0000, 44.0000, 14.0000,  0.5292,  1.6753],\n",
       "        [43.0000, 42.0000, 16.0000,  0.0911,  1.7277],\n",
       "        [44.0000, 42.0000, 16.0000,  0.4684,  1.7377]])"
      ]
     },
     "execution_count": 11,
     "metadata": {},
     "output_type": "execute_result"
    }
   ],
   "source": [
    "point_cloud_tensor"
   ]
  },
  {
   "cell_type": "code",
   "execution_count": 8,
   "metadata": {},
   "outputs": [
    {
     "name": "stdout",
     "output_type": "stream",
     "text": [
      "\u001b[1;33m[Open3D WARNING] GLFW Error: Wayland: Failed to create XKB compose table\u001b[0;m\n",
      "\u001b[1;33m[Open3D WARNING] GLFW Error: Wayland: The platform does not support setting the window position\u001b[0;m\n",
      "\u001b[1;33m[Open3D WARNING] Failed to initialize GLEW.\u001b[0;m\n",
      "\u001b[1;33m[Open3D WARNING] [DrawGeometries] Failed creating OpenGL window.\u001b[0;m\n"
     ]
    },
    {
     "name": "stderr",
     "output_type": "stream",
     "text": [
      "MESA: error: ZINK: failed to choose pdev\n",
      "libEGL warning: egl: failed to create dri2 screen\n",
      "xkbcommon: ERROR: couldn't find a Compose file for locale \"C.utf8\"\n"
     ]
    }
   ],
   "source": [
    "def visualize_point_cloud(point_cloud):\n",
    "    pcd = o3d.geometry.PointCloud()\n",
    "    pcd.points = o3d.utility.Vector3dVector(point_cloud[:, :3])  # Only (x, y, z)\n",
    "    o3d.visualization.draw_geometries([pcd])\n",
    "\n",
    "visualize_point_cloud(point_cloud_data[0])  # Visualize first point cloud\n"
   ]
  }
 ],
 "metadata": {
  "kernelspec": {
   "display_name": "work_env",
   "language": "python",
   "name": "python3"
  },
  "language_info": {
   "codemirror_mode": {
    "name": "ipython",
    "version": 3
   },
   "file_extension": ".py",
   "mimetype": "text/x-python",
   "name": "python",
   "nbconvert_exporter": "python",
   "pygments_lexer": "ipython3",
   "version": "3.12.4"
  }
 },
 "nbformat": 4,
 "nbformat_minor": 2
}
