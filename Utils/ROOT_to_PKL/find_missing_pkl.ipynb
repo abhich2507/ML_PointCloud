{
 "cells": [
  {
   "cell_type": "code",
   "execution_count": 2,
   "id": "7cd2dac6",
   "metadata": {},
   "outputs": [
    {
     "name": "stdout",
     "output_type": "stream",
     "text": [
      "no. of Missing files: 29\n",
      "pion7.pkl\n",
      "pion8.pkl\n",
      "pion9.pkl\n",
      "pion66.pkl\n",
      "pion67.pkl\n",
      "pion68.pkl\n",
      "pion69.pkl\n",
      "pion70.pkl\n",
      "pion71.pkl\n",
      "pion72.pkl\n",
      "pion73.pkl\n",
      "pion74.pkl\n",
      "pion75.pkl\n",
      "pion76.pkl\n",
      "pion77.pkl\n",
      "pion78.pkl\n",
      "pion79.pkl\n",
      "pion80.pkl\n",
      "pion81.pkl\n",
      "pion82.pkl\n",
      "pion83.pkl\n",
      "pion84.pkl\n",
      "pion85.pkl\n",
      "pion86.pkl\n",
      "pion87.pkl\n",
      "pion88.pkl\n",
      "pion89.pkl\n",
      "pion90.pkl\n",
      "pion91.pkl\n"
     ]
    }
   ],
   "source": [
    "\n",
    "import os\n",
    "\n",
    "# Path to your directory\n",
    "folder =\"/mnt/c/Users/hnayak/OneDrive - University of Tennessee/PKL_pion_25GeV_1\" \n",
    "\n",
    "# Expected filenames\n",
    "expected_files = [f\"pion{num}.pkl\" for num in range(1, 100)]\n",
    "\n",
    "# Actual filenames in the folder\n",
    "existing_files = set(os.listdir(folder))\n",
    "\n",
    "# Find missing files\n",
    "missing_files = [fname for fname in expected_files if fname not in existing_files]\n",
    "\n",
    "print(f\"no. of Missing files: {len(missing_files)}\")\n",
    "for f in missing_files:\n",
    "    print(f)\n"
   ]
  },
  {
   "cell_type": "code",
   "execution_count": 1,
   "id": "3a571ca6",
   "metadata": {},
   "outputs": [
    {
     "name": "stderr",
     "output_type": "stream",
     "text": [
      "+U: line 1: attrib: command not found\n"
     ]
    },
    {
     "data": {
      "text/plain": [
       "CompletedProcess(args=['attrib', '+U', '-P', '/mnt/c/Users/hnayak/OneDrive - University of Tennessee/muograph/POCA_NISER'], returncode=127)"
      ]
     },
     "execution_count": 1,
     "metadata": {},
     "output_type": "execute_result"
    }
   ],
   "source": [
    "import subprocess\n",
    "file_path = \"/mnt/c/Users/hnayak/OneDrive - University of Tennessee/muograph/POCA_NISER\"\n",
    "subprocess.run([\"attrib\", \"+U\", \"-P\", file_path], shell=True)"
   ]
  }
 ],
 "metadata": {
  "kernelspec": {
   "display_name": "work_env",
   "language": "python",
   "name": "python3"
  },
  "language_info": {
   "codemirror_mode": {
    "name": "ipython",
    "version": 3
   },
   "file_extension": ".py",
   "mimetype": "text/x-python",
   "name": "python",
   "nbconvert_exporter": "python",
   "pygments_lexer": "ipython3",
   "version": "3.12.4"
  }
 },
 "nbformat": 4,
 "nbformat_minor": 5
}
