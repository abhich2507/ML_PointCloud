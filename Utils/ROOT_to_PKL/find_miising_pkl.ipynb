{
 "cells": [
  {
   "cell_type": "code",
   "execution_count": 6,
   "id": "7cd2dac6",
   "metadata": {},
   "outputs": [
    {
     "name": "stdout",
     "output_type": "stream",
     "text": [
      "Missing files:\n",
      "pion10.pkl\n",
      "pion36.pkl\n",
      "pion65.pkl\n",
      "pion66.pkl\n"
     ]
    }
   ],
   "source": [
    "\n",
    "import os\n",
    "\n",
    "# Path to your directory\n",
    "folder = \"/mnt/c/Users/hnayak/Documents/PKL_pion_100GeV_100\"\n",
    "\n",
    "# Expected filenames\n",
    "expected_files = [f\"pion{num}.pkl\" for num in range(1, 100)]\n",
    "\n",
    "# Actual filenames in the folder\n",
    "existing_files = set(os.listdir(folder))\n",
    "\n",
    "# Find missing files\n",
    "missing_files = [fname for fname in expected_files if fname not in existing_files]\n",
    "\n",
    "print(\"Missing files:\")\n",
    "for f in missing_files:\n",
    "    print(f)\n"
   ]
  },
  {
   "cell_type": "code",
   "execution_count": 1,
   "id": "3a571ca6",
   "metadata": {},
   "outputs": [
    {
     "name": "stderr",
     "output_type": "stream",
     "text": [
      "+U: line 1: attrib: command not found\n"
     ]
    },
    {
     "data": {
      "text/plain": [
       "CompletedProcess(args=['attrib', '+U', '-P', '/mnt/c/Users/hnayak/OneDrive - University of Tennessee/muograph/POCA_NISER'], returncode=127)"
      ]
     },
     "execution_count": 1,
     "metadata": {},
     "output_type": "execute_result"
    }
   ],
   "source": [
    "import subprocess\n",
    "file_path = \"/mnt/c/Users/hnayak/OneDrive - University of Tennessee/muograph/POCA_NISER\"\n",
    "subprocess.run([\"attrib\", \"+U\", \"-P\", file_path], shell=True)"
   ]
  }
 ],
 "metadata": {
  "kernelspec": {
   "display_name": "root_py39",
   "language": "python",
   "name": "python3"
  },
  "language_info": {
   "codemirror_mode": {
    "name": "ipython",
    "version": 3
   },
   "file_extension": ".py",
   "mimetype": "text/x-python",
   "name": "python",
   "nbconvert_exporter": "python",
   "pygments_lexer": "ipython3",
   "version": "3.9.20"
  }
 },
 "nbformat": 4,
 "nbformat_minor": 5
}
