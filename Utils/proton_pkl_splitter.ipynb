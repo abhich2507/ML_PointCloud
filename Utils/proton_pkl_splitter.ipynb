{
 "cells": [
  {
   "cell_type": "code",
   "execution_count": 2,
   "metadata": {},
   "outputs": [
    {
     "name": "stdout",
     "output_type": "stream",
     "text": [
      "Total files to process: ['/mnt/c/Users/hnayak/OneDrive - University of Tennessee/PKL_proton_25GeV_1/proton1.pkl', '/mnt/c/Users/hnayak/OneDrive - University of Tennessee/PKL_proton_25GeV_1/proton10.pkl', '/mnt/c/Users/hnayak/OneDrive - University of Tennessee/PKL_proton_25GeV_1/proton100.pkl', '/mnt/c/Users/hnayak/OneDrive - University of Tennessee/PKL_proton_25GeV_1/proton11.pkl', '/mnt/c/Users/hnayak/OneDrive - University of Tennessee/PKL_proton_25GeV_1/proton12.pkl', '/mnt/c/Users/hnayak/OneDrive - University of Tennessee/PKL_proton_25GeV_1/proton13.pkl', '/mnt/c/Users/hnayak/OneDrive - University of Tennessee/PKL_proton_25GeV_1/proton14.pkl', '/mnt/c/Users/hnayak/OneDrive - University of Tennessee/PKL_proton_25GeV_1/proton15.pkl', '/mnt/c/Users/hnayak/OneDrive - University of Tennessee/PKL_proton_25GeV_1/proton16.pkl', '/mnt/c/Users/hnayak/OneDrive - University of Tennessee/PKL_proton_25GeV_1/proton17.pkl', '/mnt/c/Users/hnayak/OneDrive - University of Tennessee/PKL_proton_25GeV_1/proton18.pkl', '/mnt/c/Users/hnayak/OneDrive - University of Tennessee/PKL_proton_25GeV_1/proton19.pkl', '/mnt/c/Users/hnayak/OneDrive - University of Tennessee/PKL_proton_25GeV_1/proton2.pkl', '/mnt/c/Users/hnayak/OneDrive - University of Tennessee/PKL_proton_25GeV_1/proton20.pkl', '/mnt/c/Users/hnayak/OneDrive - University of Tennessee/PKL_proton_25GeV_1/proton21.pkl', '/mnt/c/Users/hnayak/OneDrive - University of Tennessee/PKL_proton_25GeV_1/proton22.pkl', '/mnt/c/Users/hnayak/OneDrive - University of Tennessee/PKL_proton_25GeV_1/proton23.pkl', '/mnt/c/Users/hnayak/OneDrive - University of Tennessee/PKL_proton_25GeV_1/proton24.pkl', '/mnt/c/Users/hnayak/OneDrive - University of Tennessee/PKL_proton_25GeV_1/proton25.pkl', '/mnt/c/Users/hnayak/OneDrive - University of Tennessee/PKL_proton_25GeV_1/proton26.pkl', '/mnt/c/Users/hnayak/OneDrive - University of Tennessee/PKL_proton_25GeV_1/proton27.pkl', '/mnt/c/Users/hnayak/OneDrive - University of Tennessee/PKL_proton_25GeV_1/proton28.pkl', '/mnt/c/Users/hnayak/OneDrive - University of Tennessee/PKL_proton_25GeV_1/proton29.pkl', '/mnt/c/Users/hnayak/OneDrive - University of Tennessee/PKL_proton_25GeV_1/proton3.pkl', '/mnt/c/Users/hnayak/OneDrive - University of Tennessee/PKL_proton_25GeV_1/proton30.pkl', '/mnt/c/Users/hnayak/OneDrive - University of Tennessee/PKL_proton_25GeV_1/proton31.pkl', '/mnt/c/Users/hnayak/OneDrive - University of Tennessee/PKL_proton_25GeV_1/proton32.pkl', '/mnt/c/Users/hnayak/OneDrive - University of Tennessee/PKL_proton_25GeV_1/proton33.pkl', '/mnt/c/Users/hnayak/OneDrive - University of Tennessee/PKL_proton_25GeV_1/proton34.pkl', '/mnt/c/Users/hnayak/OneDrive - University of Tennessee/PKL_proton_25GeV_1/proton35.pkl', '/mnt/c/Users/hnayak/OneDrive - University of Tennessee/PKL_proton_25GeV_1/proton36.pkl', '/mnt/c/Users/hnayak/OneDrive - University of Tennessee/PKL_proton_25GeV_1/proton37.pkl', '/mnt/c/Users/hnayak/OneDrive - University of Tennessee/PKL_proton_25GeV_1/proton38.pkl', '/mnt/c/Users/hnayak/OneDrive - University of Tennessee/PKL_proton_25GeV_1/proton39.pkl', '/mnt/c/Users/hnayak/OneDrive - University of Tennessee/PKL_proton_25GeV_1/proton4.pkl', '/mnt/c/Users/hnayak/OneDrive - University of Tennessee/PKL_proton_25GeV_1/proton40.pkl', '/mnt/c/Users/hnayak/OneDrive - University of Tennessee/PKL_proton_25GeV_1/proton41.pkl', '/mnt/c/Users/hnayak/OneDrive - University of Tennessee/PKL_proton_25GeV_1/proton42.pkl', '/mnt/c/Users/hnayak/OneDrive - University of Tennessee/PKL_proton_25GeV_1/proton43.pkl', '/mnt/c/Users/hnayak/OneDrive - University of Tennessee/PKL_proton_25GeV_1/proton44.pkl', '/mnt/c/Users/hnayak/OneDrive - University of Tennessee/PKL_proton_25GeV_1/proton45.pkl', '/mnt/c/Users/hnayak/OneDrive - University of Tennessee/PKL_proton_25GeV_1/proton46.pkl', '/mnt/c/Users/hnayak/OneDrive - University of Tennessee/PKL_proton_25GeV_1/proton47.pkl', '/mnt/c/Users/hnayak/OneDrive - University of Tennessee/PKL_proton_25GeV_1/proton48.pkl', '/mnt/c/Users/hnayak/OneDrive - University of Tennessee/PKL_proton_25GeV_1/proton49.pkl', '/mnt/c/Users/hnayak/OneDrive - University of Tennessee/PKL_proton_25GeV_1/proton5.pkl', '/mnt/c/Users/hnayak/OneDrive - University of Tennessee/PKL_proton_25GeV_1/proton50.pkl', '/mnt/c/Users/hnayak/OneDrive - University of Tennessee/PKL_proton_25GeV_1/proton51.pkl', '/mnt/c/Users/hnayak/OneDrive - University of Tennessee/PKL_proton_25GeV_1/proton52.pkl', '/mnt/c/Users/hnayak/OneDrive - University of Tennessee/PKL_proton_25GeV_1/proton53.pkl', '/mnt/c/Users/hnayak/OneDrive - University of Tennessee/PKL_proton_25GeV_1/proton54.pkl', '/mnt/c/Users/hnayak/OneDrive - University of Tennessee/PKL_proton_25GeV_1/proton55.pkl', '/mnt/c/Users/hnayak/OneDrive - University of Tennessee/PKL_proton_25GeV_1/proton56.pkl', '/mnt/c/Users/hnayak/OneDrive - University of Tennessee/PKL_proton_25GeV_1/proton57.pkl', '/mnt/c/Users/hnayak/OneDrive - University of Tennessee/PKL_proton_25GeV_1/proton58.pkl', '/mnt/c/Users/hnayak/OneDrive - University of Tennessee/PKL_proton_25GeV_1/proton59.pkl', '/mnt/c/Users/hnayak/OneDrive - University of Tennessee/PKL_proton_25GeV_1/proton6.pkl', '/mnt/c/Users/hnayak/OneDrive - University of Tennessee/PKL_proton_25GeV_1/proton60.pkl', '/mnt/c/Users/hnayak/OneDrive - University of Tennessee/PKL_proton_25GeV_1/proton61.pkl', '/mnt/c/Users/hnayak/OneDrive - University of Tennessee/PKL_proton_25GeV_1/proton62.pkl', '/mnt/c/Users/hnayak/OneDrive - University of Tennessee/PKL_proton_25GeV_1/proton63.pkl', '/mnt/c/Users/hnayak/OneDrive - University of Tennessee/PKL_proton_25GeV_1/proton64.pkl', '/mnt/c/Users/hnayak/OneDrive - University of Tennessee/PKL_proton_25GeV_1/proton65.pkl', '/mnt/c/Users/hnayak/OneDrive - University of Tennessee/PKL_proton_25GeV_1/proton66.pkl', '/mnt/c/Users/hnayak/OneDrive - University of Tennessee/PKL_proton_25GeV_1/proton67.pkl', '/mnt/c/Users/hnayak/OneDrive - University of Tennessee/PKL_proton_25GeV_1/proton68.pkl', '/mnt/c/Users/hnayak/OneDrive - University of Tennessee/PKL_proton_25GeV_1/proton69.pkl', '/mnt/c/Users/hnayak/OneDrive - University of Tennessee/PKL_proton_25GeV_1/proton7.pkl', '/mnt/c/Users/hnayak/OneDrive - University of Tennessee/PKL_proton_25GeV_1/proton70.pkl', '/mnt/c/Users/hnayak/OneDrive - University of Tennessee/PKL_proton_25GeV_1/proton71.pkl', '/mnt/c/Users/hnayak/OneDrive - University of Tennessee/PKL_proton_25GeV_1/proton72.pkl', '/mnt/c/Users/hnayak/OneDrive - University of Tennessee/PKL_proton_25GeV_1/proton73.pkl', '/mnt/c/Users/hnayak/OneDrive - University of Tennessee/PKL_proton_25GeV_1/proton74.pkl', '/mnt/c/Users/hnayak/OneDrive - University of Tennessee/PKL_proton_25GeV_1/proton75.pkl', '/mnt/c/Users/hnayak/OneDrive - University of Tennessee/PKL_proton_25GeV_1/proton76.pkl', '/mnt/c/Users/hnayak/OneDrive - University of Tennessee/PKL_proton_25GeV_1/proton77.pkl', '/mnt/c/Users/hnayak/OneDrive - University of Tennessee/PKL_proton_25GeV_1/proton78.pkl', '/mnt/c/Users/hnayak/OneDrive - University of Tennessee/PKL_proton_25GeV_1/proton79.pkl', '/mnt/c/Users/hnayak/OneDrive - University of Tennessee/PKL_proton_25GeV_1/proton8.pkl', '/mnt/c/Users/hnayak/OneDrive - University of Tennessee/PKL_proton_25GeV_1/proton80.pkl', '/mnt/c/Users/hnayak/OneDrive - University of Tennessee/PKL_proton_25GeV_1/proton81.pkl', '/mnt/c/Users/hnayak/OneDrive - University of Tennessee/PKL_proton_25GeV_1/proton82.pkl', '/mnt/c/Users/hnayak/OneDrive - University of Tennessee/PKL_proton_25GeV_1/proton83.pkl', '/mnt/c/Users/hnayak/OneDrive - University of Tennessee/PKL_proton_25GeV_1/proton84.pkl', '/mnt/c/Users/hnayak/OneDrive - University of Tennessee/PKL_proton_25GeV_1/proton85.pkl', '/mnt/c/Users/hnayak/OneDrive - University of Tennessee/PKL_proton_25GeV_1/proton86.pkl', '/mnt/c/Users/hnayak/OneDrive - University of Tennessee/PKL_proton_25GeV_1/proton87.pkl', '/mnt/c/Users/hnayak/OneDrive - University of Tennessee/PKL_proton_25GeV_1/proton88.pkl', '/mnt/c/Users/hnayak/OneDrive - University of Tennessee/PKL_proton_25GeV_1/proton89.pkl', '/mnt/c/Users/hnayak/OneDrive - University of Tennessee/PKL_proton_25GeV_1/proton9.pkl', '/mnt/c/Users/hnayak/OneDrive - University of Tennessee/PKL_proton_25GeV_1/proton90.pkl', '/mnt/c/Users/hnayak/OneDrive - University of Tennessee/PKL_proton_25GeV_1/proton91.pkl', '/mnt/c/Users/hnayak/OneDrive - University of Tennessee/PKL_proton_25GeV_1/proton92.pkl', '/mnt/c/Users/hnayak/OneDrive - University of Tennessee/PKL_proton_25GeV_1/proton93.pkl', '/mnt/c/Users/hnayak/OneDrive - University of Tennessee/PKL_proton_25GeV_1/proton94.pkl', '/mnt/c/Users/hnayak/OneDrive - University of Tennessee/PKL_proton_25GeV_1/proton95.pkl', '/mnt/c/Users/hnayak/OneDrive - University of Tennessee/PKL_proton_25GeV_1/proton96.pkl', '/mnt/c/Users/hnayak/OneDrive - University of Tennessee/PKL_proton_25GeV_1/proton97.pkl', '/mnt/c/Users/hnayak/OneDrive - University of Tennessee/PKL_proton_25GeV_1/proton98.pkl', '/mnt/c/Users/hnayak/OneDrive - University of Tennessee/PKL_proton_25GeV_1/proton99.pkl']\n"
     ]
    },
    {
     "name": "stderr",
     "output_type": "stream",
     "text": [
      "100%|██████████| 100/100 [07:33<00:00,  4.53s/it]"
     ]
    },
    {
     "name": "stdout",
     "output_type": "stream",
     "text": [
      "Splitting and saving completed successfully!\n"
     ]
    },
    {
     "name": "stderr",
     "output_type": "stream",
     "text": [
      "\n"
     ]
    }
   ],
   "source": [
    "\n",
    "import os\n",
    "import pickle\n",
    "import glob\n",
    "import tqdm\n",
    "\n",
    "input_dir =\"/mnt/c/Users/hnayak/OneDrive - University of Tennessee/PKL_proton_25GeV_1\" \n",
    "output_dir = \"/mnt/c/Users/hnayak/Documents/25GeV/small_PKL_proton_25GeV_1\" \n",
    "\n",
    "# Ensure output directory exists\n",
    "os.makedirs(output_dir, exist_ok=True)\n",
    "\n",
    "# Get all pickle files in sorted order\n",
    "pkl_files = sorted(glob.glob(os.path.join(input_dir, \"*.pkl\")))\n",
    "# start_index = 93\n",
    "# pkl_files = pkl_files[start_index:]\n",
    "print(f\"Total files to process: {(pkl_files)}\")\n",
    "# Initialize the counter for sequential numbering\n",
    "global_counter = 1\n",
    "\n",
    "for idx, pkl_file in tqdm.tqdm(enumerate(pkl_files, start=1 ), total=len(pkl_files)):\n",
    "    # print(f\"Processing file {idx}: {pkl_file}\")\n",
    "    with open(pkl_file, \"rb\") as f:\n",
    "        dataframes = pickle.load(f)  # Load the list of 1000 DataFrames\n",
    "\n",
    "    # Save each DataFrame to a Parquet file\n",
    "    for df in dataframes:\n",
    "        sproton_filename = os.path.join(output_dir, f\"sproton{global_counter}.pkl\")\n",
    "    \n",
    "        df.to_pickle(sproton_filename)\n",
    "        global_counter += 1\n",
    "\n",
    "\n",
    "print(\"Splitting and saving completed successfully!\")\n"
   ]
  },
  {
   "cell_type": "code",
   "execution_count": 12,
   "metadata": {},
   "outputs": [
    {
     "name": "stdout",
     "output_type": "stream",
     "text": [
      "Total input .pkl files: 100\n",
      "Used files (up to sproton93000.pkl): 93\n",
      "Used .pkl filenames:\n",
      "  proton1.pkl\n",
      "  proton2.pkl\n",
      "  proton3.pkl\n",
      "  proton4.pkl\n",
      "  proton5.pkl\n",
      "  proton6.pkl\n",
      "  proton7.pkl\n",
      "  proton8.pkl\n",
      "  proton9.pkl\n",
      "  proton10.pkl\n",
      "  proton11.pkl\n",
      "  proton12.pkl\n",
      "  proton13.pkl\n",
      "  proton14.pkl\n",
      "  proton15.pkl\n",
      "  proton16.pkl\n",
      "  proton17.pkl\n",
      "  proton18.pkl\n",
      "  proton19.pkl\n",
      "  proton20.pkl\n",
      "  proton21.pkl\n",
      "  proton22.pkl\n",
      "  proton23.pkl\n",
      "  proton24.pkl\n",
      "  proton25.pkl\n",
      "  proton26.pkl\n",
      "  proton27.pkl\n",
      "  proton28.pkl\n",
      "  proton29.pkl\n",
      "  proton30.pkl\n",
      "  proton31.pkl\n",
      "  proton32.pkl\n",
      "  proton33.pkl\n",
      "  proton34.pkl\n",
      "  proton35.pkl\n",
      "  proton36.pkl\n",
      "  proton37.pkl\n",
      "  proton38.pkl\n",
      "  proton39.pkl\n",
      "  proton40.pkl\n",
      "  proton41.pkl\n",
      "  proton42.pkl\n",
      "  proton43.pkl\n",
      "  proton44.pkl\n",
      "  proton45.pkl\n",
      "  proton46.pkl\n",
      "  proton47.pkl\n",
      "  proton48.pkl\n",
      "  proton49.pkl\n",
      "  proton50.pkl\n",
      "  proton51.pkl\n",
      "  proton52.pkl\n",
      "  proton53.pkl\n",
      "  proton54.pkl\n",
      "  proton55.pkl\n",
      "  proton56.pkl\n",
      "  proton57.pkl\n",
      "  proton58.pkl\n",
      "  proton59.pkl\n",
      "  proton60.pkl\n",
      "  proton61.pkl\n",
      "  proton62.pkl\n",
      "  proton63.pkl\n",
      "  proton64.pkl\n",
      "  proton65.pkl\n",
      "  proton66.pkl\n",
      "  proton67.pkl\n",
      "  proton68.pkl\n",
      "  proton69.pkl\n",
      "  proton70.pkl\n",
      "  proton71.pkl\n",
      "  proton72.pkl\n",
      "  proton73.pkl\n",
      "  proton74.pkl\n",
      "  proton75.pkl\n",
      "  proton76.pkl\n",
      "  proton77.pkl\n",
      "  proton78.pkl\n",
      "  proton79.pkl\n",
      "  proton80.pkl\n",
      "  proton81.pkl\n",
      "  proton82.pkl\n",
      "  proton83.pkl\n",
      "  proton84.pkl\n",
      "  proton85.pkl\n",
      "  proton86.pkl\n",
      "  proton87.pkl\n",
      "  proton88.pkl\n",
      "  proton89.pkl\n",
      "  proton90.pkl\n",
      "  proton91.pkl\n",
      "  proton92.pkl\n",
      "  proton93.pkl\n",
      "\n",
      "Remaining .pkl filenames:\n",
      "  proton94.pkl\n",
      "  proton95.pkl\n",
      "  proton96.pkl\n",
      "  proton97.pkl\n",
      "  proton98.pkl\n",
      "  proton99.pkl\n",
      "  proton100.pkl\n"
     ]
    }
   ],
   "source": [
    "import os\n",
    "import glob\n",
    "import re\n",
    "\n",
    "input_dir = \"/mnt/c/Users/hnayak/OneDrive - University of Tennessee/PKL_proton_100GeV_100\"\n",
    "output_dir = \"/mnt/c/Users/hnayak/Documents/100GeV/small_PKL_proton_100GeV_100\"\n",
    "\n",
    "# Get all .pkl files\n",
    "pkl_files = glob.glob(os.path.join(input_dir, \"*.pkl\"))\n",
    "\n",
    "# Sort files numerically by extracting the number\n",
    "def extract_number(filename):\n",
    "    match = re.search(r'(\\d+)\\.pkl$', os.path.basename(filename))\n",
    "    return int(match.group(1)) if match else -1\n",
    "\n",
    "pkl_files_sorted = sorted(pkl_files, key=extract_number)\n",
    "\n",
    "# Determine how many full .pkl files were used to create 93000 output files\n",
    "files_used = 93000 // 1000  # 93 full input .pkl files\n",
    "\n",
    "# Used and remaining files\n",
    "used_files = pkl_files_sorted[:files_used]\n",
    "remaining_files = pkl_files_sorted[files_used:]\n",
    "\n",
    "print(f\"Total input .pkl files: {len(pkl_files_sorted)}\")\n",
    "print(f\"Used files (up to sproton93000.pkl): {files_used}\")\n",
    "print(\"Used .pkl filenames:\")\n",
    "for f in used_files:\n",
    "    print(\" \", os.path.basename(f))\n",
    "\n",
    "print(\"\\nRemaining .pkl filenames:\")\n",
    "for f in remaining_files:\n",
    "    print(\" \", os.path.basename(f))\n"
   ]
  },
  {
   "cell_type": "code",
   "execution_count": 2,
   "metadata": {},
   "outputs": [
    {
     "name": "stdout",
     "output_type": "stream",
     "text": [
      "Loading data from .pkl files...\n"
     ]
    },
    {
     "name": "stderr",
     "output_type": "stream",
     "text": [
      "Reading files:   9%|▉         | 9/100 [00:51<08:38,  5.70s/it]\n"
     ]
    },
    {
     "ename": "KeyboardInterrupt",
     "evalue": "",
     "output_type": "error",
     "traceback": [
      "\u001b[0;31m---------------------------------------------------------------------------\u001b[0m",
      "\u001b[0;31mKeyboardInterrupt\u001b[0m                         Traceback (most recent call last)",
      "Cell \u001b[0;32mIn[2], line 37\u001b[0m\n\u001b[1;32m     35\u001b[0m index_offset \u001b[38;5;241m=\u001b[39m \u001b[38;5;241m1\u001b[39m\n\u001b[1;32m     36\u001b[0m \u001b[38;5;28;01mfor\u001b[39;00m pkl_file \u001b[38;5;129;01min\u001b[39;00m tqdm\u001b[38;5;241m.\u001b[39mtqdm(pkl_files, desc\u001b[38;5;241m=\u001b[39m\u001b[38;5;124m\"\u001b[39m\u001b[38;5;124mReading files\u001b[39m\u001b[38;5;124m\"\u001b[39m):\n\u001b[0;32m---> 37\u001b[0m     df_with_indices \u001b[38;5;241m=\u001b[39m \u001b[43mprocess_file\u001b[49m\u001b[43m(\u001b[49m\u001b[43mindex_offset\u001b[49m\u001b[43m,\u001b[49m\u001b[43m \u001b[49m\u001b[43mpkl_file\u001b[49m\u001b[43m)\u001b[49m\n\u001b[1;32m     38\u001b[0m     all_pairs\u001b[38;5;241m.\u001b[39mextend(df_with_indices)\n\u001b[1;32m     39\u001b[0m     index_offset \u001b[38;5;241m+\u001b[39m\u001b[38;5;241m=\u001b[39m \u001b[38;5;28mlen\u001b[39m(df_with_indices)\n",
      "Cell \u001b[0;32mIn[2], line 24\u001b[0m, in \u001b[0;36mprocess_file\u001b[0;34m(index_offset, pkl_file)\u001b[0m\n\u001b[1;32m     22\u001b[0m \u001b[38;5;28;01mdef\u001b[39;00m \u001b[38;5;21mprocess_file\u001b[39m(index_offset, pkl_file):\n\u001b[1;32m     23\u001b[0m     \u001b[38;5;28;01mwith\u001b[39;00m \u001b[38;5;28mopen\u001b[39m(pkl_file, \u001b[38;5;124m\"\u001b[39m\u001b[38;5;124mrb\u001b[39m\u001b[38;5;124m\"\u001b[39m) \u001b[38;5;28;01mas\u001b[39;00m f:\n\u001b[0;32m---> 24\u001b[0m         dataframes \u001b[38;5;241m=\u001b[39m \u001b[43mpickle\u001b[49m\u001b[38;5;241;43m.\u001b[39;49m\u001b[43mload\u001b[49m\u001b[43m(\u001b[49m\u001b[43mf\u001b[49m\u001b[43m)\u001b[49m\n\u001b[1;32m     26\u001b[0m     \u001b[38;5;66;03m# Pair each df with its global index\u001b[39;00m\n\u001b[1;32m     27\u001b[0m     \u001b[38;5;28;01mreturn\u001b[39;00m [(df, index_offset \u001b[38;5;241m+\u001b[39m i) \u001b[38;5;28;01mfor\u001b[39;00m i, df \u001b[38;5;129;01min\u001b[39;00m \u001b[38;5;28menumerate\u001b[39m(dataframes, start\u001b[38;5;241m=\u001b[39m\u001b[38;5;241m1\u001b[39m)]\n",
      "File \u001b[0;32minternals.pyx:629\u001b[0m, in \u001b[0;36mpandas._libs.internals._unpickle_block\u001b[0;34m()\u001b[0m\n",
      "File \u001b[0;32m~/anaconda3/envs/work_env/lib/python3.12/site-packages/pandas/core/internals/blocks.py:2645\u001b[0m, in \u001b[0;36mmaybe_coerce_values\u001b[0;34m(values)\u001b[0m\n\u001b[1;32m   2638\u001b[0m     \u001b[38;5;18m__slots__\u001b[39m \u001b[38;5;241m=\u001b[39m ()\n\u001b[1;32m   2641\u001b[0m \u001b[38;5;66;03m# -----------------------------------------------------------------\u001b[39;00m\n\u001b[1;32m   2642\u001b[0m \u001b[38;5;66;03m# Constructor Helpers\u001b[39;00m\n\u001b[0;32m-> 2645\u001b[0m \u001b[38;5;28;01mdef\u001b[39;00m \u001b[38;5;21mmaybe_coerce_values\u001b[39m(values: ArrayLike) \u001b[38;5;241m-\u001b[39m\u001b[38;5;241m>\u001b[39m ArrayLike:\n\u001b[1;32m   2646\u001b[0m \u001b[38;5;250m    \u001b[39m\u001b[38;5;124;03m\"\"\"\u001b[39;00m\n\u001b[1;32m   2647\u001b[0m \u001b[38;5;124;03m    Input validation for values passed to __init__. Ensure that\u001b[39;00m\n\u001b[1;32m   2648\u001b[0m \u001b[38;5;124;03m    any datetime64/timedelta64 dtypes are in nanoseconds.  Ensure\u001b[39;00m\n\u001b[0;32m   (...)\u001b[0m\n\u001b[1;32m   2657\u001b[0m \u001b[38;5;124;03m    values : np.ndarray or ExtensionArray\u001b[39;00m\n\u001b[1;32m   2658\u001b[0m \u001b[38;5;124;03m    \"\"\"\u001b[39;00m\n\u001b[1;32m   2659\u001b[0m     \u001b[38;5;66;03m# Caller is responsible for ensuring NumpyExtensionArray is already extracted.\u001b[39;00m\n",
      "\u001b[0;31mKeyboardInterrupt\u001b[0m: "
     ]
    }
   ],
   "source": [
    "import os\n",
    "import pickle\n",
    "import glob\n",
    "import tqdm\n",
    "import multiprocessing as mp\n",
    "from functools import partial\n",
    "\n",
    "# === Config ===\n",
    "input_dir = \"/mnt/c/Users/hnayak/Documents/PKL_proton_50GeV_50\"\n",
    "output_dir = \"./small_PKL_proton_50GeV_50\"\n",
    "os.makedirs(output_dir, exist_ok=True)\n",
    "\n",
    "pkl_files = sorted(glob.glob(os.path.join(input_dir, \"*.pkl\")))\n",
    "\n",
    "# === Worker Function ===\n",
    "def save_dataframe(df_with_index, output_dir):\n",
    "    df, index = df_with_index\n",
    "    filename = os.path.join(output_dir, f\"sproton{index}.pkl\")\n",
    "    df.to_pickle(filename)\n",
    "\n",
    "# === Parallel Processing ===\n",
    "def process_file(index_offset, pkl_file):\n",
    "    with open(pkl_file, \"rb\") as f:\n",
    "        dataframes = pickle.load(f)\n",
    "\n",
    "    # Pair each df with its global index\n",
    "    return [(df, index_offset + i) for i, df in enumerate(dataframes, start=1)]\n",
    "\n",
    "# === Main ===\n",
    "if __name__ == \"__main__\":\n",
    "    all_pairs = []\n",
    "    print(\"Loading data from .pkl files...\")\n",
    "\n",
    "    # First, read all files and prepare (df, index) tuples\n",
    "    index_offset = 1\n",
    "    for pkl_file in tqdm.tqdm(pkl_files, desc=\"Reading files\"):\n",
    "        df_with_indices = process_file(index_offset, pkl_file)\n",
    "        all_pairs.extend(df_with_indices)\n",
    "        index_offset += len(df_with_indices)\n",
    "\n",
    "    print(f\"Saving {len(all_pairs)} DataFrames using multiprocessing...\")\n",
    "\n",
    "    with mp.Pool(mp.cpu_count()) as pool:\n",
    "        pool.map(partial(save_dataframe, output_dir=output_dir), all_pairs)\n",
    "\n",
    "    print(\"Parallel splitting and saving completed successfully!\")\n"
   ]
  },
  {
   "cell_type": "code",
   "execution_count": 18,
   "metadata": {},
   "outputs": [
    {
     "name": "stdout",
     "output_type": "stream",
     "text": [
      "Failed to load /mnt/c/Users/hnayak/Documents/PKL_proton_100GeV_100/proton41.pkl: pickle data was truncated\n",
      "Failed to load /mnt/c/Users/hnayak/Documents/PKL_proton_100GeV_100/proton71.pkl: pickle data was truncated\n"
     ]
    }
   ],
   "source": [
    "import pickle\n",
    "import gc\n",
    "\n",
    "for i in range(40, 101):\n",
    "    sample_file = f\"/mnt/c/Users/hnayak/Documents/PKL_proton_100GeV_100/proton{i}.pkl\"\n",
    "    # print(f\"Loading {sample_file}...\")\n",
    "\n",
    "    try:\n",
    "        with open(sample_file, \"rb\") as f:\n",
    "            dataframes = pickle.load(f)  # Attempt to load the file\n",
    "        # print(f\"Number of DataFrames in {sample_file}: {len(dataframes)}\")\n",
    "        del dataframes\n",
    "        gc.collect()\n",
    "    except Exception as e:\n",
    "        print(f\"Failed to load {sample_file}: {e}\")\n",
    "        continue\n"
   ]
  },
  {
   "cell_type": "code",
   "execution_count": 12,
   "metadata": {},
   "outputs": [
    {
     "name": "stdout",
     "output_type": "stream",
     "text": [
      "Loading /mnt/c/Users/hnayak/Documents/PKL_proton_100GeV_100/proton16.pkl...\n"
     ]
    },
    {
     "ename": "EOFError",
     "evalue": "Ran out of input",
     "output_type": "error",
     "traceback": [
      "\u001b[0;31m---------------------------------------------------------------------------\u001b[0m",
      "\u001b[0;31mEOFError\u001b[0m                                  Traceback (most recent call last)",
      "Cell \u001b[0;32mIn[12], line 4\u001b[0m\n\u001b[1;32m      2\u001b[0m \u001b[38;5;28mprint\u001b[39m(\u001b[38;5;124mf\u001b[39m\u001b[38;5;124m\"\u001b[39m\u001b[38;5;124mLoading \u001b[39m\u001b[38;5;132;01m{\u001b[39;00msample_file\u001b[38;5;132;01m}\u001b[39;00m\u001b[38;5;124m...\u001b[39m\u001b[38;5;124m\"\u001b[39m)\n\u001b[1;32m      3\u001b[0m \u001b[38;5;28;01mwith\u001b[39;00m \u001b[38;5;28mopen\u001b[39m(sample_file, \u001b[38;5;124m\"\u001b[39m\u001b[38;5;124mrb\u001b[39m\u001b[38;5;124m\"\u001b[39m) \u001b[38;5;28;01mas\u001b[39;00m f:\n\u001b[0;32m----> 4\u001b[0m     dataframes \u001b[38;5;241m=\u001b[39m \u001b[43mpickle\u001b[49m\u001b[38;5;241;43m.\u001b[39;49m\u001b[43mload\u001b[49m\u001b[43m(\u001b[49m\u001b[43mf\u001b[49m\u001b[43m)\u001b[49m  \u001b[38;5;66;03m# Load the list of 1000 DataFrames\u001b[39;00m\n\u001b[1;32m      5\u001b[0m \u001b[38;5;66;03m# Force garbage collection\u001b[39;00m\n\u001b[1;32m      6\u001b[0m \u001b[38;5;28mprint\u001b[39m(\u001b[38;5;124mf\u001b[39m\u001b[38;5;124m\"\u001b[39m\u001b[38;5;124mNumber of DataFrames in \u001b[39m\u001b[38;5;132;01m{\u001b[39;00msample_file\u001b[38;5;132;01m}\u001b[39;00m\u001b[38;5;124m: \u001b[39m\u001b[38;5;132;01m{\u001b[39;00m\u001b[38;5;28mlen\u001b[39m(dataframes)\u001b[38;5;132;01m}\u001b[39;00m\u001b[38;5;124m\"\u001b[39m)\n",
      "\u001b[0;31mEOFError\u001b[0m: Ran out of input"
     ]
    }
   ],
   "source": [
    "sample_file = \"/mnt/c/Users/hnayak/Documents/PKL_proton_100GeV_100/proton16.pkl\"\n",
    "print(f\"Loading {sample_file}...\")\n",
    "with open(sample_file, \"rb\") as f:\n",
    "    dataframes = pickle.load(f)  # Load the list of 1000 DataFrames\n",
    "# Force garbage collection\n",
    "print(f\"Number of DataFrames in {sample_file}: {len(dataframes)}\")"
   ]
  },
  {
   "cell_type": "code",
   "execution_count": null,
   "metadata": {},
   "outputs": [],
   "source": []
  },
  {
   "cell_type": "code",
   "execution_count": 29,
   "metadata": {},
   "outputs": [
    {
     "data": {
      "image/png": "[encoded data removed]",
      "text/plain": [
       "<Figure size 640x480 with 1 Axes>"
      ]
     },
     "metadata": {},
     "output_type": "display_data"
    }
   ],
   "source": [
    "import matplotlib.pyplot as plt\n",
    "import numpy as np\n",
    "import pandas as pd\n",
    "import pickle\n",
    "i=1011\n",
    "f=f\"/mnt/newdisk/2003_data_pkl/PKL_proton/small_proton/sproton{i}.pkl\"\n",
    "with open(f,'rb') as f:\n",
    "    file=pickle.load(f)\n",
    "f1=f\"/mnt/newdisk/2003_data_pkl/PKL_pion/small_pion/spion{i}.pkl\"\n",
    "with open(f1,'rb') as f:\n",
    "    file1=pickle.load(f)\n",
    "file=file[file[\"total_energy\"]>5]\n",
    "file1=file1[file1[\"total_energy\"]>5]\n",
    "plt.Figure(figsize=(10, 6))\n",
    "plt.hist(file[\"z\"], bins=100, alpha=0.5, label=\"x\",color='blue')\n",
    "plt.hist(file1[\"z\"], bins=100, alpha=0.5, label=\"y\",color='red')\n",
    "plt.xlabel(\"z\")\n",
    "plt.ylabel(\"Counts\")\n",
    "plt.show()"
   ]
  },
  {
   "cell_type": "code",
   "execution_count": null,
   "metadata": {},
   "outputs": [],
   "source": [
    "#PKL_files(1000) to small pickle files\n"
   ]
  }
 ],
 "metadata": {
  "kernelspec": {
   "display_name": "work_env",
   "language": "python",
   "name": "python3"
  },
  "language_info": {
   "codemirror_mode": {
    "name": "ipython",
    "version": 3
   },
   "file_extension": ".py",
   "mimetype": "text/x-python",
   "name": "python",
   "nbconvert_exporter": "python",
   "pygments_lexer": "ipython3",
   "version": "3.12.4"
  }
 },
 "nbformat": 4,
 "nbformat_minor": 2
}
