{
 "cells": [
  {
   "cell_type": "code",
   "execution_count": 1,
   "metadata": {},
   "outputs": [
    {
     "name": "stdout",
     "output_type": "stream",
     "text": [
      "pool:  mean\n",
      "pool:  mean\n",
      "pool:  mean\n",
      "pool:  mean\n",
      "pool:  mean\n",
      "pool:  mean\n"
     ]
    }
   ],
   "source": [
    "from deepset import *\n",
    "MODEL = DeepSet(in_features=4, feats=[80,120,70,50,8], n_class=2,pool=\"mean\") #for full dataset Mean pooling, for small dataset Max pooling\n",
    "model=MODEL\n",
    "device=torch.device(\"cuda\" if torch.cuda.is_available() else \"cpu\")\n",
    "model=model.to(device) \n"
   ]
  },
  {
   "cell_type": "code",
   "execution_count": 2,
   "metadata": {},
   "outputs": [],
   "source": [
    "import torch\n",
    "from torch.utils.data import Dataset\n",
    "import pickle\n",
    "import os\n",
    "import numpy as np\n",
    "import random\n",
    "import pandas as pd\n",
    "\n",
    "class StreamingHcaDataset(Dataset): \n",
    "    def __init__(self, proton_dir, pion_dir, features=[\"x\", \"y\", \"z\", \"mean_time\"]):\n",
    "        super().__init__()\n",
    "        \n",
    "        self.proton_files = sorted([os.path.join(proton_dir, f) for f in os.listdir(proton_dir) if f.endswith(\".pkl\")])\n",
    "        self.pion_files = sorted([os.path.join(pion_dir, f) for f in os.listdir(pion_dir) if f.endswith(\".pkl\")])\n",
    "\n",
    "        self.features = features\n",
    "        self.all_files = self.proton_files + self.pion_files  # Combine file lists\n",
    "        self.labels = [0] * len(self.proton_files) + [1] * len(self.pion_files)  # 0 for proton, 1 for pion\n",
    "\n",
    "    def __len__(self):\n",
    "        return len(self.all_files)  # Total number of files\n",
    "\n",
    "    def _load_file(self, file_path, label):\n",
    "        \"\"\"Loads a single pickle file (containing a single DataFrame) and returns point cloud data with labels.\"\"\"\n",
    "        # with open(file_path, \"rb\") as f:\n",
    "        #     df = pickle.load(f)  # Load single DataFrame\n",
    "    \n",
    "        df=pd.read_pickle(file_path)\n",
    "        # df=pd.read_parquet(file_path,engine='fastparquet')\n",
    "        df=df[df[\"total_energy\"]>5]\n",
    "        \n",
    "          \n",
    "        part_feat = df[self.features].to_numpy()\n",
    "\n",
    "        # Handle NaN and Inf values\n",
    "        part_feat[np.isnan(part_feat)] = 0.0\n",
    "        part_feat[np.isinf(part_feat)] = 0.0\n",
    "\n",
    "        return {\n",
    "            \"part\": torch.tensor(part_feat, dtype=torch.float32),\n",
    "            \"label\": torch.tensor(label, dtype=torch.long),\n",
    "            \"seq_length\": torch.tensor(part_feat.shape[0], dtype=torch.long),\n",
    "        }\n",
    "\n",
    "    def __getitem__(self, idx):\n",
    "        random_idx = random.randint(0, len(self.all_files) - 1)  # Pick a random file\n",
    "        file_path = self.all_files[random_idx]\n",
    "        label = self.labels[random_idx]\n",
    "\n",
    "        return self._load_file(file_path, label)  # Return data from the chosen file\n"
   ]
  },
  {
   "cell_type": "code",
   "execution_count": 3,
   "metadata": {},
   "outputs": [],
   "source": [
    "import torch\n",
    "from torch.nn.utils.rnn import pad_sequence\n",
    "\n",
    "def collate_fn(batch):\n",
    "    \"\"\"Custom collate function to handle variable-length point cloud data.\"\"\"\n",
    "    parts = [item[\"part\"] for item in batch]  # List of tensors (each of shape [N, 5])\n",
    "    labels = torch.tensor([item[\"label\"] for item in batch], dtype=torch.long)  # Convert list to tensor\n",
    "    seq_lengths = torch.tensor([item[\"seq_length\"] for item in batch], dtype=torch.long)  # Convert list to tensor\n",
    "\n",
    "    # Pad variable-length tensors to the longest sequence in the batch\n",
    "    padded_parts = pad_sequence(parts, batch_first=True, padding_value=0.0)  # Shape [batch_size, max_seq_len, 5]\n",
    "\n",
    "    return {\"part\": padded_parts, \"label\": labels, \"seq_length\": seq_lengths}\n"
   ]
  },
  {
   "cell_type": "code",
   "execution_count": 4,
   "metadata": {},
   "outputs": [
    {
     "name": "stdout",
     "output_type": "stream",
     "text": [
      "10GeV_200\n",
      "Train: 160000, Validation: 20000, Test: 20000\n"
     ]
    }
   ],
   "source": [
    "\n",
    "energy=\"10\"\n",
    "granularity=\"200\"\n",
    "pion_dir =f\"/mnt/c/Users/hnayak/Documents/{energy}GeV/small_PKL_pion_{energy}GeV_{granularity}\"\n",
    "proton_dir =f\"/mnt/c/Users/hnayak/Documents/{energy}GeV/small_PKL_proton_{energy}GeV_{granularity}\"\n",
    "name=proton_dir.replace(f\"/mnt/c/Users/hnayak/Documents/{energy}GeV/small_PKL_proton_\",\"\")\n",
    "print(name)\n",
    "from torch.utils.data import random_split, DataLoader\n",
    "\n",
    "# Define dataset\n",
    "train_dataset = StreamingHcaDataset(proton_dir=proton_dir, pion_dir=pion_dir)\n",
    "\n",
    "# Define split sizes\n",
    "total_size = len(train_dataset)\n",
    "train_size = int(0.8 * total_size)\n",
    "val_size = int(0.1 * total_size)\n",
    "test_size = total_size - train_size - val_size  # Ensure the sum matches total_size\n",
    "\n",
    "# Split dataset\n",
    "train_set, val_set, test_set = random_split(train_dataset, [train_size, val_size, test_size])\n",
    "\n",
    "# Define DataLoaders\n",
    "train_loader = DataLoader(train_set, batch_size=32, shuffle=True, collate_fn=collate_fn, num_workers=32)\n",
    "val_loader = DataLoader(val_set, batch_size=32, shuffle=False, collate_fn=collate_fn,num_workers=32)\n",
    "test_loader = DataLoader(test_set, batch_size=32, shuffle=False, collate_fn=collate_fn,num_workers=32)\n",
    "\n",
    "\n",
    "print(f\"Train: {train_size}, Validation: {val_size}, Test: {test_size}\")\n",
    "\n"
   ]
  },
  {
   "cell_type": "code",
   "execution_count": 5,
   "metadata": {},
   "outputs": [],
   "source": [
    "import tqdm\n",
    "def test_model(model, test_loader, criterion=None, device=None):\n",
    "    if device is None:\n",
    "        device = torch.device(\"cuda\" if torch.cuda.is_available() else \"cpu\")\n",
    "\n",
    "    model.to(device)\n",
    "    model.eval()  # Set model to evaluation mode\n",
    "\n",
    "    total_loss = 0.0\n",
    "    correct = 0\n",
    "    total_samples = 0\n",
    "\n",
    "    # Progress bar for testing\n",
    "    test_loader_tqdm = tqdm(enumerate(test_loader), total=len(test_loader), desc=\"Testing\")\n",
    "\n",
    "    with torch.no_grad():\n",
    "        for i,batch in test_loader_tqdm:\n",
    "            parts = batch[\"part\"].to(device)         # Input point cloud data\n",
    "            labels = batch[\"label\"].to(device)  # Labels\n",
    "            batch_size,seq_len,feat_dim=parts.shape\n",
    "            parts=parts.cpu().numpy().reshape(-1,feat_dim)\n",
    "            qt = QuantileTransformer(output_distribution='normal', random_state=42)\n",
    "            parts = qt.fit_transform(parts)\n",
    "            parts=torch.tensor(parts).reshape(batch_size,seq_len,feat_dim).to(device)\n",
    "\n",
    "            outputs = model(parts)  # Forward pass\n",
    "            loss = criterion(outputs, labels) if criterion else 0  # Compute loss if provided\n",
    "            total_loss += loss.item()\n",
    "            _, predicted = torch.max(outputs, 1)  # Get class prediction\n",
    "            correct += (predicted == labels).sum().item()\n",
    "            total_samples += labels.size(0)\n",
    "\n",
    "            test_loader_tqdm.set_postfix(loss=loss.item())  # Update progress bar\n",
    "\n",
    "    avg_loss = total_loss / len(test_loader) if criterion else 0\n",
    "    accuracy = correct / total_samples * 100\n",
    "\n",
    "    print(f\"Test Loss: {avg_loss:.4f}, Accuracy: {accuracy:.2f}%\")\n",
    "    return avg_loss , accuracy"
   ]
  },
  {
   "cell_type": "code",
   "execution_count": 6,
   "metadata": {},
   "outputs": [],
   "source": [
    "import torch\n",
    "import torch.nn as nn\n",
    "import torch.optim as optim\n",
    "from tqdm import tqdm\n",
    "import pandas as pd\n",
    "from sklearn.preprocessing import QuantileTransformer\n",
    "\n",
    "def train_model(model, train_loader, val_loader, num_epochs=2, learning_rate=5e-4, device=None, save_path=f\"./Models/Z_{name}_NE.pth\", log_path=f\"./Logs/log_summary_Z_{name}_NE.csv\"):\n",
    "    if device is None:\n",
    "        device = torch.device(\"cuda\" if torch.cuda.is_available() else \"cpu\")\n",
    "\n",
    "    model.to(device)\n",
    "    criterion = nn.CrossEntropyLoss()\n",
    "    optimizer = optim.Adam(model.parameters(), lr=learning_rate)\n",
    "\n",
    "    best_val_loss = float(\"inf\")  # Initialize best loss\n",
    "\n",
    "    log_data = []  # To store log info for CSV\n",
    "\n",
    "    for epoch in range(num_epochs):\n",
    "        model.train()\n",
    "        running_loss = 0.0\n",
    "        train_loader_tqdm = tqdm(enumerate(train_loader), total=len(train_loader), desc=f\"Epoch {epoch+1}/{num_epochs}\")\n",
    "\n",
    "        for i, batch in train_loader_tqdm:\n",
    "            parts = batch[\"part\"].to(device)\n",
    "            batch_size, seq_len, feat_dim = parts.shape\n",
    "            parts = parts.cpu().numpy().reshape(-1, feat_dim)\n",
    "            qt = QuantileTransformer(output_distribution='normal', random_state=42)\n",
    "            parts = qt.fit_transform(parts)\n",
    "            parts = torch.tensor(parts).reshape(batch_size, seq_len, feat_dim).float().to(device)\n",
    "\n",
    "            labels = batch[\"label\"].to(device)\n",
    "\n",
    "            optimizer.zero_grad()\n",
    "            outputs = model(parts)\n",
    "            loss = criterion(outputs, labels)\n",
    "            loss.backward()\n",
    "            optimizer.step()\n",
    "\n",
    "            running_loss += loss.item()\n",
    "            train_loader_tqdm.set_postfix(loss=loss.item())\n",
    "\n",
    "        avg_train_loss = running_loss / len(train_loader)\n",
    "        val_loss, Accuracy = test_model(model, val_loader, criterion, device)\n",
    "         \n",
    "\n",
    "        print(f\"Epoch [{epoch+1}/{num_epochs}], Train Loss: {avg_train_loss:.4f}, Val Loss: {val_loss:.4f}\")\n",
    "\n",
    "        # Save log\n",
    "        log_data.append({\n",
    "            \"Epoch\": epoch + 1,\n",
    "            \"Train Loss\": avg_train_loss,\n",
    "            \"Val Loss\": val_loss,\n",
    "            \"Accuracy\": Accuracy,  # Placeholder for accuracy\n",
    "        })\n",
    "\n",
    "        # Save model if validation improves\n",
    "        if val_loss < best_val_loss:\n",
    "            best_val_loss = val_loss\n",
    "            torch.save(model.state_dict(), save_path)\n",
    "            print(f\"Model saved at epoch {epoch+1} with val loss {val_loss:.4f}\")\n",
    "\n",
    "    # Save the log to CSV\n",
    "    df_log = pd.DataFrame(log_data)\n",
    "    df_log.to_csv(log_path, index=False)\n",
    "    print(f\"Training log saved to {log_path}\")\n",
    "    print(\"Training complete!\")\n"
   ]
  },
  {
   "cell_type": "code",
   "execution_count": 7,
   "metadata": {},
   "outputs": [
    {
     "name": "stderr",
     "output_type": "stream",
     "text": [
      "Epoch 1/60: 100%|██████████| 5000/5000 [01:32<00:00, 54.33it/s, loss=0.438]\n",
      "Testing: 100%|██████████| 625/625 [00:12<00:00, 50.46it/s, loss=0.529]\n"
     ]
    },
    {
     "name": "stdout",
     "output_type": "stream",
     "text": [
      "Test Loss: 0.5201, Accuracy: 73.52%\n",
      "Epoch [1/60], Train Loss: 0.5666, Val Loss: 0.5201\n",
      "Model saved at epoch 1 with val loss 0.5201\n"
     ]
    },
    {
     "name": "stderr",
     "output_type": "stream",
     "text": [
      "Epoch 2/60: 100%|██████████| 5000/5000 [01:34<00:00, 53.17it/s, loss=0.557]\n",
      "Testing: 100%|██████████| 625/625 [00:13<00:00, 45.72it/s, loss=0.665]\n"
     ]
    },
    {
     "name": "stdout",
     "output_type": "stream",
     "text": [
      "Test Loss: 0.5007, Accuracy: 75.19%\n",
      "Epoch [2/60], Train Loss: 0.5179, Val Loss: 0.5007\n",
      "Model saved at epoch 2 with val loss 0.5007\n"
     ]
    },
    {
     "name": "stderr",
     "output_type": "stream",
     "text": [
      "Epoch 3/60: 100%|██████████| 5000/5000 [01:34<00:00, 53.05it/s, loss=0.622]\n",
      "Testing: 100%|██████████| 625/625 [00:13<00:00, 46.68it/s, loss=0.61] \n"
     ]
    },
    {
     "name": "stdout",
     "output_type": "stream",
     "text": [
      "Test Loss: 0.4957, Accuracy: 75.89%\n",
      "Epoch [3/60], Train Loss: 0.5046, Val Loss: 0.4957\n",
      "Model saved at epoch 3 with val loss 0.4957\n"
     ]
    },
    {
     "name": "stderr",
     "output_type": "stream",
     "text": [
      "Epoch 4/60: 100%|██████████| 5000/5000 [01:33<00:00, 53.22it/s, loss=0.423]\n",
      "Testing: 100%|██████████| 625/625 [00:13<00:00, 45.88it/s, loss=0.551]\n"
     ]
    },
    {
     "name": "stdout",
     "output_type": "stream",
     "text": [
      "Test Loss: 0.4835, Accuracy: 76.69%\n",
      "Epoch [4/60], Train Loss: 0.4964, Val Loss: 0.4835\n",
      "Model saved at epoch 4 with val loss 0.4835\n"
     ]
    },
    {
     "name": "stderr",
     "output_type": "stream",
     "text": [
      "Epoch 5/60: 100%|██████████| 5000/5000 [01:34<00:00, 52.86it/s, loss=0.695]\n",
      "Testing: 100%|██████████| 625/625 [00:13<00:00, 46.24it/s, loss=0.467]"
     ]
    },
    {
     "name": "stdout",
     "output_type": "stream",
     "text": [
      "Test Loss: 0.4841, Accuracy: 76.22%\n",
      "Epoch [5/60], Train Loss: 0.4931, Val Loss: 0.4841\n"
     ]
    },
    {
     "name": "stderr",
     "output_type": "stream",
     "text": [
      "\n",
      "Epoch 6/60: 100%|██████████| 5000/5000 [01:32<00:00, 53.89it/s, loss=0.63] \n",
      "Testing: 100%|██████████| 625/625 [00:12<00:00, 48.42it/s, loss=0.643]"
     ]
    },
    {
     "name": "stdout",
     "output_type": "stream",
     "text": [
      "Test Loss: 0.4959, Accuracy: 75.49%\n",
      "Epoch [6/60], Train Loss: 0.4878, Val Loss: 0.4959\n"
     ]
    },
    {
     "name": "stderr",
     "output_type": "stream",
     "text": [
      "\n",
      "Epoch 7/60: 100%|██████████| 5000/5000 [01:32<00:00, 53.78it/s, loss=0.576]\n",
      "Testing: 100%|██████████| 625/625 [00:13<00:00, 46.19it/s, loss=0.521]"
     ]
    },
    {
     "name": "stdout",
     "output_type": "stream",
     "text": [
      "Test Loss: 0.4839, Accuracy: 76.59%\n",
      "Epoch [7/60], Train Loss: 0.4864, Val Loss: 0.4839\n"
     ]
    },
    {
     "name": "stderr",
     "output_type": "stream",
     "text": [
      "\n",
      "Epoch 8/60: 100%|██████████| 5000/5000 [01:34<00:00, 53.02it/s, loss=0.441]\n",
      "Testing: 100%|██████████| 625/625 [00:13<00:00, 46.20it/s, loss=0.403]\n"
     ]
    },
    {
     "name": "stdout",
     "output_type": "stream",
     "text": [
      "Test Loss: 0.4679, Accuracy: 77.60%\n",
      "Epoch [8/60], Train Loss: 0.4825, Val Loss: 0.4679\n",
      "Model saved at epoch 8 with val loss 0.4679\n"
     ]
    },
    {
     "name": "stderr",
     "output_type": "stream",
     "text": [
      "Epoch 9/60: 100%|██████████| 5000/5000 [01:33<00:00, 53.22it/s, loss=0.323]\n",
      "Testing: 100%|██████████| 625/625 [00:13<00:00, 45.92it/s, loss=0.556]\n"
     ]
    },
    {
     "name": "stdout",
     "output_type": "stream",
     "text": [
      "Test Loss: 0.4670, Accuracy: 77.60%\n",
      "Epoch [9/60], Train Loss: 0.4784, Val Loss: 0.4670\n",
      "Model saved at epoch 9 with val loss 0.4670\n"
     ]
    },
    {
     "name": "stderr",
     "output_type": "stream",
     "text": [
      "Epoch 10/60: 100%|██████████| 5000/5000 [01:33<00:00, 53.38it/s, loss=0.492]\n",
      "Testing: 100%|██████████| 625/625 [00:13<00:00, 47.73it/s, loss=0.381]"
     ]
    },
    {
     "name": "stdout",
     "output_type": "stream",
     "text": [
      "Test Loss: 0.4717, Accuracy: 77.30%\n",
      "Epoch [10/60], Train Loss: 0.4735, Val Loss: 0.4717\n"
     ]
    },
    {
     "name": "stderr",
     "output_type": "stream",
     "text": [
      "\n",
      "Epoch 11/60: 100%|██████████| 5000/5000 [01:34<00:00, 53.01it/s, loss=0.411]\n",
      "Testing: 100%|██████████| 625/625 [00:13<00:00, 46.29it/s, loss=0.855]"
     ]
    },
    {
     "name": "stdout",
     "output_type": "stream",
     "text": [
      "Test Loss: 0.4736, Accuracy: 77.01%\n",
      "Epoch [11/60], Train Loss: 0.4737, Val Loss: 0.4736\n"
     ]
    },
    {
     "name": "stderr",
     "output_type": "stream",
     "text": [
      "\n",
      "Epoch 12/60: 100%|██████████| 5000/5000 [01:34<00:00, 52.95it/s, loss=0.483]\n",
      "Testing: 100%|██████████| 625/625 [00:13<00:00, 45.73it/s, loss=0.394]\n"
     ]
    },
    {
     "name": "stdout",
     "output_type": "stream",
     "text": [
      "Test Loss: 0.4626, Accuracy: 77.52%\n",
      "Epoch [12/60], Train Loss: 0.4697, Val Loss: 0.4626\n",
      "Model saved at epoch 12 with val loss 0.4626\n"
     ]
    },
    {
     "name": "stderr",
     "output_type": "stream",
     "text": [
      "Epoch 13/60: 100%|██████████| 5000/5000 [01:33<00:00, 53.52it/s, loss=0.534]\n",
      "Testing: 100%|██████████| 625/625 [00:13<00:00, 46.15it/s, loss=0.357]"
     ]
    },
    {
     "name": "stdout",
     "output_type": "stream",
     "text": [
      "Test Loss: 0.4672, Accuracy: 77.42%\n",
      "Epoch [13/60], Train Loss: 0.4685, Val Loss: 0.4672\n"
     ]
    },
    {
     "name": "stderr",
     "output_type": "stream",
     "text": [
      "\n",
      "Epoch 14/60: 100%|██████████| 5000/5000 [01:33<00:00, 53.28it/s, loss=0.562]\n",
      "Testing: 100%|██████████| 625/625 [00:13<00:00, 45.88it/s, loss=0.42] \n"
     ]
    },
    {
     "name": "stdout",
     "output_type": "stream",
     "text": [
      "Test Loss: 0.4597, Accuracy: 77.96%\n",
      "Epoch [14/60], Train Loss: 0.4647, Val Loss: 0.4597\n",
      "Model saved at epoch 14 with val loss 0.4597\n"
     ]
    },
    {
     "name": "stderr",
     "output_type": "stream",
     "text": [
      "Epoch 15/60: 100%|██████████| 5000/5000 [01:34<00:00, 53.03it/s, loss=0.457]\n",
      "Testing: 100%|██████████| 625/625 [00:13<00:00, 46.31it/s, loss=0.511]"
     ]
    },
    {
     "name": "stdout",
     "output_type": "stream",
     "text": [
      "Test Loss: 0.4622, Accuracy: 77.72%\n",
      "Epoch [15/60], Train Loss: 0.4616, Val Loss: 0.4622\n"
     ]
    },
    {
     "name": "stderr",
     "output_type": "stream",
     "text": [
      "\n",
      "Epoch 16/60: 100%|██████████| 5000/5000 [01:34<00:00, 52.94it/s, loss=0.288]\n",
      "Testing: 100%|██████████| 625/625 [00:12<00:00, 49.28it/s, loss=0.454]\n"
     ]
    },
    {
     "name": "stdout",
     "output_type": "stream",
     "text": [
      "Test Loss: 0.4514, Accuracy: 78.70%\n",
      "Epoch [16/60], Train Loss: 0.4620, Val Loss: 0.4514\n",
      "Model saved at epoch 16 with val loss 0.4514\n"
     ]
    },
    {
     "name": "stderr",
     "output_type": "stream",
     "text": [
      "Epoch 17/60: 100%|██████████| 5000/5000 [01:33<00:00, 53.46it/s, loss=0.541]\n",
      "Testing: 100%|██████████| 625/625 [00:13<00:00, 46.47it/s, loss=0.474]"
     ]
    },
    {
     "name": "stdout",
     "output_type": "stream",
     "text": [
      "Test Loss: 0.4929, Accuracy: 75.39%\n",
      "Epoch [17/60], Train Loss: 0.4575, Val Loss: 0.4929\n"
     ]
    },
    {
     "name": "stderr",
     "output_type": "stream",
     "text": [
      "\n",
      "Epoch 18/60: 100%|██████████| 5000/5000 [01:34<00:00, 52.89it/s, loss=0.399]\n",
      "Testing: 100%|██████████| 625/625 [00:13<00:00, 45.91it/s, loss=0.339]\n"
     ]
    },
    {
     "name": "stdout",
     "output_type": "stream",
     "text": [
      "Test Loss: 0.4508, Accuracy: 78.95%\n",
      "Epoch [18/60], Train Loss: 0.4594, Val Loss: 0.4508\n",
      "Model saved at epoch 18 with val loss 0.4508\n"
     ]
    },
    {
     "name": "stderr",
     "output_type": "stream",
     "text": [
      "Epoch 19/60: 100%|██████████| 5000/5000 [01:32<00:00, 54.28it/s, loss=0.306]\n",
      "Testing: 100%|██████████| 625/625 [00:12<00:00, 51.36it/s, loss=0.56] \n"
     ]
    },
    {
     "name": "stdout",
     "output_type": "stream",
     "text": [
      "Test Loss: 0.4503, Accuracy: 78.91%\n",
      "Epoch [19/60], Train Loss: 0.4566, Val Loss: 0.4503\n",
      "Model saved at epoch 19 with val loss 0.4503\n"
     ]
    },
    {
     "name": "stderr",
     "output_type": "stream",
     "text": [
      "Epoch 20/60: 100%|██████████| 5000/5000 [01:32<00:00, 54.30it/s, loss=0.356]\n",
      "Testing: 100%|██████████| 625/625 [00:13<00:00, 47.67it/s, loss=0.373]\n"
     ]
    },
    {
     "name": "stdout",
     "output_type": "stream",
     "text": [
      "Test Loss: 0.4473, Accuracy: 78.94%\n",
      "Epoch [20/60], Train Loss: 0.4552, Val Loss: 0.4473\n",
      "Model saved at epoch 20 with val loss 0.4473\n"
     ]
    },
    {
     "name": "stderr",
     "output_type": "stream",
     "text": [
      "Epoch 21/60: 100%|██████████| 5000/5000 [01:34<00:00, 53.11it/s, loss=0.582]\n",
      "Testing: 100%|██████████| 625/625 [00:13<00:00, 47.17it/s, loss=0.408]\n"
     ]
    },
    {
     "name": "stdout",
     "output_type": "stream",
     "text": [
      "Test Loss: 0.4446, Accuracy: 79.10%\n",
      "Epoch [21/60], Train Loss: 0.4539, Val Loss: 0.4446\n",
      "Model saved at epoch 21 with val loss 0.4446\n"
     ]
    },
    {
     "name": "stderr",
     "output_type": "stream",
     "text": [
      "Epoch 22/60: 100%|██████████| 5000/5000 [01:33<00:00, 53.21it/s, loss=0.591]\n",
      "Testing: 100%|██████████| 625/625 [00:13<00:00, 45.97it/s, loss=0.355]\n"
     ]
    },
    {
     "name": "stdout",
     "output_type": "stream",
     "text": [
      "Test Loss: 0.4426, Accuracy: 79.12%\n",
      "Epoch [22/60], Train Loss: 0.4539, Val Loss: 0.4426\n",
      "Model saved at epoch 22 with val loss 0.4426\n"
     ]
    },
    {
     "name": "stderr",
     "output_type": "stream",
     "text": [
      "Epoch 23/60: 100%|██████████| 5000/5000 [01:32<00:00, 53.89it/s, loss=0.25] \n",
      "Testing: 100%|██████████| 625/625 [00:12<00:00, 50.00it/s, loss=0.334]\n"
     ]
    },
    {
     "name": "stdout",
     "output_type": "stream",
     "text": [
      "Test Loss: 0.4384, Accuracy: 79.12%\n",
      "Epoch [23/60], Train Loss: 0.4523, Val Loss: 0.4384\n",
      "Model saved at epoch 23 with val loss 0.4384\n"
     ]
    },
    {
     "name": "stderr",
     "output_type": "stream",
     "text": [
      "Epoch 24/60: 100%|██████████| 5000/5000 [01:33<00:00, 53.76it/s, loss=0.486]\n",
      "Testing: 100%|██████████| 625/625 [00:13<00:00, 46.38it/s, loss=0.659]"
     ]
    },
    {
     "name": "stdout",
     "output_type": "stream",
     "text": [
      "Test Loss: 0.4666, Accuracy: 77.27%\n",
      "Epoch [24/60], Train Loss: 0.4503, Val Loss: 0.4666\n"
     ]
    },
    {
     "name": "stderr",
     "output_type": "stream",
     "text": [
      "\n",
      "Epoch 25/60: 100%|██████████| 5000/5000 [01:33<00:00, 53.30it/s, loss=0.868]\n",
      "Testing: 100%|██████████| 625/625 [00:12<00:00, 51.74it/s, loss=0.39] "
     ]
    },
    {
     "name": "stdout",
     "output_type": "stream",
     "text": [
      "Test Loss: 0.4448, Accuracy: 78.85%\n",
      "Epoch [25/60], Train Loss: 0.4516, Val Loss: 0.4448\n"
     ]
    },
    {
     "name": "stderr",
     "output_type": "stream",
     "text": [
      "\n",
      "Epoch 26/60: 100%|██████████| 5000/5000 [01:31<00:00, 54.59it/s, loss=0.732]\n",
      "Testing: 100%|██████████| 625/625 [00:12<00:00, 51.76it/s, loss=0.373]\n"
     ]
    },
    {
     "name": "stdout",
     "output_type": "stream",
     "text": [
      "Test Loss: 0.4538, Accuracy: 78.29%\n",
      "Epoch [26/60], Train Loss: 0.4462, Val Loss: 0.4538\n"
     ]
    },
    {
     "name": "stderr",
     "output_type": "stream",
     "text": [
      "Epoch 27/60: 100%|██████████| 5000/5000 [01:32<00:00, 53.93it/s, loss=0.391]\n",
      "Testing: 100%|██████████| 625/625 [00:13<00:00, 45.96it/s, loss=0.312]"
     ]
    },
    {
     "name": "stdout",
     "output_type": "stream",
     "text": [
      "Test Loss: 0.4390, Accuracy: 79.25%\n",
      "Epoch [27/60], Train Loss: 0.4481, Val Loss: 0.4390\n"
     ]
    },
    {
     "name": "stderr",
     "output_type": "stream",
     "text": [
      "\n",
      "Epoch 28/60: 100%|██████████| 5000/5000 [01:33<00:00, 53.27it/s, loss=0.48] \n",
      "Testing: 100%|██████████| 625/625 [00:13<00:00, 46.49it/s, loss=0.418]"
     ]
    },
    {
     "name": "stdout",
     "output_type": "stream",
     "text": [
      "Test Loss: 0.4572, Accuracy: 78.14%\n",
      "Epoch [28/60], Train Loss: 0.4473, Val Loss: 0.4572\n"
     ]
    },
    {
     "name": "stderr",
     "output_type": "stream",
     "text": [
      "\n",
      "Epoch 29/60: 100%|██████████| 5000/5000 [01:32<00:00, 54.07it/s, loss=0.399]\n",
      "Testing: 100%|██████████| 625/625 [00:13<00:00, 46.02it/s, loss=0.333]"
     ]
    },
    {
     "name": "stdout",
     "output_type": "stream",
     "text": [
      "Test Loss: 0.4422, Accuracy: 79.24%\n",
      "Epoch [29/60], Train Loss: 0.4470, Val Loss: 0.4422\n"
     ]
    },
    {
     "name": "stderr",
     "output_type": "stream",
     "text": [
      "\n",
      "Epoch 30/60: 100%|██████████| 5000/5000 [01:33<00:00, 53.71it/s, loss=0.333]\n",
      "Testing: 100%|██████████| 625/625 [00:13<00:00, 47.12it/s, loss=0.41] "
     ]
    },
    {
     "name": "stdout",
     "output_type": "stream",
     "text": [
      "Test Loss: 0.4551, Accuracy: 78.35%\n",
      "Epoch [30/60], Train Loss: 0.4419, Val Loss: 0.4551\n"
     ]
    },
    {
     "name": "stderr",
     "output_type": "stream",
     "text": [
      "\n",
      "Epoch 31/60: 100%|██████████| 5000/5000 [01:33<00:00, 53.73it/s, loss=0.524]\n",
      "Testing: 100%|██████████| 625/625 [00:13<00:00, 46.42it/s, loss=0.381]"
     ]
    },
    {
     "name": "stdout",
     "output_type": "stream",
     "text": [
      "Test Loss: 0.4518, Accuracy: 78.20%\n",
      "Epoch [31/60], Train Loss: 0.4421, Val Loss: 0.4518\n"
     ]
    },
    {
     "name": "stderr",
     "output_type": "stream",
     "text": [
      "\n",
      "Epoch 32/60: 100%|██████████| 5000/5000 [01:32<00:00, 53.82it/s, loss=0.17] \n",
      "Testing: 100%|██████████| 625/625 [00:13<00:00, 46.29it/s, loss=0.335]"
     ]
    },
    {
     "name": "stdout",
     "output_type": "stream",
     "text": [
      "Test Loss: 0.4421, Accuracy: 79.03%\n",
      "Epoch [32/60], Train Loss: 0.4450, Val Loss: 0.4421\n"
     ]
    },
    {
     "name": "stderr",
     "output_type": "stream",
     "text": [
      "\n",
      "Epoch 33/60: 100%|██████████| 5000/5000 [01:32<00:00, 53.86it/s, loss=0.48] \n",
      "Testing: 100%|██████████| 625/625 [00:12<00:00, 51.28it/s, loss=0.331]"
     ]
    },
    {
     "name": "stdout",
     "output_type": "stream",
     "text": [
      "Test Loss: 0.4517, Accuracy: 78.45%\n",
      "Epoch [33/60], Train Loss: 0.4413, Val Loss: 0.4517\n"
     ]
    },
    {
     "name": "stderr",
     "output_type": "stream",
     "text": [
      "\n",
      "Epoch 34/60: 100%|██████████| 5000/5000 [01:33<00:00, 53.62it/s, loss=0.325]\n",
      "Testing: 100%|██████████| 625/625 [00:13<00:00, 46.82it/s, loss=0.389]\n"
     ]
    },
    {
     "name": "stdout",
     "output_type": "stream",
     "text": [
      "Test Loss: 0.4371, Accuracy: 79.45%\n",
      "Epoch [34/60], Train Loss: 0.4392, Val Loss: 0.4371\n",
      "Model saved at epoch 34 with val loss 0.4371\n"
     ]
    },
    {
     "name": "stderr",
     "output_type": "stream",
     "text": [
      "Epoch 35/60: 100%|██████████| 5000/5000 [01:33<00:00, 53.67it/s, loss=0.413]\n",
      "Testing: 100%|██████████| 625/625 [00:13<00:00, 47.62it/s, loss=0.48] \n"
     ]
    },
    {
     "name": "stdout",
     "output_type": "stream",
     "text": [
      "Test Loss: 0.4335, Accuracy: 79.64%\n",
      "Epoch [35/60], Train Loss: 0.4379, Val Loss: 0.4335\n",
      "Model saved at epoch 35 with val loss 0.4335\n"
     ]
    },
    {
     "name": "stderr",
     "output_type": "stream",
     "text": [
      "Epoch 36/60: 100%|██████████| 5000/5000 [01:36<00:00, 51.91it/s, loss=0.574]\n",
      "Testing: 100%|██████████| 625/625 [00:13<00:00, 45.41it/s, loss=0.293]\n"
     ]
    },
    {
     "name": "stdout",
     "output_type": "stream",
     "text": [
      "Test Loss: 0.4255, Accuracy: 80.10%\n",
      "Epoch [36/60], Train Loss: 0.4412, Val Loss: 0.4255\n",
      "Model saved at epoch 36 with val loss 0.4255\n"
     ]
    },
    {
     "name": "stderr",
     "output_type": "stream",
     "text": [
      "Epoch 37/60: 100%|██████████| 5000/5000 [01:33<00:00, 53.25it/s, loss=0.417]\n",
      "Testing: 100%|██████████| 625/625 [00:13<00:00, 46.46it/s, loss=0.3]  "
     ]
    },
    {
     "name": "stdout",
     "output_type": "stream",
     "text": [
      "Test Loss: 0.4356, Accuracy: 79.47%\n",
      "Epoch [37/60], Train Loss: 0.4390, Val Loss: 0.4356\n"
     ]
    },
    {
     "name": "stderr",
     "output_type": "stream",
     "text": [
      "\n",
      "Epoch 38/60: 100%|██████████| 5000/5000 [01:33<00:00, 53.43it/s, loss=0.555]\n",
      "Testing: 100%|██████████| 625/625 [00:13<00:00, 47.90it/s, loss=0.549]"
     ]
    },
    {
     "name": "stdout",
     "output_type": "stream",
     "text": [
      "Test Loss: 0.4586, Accuracy: 77.88%\n",
      "Epoch [38/60], Train Loss: 0.4387, Val Loss: 0.4586\n"
     ]
    },
    {
     "name": "stderr",
     "output_type": "stream",
     "text": [
      "\n",
      "Epoch 39/60: 100%|██████████| 5000/5000 [01:33<00:00, 53.26it/s, loss=0.577]\n",
      "Testing: 100%|██████████| 625/625 [00:13<00:00, 46.90it/s, loss=0.507]\n"
     ]
    },
    {
     "name": "stdout",
     "output_type": "stream",
     "text": [
      "Test Loss: 0.4238, Accuracy: 80.20%\n",
      "Epoch [39/60], Train Loss: 0.4384, Val Loss: 0.4238\n",
      "Model saved at epoch 39 with val loss 0.4238\n"
     ]
    },
    {
     "name": "stderr",
     "output_type": "stream",
     "text": [
      "Epoch 40/60: 100%|██████████| 5000/5000 [01:32<00:00, 53.97it/s, loss=0.509]\n",
      "Testing: 100%|██████████| 625/625 [00:13<00:00, 47.65it/s, loss=0.417]"
     ]
    },
    {
     "name": "stdout",
     "output_type": "stream",
     "text": [
      "Test Loss: 0.4372, Accuracy: 79.62%\n",
      "Epoch [40/60], Train Loss: 0.4392, Val Loss: 0.4372\n"
     ]
    },
    {
     "name": "stderr",
     "output_type": "stream",
     "text": [
      "\n",
      "Epoch 41/60: 100%|██████████| 5000/5000 [01:32<00:00, 53.86it/s, loss=0.566]\n",
      "Testing: 100%|██████████| 625/625 [00:13<00:00, 46.64it/s, loss=0.413]"
     ]
    },
    {
     "name": "stdout",
     "output_type": "stream",
     "text": [
      "Test Loss: 0.4423, Accuracy: 79.12%\n",
      "Epoch [41/60], Train Loss: 0.4373, Val Loss: 0.4423\n"
     ]
    },
    {
     "name": "stderr",
     "output_type": "stream",
     "text": [
      "\n",
      "Epoch 42/60: 100%|██████████| 5000/5000 [01:33<00:00, 53.57it/s, loss=0.418]\n",
      "Testing: 100%|██████████| 625/625 [00:13<00:00, 46.97it/s, loss=0.352]"
     ]
    },
    {
     "name": "stdout",
     "output_type": "stream",
     "text": [
      "Test Loss: 0.4360, Accuracy: 79.36%\n",
      "Epoch [42/60], Train Loss: 0.4336, Val Loss: 0.4360\n"
     ]
    },
    {
     "name": "stderr",
     "output_type": "stream",
     "text": [
      "\n",
      "Epoch 43/60: 100%|██████████| 5000/5000 [01:33<00:00, 53.76it/s, loss=0.452]\n",
      "Testing: 100%|██████████| 625/625 [00:12<00:00, 51.39it/s, loss=0.406]"
     ]
    },
    {
     "name": "stdout",
     "output_type": "stream",
     "text": [
      "Test Loss: 0.4386, Accuracy: 79.37%\n",
      "Epoch [43/60], Train Loss: 0.4340, Val Loss: 0.4386\n"
     ]
    },
    {
     "name": "stderr",
     "output_type": "stream",
     "text": [
      "\n",
      "Epoch 44/60: 100%|██████████| 5000/5000 [01:32<00:00, 53.79it/s, loss=0.481]\n",
      "Testing: 100%|██████████| 625/625 [00:13<00:00, 46.57it/s, loss=0.262]"
     ]
    },
    {
     "name": "stdout",
     "output_type": "stream",
     "text": [
      "Test Loss: 0.4274, Accuracy: 80.14%\n",
      "Epoch [44/60], Train Loss: 0.4345, Val Loss: 0.4274\n"
     ]
    },
    {
     "name": "stderr",
     "output_type": "stream",
     "text": [
      "\n",
      "Epoch 45/60: 100%|██████████| 5000/5000 [01:33<00:00, 53.63it/s, loss=0.443]\n",
      "Testing: 100%|██████████| 625/625 [00:13<00:00, 46.60it/s, loss=0.378]\n"
     ]
    },
    {
     "name": "stdout",
     "output_type": "stream",
     "text": [
      "Test Loss: 0.4238, Accuracy: 80.31%\n",
      "Epoch [45/60], Train Loss: 0.4342, Val Loss: 0.4238\n"
     ]
    },
    {
     "name": "stderr",
     "output_type": "stream",
     "text": [
      "Epoch 46/60: 100%|██████████| 5000/5000 [01:33<00:00, 53.73it/s, loss=0.595]\n",
      "Testing: 100%|██████████| 625/625 [00:13<00:00, 46.70it/s, loss=0.516]"
     ]
    },
    {
     "name": "stdout",
     "output_type": "stream",
     "text": [
      "Test Loss: 0.4432, Accuracy: 78.88%\n",
      "Epoch [46/60], Train Loss: 0.4325, Val Loss: 0.4432\n"
     ]
    },
    {
     "name": "stderr",
     "output_type": "stream",
     "text": [
      "\n",
      "Epoch 47/60: 100%|██████████| 5000/5000 [01:32<00:00, 54.17it/s, loss=0.394]\n",
      "Testing: 100%|██████████| 625/625 [00:13<00:00, 47.64it/s, loss=0.725]\n"
     ]
    },
    {
     "name": "stdout",
     "output_type": "stream",
     "text": [
      "Test Loss: 0.4197, Accuracy: 80.40%\n",
      "Epoch [47/60], Train Loss: 0.4328, Val Loss: 0.4197\n",
      "Model saved at epoch 47 with val loss 0.4197\n"
     ]
    },
    {
     "name": "stderr",
     "output_type": "stream",
     "text": [
      "Epoch 48/60: 100%|██████████| 5000/5000 [01:33<00:00, 53.39it/s, loss=0.432]\n",
      "Testing: 100%|██████████| 625/625 [00:13<00:00, 47.61it/s, loss=0.475]"
     ]
    },
    {
     "name": "stdout",
     "output_type": "stream",
     "text": [
      "Test Loss: 0.4374, Accuracy: 79.30%\n",
      "Epoch [48/60], Train Loss: 0.4327, Val Loss: 0.4374\n"
     ]
    },
    {
     "name": "stderr",
     "output_type": "stream",
     "text": [
      "\n",
      "Epoch 49/60: 100%|██████████| 5000/5000 [01:33<00:00, 53.66it/s, loss=0.444]\n",
      "Testing: 100%|██████████| 625/625 [00:13<00:00, 46.97it/s, loss=0.377]"
     ]
    },
    {
     "name": "stdout",
     "output_type": "stream",
     "text": [
      "Test Loss: 0.4327, Accuracy: 79.72%\n",
      "Epoch [49/60], Train Loss: 0.4303, Val Loss: 0.4327\n"
     ]
    },
    {
     "name": "stderr",
     "output_type": "stream",
     "text": [
      "\n",
      "Epoch 50/60: 100%|██████████| 5000/5000 [01:33<00:00, 53.72it/s, loss=0.369]\n",
      "Testing: 100%|██████████| 625/625 [00:13<00:00, 46.44it/s, loss=0.437]\n"
     ]
    },
    {
     "name": "stdout",
     "output_type": "stream",
     "text": [
      "Test Loss: 0.4185, Accuracy: 80.25%\n",
      "Epoch [50/60], Train Loss: 0.4307, Val Loss: 0.4185\n",
      "Model saved at epoch 50 with val loss 0.4185\n"
     ]
    },
    {
     "name": "stderr",
     "output_type": "stream",
     "text": [
      "Epoch 51/60: 100%|██████████| 5000/5000 [01:33<00:00, 53.72it/s, loss=0.278]\n",
      "Testing: 100%|██████████| 625/625 [00:13<00:00, 46.20it/s, loss=0.34] "
     ]
    },
    {
     "name": "stdout",
     "output_type": "stream",
     "text": [
      "Test Loss: 0.4210, Accuracy: 80.34%\n",
      "Epoch [51/60], Train Loss: 0.4292, Val Loss: 0.4210\n"
     ]
    },
    {
     "name": "stderr",
     "output_type": "stream",
     "text": [
      "\n",
      "Epoch 52/60: 100%|██████████| 5000/5000 [01:33<00:00, 53.69it/s, loss=0.408]\n",
      "Testing: 100%|██████████| 625/625 [00:13<00:00, 46.40it/s, loss=0.402]"
     ]
    },
    {
     "name": "stdout",
     "output_type": "stream",
     "text": [
      "Test Loss: 0.4223, Accuracy: 80.16%\n",
      "Epoch [52/60], Train Loss: 0.4289, Val Loss: 0.4223\n"
     ]
    },
    {
     "name": "stderr",
     "output_type": "stream",
     "text": [
      "\n",
      "Epoch 53/60: 100%|██████████| 5000/5000 [01:34<00:00, 53.15it/s, loss=0.251]\n",
      "Testing: 100%|██████████| 625/625 [00:12<00:00, 51.31it/s, loss=0.548]"
     ]
    },
    {
     "name": "stdout",
     "output_type": "stream",
     "text": [
      "Test Loss: 0.4253, Accuracy: 80.15%\n",
      "Epoch [53/60], Train Loss: 0.4273, Val Loss: 0.4253\n"
     ]
    },
    {
     "name": "stderr",
     "output_type": "stream",
     "text": [
      "\n",
      "Epoch 54/60: 100%|██████████| 5000/5000 [01:32<00:00, 53.96it/s, loss=0.495]\n",
      "Testing: 100%|██████████| 625/625 [00:13<00:00, 46.38it/s, loss=0.365]"
     ]
    },
    {
     "name": "stdout",
     "output_type": "stream",
     "text": [
      "Test Loss: 0.4292, Accuracy: 79.88%\n",
      "Epoch [54/60], Train Loss: 0.4281, Val Loss: 0.4292\n"
     ]
    },
    {
     "name": "stderr",
     "output_type": "stream",
     "text": [
      "\n",
      "Epoch 55/60: 100%|██████████| 5000/5000 [01:33<00:00, 53.39it/s, loss=0.507]\n",
      "Testing: 100%|██████████| 625/625 [00:13<00:00, 46.97it/s, loss=0.422]"
     ]
    },
    {
     "name": "stdout",
     "output_type": "stream",
     "text": [
      "Test Loss: 0.4205, Accuracy: 80.53%\n",
      "Epoch [55/60], Train Loss: 0.4274, Val Loss: 0.4205\n"
     ]
    },
    {
     "name": "stderr",
     "output_type": "stream",
     "text": [
      "\n",
      "Epoch 56/60: 100%|██████████| 5000/5000 [01:33<00:00, 53.60it/s, loss=0.411]\n",
      "Testing: 100%|██████████| 625/625 [00:13<00:00, 46.75it/s, loss=0.441]"
     ]
    },
    {
     "name": "stdout",
     "output_type": "stream",
     "text": [
      "Test Loss: 0.4242, Accuracy: 80.16%\n",
      "Epoch [56/60], Train Loss: 0.4265, Val Loss: 0.4242\n"
     ]
    },
    {
     "name": "stderr",
     "output_type": "stream",
     "text": [
      "\n",
      "Epoch 57/60: 100%|██████████| 5000/5000 [01:32<00:00, 54.19it/s, loss=0.595]\n",
      "Testing: 100%|██████████| 625/625 [00:13<00:00, 47.74it/s, loss=0.4]  \n"
     ]
    },
    {
     "name": "stdout",
     "output_type": "stream",
     "text": [
      "Test Loss: 0.4505, Accuracy: 78.64%\n",
      "Epoch [57/60], Train Loss: 0.4275, Val Loss: 0.4505\n"
     ]
    },
    {
     "name": "stderr",
     "output_type": "stream",
     "text": [
      "Epoch 58/60: 100%|██████████| 5000/5000 [01:33<00:00, 53.61it/s, loss=0.435]\n",
      "Testing: 100%|██████████| 625/625 [00:13<00:00, 47.30it/s, loss=0.409]\n"
     ]
    },
    {
     "name": "stdout",
     "output_type": "stream",
     "text": [
      "Test Loss: 0.4715, Accuracy: 77.09%\n",
      "Epoch [58/60], Train Loss: 0.4268, Val Loss: 0.4715\n"
     ]
    },
    {
     "name": "stderr",
     "output_type": "stream",
     "text": [
      "Epoch 59/60: 100%|██████████| 5000/5000 [01:33<00:00, 53.37it/s, loss=0.437]\n",
      "Testing: 100%|██████████| 625/625 [00:13<00:00, 46.44it/s, loss=0.547]\n"
     ]
    },
    {
     "name": "stdout",
     "output_type": "stream",
     "text": [
      "Test Loss: 0.4251, Accuracy: 79.95%\n",
      "Epoch [59/60], Train Loss: 0.4243, Val Loss: 0.4251\n"
     ]
    },
    {
     "name": "stderr",
     "output_type": "stream",
     "text": [
      "Epoch 60/60: 100%|██████████| 5000/5000 [01:32<00:00, 53.93it/s, loss=0.299]\n",
      "Testing: 100%|██████████| 625/625 [00:13<00:00, 46.54it/s, loss=0.345]\n"
     ]
    },
    {
     "name": "stdout",
     "output_type": "stream",
     "text": [
      "Test Loss: 0.4168, Accuracy: 80.52%\n",
      "Epoch [60/60], Train Loss: 0.4265, Val Loss: 0.4168\n",
      "Model saved at epoch 60 with val loss 0.4168\n",
      "Training log saved to ./Logs/log_summary_Z_10GeV_200_NE.csv\n",
      "Training complete!\n"
     ]
    }
   ],
   "source": [
    "\n",
    "if __name__ == \"__main__\":\n",
    "    #Train the model\n",
    "    train_model(model, train_loader,val_loader=val_loader, num_epochs=60, learning_rate=5e-4, device=device)"
   ]
  },
  {
   "cell_type": "code",
   "execution_count": 8,
   "metadata": {},
   "outputs": [
    {
     "name": "stdout",
     "output_type": "stream",
     "text": [
      "./Models/Z_10GeV_200_NE.pth\n"
     ]
    },
    {
     "data": {
      "text/plain": [
       "DeepSet(\n",
       "  (sequential): ModuleList(\n",
       "    (0): DeepSetLayer(\n",
       "      (Gamma): Linear(in_features=4, out_features=80, bias=True)\n",
       "      (Lambda): Linear(in_features=4, out_features=80, bias=True)\n",
       "      (bn): BatchNorm1d(80, eps=1e-05, momentum=0.1, affine=False, track_running_stats=True)\n",
       "    )\n",
       "    (1): LeakyReLU(negative_slope=0.01)\n",
       "    (2): DeepSetLayer(\n",
       "      (Gamma): Linear(in_features=80, out_features=120, bias=True)\n",
       "      (Lambda): Linear(in_features=80, out_features=120, bias=True)\n",
       "      (bn): BatchNorm1d(120, eps=1e-05, momentum=0.1, affine=False, track_running_stats=True)\n",
       "    )\n",
       "    (3): LeakyReLU(negative_slope=0.01)\n",
       "    (4): DeepSetLayer(\n",
       "      (Gamma): Linear(in_features=120, out_features=70, bias=True)\n",
       "      (Lambda): Linear(in_features=120, out_features=70, bias=True)\n",
       "      (bn): BatchNorm1d(70, eps=1e-05, momentum=0.1, affine=False, track_running_stats=True)\n",
       "    )\n",
       "    (5): LeakyReLU(negative_slope=0.01)\n",
       "    (6): DeepSetLayer(\n",
       "      (Gamma): Linear(in_features=70, out_features=50, bias=True)\n",
       "      (Lambda): Linear(in_features=70, out_features=50, bias=True)\n",
       "      (bn): BatchNorm1d(50, eps=1e-05, momentum=0.1, affine=False, track_running_stats=True)\n",
       "    )\n",
       "    (7): LeakyReLU(negative_slope=0.01)\n",
       "    (8): DeepSetLayer(\n",
       "      (Gamma): Linear(in_features=50, out_features=8, bias=True)\n",
       "      (Lambda): Linear(in_features=50, out_features=8, bias=True)\n",
       "      (bn): BatchNorm1d(8, eps=1e-05, momentum=0.1, affine=False, track_running_stats=True)\n",
       "    )\n",
       "    (9): DeepSetLayer(\n",
       "      (Gamma): Linear(in_features=8, out_features=2, bias=True)\n",
       "      (Lambda): Linear(in_features=8, out_features=2, bias=True)\n",
       "      (bn): BatchNorm1d(2, eps=1e-05, momentum=0.1, affine=False, track_running_stats=True)\n",
       "    )\n",
       "  )\n",
       ")"
      ]
     },
     "execution_count": 8,
     "metadata": {},
     "output_type": "execute_result"
    }
   ],
   "source": [
    "model_test = MODEL\n",
    "model_name=f\"./Models/Z_{name}_NE.pth\"\n",
    "print(model_name)\n",
    "model_test.load_state_dict(torch.load(f\"./Models/Z_{name}_NE.pth\",weights_only=True))\n",
    "model_test.to(device)"
   ]
  },
  {
   "cell_type": "code",
   "execution_count": 9,
   "metadata": {},
   "outputs": [
    {
     "name": "stdout",
     "output_type": "stream",
     "text": [
      "45132\n"
     ]
    }
   ],
   "source": [
    "total_params = sum(p.numel() for p in MODEL.parameters())\n",
    "print(total_params)"
   ]
  },
  {
   "cell_type": "code",
   "execution_count": 10,
   "metadata": {},
   "outputs": [],
   "source": [
    "from sklearn.metrics import confusion_matrix, roc_curve, auc\n",
    "import seaborn as sns\n",
    "import matplotlib.pyplot as plt\n",
    "from matplotlib.colors import LinearSegmentedColormap\n",
    "from scipy.stats import beta\n",
    "from matplotlib.font_manager import FontProperties\n",
    "\n",
    "bold_font = FontProperties(weight='bold', size=14)\n",
    "\n",
    "def evaluate_model(model, data_loader, criterion, device, name1=\"model\", return_accuracy=False):\n",
    "    model.eval()\n",
    "    total_loss = 0.0\n",
    "    correct = 0\n",
    "    total = 0\n",
    "    data_loader_tqdm = tqdm(enumerate(data_loader), desc=\"Testing\", total=len(data_loader))\n",
    "    \n",
    "    true_labels = []\n",
    "    pred_labels = []\n",
    "    all_scores = []\n",
    "\n",
    "    with torch.no_grad():\n",
    "        for i, batch in data_loader_tqdm:\n",
    "            parts = batch[\"part\"].to(device)\n",
    "            batch_size, seq_len, feat_dim = parts.shape\n",
    "            parts_np = parts.cpu().numpy().reshape(-1, feat_dim)\n",
    "\n",
    "            qt = QuantileTransformer(output_distribution='normal', random_state=42)\n",
    "            parts_np = qt.fit_transform(parts_np)\n",
    "            parts = torch.tensor(parts_np).reshape(batch_size, seq_len, feat_dim).to(device)\n",
    "\n",
    "            labels = batch[\"label\"].to(device)\n",
    "            outputs = model(parts)\n",
    "            preds = F.softmax(outputs, dim=1)\n",
    "\n",
    "            # Collect soft scores for the positive class (class 1)\n",
    "            all_scores.extend(preds[:, 1].detach().cpu().numpy())\n",
    "            pred_labels.extend(torch.argmax(preds, dim=-1).cpu().numpy())\n",
    "            true_labels.extend(labels.cpu().numpy())\n",
    "\n",
    "            loss = criterion(outputs, labels)\n",
    "            total_loss += loss.item()\n",
    "\n",
    "            if return_accuracy:\n",
    "                _, predicted = torch.max(outputs, 1)\n",
    "                correct += (predicted == labels).sum().item()\n",
    "                total += labels.size(0)\n",
    "\n",
    "    avg_loss = total_loss / len(data_loader)\n",
    "    accuracy = 100 * correct / total if return_accuracy else None\n",
    "\n",
    "    # Confusion Matrix\n",
    "    cm = confusion_matrix(true_labels, pred_labels)\n",
    "    plt.figure(figsize=(10, 8))\n",
    "    colors = [\"#cce5ff\", \"#004c99\"]\n",
    "    cmap = LinearSegmentedColormap.from_list(\"Custom Blue\", colors)\n",
    "    sns.heatmap(cm, annot=True, fmt='d', cmap=cmap,\n",
    "                xticklabels=[\"Proton\", \"Pion\"], yticklabels=[\"Proton\", \"Pion\"],\n",
    "                annot_kws={\"size\": 18, \"weight\": \"bold\"})\n",
    "    \n",
    "    TP, FN = cm[0, 0], cm[0, 1]\n",
    "    FP, TN = cm[1, 0], cm[1, 1]\n",
    "    n_total = TP + TN + FP + FN\n",
    "    n_correct = TP + TN\n",
    "    alpha = 0.32\n",
    "\n",
    "    lower_bound = beta.ppf(alpha / 2, n_correct, n_total - n_correct + 1)\n",
    "    upper_bound = beta.ppf(1 - alpha / 2, n_correct + 1, n_total - n_correct)\n",
    "    \n",
    "    title = f\"Accuracy: {accuracy:.2f}%, 68% CI: [{lower_bound*100:.2f}%, {upper_bound*100:.2f}%]\"\n",
    "    plt.title(title, fontsize=15, weight='bold')\n",
    "    plt.xlabel('Predicted', size=14, weight='bold')\n",
    "    plt.ylabel('True', size=14, weight='bold')\n",
    "    plt.xticks(size=14, weight='bold')\n",
    "    plt.yticks(size=14, weight='bold')\n",
    "    print(f\"./Plots/confusion_matrix_{name}_NE.pdf\")\n",
    "    plt.savefig(f\"./Plots/confusion_matrix_{name}_NE.pdf\", dpi=300, bbox_inches='tight')\n",
    "    plt.close()\n",
    "    print(f\"Confusion Matrix:\\n{cm}\")\n",
    "    print(f\"68% Confidence Interval: [{lower_bound:.4f}, {upper_bound:.4f}]\")\n",
    "\n",
    "    # ROC Curve\n",
    "    y_true = np.array(true_labels)\n",
    "    y_scores = np.array(all_scores)\n",
    "\n",
    "    np.savez(f\"./Scores/scores_{name}_NE.npz\", array1=y_true, array2=y_scores)\n",
    "    fpr, tpr, thresholds = roc_curve(y_true, y_scores)\n",
    "    roc_auc = auc(fpr, tpr)\n",
    "    jscore = tpr - fpr\n",
    "    j_index = np.argmax(jscore)\n",
    "    threshold = thresholds[j_index]\n",
    "    print(f\"Optimal Threshold: {threshold:.4f} (J-Index: {j_index})\")\n",
    "\n",
    "    N_x = sum(y_true == 0)\n",
    "    N_y = sum(y_true == 1)\n",
    "    sigma_fpr = np.sqrt(fpr * (1 - fpr) / N_x)\n",
    "    sigma_tpr = np.sqrt(tpr * (1 - tpr) / N_y)\n",
    "\n",
    "    plt.figure()\n",
    "    plt.plot(fpr, tpr, color='blue', lw=2, label=f'ROC curve (AUC = {roc_auc:.2f} )')\n",
    "    plt.fill_between(fpr, tpr - 5 * sigma_tpr, tpr + 5 * sigma_tpr,\n",
    "                     color='blue', alpha=0.25, label='1-sigma region (PiPR) [5x]')\n",
    "    plt.plot([0, 1], [0, 1], color='gray', lw=2, linestyle='--', label='Random Guess')\n",
    "    plt.xlabel('False Positive Rate', fontsize=16,weight='bold')\n",
    "    plt.ylabel('True Positive Rate', fontsize=16,weight='bold')\n",
    "    plt.xticks(fontsize=14,weight='bold')\n",
    "    plt.yticks(fontsize=14,weight='bold')\n",
    "    plt.title('Receiver Operating Characteristic (ROC)', fontsize=17,weight='bold')\n",
    "    # plt.legend(loc='lower right', fontsize=14, weight='bold')\n",
    "    plt.legend(title=\"\",prop={'weight': 'bold', 'size': 14},title_fontproperties=bold_font, loc='lower right')\n",
    "    plt.grid()\n",
    "    plt.savefig(f\"./Plots/roc_curve_{name}_NE.pdf\")\n",
    "\n",
    "    return (avg_loss, f\"{accuracy:.2f}%\") if return_accuracy else avg_loss\n",
    "\n"
   ]
  },
  {
   "cell_type": "code",
   "execution_count": 11,
   "metadata": {},
   "outputs": [
    {
     "name": "stderr",
     "output_type": "stream",
     "text": [
      "Testing: 100%|██████████| 625/625 [00:13<00:00, 47.04it/s]\n"
     ]
    },
    {
     "name": "stdout",
     "output_type": "stream",
     "text": [
      "./Plots/confusion_matrix_10GeV_200_NE.pdf\n",
      "Confusion Matrix:\n",
      "[[8670 1413]\n",
      " [2497 7420]]\n",
      "68% Confidence Interval: [0.8017, 0.8073]\n",
      "Optimal Threshold: 0.4430 (J-Index: 2454)\n"
     ]
    },
    {
     "data": {
      "text/plain": [
       "(0.41982054800987245, '80.45%')"
      ]
     },
     "execution_count": 11,
     "metadata": {},
     "output_type": "execute_result"
    },
    {
     "data": {
      "image/png": "[encoded data removed]",
      "text/plain": [
       "<Figure size 640x480 with 1 Axes>"
      ]
     },
     "metadata": {},
     "output_type": "display_data"
    }
   ],
   "source": [
    "evaluate_model(model_test, test_loader, nn.CrossEntropyLoss(), device, return_accuracy=True)"
   ]
  }
 ],
 "metadata": {
  "kernelspec": {
   "display_name": "work_env",
   "language": "python",
   "name": "python3"
  },
  "language_info": {
   "codemirror_mode": {
    "name": "ipython",
    "version": 3
   },
   "file_extension": ".py",
   "mimetype": "text/x-python",
   "name": "python",
   "nbconvert_exporter": "python",
   "pygments_lexer": "ipython3",
   "version": "3.12.4"
  }
 },
 "nbformat": 4,
 "nbformat_minor": 2
}
