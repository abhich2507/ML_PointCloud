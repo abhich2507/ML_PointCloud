{
 "cells": [
  {
   "cell_type": "code",
   "execution_count": 1,
   "metadata": {},
   "outputs": [
    {
     "name": "stdout",
     "output_type": "stream",
     "text": [
      "pool:  mean\n",
      "pool:  mean\n",
      "pool:  mean\n",
      "pool:  mean\n",
      "pool:  mean\n",
      "pool:  mean\n"
     ]
    }
   ],
   "source": [
    "from deepset import *\n",
    "MODEL = DeepSet(in_features=3, feats=[80,120,70,50,8], n_class=2,pool=\"mean\") #for full dataset Mean pooling, for small dataset Max pooling\n",
    "model=MODEL\n",
    "device=torch.device(\"cuda\" if torch.cuda.is_available() else \"cpu\")\n",
    "model=model.to(device) \n"
   ]
  },
  {
   "cell_type": "code",
   "execution_count": 2,
   "metadata": {},
   "outputs": [],
   "source": [
    "import torch\n",
    "from torch.utils.data import Dataset\n",
    "import pickle\n",
    "import os\n",
    "import numpy as np\n",
    "import random\n",
    "import pandas as pd\n",
    "\n",
    "class StreamingHcaDataset(Dataset): \n",
    "    def __init__(self, proton_dir, pion_dir, features=[\"x\", \"y\", \"z\"]):\n",
    "        super().__init__()\n",
    "        \n",
    "        self.proton_files = sorted([os.path.join(proton_dir, f) for f in os.listdir(proton_dir) if f.endswith(\".pkl\")])\n",
    "        self.pion_files = sorted([os.path.join(pion_dir, f) for f in os.listdir(pion_dir) if f.endswith(\".pkl\")])\n",
    "\n",
    "        self.features = features\n",
    "        self.all_files = self.proton_files + self.pion_files  # Combine file lists\n",
    "        self.labels = [0] * len(self.proton_files) + [1] * len(self.pion_files)  # 0 for proton, 1 for pion\n",
    "\n",
    "    def __len__(self):\n",
    "        return len(self.all_files)  # Total number of files\n",
    "\n",
    "    def _load_file(self, file_path, label):\n",
    "        \"\"\"Loads a single pickle file (containing a single DataFrame) and returns point cloud data with labels.\"\"\"\n",
    "        # with open(file_path, \"rb\") as f:\n",
    "        #     df = pickle.load(f)  # Load single DataFrame\n",
    "    \n",
    "        df=pd.read_pickle(file_path)\n",
    "        # df=pd.read_parquet(file_path,engine='fastparquet')\n",
    "        df=df[df[\"total_energy\"]>5]\n",
    "        \n",
    "          \n",
    "        part_feat = df[self.features].to_numpy()\n",
    "\n",
    "        # Handle NaN and Inf values\n",
    "        part_feat[np.isnan(part_feat)] = 0.0\n",
    "        part_feat[np.isinf(part_feat)] = 0.0\n",
    "\n",
    "        return {\n",
    "            \"part\": torch.tensor(part_feat, dtype=torch.float32),\n",
    "            \"label\": torch.tensor(label, dtype=torch.long),\n",
    "            \"seq_length\": torch.tensor(part_feat.shape[0], dtype=torch.long),\n",
    "        }\n",
    "\n",
    "    def __getitem__(self, idx):\n",
    "        random_idx = random.randint(0, len(self.all_files) - 1)  # Pick a random file\n",
    "        file_path = self.all_files[random_idx]\n",
    "        label = self.labels[random_idx]\n",
    "\n",
    "        return self._load_file(file_path, label)  # Return data from the chosen file\n"
   ]
  },
  {
   "cell_type": "code",
   "execution_count": 3,
   "metadata": {},
   "outputs": [],
   "source": [
    "import torch\n",
    "from torch.nn.utils.rnn import pad_sequence\n",
    "\n",
    "def collate_fn(batch):\n",
    "    \"\"\"Custom collate function to handle variable-length point cloud data.\"\"\"\n",
    "    parts = [item[\"part\"] for item in batch]  # List of tensors (each of shape [N, 5])\n",
    "    labels = torch.tensor([item[\"label\"] for item in batch], dtype=torch.long)  # Convert list to tensor\n",
    "    seq_lengths = torch.tensor([item[\"seq_length\"] for item in batch], dtype=torch.long)  # Convert list to tensor\n",
    "\n",
    "    # Pad variable-length tensors to the longest sequence in the batch\n",
    "    padded_parts = pad_sequence(parts, batch_first=True, padding_value=0.0)  # Shape [batch_size, max_seq_len, 5]\n",
    "\n",
    "    return {\"part\": padded_parts, \"label\": labels, \"seq_length\": seq_lengths}\n"
   ]
  },
  {
   "cell_type": "code",
   "execution_count": 4,
   "metadata": {},
   "outputs": [
    {
     "name": "stdout",
     "output_type": "stream",
     "text": [
      "10GeV_200\n",
      "Train: 160000, Validation: 20000, Test: 20000\n"
     ]
    }
   ],
   "source": [
    "\n",
    "energy=\"10\"\n",
    "granularity=\"200\"\n",
    "pion_dir =f\"/mnt/c/Users/hnayak/Documents/{energy}GeV/small_PKL_pion_{energy}GeV_{granularity}\"\n",
    "proton_dir =f\"/mnt/c/Users/hnayak/Documents/{energy}GeV/small_PKL_proton_{energy}GeV_{granularity}\"\n",
    "name=proton_dir.replace(f\"/mnt/c/Users/hnayak/Documents/{energy}GeV/small_PKL_proton_\",\"\")\n",
    "print(name)\n",
    "from torch.utils.data import random_split, DataLoader\n",
    "\n",
    "# Define dataset\n",
    "train_dataset = StreamingHcaDataset(proton_dir=proton_dir, pion_dir=pion_dir)\n",
    "\n",
    "# Define split sizes\n",
    "total_size = len(train_dataset)\n",
    "train_size = int(0.8 * total_size)\n",
    "val_size = int(0.1 * total_size)\n",
    "test_size = total_size - train_size - val_size  # Ensure the sum matches total_size\n",
    "\n",
    "# Split dataset\n",
    "train_set, val_set, test_set = random_split(train_dataset, [train_size, val_size, test_size])\n",
    "\n",
    "# Define DataLoaders\n",
    "train_loader = DataLoader(train_set, batch_size=32, shuffle=True, collate_fn=collate_fn, num_workers=32)\n",
    "val_loader = DataLoader(val_set, batch_size=32, shuffle=False, collate_fn=collate_fn,num_workers=32)\n",
    "test_loader = DataLoader(test_set, batch_size=32, shuffle=False, collate_fn=collate_fn,num_workers=32)\n",
    "\n",
    "\n",
    "print(f\"Train: {train_size}, Validation: {val_size}, Test: {test_size}\")\n",
    "\n"
   ]
  },
  {
   "cell_type": "code",
   "execution_count": 5,
   "metadata": {},
   "outputs": [],
   "source": [
    "import tqdm\n",
    "def test_model(model, test_loader, criterion=None, device=None):\n",
    "    if device is None:\n",
    "        device = torch.device(\"cuda\" if torch.cuda.is_available() else \"cpu\")\n",
    "\n",
    "    model.to(device)\n",
    "    model.eval()  # Set model to evaluation mode\n",
    "\n",
    "    total_loss = 0.0\n",
    "    correct = 0\n",
    "    total_samples = 0\n",
    "\n",
    "    # Progress bar for testing\n",
    "    test_loader_tqdm = tqdm(enumerate(test_loader), total=len(test_loader), desc=\"Testing\")\n",
    "\n",
    "    with torch.no_grad():\n",
    "        for i,batch in test_loader_tqdm:\n",
    "            parts = batch[\"part\"].to(device)         # Input point cloud data\n",
    "            labels = batch[\"label\"].to(device)  # Labels\n",
    "            batch_size,seq_len,feat_dim=parts.shape\n",
    "            parts=parts.cpu().numpy().reshape(-1,feat_dim)\n",
    "            qt = QuantileTransformer(output_distribution='normal', random_state=42)\n",
    "            parts = qt.fit_transform(parts)\n",
    "            parts=torch.tensor(parts).reshape(batch_size,seq_len,feat_dim).to(device)\n",
    "\n",
    "            outputs = model(parts)  # Forward pass\n",
    "            loss = criterion(outputs, labels) if criterion else 0  # Compute loss if provided\n",
    "            total_loss += loss.item()\n",
    "            _, predicted = torch.max(outputs, 1)  # Get class prediction\n",
    "            correct += (predicted == labels).sum().item()\n",
    "            total_samples += labels.size(0)\n",
    "\n",
    "            test_loader_tqdm.set_postfix(loss=loss.item())  # Update progress bar\n",
    "\n",
    "    avg_loss = total_loss / len(test_loader) if criterion else 0\n",
    "    accuracy = correct / total_samples * 100\n",
    "\n",
    "    print(f\"Test Loss: {avg_loss:.4f}, Accuracy: {accuracy:.2f}%\")\n",
    "    return avg_loss , accuracy"
   ]
  },
  {
   "cell_type": "code",
   "execution_count": 6,
   "metadata": {},
   "outputs": [],
   "source": [
    "import torch\n",
    "import torch.nn as nn\n",
    "import torch.optim as optim\n",
    "from tqdm import tqdm\n",
    "import pandas as pd\n",
    "from sklearn.preprocessing import QuantileTransformer\n",
    "\n",
    "def train_model(model, train_loader, val_loader, num_epochs=2, learning_rate=5e-4, device=None, save_path=f\"./Models/Z_{name}_SP.pth\", log_path=f\"./Logs/log_summary_Z_{name}_SP.csv\"):\n",
    "    if device is None:\n",
    "        device = torch.device(\"cuda\" if torch.cuda.is_available() else \"cpu\")\n",
    "\n",
    "    model.to(device)\n",
    "    criterion = nn.CrossEntropyLoss()\n",
    "    optimizer = optim.Adam(model.parameters(), lr=learning_rate)\n",
    "\n",
    "    best_val_loss = float(\"inf\")  # Initialize best loss\n",
    "\n",
    "    log_data = []  # To store log info for CSV\n",
    "\n",
    "    for epoch in range(num_epochs):\n",
    "        model.train()\n",
    "        running_loss = 0.0\n",
    "        train_loader_tqdm = tqdm(enumerate(train_loader), total=len(train_loader), desc=f\"Epoch {epoch+1}/{num_epochs}\")\n",
    "\n",
    "        for i, batch in train_loader_tqdm:\n",
    "            parts = batch[\"part\"].to(device)\n",
    "            batch_size, seq_len, feat_dim = parts.shape\n",
    "            parts = parts.cpu().numpy().reshape(-1, feat_dim)\n",
    "            qt = QuantileTransformer(output_distribution='normal', random_state=42)\n",
    "            parts = qt.fit_transform(parts)\n",
    "            parts = torch.tensor(parts).reshape(batch_size, seq_len, feat_dim).float().to(device)\n",
    "\n",
    "            labels = batch[\"label\"].to(device)\n",
    "\n",
    "            optimizer.zero_grad()\n",
    "            outputs = model(parts)\n",
    "            loss = criterion(outputs, labels)\n",
    "            loss.backward()\n",
    "            optimizer.step()\n",
    "\n",
    "            running_loss += loss.item()\n",
    "            train_loader_tqdm.set_postfix(loss=loss.item())\n",
    "\n",
    "        avg_train_loss = running_loss / len(train_loader)\n",
    "        val_loss, Accuracy = test_model(model, val_loader, criterion, device)\n",
    "         \n",
    "\n",
    "        print(f\"Epoch [{epoch+1}/{num_epochs}], Train Loss: {avg_train_loss:.4f}, Val Loss: {val_loss:.4f}\")\n",
    "\n",
    "        # Save log\n",
    "        log_data.append({\n",
    "            \"Epoch\": epoch + 1,\n",
    "            \"Train Loss\": avg_train_loss,\n",
    "            \"Val Loss\": val_loss,\n",
    "            \"Accuracy\": Accuracy,  # Placeholder for accuracy\n",
    "        })\n",
    "\n",
    "        # Save model if validation improves\n",
    "        if val_loss < best_val_loss:\n",
    "            best_val_loss = val_loss\n",
    "            torch.save(model.state_dict(), save_path)\n",
    "            print(f\"Model saved at epoch {epoch+1} with val loss {val_loss:.4f}\")\n",
    "\n",
    "    # Save the log to CSV\n",
    "    df_log = pd.DataFrame(log_data)\n",
    "    df_log.to_csv(log_path, index=False)\n",
    "    print(f\"Training log saved to {log_path}\")\n",
    "    print(\"Training complete!\")\n"
   ]
  },
  {
   "cell_type": "code",
   "execution_count": 7,
   "metadata": {},
   "outputs": [
    {
     "name": "stderr",
     "output_type": "stream",
     "text": [
      "Epoch 1/60: 100%|██████████| 5000/5000 [01:49<00:00, 45.56it/s, loss=0.582]\n",
      "Testing: 100%|██████████| 625/625 [00:14<00:00, 44.25it/s, loss=0.672]\n"
     ]
    },
    {
     "name": "stdout",
     "output_type": "stream",
     "text": [
      "Test Loss: 0.5543, Accuracy: 71.78%\n",
      "Epoch [1/60], Train Loss: 0.5673, Val Loss: 0.5543\n",
      "Model saved at epoch 1 with val loss 0.5543\n"
     ]
    },
    {
     "name": "stderr",
     "output_type": "stream",
     "text": [
      "Epoch 2/60: 100%|██████████| 5000/5000 [01:37<00:00, 51.26it/s, loss=0.519]\n",
      "Testing: 100%|██████████| 625/625 [00:12<00:00, 50.26it/s, loss=0.513]\n"
     ]
    },
    {
     "name": "stdout",
     "output_type": "stream",
     "text": [
      "Test Loss: 0.5374, Accuracy: 72.61%\n",
      "Epoch [2/60], Train Loss: 0.5435, Val Loss: 0.5374\n",
      "Model saved at epoch 2 with val loss 0.5374\n"
     ]
    },
    {
     "name": "stderr",
     "output_type": "stream",
     "text": [
      "Epoch 3/60: 100%|██████████| 5000/5000 [01:30<00:00, 55.13it/s, loss=0.538]\n",
      "Testing: 100%|██████████| 625/625 [00:12<00:00, 48.66it/s, loss=0.574]"
     ]
    },
    {
     "name": "stdout",
     "output_type": "stream",
     "text": [
      "Test Loss: 0.5407, Accuracy: 72.78%\n",
      "Epoch [3/60], Train Loss: 0.5370, Val Loss: 0.5407\n"
     ]
    },
    {
     "name": "stderr",
     "output_type": "stream",
     "text": [
      "\n",
      "Epoch 4/60: 100%|██████████| 5000/5000 [01:31<00:00, 54.62it/s, loss=0.587]\n",
      "Testing: 100%|██████████| 625/625 [00:11<00:00, 53.90it/s, loss=0.532]"
     ]
    },
    {
     "name": "stdout",
     "output_type": "stream",
     "text": [
      "Test Loss: 0.5493, Accuracy: 71.87%\n",
      "Epoch [4/60], Train Loss: 0.5330, Val Loss: 0.5493\n"
     ]
    },
    {
     "name": "stderr",
     "output_type": "stream",
     "text": [
      "\n",
      "Epoch 5/60: 100%|██████████| 5000/5000 [01:28<00:00, 56.72it/s, loss=0.488]\n",
      "Testing: 100%|██████████| 625/625 [00:11<00:00, 53.10it/s, loss=0.409]\n"
     ]
    },
    {
     "name": "stdout",
     "output_type": "stream",
     "text": [
      "Test Loss: 0.5331, Accuracy: 73.16%\n",
      "Epoch [5/60], Train Loss: 0.5291, Val Loss: 0.5331\n",
      "Model saved at epoch 5 with val loss 0.5331\n"
     ]
    },
    {
     "name": "stderr",
     "output_type": "stream",
     "text": [
      "Epoch 6/60: 100%|██████████| 5000/5000 [01:30<00:00, 55.39it/s, loss=0.464]\n",
      "Testing: 100%|██████████| 625/625 [00:12<00:00, 48.70it/s, loss=0.411]\n"
     ]
    },
    {
     "name": "stdout",
     "output_type": "stream",
     "text": [
      "Test Loss: 0.5235, Accuracy: 74.00%\n",
      "Epoch [6/60], Train Loss: 0.5278, Val Loss: 0.5235\n",
      "Model saved at epoch 6 with val loss 0.5235\n"
     ]
    },
    {
     "name": "stderr",
     "output_type": "stream",
     "text": [
      "Epoch 7/60: 100%|██████████| 5000/5000 [01:31<00:00, 54.41it/s, loss=0.424]\n",
      "Testing: 100%|██████████| 625/625 [00:13<00:00, 47.34it/s, loss=0.316]\n"
     ]
    },
    {
     "name": "stdout",
     "output_type": "stream",
     "text": [
      "Test Loss: 0.5203, Accuracy: 74.15%\n",
      "Epoch [7/60], Train Loss: 0.5264, Val Loss: 0.5203\n",
      "Model saved at epoch 7 with val loss 0.5203\n"
     ]
    },
    {
     "name": "stderr",
     "output_type": "stream",
     "text": [
      "Epoch 8/60: 100%|██████████| 5000/5000 [01:32<00:00, 54.26it/s, loss=0.65] \n",
      "Testing: 100%|██████████| 625/625 [00:13<00:00, 47.90it/s, loss=0.408]\n"
     ]
    },
    {
     "name": "stdout",
     "output_type": "stream",
     "text": [
      "Test Loss: 0.5167, Accuracy: 74.23%\n",
      "Epoch [8/60], Train Loss: 0.5255, Val Loss: 0.5167\n",
      "Model saved at epoch 8 with val loss 0.5167\n"
     ]
    },
    {
     "name": "stderr",
     "output_type": "stream",
     "text": [
      "Epoch 9/60: 100%|██████████| 5000/5000 [01:30<00:00, 55.09it/s, loss=0.58] \n",
      "Testing: 100%|██████████| 625/625 [00:13<00:00, 47.41it/s, loss=0.448]"
     ]
    },
    {
     "name": "stdout",
     "output_type": "stream",
     "text": [
      "Test Loss: 0.5181, Accuracy: 73.99%\n",
      "Epoch [9/60], Train Loss: 0.5235, Val Loss: 0.5181\n"
     ]
    },
    {
     "name": "stderr",
     "output_type": "stream",
     "text": [
      "\n",
      "Epoch 10/60: 100%|██████████| 5000/5000 [01:32<00:00, 54.01it/s, loss=0.419]\n",
      "Testing: 100%|██████████| 625/625 [00:13<00:00, 47.35it/s, loss=0.736]"
     ]
    },
    {
     "name": "stdout",
     "output_type": "stream",
     "text": [
      "Test Loss: 0.5280, Accuracy: 73.37%\n",
      "Epoch [10/60], Train Loss: 0.5207, Val Loss: 0.5280\n"
     ]
    },
    {
     "name": "stderr",
     "output_type": "stream",
     "text": [
      "\n",
      "Epoch 11/60: 100%|██████████| 5000/5000 [01:32<00:00, 54.11it/s, loss=0.521]\n",
      "Testing: 100%|██████████| 625/625 [00:13<00:00, 47.01it/s, loss=0.531]"
     ]
    },
    {
     "name": "stdout",
     "output_type": "stream",
     "text": [
      "Test Loss: 0.5195, Accuracy: 73.82%\n",
      "Epoch [11/60], Train Loss: 0.5214, Val Loss: 0.5195\n"
     ]
    },
    {
     "name": "stderr",
     "output_type": "stream",
     "text": [
      "\n",
      "Epoch 12/60: 100%|██████████| 5000/5000 [01:30<00:00, 55.15it/s, loss=0.424]\n",
      "Testing: 100%|██████████| 625/625 [00:13<00:00, 47.99it/s, loss=0.592]"
     ]
    },
    {
     "name": "stdout",
     "output_type": "stream",
     "text": [
      "Test Loss: 0.5219, Accuracy: 73.62%\n",
      "Epoch [12/60], Train Loss: 0.5213, Val Loss: 0.5219\n"
     ]
    },
    {
     "name": "stderr",
     "output_type": "stream",
     "text": [
      "\n",
      "Epoch 13/60: 100%|██████████| 5000/5000 [01:31<00:00, 54.56it/s, loss=0.567]\n",
      "Testing: 100%|██████████| 625/625 [00:13<00:00, 47.24it/s, loss=0.532]\n"
     ]
    },
    {
     "name": "stdout",
     "output_type": "stream",
     "text": [
      "Test Loss: 0.5148, Accuracy: 73.94%\n",
      "Epoch [13/60], Train Loss: 0.5228, Val Loss: 0.5148\n",
      "Model saved at epoch 13 with val loss 0.5148\n"
     ]
    },
    {
     "name": "stderr",
     "output_type": "stream",
     "text": [
      "Epoch 14/60: 100%|██████████| 5000/5000 [01:32<00:00, 54.19it/s, loss=0.692]\n",
      "Testing: 100%|██████████| 625/625 [00:13<00:00, 46.98it/s, loss=0.415]"
     ]
    },
    {
     "name": "stdout",
     "output_type": "stream",
     "text": [
      "Test Loss: 0.5159, Accuracy: 73.89%\n",
      "Epoch [14/60], Train Loss: 0.5205, Val Loss: 0.5159\n"
     ]
    },
    {
     "name": "stderr",
     "output_type": "stream",
     "text": [
      "\n",
      "Epoch 15/60: 100%|██████████| 5000/5000 [01:31<00:00, 54.63it/s, loss=0.627]\n",
      "Testing: 100%|██████████| 625/625 [00:11<00:00, 54.76it/s, loss=0.683]"
     ]
    },
    {
     "name": "stdout",
     "output_type": "stream",
     "text": [
      "Test Loss: 0.5255, Accuracy: 73.59%\n",
      "Epoch [15/60], Train Loss: 0.5216, Val Loss: 0.5255\n"
     ]
    },
    {
     "name": "stderr",
     "output_type": "stream",
     "text": [
      "\n",
      "Epoch 16/60: 100%|██████████| 5000/5000 [01:31<00:00, 54.59it/s, loss=0.574]\n",
      "Testing: 100%|██████████| 625/625 [00:12<00:00, 48.14it/s, loss=0.445]"
     ]
    },
    {
     "name": "stdout",
     "output_type": "stream",
     "text": [
      "Test Loss: 0.5223, Accuracy: 73.48%\n",
      "Epoch [16/60], Train Loss: 0.5199, Val Loss: 0.5223\n"
     ]
    },
    {
     "name": "stderr",
     "output_type": "stream",
     "text": [
      "\n",
      "Epoch 17/60: 100%|██████████| 5000/5000 [01:31<00:00, 54.48it/s, loss=0.663]\n",
      "Testing: 100%|██████████| 625/625 [00:13<00:00, 47.42it/s, loss=0.529]"
     ]
    },
    {
     "name": "stdout",
     "output_type": "stream",
     "text": [
      "Test Loss: 0.5203, Accuracy: 73.45%\n",
      "Epoch [17/60], Train Loss: 0.5217, Val Loss: 0.5203\n"
     ]
    },
    {
     "name": "stderr",
     "output_type": "stream",
     "text": [
      "\n",
      "Epoch 18/60: 100%|██████████| 5000/5000 [01:34<00:00, 53.05it/s, loss=0.575]\n",
      "Testing: 100%|██████████| 625/625 [00:11<00:00, 52.69it/s, loss=0.483]"
     ]
    },
    {
     "name": "stdout",
     "output_type": "stream",
     "text": [
      "Test Loss: 0.5169, Accuracy: 74.00%\n",
      "Epoch [18/60], Train Loss: 0.5197, Val Loss: 0.5169\n"
     ]
    },
    {
     "name": "stderr",
     "output_type": "stream",
     "text": [
      "\n",
      "Epoch 19/60: 100%|██████████| 5000/5000 [01:30<00:00, 55.01it/s, loss=0.351]\n",
      "Testing: 100%|██████████| 625/625 [00:11<00:00, 53.31it/s, loss=0.567]\n"
     ]
    },
    {
     "name": "stdout",
     "output_type": "stream",
     "text": [
      "Test Loss: 0.5175, Accuracy: 73.97%\n",
      "Epoch [19/60], Train Loss: 0.5194, Val Loss: 0.5175\n"
     ]
    },
    {
     "name": "stderr",
     "output_type": "stream",
     "text": [
      "Epoch 20/60: 100%|██████████| 5000/5000 [01:33<00:00, 53.56it/s, loss=0.714]\n",
      "Testing: 100%|██████████| 625/625 [00:11<00:00, 52.87it/s, loss=0.525]"
     ]
    },
    {
     "name": "stdout",
     "output_type": "stream",
     "text": [
      "Test Loss: 0.5187, Accuracy: 73.51%\n",
      "Epoch [20/60], Train Loss: 0.5189, Val Loss: 0.5187\n"
     ]
    },
    {
     "name": "stderr",
     "output_type": "stream",
     "text": [
      "\n",
      "Epoch 21/60: 100%|██████████| 5000/5000 [01:33<00:00, 53.54it/s, loss=0.566]\n",
      "Testing: 100%|██████████| 625/625 [00:11<00:00, 52.99it/s, loss=0.432]"
     ]
    },
    {
     "name": "stdout",
     "output_type": "stream",
     "text": [
      "Test Loss: 0.5157, Accuracy: 74.15%\n",
      "Epoch [21/60], Train Loss: 0.5181, Val Loss: 0.5157\n"
     ]
    },
    {
     "name": "stderr",
     "output_type": "stream",
     "text": [
      "\n",
      "Epoch 22/60: 100%|██████████| 5000/5000 [01:33<00:00, 53.65it/s, loss=0.524]\n",
      "Testing: 100%|██████████| 625/625 [00:11<00:00, 54.26it/s, loss=0.51] \n"
     ]
    },
    {
     "name": "stdout",
     "output_type": "stream",
     "text": [
      "Test Loss: 0.5130, Accuracy: 74.20%\n",
      "Epoch [22/60], Train Loss: 0.5163, Val Loss: 0.5130\n",
      "Model saved at epoch 22 with val loss 0.5130\n"
     ]
    },
    {
     "name": "stderr",
     "output_type": "stream",
     "text": [
      "Epoch 23/60: 100%|██████████| 5000/5000 [01:32<00:00, 53.95it/s, loss=0.527]\n",
      "Testing: 100%|██████████| 625/625 [00:11<00:00, 53.50it/s, loss=0.523]"
     ]
    },
    {
     "name": "stdout",
     "output_type": "stream",
     "text": [
      "Test Loss: 0.5244, Accuracy: 73.60%\n",
      "Epoch [23/60], Train Loss: 0.5159, Val Loss: 0.5244\n"
     ]
    },
    {
     "name": "stderr",
     "output_type": "stream",
     "text": [
      "\n",
      "Epoch 24/60: 100%|██████████| 5000/5000 [01:32<00:00, 53.87it/s, loss=0.676]\n",
      "Testing: 100%|██████████| 625/625 [00:11<00:00, 52.89it/s, loss=0.385]\n"
     ]
    },
    {
     "name": "stdout",
     "output_type": "stream",
     "text": [
      "Test Loss: 0.5059, Accuracy: 74.39%\n",
      "Epoch [24/60], Train Loss: 0.5156, Val Loss: 0.5059\n",
      "Model saved at epoch 24 with val loss 0.5059\n"
     ]
    },
    {
     "name": "stderr",
     "output_type": "stream",
     "text": [
      "Epoch 25/60: 100%|██████████| 5000/5000 [01:32<00:00, 53.90it/s, loss=0.489]\n",
      "Testing: 100%|██████████| 625/625 [00:11<00:00, 55.35it/s, loss=0.641]"
     ]
    },
    {
     "name": "stdout",
     "output_type": "stream",
     "text": [
      "Test Loss: 0.5151, Accuracy: 73.98%\n",
      "Epoch [25/60], Train Loss: 0.5169, Val Loss: 0.5151\n"
     ]
    },
    {
     "name": "stderr",
     "output_type": "stream",
     "text": [
      "\n",
      "Epoch 26/60: 100%|██████████| 5000/5000 [01:31<00:00, 54.68it/s, loss=0.536]\n",
      "Testing: 100%|██████████| 625/625 [00:11<00:00, 52.30it/s, loss=0.449]"
     ]
    },
    {
     "name": "stdout",
     "output_type": "stream",
     "text": [
      "Test Loss: 0.5230, Accuracy: 73.46%\n",
      "Epoch [26/60], Train Loss: 0.5160, Val Loss: 0.5230\n"
     ]
    },
    {
     "name": "stderr",
     "output_type": "stream",
     "text": [
      "\n",
      "Epoch 27/60: 100%|██████████| 5000/5000 [01:33<00:00, 53.50it/s, loss=0.503]\n",
      "Testing: 100%|██████████| 625/625 [00:11<00:00, 53.57it/s, loss=0.47] \n"
     ]
    },
    {
     "name": "stdout",
     "output_type": "stream",
     "text": [
      "Test Loss: 0.5150, Accuracy: 74.09%\n",
      "Epoch [27/60], Train Loss: 0.5158, Val Loss: 0.5150\n"
     ]
    },
    {
     "name": "stderr",
     "output_type": "stream",
     "text": [
      "Epoch 28/60: 100%|██████████| 5000/5000 [01:33<00:00, 53.49it/s, loss=0.417]\n",
      "Testing: 100%|██████████| 625/625 [00:11<00:00, 52.76it/s, loss=0.475]"
     ]
    },
    {
     "name": "stdout",
     "output_type": "stream",
     "text": [
      "Test Loss: 0.5200, Accuracy: 73.78%\n",
      "Epoch [28/60], Train Loss: 0.5146, Val Loss: 0.5200\n"
     ]
    },
    {
     "name": "stderr",
     "output_type": "stream",
     "text": [
      "\n",
      "Epoch 29/60: 100%|██████████| 5000/5000 [01:32<00:00, 54.08it/s, loss=0.568]\n",
      "Testing: 100%|██████████| 625/625 [00:11<00:00, 52.91it/s, loss=0.597]"
     ]
    },
    {
     "name": "stdout",
     "output_type": "stream",
     "text": [
      "Test Loss: 0.5145, Accuracy: 73.63%\n",
      "Epoch [29/60], Train Loss: 0.5151, Val Loss: 0.5145\n"
     ]
    },
    {
     "name": "stderr",
     "output_type": "stream",
     "text": [
      "\n",
      "Epoch 30/60: 100%|██████████| 5000/5000 [01:32<00:00, 53.95it/s, loss=0.51] \n",
      "Testing: 100%|██████████| 625/625 [00:11<00:00, 52.32it/s, loss=0.592]"
     ]
    },
    {
     "name": "stdout",
     "output_type": "stream",
     "text": [
      "Test Loss: 0.5192, Accuracy: 73.80%\n",
      "Epoch [30/60], Train Loss: 0.5136, Val Loss: 0.5192\n"
     ]
    },
    {
     "name": "stderr",
     "output_type": "stream",
     "text": [
      "\n",
      "Epoch 31/60: 100%|██████████| 5000/5000 [01:32<00:00, 53.92it/s, loss=0.497]\n",
      "Testing: 100%|██████████| 625/625 [00:11<00:00, 55.14it/s, loss=0.575]"
     ]
    },
    {
     "name": "stdout",
     "output_type": "stream",
     "text": [
      "Test Loss: 0.5163, Accuracy: 73.81%\n",
      "Epoch [31/60], Train Loss: 0.5146, Val Loss: 0.5163\n"
     ]
    },
    {
     "name": "stderr",
     "output_type": "stream",
     "text": [
      "\n",
      "Epoch 32/60: 100%|██████████| 5000/5000 [01:33<00:00, 53.49it/s, loss=0.506]\n",
      "Testing: 100%|██████████| 625/625 [00:11<00:00, 54.92it/s, loss=0.565]"
     ]
    },
    {
     "name": "stdout",
     "output_type": "stream",
     "text": [
      "Test Loss: 0.5083, Accuracy: 74.56%\n",
      "Epoch [32/60], Train Loss: 0.5131, Val Loss: 0.5083\n"
     ]
    },
    {
     "name": "stderr",
     "output_type": "stream",
     "text": [
      "\n",
      "Epoch 33/60: 100%|██████████| 5000/5000 [01:32<00:00, 54.22it/s, loss=0.401]\n",
      "Testing: 100%|██████████| 625/625 [00:11<00:00, 52.59it/s, loss=0.576]"
     ]
    },
    {
     "name": "stdout",
     "output_type": "stream",
     "text": [
      "Test Loss: 0.5109, Accuracy: 74.65%\n",
      "Epoch [33/60], Train Loss: 0.5143, Val Loss: 0.5109\n"
     ]
    },
    {
     "name": "stderr",
     "output_type": "stream",
     "text": [
      "\n",
      "Epoch 34/60: 100%|██████████| 5000/5000 [01:33<00:00, 53.72it/s, loss=0.434]\n",
      "Testing: 100%|██████████| 625/625 [00:11<00:00, 53.67it/s, loss=0.646]"
     ]
    },
    {
     "name": "stdout",
     "output_type": "stream",
     "text": [
      "Test Loss: 0.5117, Accuracy: 74.16%\n",
      "Epoch [34/60], Train Loss: 0.5125, Val Loss: 0.5117\n"
     ]
    },
    {
     "name": "stderr",
     "output_type": "stream",
     "text": [
      "\n",
      "Epoch 35/60: 100%|██████████| 5000/5000 [01:33<00:00, 53.70it/s, loss=0.433]\n",
      "Testing: 100%|██████████| 625/625 [00:11<00:00, 53.42it/s, loss=0.444]"
     ]
    },
    {
     "name": "stdout",
     "output_type": "stream",
     "text": [
      "Test Loss: 0.5084, Accuracy: 74.55%\n",
      "Epoch [35/60], Train Loss: 0.5142, Val Loss: 0.5084\n"
     ]
    },
    {
     "name": "stderr",
     "output_type": "stream",
     "text": [
      "\n",
      "Epoch 36/60: 100%|██████████| 5000/5000 [01:32<00:00, 54.11it/s, loss=0.414]\n",
      "Testing: 100%|██████████| 625/625 [00:11<00:00, 53.52it/s, loss=0.411]"
     ]
    },
    {
     "name": "stdout",
     "output_type": "stream",
     "text": [
      "Test Loss: 0.5052, Accuracy: 74.69%\n",
      "Epoch [36/60], Train Loss: 0.5134, Val Loss: 0.5052\n",
      "Model saved at epoch 36 with val loss 0.5052\n"
     ]
    },
    {
     "name": "stderr",
     "output_type": "stream",
     "text": [
      "\n",
      "Epoch 37/60: 100%|██████████| 5000/5000 [01:33<00:00, 53.62it/s, loss=0.51] \n",
      "Testing: 100%|██████████| 625/625 [00:12<00:00, 51.52it/s, loss=0.509]"
     ]
    },
    {
     "name": "stdout",
     "output_type": "stream",
     "text": [
      "Test Loss: 0.5107, Accuracy: 74.58%\n",
      "Epoch [37/60], Train Loss: 0.5117, Val Loss: 0.5107\n"
     ]
    },
    {
     "name": "stderr",
     "output_type": "stream",
     "text": [
      "\n",
      "Epoch 38/60: 100%|██████████| 5000/5000 [01:32<00:00, 53.82it/s, loss=0.41] \n",
      "Testing: 100%|██████████| 625/625 [00:11<00:00, 52.11it/s, loss=0.568]"
     ]
    },
    {
     "name": "stdout",
     "output_type": "stream",
     "text": [
      "Test Loss: 0.5078, Accuracy: 74.32%\n",
      "Epoch [38/60], Train Loss: 0.5133, Val Loss: 0.5078\n"
     ]
    },
    {
     "name": "stderr",
     "output_type": "stream",
     "text": [
      "\n",
      "Epoch 39/60: 100%|██████████| 5000/5000 [01:32<00:00, 53.87it/s, loss=0.535]\n",
      "Testing: 100%|██████████| 625/625 [00:11<00:00, 54.80it/s, loss=0.495]"
     ]
    },
    {
     "name": "stdout",
     "output_type": "stream",
     "text": [
      "Test Loss: 0.5111, Accuracy: 74.12%\n",
      "Epoch [39/60], Train Loss: 0.5098, Val Loss: 0.5111\n"
     ]
    },
    {
     "name": "stderr",
     "output_type": "stream",
     "text": [
      "\n",
      "Epoch 40/60: 100%|██████████| 5000/5000 [01:32<00:00, 53.93it/s, loss=0.585]\n",
      "Testing: 100%|██████████| 625/625 [00:11<00:00, 52.27it/s, loss=0.529]"
     ]
    },
    {
     "name": "stdout",
     "output_type": "stream",
     "text": [
      "Test Loss: 0.5124, Accuracy: 74.15%\n",
      "Epoch [40/60], Train Loss: 0.5118, Val Loss: 0.5124\n"
     ]
    },
    {
     "name": "stderr",
     "output_type": "stream",
     "text": [
      "\n",
      "Epoch 41/60: 100%|██████████| 5000/5000 [01:32<00:00, 53.80it/s, loss=0.744]\n",
      "Testing: 100%|██████████| 625/625 [00:12<00:00, 51.75it/s, loss=0.507]\n"
     ]
    },
    {
     "name": "stdout",
     "output_type": "stream",
     "text": [
      "Test Loss: 0.5078, Accuracy: 74.61%\n",
      "Epoch [41/60], Train Loss: 0.5112, Val Loss: 0.5078\n"
     ]
    },
    {
     "name": "stderr",
     "output_type": "stream",
     "text": [
      "Epoch 42/60: 100%|██████████| 5000/5000 [01:33<00:00, 53.76it/s, loss=0.6]  \n",
      "Testing: 100%|██████████| 625/625 [00:11<00:00, 52.61it/s, loss=0.498]"
     ]
    },
    {
     "name": "stdout",
     "output_type": "stream",
     "text": [
      "Test Loss: 0.5057, Accuracy: 74.49%\n",
      "Epoch [42/60], Train Loss: 0.5127, Val Loss: 0.5057\n"
     ]
    },
    {
     "name": "stderr",
     "output_type": "stream",
     "text": [
      "\n",
      "Epoch 43/60: 100%|██████████| 5000/5000 [01:32<00:00, 54.09it/s, loss=0.465]\n",
      "Testing: 100%|██████████| 625/625 [00:11<00:00, 53.70it/s, loss=0.612]"
     ]
    },
    {
     "name": "stdout",
     "output_type": "stream",
     "text": [
      "Test Loss: 0.5120, Accuracy: 74.47%\n",
      "Epoch [43/60], Train Loss: 0.5103, Val Loss: 0.5120\n"
     ]
    },
    {
     "name": "stderr",
     "output_type": "stream",
     "text": [
      "\n",
      "Epoch 44/60: 100%|██████████| 5000/5000 [01:32<00:00, 53.82it/s, loss=0.502]\n",
      "Testing: 100%|██████████| 625/625 [00:11<00:00, 52.53it/s, loss=0.517]"
     ]
    },
    {
     "name": "stdout",
     "output_type": "stream",
     "text": [
      "Test Loss: 0.5061, Accuracy: 74.33%\n",
      "Epoch [44/60], Train Loss: 0.5106, Val Loss: 0.5061\n"
     ]
    },
    {
     "name": "stderr",
     "output_type": "stream",
     "text": [
      "\n",
      "Epoch 45/60: 100%|██████████| 5000/5000 [01:32<00:00, 53.81it/s, loss=0.526]\n",
      "Testing: 100%|██████████| 625/625 [00:12<00:00, 51.93it/s, loss=0.46] \n"
     ]
    },
    {
     "name": "stdout",
     "output_type": "stream",
     "text": [
      "Test Loss: 0.5094, Accuracy: 74.26%\n",
      "Epoch [45/60], Train Loss: 0.5119, Val Loss: 0.5094\n"
     ]
    },
    {
     "name": "stderr",
     "output_type": "stream",
     "text": [
      "Epoch 46/60: 100%|██████████| 5000/5000 [01:32<00:00, 54.17it/s, loss=0.421]\n",
      "Testing: 100%|██████████| 625/625 [00:11<00:00, 52.73it/s, loss=0.529]"
     ]
    },
    {
     "name": "stdout",
     "output_type": "stream",
     "text": [
      "Test Loss: 0.5087, Accuracy: 74.57%\n",
      "Epoch [46/60], Train Loss: 0.5114, Val Loss: 0.5087\n"
     ]
    },
    {
     "name": "stderr",
     "output_type": "stream",
     "text": [
      "\n",
      "Epoch 47/60: 100%|██████████| 5000/5000 [01:32<00:00, 54.06it/s, loss=0.405]\n",
      "Testing: 100%|██████████| 625/625 [00:12<00:00, 51.82it/s, loss=0.507]"
     ]
    },
    {
     "name": "stdout",
     "output_type": "stream",
     "text": [
      "Test Loss: 0.5039, Accuracy: 74.63%\n",
      "Epoch [47/60], Train Loss: 0.5092, Val Loss: 0.5039\n",
      "Model saved at epoch 47 with val loss 0.5039\n"
     ]
    },
    {
     "name": "stderr",
     "output_type": "stream",
     "text": [
      "\n",
      "Epoch 48/60: 100%|██████████| 5000/5000 [01:33<00:00, 53.63it/s, loss=0.43] \n",
      "Testing: 100%|██████████| 625/625 [00:11<00:00, 52.75it/s, loss=0.488]"
     ]
    },
    {
     "name": "stdout",
     "output_type": "stream",
     "text": [
      "Test Loss: 0.5068, Accuracy: 74.78%\n",
      "Epoch [48/60], Train Loss: 0.5089, Val Loss: 0.5068\n"
     ]
    },
    {
     "name": "stderr",
     "output_type": "stream",
     "text": [
      "\n",
      "Epoch 49/60: 100%|██████████| 5000/5000 [01:33<00:00, 53.45it/s, loss=0.552]\n",
      "Testing: 100%|██████████| 625/625 [00:11<00:00, 52.35it/s, loss=0.532]"
     ]
    },
    {
     "name": "stdout",
     "output_type": "stream",
     "text": [
      "Test Loss: 0.5107, Accuracy: 74.34%\n",
      "Epoch [49/60], Train Loss: 0.5115, Val Loss: 0.5107\n"
     ]
    },
    {
     "name": "stderr",
     "output_type": "stream",
     "text": [
      "\n",
      "Epoch 50/60: 100%|██████████| 5000/5000 [01:31<00:00, 54.49it/s, loss=0.738]\n",
      "Testing: 100%|██████████| 625/625 [00:11<00:00, 52.70it/s, loss=0.581]"
     ]
    },
    {
     "name": "stdout",
     "output_type": "stream",
     "text": [
      "Test Loss: 0.5138, Accuracy: 74.34%\n",
      "Epoch [50/60], Train Loss: 0.5086, Val Loss: 0.5138\n"
     ]
    },
    {
     "name": "stderr",
     "output_type": "stream",
     "text": [
      "\n",
      "Epoch 51/60: 100%|██████████| 5000/5000 [01:33<00:00, 53.48it/s, loss=0.578]\n",
      "Testing: 100%|██████████| 625/625 [00:11<00:00, 53.26it/s, loss=0.561]"
     ]
    },
    {
     "name": "stdout",
     "output_type": "stream",
     "text": [
      "Test Loss: 0.5092, Accuracy: 74.25%\n",
      "Epoch [51/60], Train Loss: 0.5096, Val Loss: 0.5092\n"
     ]
    },
    {
     "name": "stderr",
     "output_type": "stream",
     "text": [
      "\n",
      "Epoch 52/60: 100%|██████████| 5000/5000 [01:33<00:00, 53.54it/s, loss=0.455]\n",
      "Testing: 100%|██████████| 625/625 [00:11<00:00, 53.24it/s, loss=0.562]"
     ]
    },
    {
     "name": "stdout",
     "output_type": "stream",
     "text": [
      "Test Loss: 0.5189, Accuracy: 73.81%\n",
      "Epoch [52/60], Train Loss: 0.5103, Val Loss: 0.5189\n"
     ]
    },
    {
     "name": "stderr",
     "output_type": "stream",
     "text": [
      "\n",
      "Epoch 53/60: 100%|██████████| 5000/5000 [01:32<00:00, 54.10it/s, loss=0.383]\n",
      "Testing: 100%|██████████| 625/625 [00:11<00:00, 52.62it/s, loss=0.449]"
     ]
    },
    {
     "name": "stdout",
     "output_type": "stream",
     "text": [
      "Test Loss: 0.5094, Accuracy: 74.23%\n",
      "Epoch [53/60], Train Loss: 0.5079, Val Loss: 0.5094\n"
     ]
    },
    {
     "name": "stderr",
     "output_type": "stream",
     "text": [
      "\n",
      "Epoch 54/60: 100%|██████████| 5000/5000 [01:32<00:00, 53.78it/s, loss=0.559]\n",
      "Testing: 100%|██████████| 625/625 [00:11<00:00, 52.81it/s, loss=0.549]"
     ]
    },
    {
     "name": "stdout",
     "output_type": "stream",
     "text": [
      "Test Loss: 0.5042, Accuracy: 74.78%\n",
      "Epoch [54/60], Train Loss: 0.5088, Val Loss: 0.5042\n"
     ]
    },
    {
     "name": "stderr",
     "output_type": "stream",
     "text": [
      "\n",
      "Epoch 55/60: 100%|██████████| 5000/5000 [01:32<00:00, 53.80it/s, loss=0.526]\n",
      "Testing: 100%|██████████| 625/625 [00:11<00:00, 52.74it/s, loss=0.488]\n"
     ]
    },
    {
     "name": "stdout",
     "output_type": "stream",
     "text": [
      "Test Loss: 0.5035, Accuracy: 75.12%\n",
      "Epoch [55/60], Train Loss: 0.5081, Val Loss: 0.5035\n",
      "Model saved at epoch 55 with val loss 0.5035\n"
     ]
    },
    {
     "name": "stderr",
     "output_type": "stream",
     "text": [
      "Epoch 56/60: 100%|██████████| 5000/5000 [01:33<00:00, 53.59it/s, loss=0.469]\n",
      "Testing: 100%|██████████| 625/625 [00:11<00:00, 55.04it/s, loss=0.462]"
     ]
    },
    {
     "name": "stdout",
     "output_type": "stream",
     "text": [
      "Test Loss: 0.5056, Accuracy: 74.69%\n",
      "Epoch [56/60], Train Loss: 0.5082, Val Loss: 0.5056\n"
     ]
    },
    {
     "name": "stderr",
     "output_type": "stream",
     "text": [
      "\n",
      "Epoch 57/60: 100%|██████████| 5000/5000 [01:32<00:00, 54.09it/s, loss=0.512]\n",
      "Testing: 100%|██████████| 625/625 [00:11<00:00, 52.50it/s, loss=0.598]"
     ]
    },
    {
     "name": "stdout",
     "output_type": "stream",
     "text": [
      "Test Loss: 0.5045, Accuracy: 74.73%\n",
      "Epoch [57/60], Train Loss: 0.5064, Val Loss: 0.5045\n"
     ]
    },
    {
     "name": "stderr",
     "output_type": "stream",
     "text": [
      "\n",
      "Epoch 58/60: 100%|██████████| 5000/5000 [01:32<00:00, 54.15it/s, loss=0.445]\n",
      "Testing: 100%|██████████| 625/625 [00:12<00:00, 51.94it/s, loss=0.671]"
     ]
    },
    {
     "name": "stdout",
     "output_type": "stream",
     "text": [
      "Test Loss: 0.5104, Accuracy: 73.93%\n",
      "Epoch [58/60], Train Loss: 0.5067, Val Loss: 0.5104\n"
     ]
    },
    {
     "name": "stderr",
     "output_type": "stream",
     "text": [
      "\n",
      "Epoch 59/60: 100%|██████████| 5000/5000 [01:32<00:00, 53.81it/s, loss=0.475]\n",
      "Testing: 100%|██████████| 625/625 [00:11<00:00, 53.09it/s, loss=0.426]"
     ]
    },
    {
     "name": "stdout",
     "output_type": "stream",
     "text": [
      "Test Loss: 0.5129, Accuracy: 74.16%\n",
      "Epoch [59/60], Train Loss: 0.5085, Val Loss: 0.5129\n"
     ]
    },
    {
     "name": "stderr",
     "output_type": "stream",
     "text": [
      "\n",
      "Epoch 60/60: 100%|██████████| 5000/5000 [01:32<00:00, 54.17it/s, loss=0.454]\n",
      "Testing: 100%|██████████| 625/625 [00:11<00:00, 52.11it/s, loss=0.68] \n"
     ]
    },
    {
     "name": "stdout",
     "output_type": "stream",
     "text": [
      "Test Loss: 0.5046, Accuracy: 74.78%\n",
      "Epoch [60/60], Train Loss: 0.5092, Val Loss: 0.5046\n",
      "Training log saved to ./Logs/log_summary_Z_10GeV_200_SP.csv\n",
      "Training complete!\n"
     ]
    }
   ],
   "source": [
    "\n",
    "if __name__ == \"__main__\":\n",
    "    #Train the model\n",
    "    train_model(model, train_loader,val_loader=val_loader, num_epochs=60, learning_rate=5e-4, device=device)"
   ]
  },
  {
   "cell_type": "code",
   "execution_count": 8,
   "metadata": {},
   "outputs": [
    {
     "name": "stdout",
     "output_type": "stream",
     "text": [
      "./Models/Z_10GeV_200_SP.pth\n"
     ]
    },
    {
     "data": {
      "text/plain": [
       "DeepSet(\n",
       "  (sequential): ModuleList(\n",
       "    (0): DeepSetLayer(\n",
       "      (Gamma): Linear(in_features=3, out_features=80, bias=True)\n",
       "      (Lambda): Linear(in_features=3, out_features=80, bias=True)\n",
       "      (bn): BatchNorm1d(80, eps=1e-05, momentum=0.1, affine=False, track_running_stats=True)\n",
       "    )\n",
       "    (1): LeakyReLU(negative_slope=0.01)\n",
       "    (2): DeepSetLayer(\n",
       "      (Gamma): Linear(in_features=80, out_features=120, bias=True)\n",
       "      (Lambda): Linear(in_features=80, out_features=120, bias=True)\n",
       "      (bn): BatchNorm1d(120, eps=1e-05, momentum=0.1, affine=False, track_running_stats=True)\n",
       "    )\n",
       "    (3): LeakyReLU(negative_slope=0.01)\n",
       "    (4): DeepSetLayer(\n",
       "      (Gamma): Linear(in_features=120, out_features=70, bias=True)\n",
       "      (Lambda): Linear(in_features=120, out_features=70, bias=True)\n",
       "      (bn): BatchNorm1d(70, eps=1e-05, momentum=0.1, affine=False, track_running_stats=True)\n",
       "    )\n",
       "    (5): LeakyReLU(negative_slope=0.01)\n",
       "    (6): DeepSetLayer(\n",
       "      (Gamma): Linear(in_features=70, out_features=50, bias=True)\n",
       "      (Lambda): Linear(in_features=70, out_features=50, bias=True)\n",
       "      (bn): BatchNorm1d(50, eps=1e-05, momentum=0.1, affine=False, track_running_stats=True)\n",
       "    )\n",
       "    (7): LeakyReLU(negative_slope=0.01)\n",
       "    (8): DeepSetLayer(\n",
       "      (Gamma): Linear(in_features=50, out_features=8, bias=True)\n",
       "      (Lambda): Linear(in_features=50, out_features=8, bias=True)\n",
       "      (bn): BatchNorm1d(8, eps=1e-05, momentum=0.1, affine=False, track_running_stats=True)\n",
       "    )\n",
       "    (9): DeepSetLayer(\n",
       "      (Gamma): Linear(in_features=8, out_features=2, bias=True)\n",
       "      (Lambda): Linear(in_features=8, out_features=2, bias=True)\n",
       "      (bn): BatchNorm1d(2, eps=1e-05, momentum=0.1, affine=False, track_running_stats=True)\n",
       "    )\n",
       "  )\n",
       ")"
      ]
     },
     "execution_count": 8,
     "metadata": {},
     "output_type": "execute_result"
    }
   ],
   "source": [
    "model_test = MODEL\n",
    "model_name=f\"./Models/Z_{name}_SP.pth\"\n",
    "print(model_name)\n",
    "model_test.load_state_dict(torch.load(f\"./Models/Z_{name}_SP.pth\",weights_only=True))\n",
    "model_test.to(device)"
   ]
  },
  {
   "cell_type": "code",
   "execution_count": 9,
   "metadata": {},
   "outputs": [
    {
     "name": "stdout",
     "output_type": "stream",
     "text": [
      "44972\n"
     ]
    }
   ],
   "source": [
    "total_params = sum(p.numel() for p in MODEL.parameters())\n",
    "print(total_params)"
   ]
  },
  {
   "cell_type": "code",
   "execution_count": 10,
   "metadata": {},
   "outputs": [],
   "source": [
    "from sklearn.metrics import confusion_matrix, roc_curve, auc\n",
    "import seaborn as sns\n",
    "import matplotlib.pyplot as plt\n",
    "from matplotlib.colors import LinearSegmentedColormap\n",
    "from scipy.stats import beta\n",
    "from matplotlib.font_manager import FontProperties\n",
    "\n",
    "bold_font = FontProperties(weight='bold', size=14)\n",
    "\n",
    "def evaluate_model(model, data_loader, criterion, device, name1=\"model\", return_accuracy=False):\n",
    "    model.eval()\n",
    "    total_loss = 0.0\n",
    "    correct = 0\n",
    "    total = 0\n",
    "    data_loader_tqdm = tqdm(enumerate(data_loader), desc=\"Testing\", total=len(data_loader))\n",
    "    \n",
    "    true_labels = []\n",
    "    pred_labels = []\n",
    "    all_scores = []\n",
    "\n",
    "    with torch.no_grad():\n",
    "        for i, batch in data_loader_tqdm:\n",
    "            parts = batch[\"part\"].to(device)\n",
    "            batch_size, seq_len, feat_dim = parts.shape\n",
    "            parts_np = parts.cpu().numpy().reshape(-1, feat_dim)\n",
    "\n",
    "            qt = QuantileTransformer(output_distribution='normal', random_state=42)\n",
    "            parts_np = qt.fit_transform(parts_np)\n",
    "            parts = torch.tensor(parts_np).reshape(batch_size, seq_len, feat_dim).to(device)\n",
    "\n",
    "            labels = batch[\"label\"].to(device)\n",
    "            outputs = model(parts)\n",
    "            preds = F.softmax(outputs, dim=1)\n",
    "\n",
    "            # Collect soft scores for the positive class (class 1)\n",
    "            all_scores.extend(preds[:, 1].detach().cpu().numpy())\n",
    "            pred_labels.extend(torch.argmax(preds, dim=-1).cpu().numpy())\n",
    "            true_labels.extend(labels.cpu().numpy())\n",
    "\n",
    "            loss = criterion(outputs, labels)\n",
    "            total_loss += loss.item()\n",
    "\n",
    "            if return_accuracy:\n",
    "                _, predicted = torch.max(outputs, 1)\n",
    "                correct += (predicted == labels).sum().item()\n",
    "                total += labels.size(0)\n",
    "\n",
    "    avg_loss = total_loss / len(data_loader)\n",
    "    accuracy = 100 * correct / total if return_accuracy else None\n",
    "\n",
    "    # Confusion Matrix\n",
    "    cm = confusion_matrix(true_labels, pred_labels)\n",
    "    plt.figure(figsize=(10, 8))\n",
    "    colors = [\"#cce5ff\", \"#004c99\"]\n",
    "    cmap = LinearSegmentedColormap.from_list(\"Custom Blue\", colors)\n",
    "    sns.heatmap(cm, annot=True, fmt='d', cmap=cmap,\n",
    "                xticklabels=[\"Proton\", \"Pion\"], yticklabels=[\"Proton\", \"Pion\"],\n",
    "                annot_kws={\"size\": 18, \"weight\": \"bold\"})\n",
    "    \n",
    "    TP, FN = cm[0, 0], cm[0, 1]\n",
    "    FP, TN = cm[1, 0], cm[1, 1]\n",
    "    n_total = TP + TN + FP + FN\n",
    "    n_correct = TP + TN\n",
    "    alpha = 0.32\n",
    "\n",
    "    lower_bound = beta.ppf(alpha / 2, n_correct, n_total - n_correct + 1)\n",
    "    upper_bound = beta.ppf(1 - alpha / 2, n_correct + 1, n_total - n_correct)\n",
    "    \n",
    "    title = f\"Accuracy: {accuracy:.2f}%, 68% CI: [{lower_bound*100:.2f}%, {upper_bound*100:.2f}%]\"\n",
    "    plt.title(title, fontsize=15, weight='bold')\n",
    "    plt.xlabel('Predicted', size=14, weight='bold')\n",
    "    plt.ylabel('True', size=14, weight='bold')\n",
    "    plt.xticks(size=14, weight='bold')\n",
    "    plt.yticks(size=14, weight='bold')\n",
    "    print(f\"./Plots/confusion_matrix_{name}_SP.pdf\")\n",
    "    plt.savefig(f\"./Plots/confusion_matrix_{name}_SP.pdf\", dpi=300, bbox_inches='tight')\n",
    "    plt.close()\n",
    "    print(f\"Confusion Matrix:\\n{cm}\")\n",
    "    print(f\"68% Confidence Interval: [{lower_bound:.4f}, {upper_bound:.4f}]\")\n",
    "\n",
    "    # ROC Curve\n",
    "    y_true = np.array(true_labels)\n",
    "    y_scores = np.array(all_scores)\n",
    "\n",
    "    np.savez(f\"./Scores/scores_{name}_SP.npz\", array1=y_true, array2=y_scores)\n",
    "    fpr, tpr, thresholds = roc_curve(y_true, y_scores)\n",
    "    roc_auc = auc(fpr, tpr)\n",
    "    jscore = tpr - fpr\n",
    "    j_index = np.argmax(jscore)\n",
    "    threshold = thresholds[j_index]\n",
    "    print(f\"Optimal Threshold: {threshold:.4f} (J-Index: {j_index})\")\n",
    "\n",
    "    N_x = sum(y_true == 0)\n",
    "    N_y = sum(y_true == 1)\n",
    "    sigma_fpr = np.sqrt(fpr * (1 - fpr) / N_x)\n",
    "    sigma_tpr = np.sqrt(tpr * (1 - tpr) / N_y)\n",
    "\n",
    "    plt.figure()\n",
    "    plt.plot(fpr, tpr, color='blue', lw=2, label=f'ROC curve (AUC = {roc_auc:.2f} )')\n",
    "    plt.fill_between(fpr, tpr - 5 * sigma_tpr, tpr + 5 * sigma_tpr,\n",
    "                     color='blue', alpha=0.25, label='1-sigma region (PiPR) [5x]')\n",
    "    plt.plot([0, 1], [0, 1], color='gray', lw=2, linestyle='--', label='Random Guess')\n",
    "    plt.xlabel('False Positive Rate', fontsize=16,weight='bold')\n",
    "    plt.ylabel('True Positive Rate', fontsize=16,weight='bold')\n",
    "    plt.xticks(fontsize=14,weight='bold')\n",
    "    plt.yticks(fontsize=14,weight='bold')\n",
    "    plt.title('Receiver Operating Characteristic (ROC)', fontsize=17,weight='bold')\n",
    "    # plt.legend(loc='lower right', fontsize=14, weight='bold')\n",
    "    plt.legend(title=\"\",prop={'weight': 'bold', 'size': 14},title_fontproperties=bold_font, loc='lower right')\n",
    "    plt.grid()\n",
    "    plt.savefig(f\"./Plots/roc_curve_{name}_SP.pdf\")\n",
    "\n",
    "    return (avg_loss, f\"{accuracy:.2f}%\") if return_accuracy else avg_loss\n",
    "\n"
   ]
  },
  {
   "cell_type": "code",
   "execution_count": 11,
   "metadata": {},
   "outputs": [
    {
     "name": "stderr",
     "output_type": "stream",
     "text": [
      "Testing: 100%|██████████| 625/625 [00:11<00:00, 54.56it/s]\n"
     ]
    },
    {
     "name": "stdout",
     "output_type": "stream",
     "text": [
      "./Plots/confusion_matrix_10GeV_200_SP.pdf\n",
      "Confusion Matrix:\n",
      "[[7800 2154]\n",
      " [2927 7119]]\n",
      "68% Confidence Interval: [0.7429, 0.7490]\n",
      "Optimal Threshold: 0.4981 (J-Index: 2995)\n"
     ]
    },
    {
     "data": {
      "text/plain": [
       "(0.5093777537345886, '74.59%')"
      ]
     },
     "execution_count": 11,
     "metadata": {},
     "output_type": "execute_result"
    },
    {
     "data": {
      "image/png": "[encoded data removed]",
      "text/plain": [
       "<Figure size 640x480 with 1 Axes>"
      ]
     },
     "metadata": {},
     "output_type": "display_data"
    }
   ],
   "source": [
    "evaluate_model(model_test, test_loader, nn.CrossEntropyLoss(), device, return_accuracy=True)"
   ]
  }
 ],
 "metadata": {
  "kernelspec": {
   "display_name": "work_env",
   "language": "python",
   "name": "python3"
  },
  "language_info": {
   "codemirror_mode": {
    "name": "ipython",
    "version": 3
   },
   "file_extension": ".py",
   "mimetype": "text/x-python",
   "name": "python",
   "nbconvert_exporter": "python",
   "pygments_lexer": "ipython3",
   "version": "3.12.4"
  }
 },
 "nbformat": 4,
 "nbformat_minor": 2
}
